{
  "metadata" : {
    "config" : {
      "dependencies" : {
        "scala" : [
          "com.johnsnowlabs.nlp:spark-nlp_2.11:2.5.0"
        ]
      },
      "exclusions" : [
      ],
      "repositories" : [
      ],
      "sparkConfig" : {
        "spark.memory.offHeap.enabled" : "true",
        "spark.driver.memory" : "20g",
        "spark.memory.offHeap.size" : "32g",
        "spark.master" : "local[*]",
        "spark.executor.memory" : "20g",
        "spark.local.dir" : "/home/sko/.cache/spark"
      },
      "env" : {
        
      }
    },
    "language_info" : {
      "name" : "scala"
    }
  },
  "nbformat" : 4,
  "nbformat_minor" : 0,
  "cells" : [
    {
      "cell_type" : "markdown",
      "execution_count" : 0,
      "metadata" : {
        "language" : "text"
      },
      "language" : "text",
      "source" : [
        "# NLP RECSYS Run Pipeline Stage1\n",
        "\n",
        "\n"
      ],
      "outputs" : [
      ]
    },
    {
      "cell_type" : "code",
      "execution_count" : 1,
      "metadata" : {
        "cell.metadata.exec_info" : {
          "startTs" : 1592246562060,
          "endTs" : 1592246563767
        },
        "language" : "scala"
      },
      "language" : "scala",
      "source" : [
        "import com.johnsnowlabs.nlp.SparkNLP\n",
        "import com.johnsnowlabs.nlp.annotator._\n",
        "import com.johnsnowlabs.nlp.base._\n",
        "import org.apache.spark.ml.{Pipeline, PipelineModel, Transformer}\n",
        "import org.apache.spark.sql.types._\n",
        "import org.apache.spark.sql.SaveMode\n",
        "import org.apache.spark.sql.functions.{udf,to_timestamp}\n",
        "import org.apache.spark.storage._\n",
        "import org.apache.spark.ml.feature._\n",
        "import org.apache.spark.ml.classification._\n",
        "import org.apache.spark.ml.linalg.DenseVector\n",
        "import org.apache.spark.ml.param.{Param, ParamMap}\n",
        "import org.apache.spark.sql.{DataFrame, Dataset}\n",
        "import org.apache.spark.sql.SparkSession\n",
        "import org.apache.spark.sql.functions.{col, explode, udf}\n",
        "import org.apache.spark.sql.types.{DataTypes, StructType}\n",
        "\n",
        "\n",
        "val dataDir = sys.env(\"HOME\") + \"/recsys2020\"\n",
        "val dsName = \"training1m\"\n",
        "\n",
        "val classNames = Array(\n",
        "  \"retweet\",\n",
        "  \"retweet_with_comment\",\n",
        "  \"like\",\n",
        "  \"reply\")\n",
        "val labelColumns = for (className <- classNames) yield \"has_\" + className;"
      ],
      "outputs" : [
      ]
    },
    {
      "cell_type" : "code",
      "execution_count" : 2,
      "metadata" : {
        "cell.metadata.exec_info" : {
          "startTs" : 1592246563881,
          "endTs" : 1592246598806
        },
        "language" : "scala"
      },
      "language" : "scala",
      "source" : [
        "val pipeline = PipelineModel.load(dataDir + \"/pipeline_stage2_v1\")\n",
        "val df = spark.read.parquet(dataDir + s\"/${dsName}_stage1.parquet\")\n",
        "var resDf = pipeline.transform(df)"
      ],
      "outputs" : [
        {
          "ename" : "java.lang.IllegalArgumentException",
          "evalue" : "Data type array<float> of column embeddings is not supported.",
          "traceback" : [
          ],
          "output_type" : "error"
        }
      ]
    },
    {
      "cell_type" : "code",
      "execution_count" : 3,
      "metadata" : {
        "cell.metadata.exec_info" : {
          "startTs" : 1592246598809,
          "endTs" : 1592246599070
        },
        "language" : "scala"
      },
      "language" : "scala",
      "source" : [
        "// only get relevant columns\n",
        "val toArr: Any => Double = _.asInstanceOf[DenseVector].toArray(1)\n",
        "val toArrUdf = udf(toArr)\n",
        "\n",
        "val outputNames = for (className <- classNames) yield {\n",
        "    val inputName = \"prob_\" + className;\n",
        "    val outputName = \"out_\" + className;\n",
        "    resDf = resDf.withColumn(outputName, toArrUdf(col(inputName)));\n",
        "    outputName\n",
        "}\n",
        "resDf = resDf.selectExpr((Array(\"user_id\", \"tweet_id\") ++ outputNames):_*)"
      ],
      "outputs" : [
        {
          "execution_count" : 3,
          "data" : {
            "application/json" : [
              {
                "pos" : {
                  "sourceId" : "Cell3",
                  "start" : 264,
                  "end" : 269,
                  "point" : 264
                },
                "msg" : "not found: value resDf",
                "severity" : 2
              },
              {
                "pos" : {
                  "sourceId" : "Cell3",
                  "start" : 345,
                  "end" : 350,
                  "point" : 345
                },
                "msg" : "not found: value resDf",
                "severity" : 2
              }
            ],
            "text/plain" : [
              "Error: not found: value resDf (264)",
              "Error: not found: value resDf (345)"
            ]
          },
          "metadata" : {
            "rel" : "compiler_errors"
          },
          "output_type" : "execute_result"
        }
      ]
    },
    {
      "cell_type" : "code",
      "execution_count" : 4,
      "metadata" : {
        "cell.metadata.exec_info" : {
          "startTs" : 1592246599073,
          "endTs" : 1592246599187
        },
        "language" : "scala"
      },
      "language" : "scala",
      "source" : [
        "// write separate csv files for submission\n",
        "for (className <- classNames) {\n",
        "    resDf.select(col(\"tweet_id\"), \n",
        "                 col(\"user_id\"), \n",
        "                 col(\"out_\" + className))\n",
        "          .write.format(\"csv\").option(\"header\", \"false\").save(dataDir + \"/\" + className + \".csv\")\n",
        "}"
      ],
      "outputs" : [
        {
          "execution_count" : 4,
          "data" : {
            "application/json" : [
              {
                "pos" : {
                  "sourceId" : "Cell4",
                  "start" : 79,
                  "end" : 84,
                  "point" : 79
                },
                "msg" : "not found: value resDf",
                "severity" : 2
              }
            ],
            "text/plain" : [
              "Error: not found: value resDf (79)"
            ]
          },
          "metadata" : {
            "rel" : "compiler_errors"
          },
          "output_type" : "execute_result"
        }
      ]
    }
  ]
}