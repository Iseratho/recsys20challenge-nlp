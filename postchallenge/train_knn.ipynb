{
 "cells": [
  {
   "cell_type": "code",
   "execution_count": 1,
   "metadata": {
    "colab": {},
    "colab_type": "code",
    "execution": {
     "iopub.execute_input": "2020-07-31T21:41:02.664032Z",
     "iopub.status.busy": "2020-07-31T21:41:02.663813Z",
     "iopub.status.idle": "2020-07-31T21:41:03.488621Z",
     "shell.execute_reply": "2020-07-31T21:41:03.487986Z",
     "shell.execute_reply.started": "2020-07-31T21:41:02.664005Z"
    },
    "executionInfo": {
     "elapsed": 1301,
     "status": "ok",
     "timestamp": 1596151364270,
     "user": {
      "displayName": "Markus Reiter-Haas",
      "photoUrl": "https://lh3.googleusercontent.com/a-/AOh14GjQJYshWpQ2aXZJfwnSte6m_Ypfjxl_kyej2VoMLg=s64",
      "userId": "10241970882490649483"
     },
     "user_tz": -120
    },
    "id": "L85daF8mJ5c9"
   },
   "outputs": [],
   "source": [
    "import os\n",
    "\n",
    "import numpy as np\n",
    "from pathlib import Path\n",
    "import math\n",
    "import dask.dataframe as dd\n",
    "import pandas as pd\n",
    "from sklearn.neighbors import KNeighborsClassifier\n",
    "from sklearn.multioutput import MultiOutputClassifier\n",
    "\n",
    "pd.set_option('max_colwidth', 0)\n",
    "\n",
    "data_dir = Path('~/recsys2020')"
   ]
  },
  {
   "cell_type": "code",
   "execution_count": 2,
   "metadata": {
    "colab": {},
    "colab_type": "code",
    "execution": {
     "iopub.execute_input": "2020-07-31T21:41:04.062790Z",
     "iopub.status.busy": "2020-07-31T21:41:04.062451Z",
     "iopub.status.idle": "2020-07-31T21:41:04.069053Z",
     "shell.execute_reply": "2020-07-31T21:41:04.067833Z",
     "shell.execute_reply.started": "2020-07-31T21:41:04.062754Z"
    },
    "executionInfo": {
     "elapsed": 1295,
     "status": "ok",
     "timestamp": 1596151364274,
     "user": {
      "displayName": "Markus Reiter-Haas",
      "photoUrl": "https://lh3.googleusercontent.com/a-/AOh14GjQJYshWpQ2aXZJfwnSte6m_Ypfjxl_kyej2VoMLg=s64",
      "userId": "10241970882490649483"
     },
     "user_tz": -120
    },
    "id": "HWgB-2L70ry8"
   },
   "outputs": [],
   "source": [
    "train_cols = ['e{:03d}'.format(i) for i in range(768)]\n",
    "classes = ['retweet','reply','like','retweet_with_comment']\n",
    "target_cols = [\"has_\" + c for c in classes]\n",
    "all_cols = train_cols + target_cols\n"
   ]
  },
  {
   "cell_type": "code",
   "execution_count": 4,
   "metadata": {
    "colab": {
     "base_uri": "https://localhost:8080/",
     "height": 187
    },
    "colab_type": "code",
    "execution": {
     "iopub.execute_input": "2020-07-31T21:43:03.439657Z",
     "iopub.status.busy": "2020-07-31T21:43:03.439362Z",
     "iopub.status.idle": "2020-07-31T21:43:21.322377Z",
     "shell.execute_reply": "2020-07-31T21:43:21.320756Z",
     "shell.execute_reply.started": "2020-07-31T21:43:03.439626Z"
    },
    "executionInfo": {
     "elapsed": 82788,
     "status": "ok",
     "timestamp": 1596152130627,
     "user": {
      "displayName": "Markus Reiter-Haas",
      "photoUrl": "https://lh3.googleusercontent.com/a-/AOh14GjQJYshWpQ2aXZJfwnSte6m_Ypfjxl_kyej2VoMLg=s64",
      "userId": "10241970882490649483"
     },
     "user_tz": -120
    },
    "id": "WusMNe6mQotO",
    "outputId": "de5b3633-803a-4b71-e5ea-d9d4d9e46feb"
   },
   "outputs": [
    {
     "name": "stdout",
     "output_type": "stream",
     "text": [
      "Training on 28699 pos and 10561 neg samples\n",
      "Fitting classifier\n"
     ]
    },
    {
     "data": {
      "text/plain": [
       "MultiOutputClassifier(estimator=KNeighborsClassifier(n_jobs=-1), n_jobs=-1)"
      ]
     },
     "execution_count": 4,
     "metadata": {},
     "output_type": "execute_result"
    }
   ],
   "source": [
    "df = pd.read_parquet(str(data_dir / 'training_set.parquet')).sample(frac=0.05, random_state=42)\n",
    "\n",
    "num_pos = df[['has_retweet', 'has_like','has_reply','has_retweet_with_comment']].any(axis=1).sum(axis=0)\n",
    "print(f\"Training on {num_pos} pos and {len(df)-num_pos} neg samples\")\n",
    "\n",
    "print(f'Fitting classifier')\n",
    "knn_c = MultiOutputClassifier(KNeighborsClassifier(n_neighbors=5, n_jobs=-1), n_jobs=-1)\n",
    "knn_c.fit(df[train_cols].values, df[target_cols].values)\n",
    "\n",
    "# ds = 'train'\n",
    "# print(f'Predicting on dataset {ds}')\n",
    "# print('Score: ' + str(knn_c.score(df_train_with_neg[train_cols].values, df_train_with_neg[target_cols].values)))"
   ]
  },
  {
   "cell_type": "code",
   "execution_count": 5,
   "metadata": {
    "colab": {
     "base_uri": "https://localhost:8080/",
     "height": 68
    },
    "colab_type": "code",
    "execution": {
     "iopub.execute_input": "2020-07-31T21:43:21.325229Z",
     "iopub.status.busy": "2020-07-31T21:43:21.324805Z",
     "iopub.status.idle": "2020-07-31T21:43:21.991828Z",
     "shell.execute_reply": "2020-07-31T21:43:21.990717Z",
     "shell.execute_reply.started": "2020-07-31T21:43:21.325178Z"
    },
    "executionInfo": {
     "elapsed": 726366,
     "status": "ok",
     "timestamp": 1596152774223,
     "user": {
      "displayName": "Markus Reiter-Haas",
      "photoUrl": "https://lh3.googleusercontent.com/a-/AOh14GjQJYshWpQ2aXZJfwnSte6m_Ypfjxl_kyej2VoMLg=s64",
      "userId": "10241970882490649483"
     },
     "user_tz": -120
    },
    "id": "Z1mVndwf52Ql",
    "outputId": "e8d6e32f-ac12-466b-95e6-fe10b497f583"
   },
   "outputs": [
    {
     "name": "stdout",
     "output_type": "stream",
     "text": [
      "Testing on 6347 pos and 3819 neg samples\n"
     ]
    }
   ],
   "source": [
    "df_test = pd.read_parquet(str(data_dir / 'test_set.parquet')).sample(frac=0.1, random_state=42)\n",
    "\n",
    "num_pos_test = df_test[['has_retweet', 'has_like','has_reply','has_retweet_with_comment']].any(axis=1).sum(axis=0)\n",
    "print(f\"Testing on {num_pos_test} pos and {len(df_test) - num_pos_test} neg samples\")\n",
    "\n",
    "ds = 'test'"
   ]
  },
  {
   "cell_type": "code",
   "execution_count": 8,
   "metadata": {
    "colab": {
     "base_uri": "https://localhost:8080/",
     "height": 442
    },
    "colab_type": "code",
    "execution": {
     "iopub.execute_input": "2020-07-31T21:44:03.849129Z",
     "iopub.status.busy": "2020-07-31T21:44:03.848874Z",
     "iopub.status.idle": "2020-07-31T21:55:49.355067Z",
     "shell.execute_reply": "2020-07-31T21:55:49.354434Z",
     "shell.execute_reply.started": "2020-07-31T21:44:03.849104Z"
    },
    "executionInfo": {
     "elapsed": 1372766,
     "status": "ok",
     "timestamp": 1596153420636,
     "user": {
      "displayName": "Markus Reiter-Haas",
      "photoUrl": "https://lh3.googleusercontent.com/a-/AOh14GjQJYshWpQ2aXZJfwnSte6m_Ypfjxl_kyej2VoMLg=s64",
      "userId": "10241970882490649483"
     },
     "user_tz": -120
    },
    "id": "ZgmaoW5MfFHS",
    "outputId": "94ed9f76-7d98-4d39-d117-215a0b04c7ee"
   },
   "outputs": [],
   "source": [
    "result = knn_c.predict_proba(df_test[train_cols].values)\n"
   ]
  },
  {
   "cell_type": "code",
   "execution_count": 9,
   "metadata": {
    "colab": {
     "base_uri": "https://localhost:8080/",
     "height": 153
    },
    "colab_type": "code",
    "execution": {
     "iopub.execute_input": "2020-07-31T21:55:49.356080Z",
     "iopub.status.busy": "2020-07-31T21:55:49.355899Z",
     "iopub.status.idle": "2020-07-31T21:55:49.362506Z",
     "shell.execute_reply": "2020-07-31T21:55:49.361679Z",
     "shell.execute_reply.started": "2020-07-31T21:55:49.356054Z"
    },
    "executionInfo": {
     "elapsed": 1372759,
     "status": "ok",
     "timestamp": 1596153420638,
     "user": {
      "displayName": "Markus Reiter-Haas",
      "photoUrl": "https://lh3.googleusercontent.com/a-/AOh14GjQJYshWpQ2aXZJfwnSte6m_Ypfjxl_kyej2VoMLg=s64",
      "userId": "10241970882490649483"
     },
     "user_tz": -120
    },
    "id": "2pIq9tJckMzd",
    "outputId": "fda531e0-7ab2-4be9-897d-95aeef3fa690"
   },
   "outputs": [
    {
     "name": "stdout",
     "output_type": "stream",
     "text": [
      "[array([False,  True]), array([False,  True]), array([False,  True]), array([False,  True])]\n"
     ]
    },
    {
     "data": {
      "text/plain": [
       "array([[0.4, 0. , 0.8, 0. ],\n",
       "       [0.2, 0. , 0.8, 0. ],\n",
       "       [0.2, 0. , 0.8, 0. ],\n",
       "       ...,\n",
       "       [0.4, 0. , 0.8, 0. ],\n",
       "       [0.2, 0. , 0.6, 0. ],\n",
       "       [0. , 0. , 0.6, 0. ]])"
      ]
     },
     "execution_count": 9,
     "metadata": {},
     "output_type": "execute_result"
    }
   ],
   "source": [
    "print(knn_c.classes_)\n",
    "res_data = np.array([res[:,1] for res in result]).T\n",
    "res_data"
   ]
  },
  {
   "cell_type": "code",
   "execution_count": 12,
   "metadata": {
    "colab": {
     "base_uri": "https://localhost:8080/",
     "height": 255
    },
    "colab_type": "code",
    "execution": {
     "iopub.execute_input": "2020-07-31T21:56:34.720368Z",
     "iopub.status.busy": "2020-07-31T21:56:34.720061Z",
     "iopub.status.idle": "2020-07-31T21:56:34.777577Z",
     "shell.execute_reply": "2020-07-31T21:56:34.776812Z",
     "shell.execute_reply.started": "2020-07-31T21:56:34.720335Z"
    },
    "executionInfo": {
     "elapsed": 1372750,
     "status": "ok",
     "timestamp": 1596153420639,
     "user": {
      "displayName": "Markus Reiter-Haas",
      "photoUrl": "https://lh3.googleusercontent.com/a-/AOh14GjQJYshWpQ2aXZJfwnSte6m_Ypfjxl_kyej2VoMLg=s64",
      "userId": "10241970882490649483"
     },
     "user_tz": -120
    },
    "id": "-rX_F-72jVa5",
    "outputId": "43a01dbb-3c28-4499-f4bd-a544bf7b9068"
   },
   "outputs": [
    {
     "data": {
      "text/html": [
       "<div>\n",
       "<style scoped>\n",
       "    .dataframe tbody tr th:only-of-type {\n",
       "        vertical-align: middle;\n",
       "    }\n",
       "\n",
       "    .dataframe tbody tr th {\n",
       "        vertical-align: top;\n",
       "    }\n",
       "\n",
       "    .dataframe thead th {\n",
       "        text-align: right;\n",
       "    }\n",
       "</style>\n",
       "<table border=\"1\" class=\"dataframe\">\n",
       "  <thead>\n",
       "    <tr style=\"text-align: right;\">\n",
       "      <th></th>\n",
       "      <th>tweet_id</th>\n",
       "      <th>has_retweet</th>\n",
       "      <th>has_reply</th>\n",
       "      <th>has_like</th>\n",
       "      <th>has_retweet_with_comment</th>\n",
       "      <th>pred_retweet</th>\n",
       "      <th>pred_reply</th>\n",
       "      <th>pred_like</th>\n",
       "      <th>pred_retweet_with_comment</th>\n",
       "    </tr>\n",
       "    <tr>\n",
       "      <th>user_id</th>\n",
       "      <th></th>\n",
       "      <th></th>\n",
       "      <th></th>\n",
       "      <th></th>\n",
       "      <th></th>\n",
       "      <th></th>\n",
       "      <th></th>\n",
       "      <th></th>\n",
       "      <th></th>\n",
       "    </tr>\n",
       "  </thead>\n",
       "  <tbody>\n",
       "    <tr>\n",
       "      <th>AD12506ABB019ECCB7A90A223AD0A10C</th>\n",
       "      <td>5D8E95415F590141F331274BB27E217D</td>\n",
       "      <td>True</td>\n",
       "      <td>False</td>\n",
       "      <td>True</td>\n",
       "      <td>False</td>\n",
       "      <td>0.4</td>\n",
       "      <td>0.0</td>\n",
       "      <td>0.8</td>\n",
       "      <td>0.0</td>\n",
       "    </tr>\n",
       "    <tr>\n",
       "      <th>D2ED851A1D31ECF9EB15917FA6F893D1</th>\n",
       "      <td>7D687F605F2AC1577FB90677E5AE9CD2</td>\n",
       "      <td>False</td>\n",
       "      <td>False</td>\n",
       "      <td>False</td>\n",
       "      <td>False</td>\n",
       "      <td>0.2</td>\n",
       "      <td>0.0</td>\n",
       "      <td>0.8</td>\n",
       "      <td>0.0</td>\n",
       "    </tr>\n",
       "    <tr>\n",
       "      <th>D195D2BC1AA730A9DE5F3CD31433A621</th>\n",
       "      <td>DEAB8A8F70346DA64CEA71585876D47C</td>\n",
       "      <td>False</td>\n",
       "      <td>False</td>\n",
       "      <td>False</td>\n",
       "      <td>False</td>\n",
       "      <td>0.2</td>\n",
       "      <td>0.0</td>\n",
       "      <td>0.8</td>\n",
       "      <td>0.0</td>\n",
       "    </tr>\n",
       "    <tr>\n",
       "      <th>C3306463711A4167989E9771697D86F9</th>\n",
       "      <td>4F92B332702CC635778651E07A3BF0CD</td>\n",
       "      <td>False</td>\n",
       "      <td>False</td>\n",
       "      <td>True</td>\n",
       "      <td>False</td>\n",
       "      <td>0.0</td>\n",
       "      <td>0.0</td>\n",
       "      <td>0.6</td>\n",
       "      <td>0.0</td>\n",
       "    </tr>\n",
       "    <tr>\n",
       "      <th>A18B2F44324EE2B5A0638FFAB438B9AF</th>\n",
       "      <td>0C6EFA042B5EAA543641F2F954713C3A</td>\n",
       "      <td>False</td>\n",
       "      <td>False</td>\n",
       "      <td>False</td>\n",
       "      <td>False</td>\n",
       "      <td>0.2</td>\n",
       "      <td>0.0</td>\n",
       "      <td>0.4</td>\n",
       "      <td>0.0</td>\n",
       "    </tr>\n",
       "  </tbody>\n",
       "</table>\n",
       "</div>"
      ],
      "text/plain": [
       "                                                          tweet_id  \\\n",
       "user_id                                                              \n",
       "AD12506ABB019ECCB7A90A223AD0A10C  5D8E95415F590141F331274BB27E217D   \n",
       "D2ED851A1D31ECF9EB15917FA6F893D1  7D687F605F2AC1577FB90677E5AE9CD2   \n",
       "D195D2BC1AA730A9DE5F3CD31433A621  DEAB8A8F70346DA64CEA71585876D47C   \n",
       "C3306463711A4167989E9771697D86F9  4F92B332702CC635778651E07A3BF0CD   \n",
       "A18B2F44324EE2B5A0638FFAB438B9AF  0C6EFA042B5EAA543641F2F954713C3A   \n",
       "\n",
       "                                  has_retweet  has_reply  has_like  \\\n",
       "user_id                                                              \n",
       "AD12506ABB019ECCB7A90A223AD0A10C  True         False      True       \n",
       "D2ED851A1D31ECF9EB15917FA6F893D1  False        False      False      \n",
       "D195D2BC1AA730A9DE5F3CD31433A621  False        False      False      \n",
       "C3306463711A4167989E9771697D86F9  False        False      True       \n",
       "A18B2F44324EE2B5A0638FFAB438B9AF  False        False      False      \n",
       "\n",
       "                                  has_retweet_with_comment  pred_retweet  \\\n",
       "user_id                                                                    \n",
       "AD12506ABB019ECCB7A90A223AD0A10C  False                     0.4            \n",
       "D2ED851A1D31ECF9EB15917FA6F893D1  False                     0.2            \n",
       "D195D2BC1AA730A9DE5F3CD31433A621  False                     0.2            \n",
       "C3306463711A4167989E9771697D86F9  False                     0.0            \n",
       "A18B2F44324EE2B5A0638FFAB438B9AF  False                     0.2            \n",
       "\n",
       "                                  pred_reply  pred_like  \\\n",
       "user_id                                                   \n",
       "AD12506ABB019ECCB7A90A223AD0A10C  0.0         0.8         \n",
       "D2ED851A1D31ECF9EB15917FA6F893D1  0.0         0.8         \n",
       "D195D2BC1AA730A9DE5F3CD31433A621  0.0         0.8         \n",
       "C3306463711A4167989E9771697D86F9  0.0         0.6         \n",
       "A18B2F44324EE2B5A0638FFAB438B9AF  0.0         0.4         \n",
       "\n",
       "                                  pred_retweet_with_comment  \n",
       "user_id                                                      \n",
       "AD12506ABB019ECCB7A90A223AD0A10C  0.0                        \n",
       "D2ED851A1D31ECF9EB15917FA6F893D1  0.0                        \n",
       "D195D2BC1AA730A9DE5F3CD31433A621  0.0                        \n",
       "C3306463711A4167989E9771697D86F9  0.0                        \n",
       "A18B2F44324EE2B5A0638FFAB438B9AF  0.0                        "
      ]
     },
     "execution_count": 12,
     "metadata": {},
     "output_type": "execute_result"
    }
   ],
   "source": [
    "pred_cols = ['pred_retweet','pred_reply','pred_like','pred_retweet_with_comment']\n",
    "res_df = pd.DataFrame.from_records(data=res_data, index=df_test.index, columns=pred_cols)\n",
    "res_df = pd.concat([df_test[[\"tweet_id\", 'has_retweet', 'has_reply', 'has_like', 'has_retweet_with_comment']], res_df], axis=\"columns\")\n",
    "res_df.head()"
   ]
  },
  {
   "cell_type": "code",
   "execution_count": 13,
   "metadata": {
    "colab": {},
    "colab_type": "code",
    "execution": {
     "iopub.execute_input": "2020-07-31T21:56:38.621963Z",
     "iopub.status.busy": "2020-07-31T21:56:38.621534Z",
     "iopub.status.idle": "2020-07-31T21:56:38.655599Z",
     "shell.execute_reply": "2020-07-31T21:56:38.654705Z",
     "shell.execute_reply.started": "2020-07-31T21:56:38.621918Z"
    },
    "executionInfo": {
     "elapsed": 1372740,
     "status": "ok",
     "timestamp": 1596153420640,
     "user": {
      "displayName": "Markus Reiter-Haas",
      "photoUrl": "https://lh3.googleusercontent.com/a-/AOh14GjQJYshWpQ2aXZJfwnSte6m_Ypfjxl_kyej2VoMLg=s64",
      "userId": "10241970882490649483"
     },
     "user_tz": -120
    },
    "id": "1xfsXZSVbTHq"
   },
   "outputs": [],
   "source": [
    "res_ds_name = 'knn_preds'\n",
    "res_file = data_dir / f\"{res_ds_name}.parquet/\"\n",
    "res_df.to_parquet(str(res_file))"
   ]
  },
  {
   "cell_type": "code",
   "execution_count": null,
   "metadata": {},
   "outputs": [],
   "source": []
  }
 ],
 "metadata": {
  "colab": {
   "authorship_tag": "ABX9TyMxfS6VLuhA0DaGMzXkelL/",
   "collapsed_sections": [],
   "name": "knn-prediction.ipynb",
   "provenance": []
  },
  "kernelspec": {
   "display_name": "recsys",
   "language": "python",
   "name": "recsys"
  },
  "language_info": {
   "codemirror_mode": {
    "name": "ipython",
    "version": 3
   },
   "file_extension": ".py",
   "mimetype": "text/x-python",
   "name": "python",
   "nbconvert_exporter": "python",
   "pygments_lexer": "ipython3",
   "version": "3.8.4"
  }
 },
 "nbformat": 4,
 "nbformat_minor": 4
}
