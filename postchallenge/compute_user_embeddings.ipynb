{
 "cells": [
  {
   "cell_type": "code",
   "execution_count": 1,
   "metadata": {
    "colab": {},
    "colab_type": "code",
    "execution": {
     "iopub.execute_input": "2020-07-31T17:21:59.974434Z",
     "iopub.status.busy": "2020-07-31T17:21:59.974229Z",
     "iopub.status.idle": "2020-07-31T17:22:00.609050Z",
     "shell.execute_reply": "2020-07-31T17:22:00.608556Z",
     "shell.execute_reply.started": "2020-07-31T17:21:59.974408Z"
    },
    "id": "G_Cw_7iL7zFC"
   },
   "outputs": [],
   "source": [
    "from pathlib import PosixPath\n",
    "import dask\n",
    "import dask.dataframe as dd\n",
    "import numpy as np\n",
    "\n",
    "classes = ['retweet', 'reply', 'like', 'retweet_with_comment']\n",
    "label_cols = ['has_' + c for c in classes]\n",
    "cols = ['e{:03d}'.format(i) for i in range(768)] + ['user_id']\n",
    "\n",
    "def compute_user_embeddings(data_path, ds_name):\n",
    "    data_dir = PosixPath(data_path).expanduser()\n",
    "    input_file = data_dir / f\"{ds_name}.parquet/\"\n",
    "    output_file = data_dir / f\"{ds_name}_userembeddings.parquet/\"\n",
    "    df = dd.read_parquet(str(input_file))\n",
    "    print(df.columns)\n",
    "    df = df[df[label_cols].any(axis=1)][cols].groupby('user_id').mean().astype(np.float32)\n",
    "    df.repartition(partition_size='100MB').to_parquet(output_file)\n",
    "    df = None\n",
    "    "
   ]
  },
  {
   "cell_type": "code",
   "execution_count": 2,
   "metadata": {
    "colab": {},
    "colab_type": "code",
    "execution": {
     "iopub.execute_input": "2020-07-31T17:22:01.017140Z",
     "iopub.status.busy": "2020-07-31T17:22:01.016801Z",
     "iopub.status.idle": "2020-07-31T17:22:42.411182Z",
     "shell.execute_reply": "2020-07-31T17:22:42.410379Z",
     "shell.execute_reply.started": "2020-07-31T17:22:01.017095Z"
    },
    "id": "046OazOY3Kx7"
   },
   "outputs": [
    {
     "name": "stdout",
     "output_type": "stream",
     "text": [
      "Index(['user_id', 'tweet_id', 'tweet_timestamp', 'author_follower_count',\n",
      "       'author_following_count', 'user_follower_count', 'user_following_count',\n",
      "       'num_hashtags', 'num_media', 'num_links',\n",
      "       ...\n",
      "       'e762', 'e763', 'e764', 'e765', 'e766', 'e767', 'has_retweet',\n",
      "       'has_reply', 'has_like', 'has_retweet_with_comment'],\n",
      "      dtype='object', length=786)\n"
     ]
    }
   ],
   "source": [
    "compute_user_embeddings('~/recsys2020', 'train')"
   ]
  },
  {
   "cell_type": "code",
   "execution_count": 5,
   "metadata": {
    "execution": {
     "iopub.execute_input": "2020-07-31T17:48:13.200543Z",
     "iopub.status.busy": "2020-07-31T17:48:13.200111Z",
     "iopub.status.idle": "2020-07-31T17:48:15.037466Z",
     "shell.execute_reply": "2020-07-31T17:48:15.036768Z",
     "shell.execute_reply.started": "2020-07-31T17:48:13.200505Z"
    }
   },
   "outputs": [
    {
     "data": {
      "text/plain": [
       "e000    99836\n",
       "e001    99836\n",
       "e002    99836\n",
       "e003    99836\n",
       "e004    99836\n",
       "        ...  \n",
       "e763    99836\n",
       "e764    99836\n",
       "e765    99836\n",
       "e766    99836\n",
       "e767    99836\n",
       "Length: 768, dtype: int64"
      ]
     },
     "execution_count": 5,
     "metadata": {},
     "output_type": "execute_result"
    }
   ],
   "source": [
    "dd.read_parquet('~/recsys2020/train_userembeddings.parquet').count().compute()"
   ]
  },
  {
   "cell_type": "code",
   "execution_count": null,
   "metadata": {},
   "outputs": [],
   "source": []
  }
 ],
 "metadata": {
  "colab": {
   "collapsed_sections": [],
   "name": "compute_user_embeddings.ipynb",
   "provenance": []
  },
  "kernelspec": {
   "display_name": "recsys",
   "language": "python",
   "name": "recsys"
  },
  "language_info": {
   "codemirror_mode": {
    "name": "ipython",
    "version": 3
   },
   "file_extension": ".py",
   "mimetype": "text/x-python",
   "name": "python",
   "nbconvert_exporter": "python",
   "pygments_lexer": "ipython3",
   "version": "3.8.4"
  }
 },
 "nbformat": 4,
 "nbformat_minor": 4
}
