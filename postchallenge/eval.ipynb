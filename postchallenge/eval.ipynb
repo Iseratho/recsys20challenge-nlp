{
 "cells": [
  {
   "cell_type": "code",
   "execution_count": 1,
   "metadata": {
    "colab": {},
    "colab_type": "code",
    "execution": {
     "iopub.execute_input": "2020-07-31T21:57:34.359789Z",
     "iopub.status.busy": "2020-07-31T21:57:34.359559Z",
     "iopub.status.idle": "2020-07-31T21:57:34.942299Z",
     "shell.execute_reply": "2020-07-31T21:57:34.941697Z",
     "shell.execute_reply.started": "2020-07-31T21:57:34.359754Z"
    },
    "executionInfo": {
     "elapsed": 16277,
     "status": "ok",
     "timestamp": 1596151878963,
     "user": {
      "displayName": "Markus Reiter-Haas",
      "photoUrl": "https://lh3.googleusercontent.com/a-/AOh14GjQJYshWpQ2aXZJfwnSte6m_Ypfjxl_kyej2VoMLg=s64",
      "userId": "10241970882490649483"
     },
     "user_tz": -120
    },
    "id": "FzbK8e_yljWw"
   },
   "outputs": [],
   "source": [
    "import numpy as np\n",
    "import pyarrow\n",
    "import pyarrow.parquet as pq\n",
    "from pathlib import Path\n",
    "from functools import partial\n",
    "import tqdm\n",
    "import shutil\n",
    "import pandas as pd\n",
    "import dask\n",
    "import dask.array as da\n",
    "import dask.dataframe as dd\n",
    "import math\n",
    "pd.set_option('max_colwidth', 0)\n",
    "classes = ['retweet', 'reply', 'like', 'retweet_with_comment']\n",
    "label_cols = ['has_' + c for c in classes]\n",
    "pred_cols = ['pred_' + c for c in classes]\n",
    "data_dir = Path('~/recsys2020')"
   ]
  },
  {
   "cell_type": "markdown",
   "metadata": {
    "colab_type": "text",
    "id": "uG1gbVJ0oLxP"
   },
   "source": [
    "# Evaluation Process\n",
    "\n",
    "Similar to the challenge: we evaluate the predictions on a few items that build the candidate set. We compare the predictions to the ground truth (which is the initial dataset) and compute some metrics.\n",
    "\n",
    "We expect the predictions in the following format\n",
    "\n",
    "tweet_id,user_id,retweet,reply,like,retweet_with_comment"
   ]
  },
  {
   "cell_type": "code",
   "execution_count": 2,
   "metadata": {
    "colab": {},
    "colab_type": "code",
    "execution": {
     "iopub.execute_input": "2020-07-31T21:57:36.906533Z",
     "iopub.status.busy": "2020-07-31T21:57:36.906156Z",
     "iopub.status.idle": "2020-07-31T21:57:37.242991Z",
     "shell.execute_reply": "2020-07-31T21:57:37.242370Z",
     "shell.execute_reply.started": "2020-07-31T21:57:36.906490Z"
    },
    "executionInfo": {
     "elapsed": 1026,
     "status": "ok",
     "timestamp": 1596151879993,
     "user": {
      "displayName": "Markus Reiter-Haas",
      "photoUrl": "https://lh3.googleusercontent.com/a-/AOh14GjQJYshWpQ2aXZJfwnSte6m_Ypfjxl_kyej2VoMLg=s64",
      "userId": "10241970882490649483"
     },
     "user_tz": -120
    },
    "id": "4KfTB5inxQEM"
   },
   "outputs": [],
   "source": [
    "# Use RCE from RecSys challenge\n",
    "\n",
    "from sklearn.metrics import log_loss, precision_recall_curve, auc, log_loss\n",
    "\n",
    "def compute_prauc(pred, gt):\n",
    "  prec, recall, thresh = precision_recall_curve(gt, pred)\n",
    "  prauc = auc(recall, prec)\n",
    "  return prauc\n",
    "\n",
    "def calculate_ctr(gt):\n",
    "  positive = len([x for x in gt if x == 1])\n",
    "  ctr = positive/float(len(gt))\n",
    "  return ctr\n",
    "\n",
    "def compute_rce(pred, gt):\n",
    "    cross_entropy = log_loss(gt, pred)\n",
    "    data_ctr = calculate_ctr(gt)\n",
    "    strawman_cross_entropy = log_loss(gt, [data_ctr for _ in range(len(gt))])\n",
    "    return (1.0 - cross_entropy/strawman_cross_entropy)*100.0\n"
   ]
  },
  {
   "cell_type": "code",
   "execution_count": 3,
   "metadata": {
    "colab": {},
    "colab_type": "code",
    "execution": {
     "iopub.execute_input": "2020-07-31T21:58:03.247380Z",
     "iopub.status.busy": "2020-07-31T21:58:03.247017Z",
     "iopub.status.idle": "2020-07-31T21:58:03.279181Z",
     "shell.execute_reply": "2020-07-31T21:58:03.278268Z",
     "shell.execute_reply.started": "2020-07-31T21:58:03.247338Z"
    },
    "executionInfo": {
     "elapsed": 505,
     "status": "ok",
     "timestamp": 1596153511241,
     "user": {
      "displayName": "Markus Reiter-Haas",
      "photoUrl": "https://lh3.googleusercontent.com/a-/AOh14GjQJYshWpQ2aXZJfwnSte6m_Ypfjxl_kyej2VoMLg=s64",
      "userId": "10241970882490649483"
     },
     "user_tz": -120
    },
    "id": "-2M_n0Pxm2sU"
   },
   "outputs": [],
   "source": [
    "# input_file_gt = data_dir / \"xgb_v1_preds.parquet/\"\n",
    "input_file_gt = data_dir / \"knn_preds.parquet/\"\n",
    "df_gt = dd.read_parquet(str(input_file_gt))"
   ]
  },
  {
   "cell_type": "code",
   "execution_count": 4,
   "metadata": {
    "colab": {
     "base_uri": "https://localhost:8080/",
     "height": 85
    },
    "colab_type": "code",
    "execution": {
     "iopub.execute_input": "2020-07-31T21:58:17.518874Z",
     "iopub.status.busy": "2020-07-31T21:58:17.518454Z",
     "iopub.status.idle": "2020-07-31T21:58:17.783006Z",
     "shell.execute_reply": "2020-07-31T21:58:17.782362Z",
     "shell.execute_reply.started": "2020-07-31T21:58:17.518833Z"
    },
    "executionInfo": {
     "elapsed": 1655,
     "status": "ok",
     "timestamp": 1596153514234,
     "user": {
      "displayName": "Markus Reiter-Haas",
      "photoUrl": "https://lh3.googleusercontent.com/a-/AOh14GjQJYshWpQ2aXZJfwnSte6m_Ypfjxl_kyej2VoMLg=s64",
      "userId": "10241970882490649483"
     },
     "user_tz": -120
    },
    "id": "9cNJ5il20fJy",
    "outputId": "98f294ac-0d33-473a-9eab-8b7ade8b7d6d"
   },
   "outputs": [
    {
     "name": "stdout",
     "output_type": "stream",
     "text": [
      "PRAUC retweet              =   0.2249\n",
      "RCE   retweet              = -363.61\n",
      "PRAUC reply                =   0.0398\n",
      "RCE   reply                = -574.34\n",
      "PRAUC like                 =   0.6446\n",
      "RCE   like                 = -258.42\n",
      "PRAUC retweet_with_comment =   0.0120\n",
      "RCE   retweet_with_comment = -488.51\n"
     ]
    }
   ],
   "source": [
    "for pred_type in classes:\n",
    "  gt_arr = df_gt[\"has_\" + pred_type].values.compute()\n",
    "  pred_arr = df_gt[\"pred_\" + pred_type].values.compute()\n",
    "  rce = compute_rce(pred_arr, gt_arr)\n",
    "  prauc = compute_prauc(pred_arr, gt_arr)\n",
    "  \n",
    "  print(f\"PRAUC {pred_type:20s} = {prauc:8.4f}\")\n",
    "  print(f\"RCE   {pred_type:20s} = {rce:6.2f}\")"
   ]
  },
  {
   "cell_type": "code",
   "execution_count": null,
   "metadata": {},
   "outputs": [],
   "source": []
  }
 ],
 "metadata": {
  "colab": {
   "collapsed_sections": [],
   "name": "recsys-eval.ipynb",
   "provenance": [],
   "toc_visible": true
  },
  "kernelspec": {
   "display_name": "recsys",
   "language": "python",
   "name": "recsys"
  },
  "language_info": {
   "codemirror_mode": {
    "name": "ipython",
    "version": 3
   },
   "file_extension": ".py",
   "mimetype": "text/x-python",
   "name": "python",
   "nbconvert_exporter": "python",
   "pygments_lexer": "ipython3",
   "version": "3.8.4"
  }
 },
 "nbformat": 4,
 "nbformat_minor": 4
}
