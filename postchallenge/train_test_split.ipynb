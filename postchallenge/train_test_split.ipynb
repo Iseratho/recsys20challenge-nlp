{
 "cells": [
  {
   "cell_type": "code",
   "execution_count": 12,
   "metadata": {},
   "outputs": [
    {
     "name": "stderr",
     "output_type": "stream",
     "text": [
      "/home/sko/.virtualenvs/recsys/lib/python3.8/site-packages/distributed/node.py:151: UserWarning: Port 8787 is already in use.\n",
      "Perhaps you already have a cluster running?\n",
      "Hosting the HTTP server on port 45735 instead\n",
      "  warnings.warn(\n"
     ]
    }
   ],
   "source": [
    "from dask.distributed import Client, LocalCluster\n",
    "import dask\n",
    "dask.config.set({'temporary_directory': '/var/cache/spark'})\n",
    "cluster = LocalCluster(n_workers=8, threads_per_worker=2)\n",
    "client = Client(cluster)"
   ]
  },
  {
   "cell_type": "code",
   "execution_count": 2,
   "metadata": {
    "colab": {},
    "colab_type": "code",
    "id": "8pcKG7fDf31a"
   },
   "outputs": [],
   "source": [
    "import numpy as np\n",
    "import pyarrow\n",
    "import pyarrow.parquet as pq\n",
    "from pathlib import Path\n",
    "from functools import partial\n",
    "import tqdm\n",
    "import shutil\n",
    "import pandas as pd\n",
    "import dask\n",
    "import dask.array as da\n",
    "import dask.dataframe as dd\n",
    "import math\n",
    "pd.set_option('max_colwidth', 0)\n",
    "classes = ['retweet', 'reply', 'like', 'retweet_with_comment']\n",
    "label_cols = ['has_' + c for c in classes]\n",
    "feature_cols = [\n",
    "        \"author_follower_count\",\n",
    "        \"author_following_count\",\n",
    "        \"user_follower_count\",\n",
    "        \"user_following_count\",\n",
    "        \"num_hashtags\",\n",
    "        \"num_media\",\n",
    "        \"num_links\",\n",
    "        \"num_domains\",\n",
    "        \"author_is_verified\",\n",
    "        \"user_is_verified\",\n",
    "        \"follows\"]\n",
    "emb_cols = ['e{:03d}'.format(i) for i in range(768)]\n",
    "user_emb_cols = ['e{:03d}_u'.format(i) for i in range(768)]\n"
   ]
  },
  {
   "cell_type": "code",
   "execution_count": 3,
   "metadata": {
    "colab": {},
    "colab_type": "code",
    "id": "e214Kfv01mBz"
   },
   "outputs": [],
   "source": [
    "data_dir = Path('~/recsys2020')\n",
    "ds_name = 'user_sampled'\n",
    "\n",
    "train_file = data_dir / \"train.parquet/\"\n",
    "val_file = data_dir / \"val.parquet/\"\n",
    "test_file = data_dir / \"test.parquet/\"\n",
    "\n",
    "input_file_embeddings = data_dir / f\"{ds_name}_embeddings.parquet/\"\n",
    "\n",
    "df = dd.read_parquet(str(input_file_embeddings), columns=['user_id', 'tweet_id', 'tweet_timestamp'] + feature_cols + emb_cols + label_cols).set_index('user_id')"
   ]
  },
  {
   "cell_type": "code",
   "execution_count": 5,
   "metadata": {},
   "outputs": [],
   "source": [
    "meta = [\n",
    "    ('user_id', object),\n",
    "    ('ds_type', np.uint8)\n",
    "] + [(n, d) for n,d in zip(df.columns, df.dtypes)]\n",
    "meta = dd.utils.make_meta(meta)"
   ]
  },
  {
   "cell_type": "code",
   "execution_count": 35,
   "metadata": {
    "colab": {},
    "colab_type": "code",
    "execution": {
     "iopub.execute_input": "2020-07-31T15:59:56.010368Z",
     "iopub.status.busy": "2020-07-31T15:59:56.009940Z",
     "iopub.status.idle": "2020-07-31T16:32:22.516829Z",
     "shell.execute_reply": "2020-07-31T16:32:22.483291Z",
     "shell.execute_reply.started": "2020-07-31T15:59:56.010316Z"
    },
    "id": "CZAAkkzcavue"
   },
   "outputs": [],
   "source": [
    "def apply_group(grp: pd.DataFrame):\n",
    "    num_labeled = grp[['has_retweet', 'has_like','has_reply','has_retweet_with_comment']].any(axis=1).sum(axis=0)\n",
    "    if num_labeled < 3:\n",
    "        return\n",
    "    grp = grp.sort_values('tweet_timestamp')\n",
    "    # we have at least 3 samples, so this *should* be okay to do\n",
    "    test_val_len = max(1, math.floor(grp.shape[0] * 0.05))\n",
    "    grp.insert(0, 'ds_type', value=pd.Series(0, index=grp.index, dtype=np.uint8))\n",
    "    col_idx = grp.columns.get_loc('ds_type')\n",
    "    grp['ds_type'] = 0\n",
    "    grp.iloc[(-2 * test_val_len):(-1 * test_val_len), col_idx] = 1\n",
    "    grp.iloc[(-1 * test_val_len):, col_idx] = 2\n",
    "#     print(grp['ds_type'])\n",
    "#     grp = grp.reset_index(drop=False)\n",
    "    grp.insert(0, column='user_id', value=grp.index.values)\n",
    "    return grp\n",
    "    \n",
    "grouped = df.groupby('user_id') \\\n",
    "            .apply(apply_group, meta=meta) \\\n",
    "            .reset_index(drop=True) \\\n",
    "            .repartition(partition_size='100MB')\n",
    "grouped.to_parquet(str(data_dir/'grouped.parquet'))"
   ]
  },
  {
   "cell_type": "code",
   "execution_count": 36,
   "metadata": {
    "execution": {
     "iopub.execute_input": "2020-07-31T16:39:46.464265Z",
     "iopub.status.busy": "2020-07-31T16:39:46.463767Z",
     "iopub.status.idle": "2020-07-31T16:39:49.275143Z",
     "shell.execute_reply": "2020-07-31T16:39:49.273791Z",
     "shell.execute_reply.started": "2020-07-31T16:39:46.464237Z"
    }
   },
   "outputs": [],
   "source": [
    "grouped = dd.read_parquet(str(data_dir/'grouped.parquet'))"
   ]
  },
  {
   "cell_type": "code",
   "execution_count": 37,
   "metadata": {
    "colab": {},
    "colab_type": "code",
    "execution": {
     "iopub.execute_input": "2020-07-31T16:39:49.277189Z",
     "iopub.status.busy": "2020-07-31T16:39:49.276566Z",
     "iopub.status.idle": "2020-07-31T16:40:12.534098Z",
     "shell.execute_reply": "2020-07-31T16:40:12.533346Z",
     "shell.execute_reply.started": "2020-07-31T16:39:49.277144Z"
    },
    "id": "8_-YDNNZsnf4"
   },
   "outputs": [],
   "source": [
    "grouped[grouped['ds_type'] == 0].loc[:, grouped.columns != 'ds_type'].to_parquet(str(train_file))"
   ]
  },
  {
   "cell_type": "code",
   "execution_count": 38,
   "metadata": {
    "execution": {
     "iopub.execute_input": "2020-07-31T16:40:12.536570Z",
     "iopub.status.busy": "2020-07-31T16:40:12.536115Z",
     "iopub.status.idle": "2020-07-31T16:40:21.961926Z",
     "shell.execute_reply": "2020-07-31T16:40:21.957787Z",
     "shell.execute_reply.started": "2020-07-31T16:40:12.536533Z"
    }
   },
   "outputs": [],
   "source": [
    "grouped[grouped['ds_type'] == 1].loc[:, grouped.columns != 'ds_type'].to_parquet(str(val_file))"
   ]
  },
  {
   "cell_type": "code",
   "execution_count": 39,
   "metadata": {
    "execution": {
     "iopub.execute_input": "2020-07-31T16:40:21.970191Z",
     "iopub.status.busy": "2020-07-31T16:40:21.969638Z",
     "iopub.status.idle": "2020-07-31T16:40:31.693610Z",
     "shell.execute_reply": "2020-07-31T16:40:31.690828Z",
     "shell.execute_reply.started": "2020-07-31T16:40:21.970143Z"
    }
   },
   "outputs": [],
   "source": [
    "grouped[grouped['ds_type'] == 2].loc[:, grouped.columns != 'ds_type'].to_parquet(str(test_file))"
   ]
  },
  {
   "cell_type": "code",
   "execution_count": 40,
   "metadata": {
    "execution": {
     "iopub.execute_input": "2020-07-31T16:40:31.701526Z",
     "iopub.status.busy": "2020-07-31T16:40:31.700997Z",
     "iopub.status.idle": "2020-07-31T16:40:38.997962Z",
     "shell.execute_reply": "2020-07-31T16:40:38.991799Z",
     "shell.execute_reply.started": "2020-07-31T16:40:31.701487Z"
    }
   },
   "outputs": [
    {
     "name": "stdout",
     "output_type": "stream",
     "text": [
      "Test samples: user_id                     72595\n",
      "tweet_id                    72595\n",
      "tweet_timestamp             72595\n",
      "author_follower_count       72595\n",
      "author_following_count      72595\n",
      "                            ...  \n",
      "e767                        72595\n",
      "has_retweet                 72595\n",
      "has_reply                   72595\n",
      "has_like                    72595\n",
      "has_retweet_with_comment    72595\n",
      "Length: 786, dtype: int64\n"
     ]
    }
   ],
   "source": [
    "print(\"Test samples:\", dd.read_parquet(str(test_file)).count().compute())"
   ]
  },
  {
   "cell_type": "code",
   "execution_count": 41,
   "metadata": {
    "execution": {
     "iopub.execute_input": "2020-07-31T16:40:39.006378Z",
     "iopub.status.busy": "2020-07-31T16:40:39.005582Z",
     "iopub.status.idle": "2020-07-31T16:41:05.911652Z",
     "shell.execute_reply": "2020-07-31T16:41:05.910595Z",
     "shell.execute_reply.started": "2020-07-31T16:40:39.006323Z"
    }
   },
   "outputs": [
    {
     "name": "stdout",
     "output_type": "stream",
     "text": [
      "Train samples: user_id                     560195\n",
      "tweet_id                    560195\n",
      "tweet_timestamp             560195\n",
      "author_follower_count       560195\n",
      "author_following_count      560195\n",
      "                             ...  \n",
      "e767                        560195\n",
      "has_retweet                 560195\n",
      "has_reply                   560195\n",
      "has_like                    560195\n",
      "has_retweet_with_comment    560195\n",
      "Length: 786, dtype: int64\n"
     ]
    }
   ],
   "source": [
    "print(\"Train samples:\", dd.read_parquet(str(train_file)).count().compute())"
   ]
  },
  {
   "cell_type": "code",
   "execution_count": 42,
   "metadata": {
    "execution": {
     "iopub.execute_input": "2020-07-31T16:41:05.913539Z",
     "iopub.status.busy": "2020-07-31T16:41:05.913148Z",
     "iopub.status.idle": "2020-07-31T16:41:11.235069Z",
     "shell.execute_reply": "2020-07-31T16:41:11.233764Z",
     "shell.execute_reply.started": "2020-07-31T16:41:05.913494Z"
    }
   },
   "outputs": [
    {
     "name": "stdout",
     "output_type": "stream",
     "text": [
      "Val samples: user_id                     72595\n",
      "tweet_id                    72595\n",
      "tweet_timestamp             72595\n",
      "author_follower_count       72595\n",
      "author_following_count      72595\n",
      "                            ...  \n",
      "e767                        72595\n",
      "has_retweet                 72595\n",
      "has_reply                   72595\n",
      "has_like                    72595\n",
      "has_retweet_with_comment    72595\n",
      "Length: 786, dtype: int64\n"
     ]
    }
   ],
   "source": [
    "print(\"Val samples:\", dd.read_parquet(str(val_file)).count().compute())"
   ]
  },
  {
   "cell_type": "code",
   "execution_count": null,
   "metadata": {},
   "outputs": [],
   "source": []
  }
 ],
 "metadata": {
  "colab": {
   "collapsed_sections": [],
   "name": "train_test_split.ipynb",
   "provenance": []
  },
  "kernelspec": {
   "display_name": "recsys",
   "language": "python",
   "name": "recsys"
  },
  "language_info": {
   "codemirror_mode": {
    "name": "ipython",
    "version": 3
   },
   "file_extension": ".py",
   "mimetype": "text/x-python",
   "name": "python",
   "nbconvert_exporter": "python",
   "pygments_lexer": "ipython3",
   "version": "3.8.4"
  }
 },
 "nbformat": 4,
 "nbformat_minor": 4
}
