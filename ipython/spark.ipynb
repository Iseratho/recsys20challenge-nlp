{
 "cells": [
  {
   "cell_type": "code",
   "execution_count": 1,
   "metadata": {},
   "outputs": [],
   "source": [
    "from sparknlp.base import *\n",
    "from sparknlp.annotator import *\n",
    "import sparknlp"
   ]
  },
  {
   "cell_type": "code",
   "execution_count": 2,
   "metadata": {},
   "outputs": [],
   "source": [
    "spark = sparknlp.start()"
   ]
  },
  {
   "cell_type": "code",
   "execution_count": 3,
   "metadata": {},
   "outputs": [
    {
     "name": "stdout",
     "output_type": "stream",
     "text": [
      "bert_multi_cased download started this may take some time.\n",
      "Approximate size to download 638.7 MB\n",
      "[OK!]\n"
     ]
    }
   ],
   "source": [
    "bert = BertEmbeddings.pretrained(\"bert_multi_cased\", \"xx\") \\\n",
    "      .setInputCols(\"sentence\", \"token\") \\\n",
    "      .setOutputCol(\"bert\")"
   ]
  },
  {
   "cell_type": "code",
   "execution_count": 76,
   "metadata": {},
   "outputs": [
    {
     "name": "stdout",
     "output_type": "stream",
     "text": [
      "bert_multi_cased download started this may take some time.\n",
      "Approximate size to download 638.7 MB\n",
      "[OK!]\n"
     ]
    },
    {
     "ename": "TypeError",
     "evalue": "'BertEmbeddings' object is not subscriptable",
     "output_type": "error",
     "traceback": [
      "\u001b[0;31m---------------------------------------------------------------------------\u001b[0m",
      "\u001b[0;31mTypeError\u001b[0m                                 Traceback (most recent call last)",
      "\u001b[0;32m<ipython-input-76-b73b44207b5e>\u001b[0m in \u001b[0;36m<module>\u001b[0;34m\u001b[0m\n\u001b[1;32m      1\u001b[0m \u001b[0mbert2\u001b[0m \u001b[0;34m=\u001b[0m \u001b[0mBertEmbeddings\u001b[0m\u001b[0;34m.\u001b[0m\u001b[0mpretrained\u001b[0m\u001b[0;34m(\u001b[0m\u001b[0;34m\"bert_multi_cased\"\u001b[0m\u001b[0;34m,\u001b[0m \u001b[0;34m\"xx\"\u001b[0m\u001b[0;34m)\u001b[0m\u001b[0;34m\u001b[0m\u001b[0;34m\u001b[0m\u001b[0m\n\u001b[0;32m----> 2\u001b[0;31m \u001b[0mbert2\u001b[0m\u001b[0;34m[\u001b[0m\u001b[0;36m101\u001b[0m\u001b[0;34m]\u001b[0m\u001b[0;34m\u001b[0m\u001b[0;34m\u001b[0m\u001b[0m\n\u001b[0m",
      "\u001b[0;31mTypeError\u001b[0m: 'BertEmbeddings' object is not subscriptable"
     ]
    }
   ],
   "source": [
    "bert2 = BertEmbeddings.pretrained(\"bert_multi_cased\", \"xx\")\n",
    "bert2[101]"
   ]
  },
  {
   "cell_type": "code",
   "execution_count": 81,
   "metadata": {},
   "outputs": [
    {
     "data": {
      "text/plain": [
       "768"
      ]
     },
     "execution_count": 81,
     "metadata": {},
     "output_type": "execute_result"
    }
   ],
   "source": [
    "bert2.getDimension()"
   ]
  },
  {
   "cell_type": "code",
   "execution_count": 82,
   "metadata": {},
   "outputs": [
    {
     "data": {
      "text/plain": [
       "\"batchSize: Batch size. Large values allows faster processing but requires more memory. (default: 32)\\ncaseSensitive: whether to ignore case in tokens for embeddings matching (default: True, current: True)\\nconfigProtoBytes: ConfigProto from tensorflow, serialized into byte array. Get with config_proto.SerializeToString() (undefined)\\ndimension: Number of embedding dimensions (default: 768, current: 768)\\ninputCols: previous annotations columns, if renamed (current: ['sentence', 'token'])\\nlazyAnnotator: Whether this AnnotatorModel acts as lazy in RecursivePipelines (default: False)\\nmaxSentenceLength: Max sentence length to process (default: 128)\\noutputCol: output annotation column. can be left default. (current: bert)\\npoolingLayer: Set BERT pooling layer to: -1 for last hidden layer, -2 for second-to-last hidden layer, and 0 for first layer which is called embeddings (default: 0)\\nstorageRef: unique reference name for identification (current: bert_multi_cased)\""
      ]
     },
     "execution_count": 82,
     "metadata": {},
     "output_type": "execute_result"
    }
   ],
   "source": [
    "bert2.explainParams()"
   ]
  },
  {
   "cell_type": "code",
   "execution_count": null,
   "metadata": {},
   "outputs": [
    {
     "name": "stdout",
     "output_type": "stream",
     "text": [
      "bert_base_cased download started this may take some time.\n",
      "Approximate size to download 389.2 MB\n",
      "[ — ]"
     ]
    }
   ],
   "source": [
    "bert2.pretrained()"
   ]
  },
  {
   "cell_type": "code",
   "execution_count": 91,
   "metadata": {},
   "outputs": [
    {
     "ename": "AttributeError",
     "evalue": "'BertEmbeddings' object has no attribute 'vocabulary'",
     "output_type": "error",
     "traceback": [
      "\u001b[0;31m---------------------------------------------------------------------------\u001b[0m",
      "\u001b[0;31mAttributeError\u001b[0m                            Traceback (most recent call last)",
      "\u001b[0;32m<ipython-input-91-fc8aed9e6f2d>\u001b[0m in \u001b[0;36m<module>\u001b[0;34m\u001b[0m\n\u001b[0;32m----> 1\u001b[0;31m \u001b[0mbert2\u001b[0m\u001b[0;34m.\u001b[0m\u001b[0mgetOrDefault\u001b[0m\u001b[0;34m(\u001b[0m\u001b[0mbert2\u001b[0m\u001b[0;34m.\u001b[0m\u001b[0mvocabulary\u001b[0m\u001b[0;34m)\u001b[0m\u001b[0;34m\u001b[0m\u001b[0;34m\u001b[0m\u001b[0m\n\u001b[0m",
      "\u001b[0;31mAttributeError\u001b[0m: 'BertEmbeddings' object has no attribute 'vocabulary'"
     ]
    }
   ],
   "source": [
    "bert2.getOrDefault(bert2.vocabulary)"
   ]
  },
  {
   "cell_type": "code",
   "execution_count": 63,
   "metadata": {},
   "outputs": [
    {
     "data": {
      "text/plain": [
       "sparknlp.annotator.BertEmbeddings"
      ]
     },
     "execution_count": 63,
     "metadata": {},
     "output_type": "execute_result"
    }
   ],
   "source": [
    "type(bert)"
   ]
  },
  {
   "cell_type": "code",
   "execution_count": 64,
   "metadata": {},
   "outputs": [
    {
     "ename": "AttributeError",
     "evalue": "'BertEmbeddings' object has no attribute 'unpack'",
     "output_type": "error",
     "traceback": [
      "\u001b[0;31m---------------------------------------------------------------------------\u001b[0m",
      "\u001b[0;31mAttributeError\u001b[0m                            Traceback (most recent call last)",
      "\u001b[0;32m<ipython-input-64-2aaf3278ede9>\u001b[0m in \u001b[0;36m<module>\u001b[0;34m\u001b[0m\n\u001b[0;32m----> 1\u001b[0;31m \u001b[0mbert\u001b[0m\u001b[0;34m.\u001b[0m\u001b[0munpack\u001b[0m\u001b[0;34m(\u001b[0m\u001b[0;34m)\u001b[0m\u001b[0;34m\u001b[0m\u001b[0;34m\u001b[0m\u001b[0m\n\u001b[0m",
      "\u001b[0;31mAttributeError\u001b[0m: 'BertEmbeddings' object has no attribute 'unpack'"
     ]
    }
   ],
   "source": [
    "bert.unpack()"
   ]
  },
  {
   "cell_type": "code",
   "execution_count": 6,
   "metadata": {},
   "outputs": [],
   "source": [
    "\n",
    "with open(\"/media/iseratho/Movies HD/training1m.tsv\") as f:\n",
    "    training1m = f.readlines()"
   ]
  },
  {
   "cell_type": "code",
   "execution_count": 13,
   "metadata": {},
   "outputs": [],
   "source": [
    "from pyspark.sql.types import StringType\n",
    "\n",
    "df = spark.createDataFrame(training1m, StringType()).toDF(\"text\")"
   ]
  },
  {
   "cell_type": "code",
   "execution_count": 15,
   "metadata": {},
   "outputs": [
    {
     "data": {
      "text/plain": [
       "[Row(text='101\\t4378\\t4348\\t1946\\t3192\\t1947\\t3293\\t1946\\t3197\\t3365\\t1946\\t2731\\t7762\\t1912\\t4938\\t40710\\t11312\\t4501\\t1938\\t18825\\t27843\\t15802\\t60421\\t21462\\t60421\\t21462\\t14803\\t27058\\t16923\\t1882\\t4146\\t8224\\t6712\\t4004\\t104386\\t56910\\t2179\\t1912\\t4501\\t43753\\t35272\\t11662\\t4965\\t8335\\t3999\\t2035\\t22396\\t111823\\t22396\\t1882\\t2023\\t15970\\t30263\\t13291\\t37133\\t30884\\t111806\\t6242\\t8782\\t28798\\t1882\\t3388\\t4470\\t5718\\t1943\\t7231\\t1911\\t16838\\t91576\\t18767\\t26164\\t18767\\t6237\\t4097\\t100\\t102\\x01\\x013C07C7EDBF91457F165405541CC63B8A\\x01\\x01\\x01\\x01TopLevel\\x0122C448FF81263D4BAF2A176145EE9EAD\\x011581264609\\x0190537F3D3B8DBB17922A945ED4FD3B5A\\x01129\\x01260\\x01false\\x011402980271\\x015BCEFB026703939F22AF56BB6DA55DE7\\x01270\\x01253\\x01false\\x011358823496\\x01true\\x01\\x01\\x01\\x01\\n'),\n",
       " Row(text='101\\t13209\\t18121\\t12989\\t12056\\t10119\\t14316\\t193\\t112\\t169\\t17828\\t10119\\t92049\\t10460\\t44928\\t10131\\t10119\\t92049\\t13115\\t44928\\t117\\t20795\\t10154\\t60727\\t10246\\t13055\\t21542\\t180\\t100\\t110055\\t172\\t112\\t10119\\t26854\\t102\\x01\\x0185F62F7831FC3C991B9BAB2CD9428C08\\x01\\x01\\x01\\x01TopLevel\\x01FA3F382BC409C271E3D6EAF8BE4648DD\\x011581006153\\x015A84A72B16C0045838431343B8F7B014\\x0141219\\x0197\\x01false\\x011403307740\\x010D06557BA01CA9935E413BC6A2970AE0\\x0134\\x0165\\x01false\\x011482702951\\x01false\\x01\\x01\\x01\\x01\\n'),\n",
       " Row(text='101\\t8544\\t1913\\t22445\\t64126\\t15802\\t101369\\t54643\\t111830\\t4238\\t1974\\t7721\\t10497\\t18628\\t28224\\t27849\\t56910\\t1881\\t2036\\t67221\\t55052\\t51143\\t16838\\t90230\\t16838\\t15802\\t18825\\t60847\\t119539\\t119539\\t37133\\t111795\\t30884\\t111806\\t3339\\t100\\t14120\\t131\\t120\\t120\\t188\\t119\\t11170\\t120\\t32221\\t10738\\t55942\\t10240\\t10305\\t19282\\t10174\\t10575\\t102\\x01\\x0126BB95D5CFEE7A4E47C476FD4D240947\\x01Photo\\x01\\x01\\x01TopLevel\\x0122C448FF81263D4BAF2A176145EE9EAD\\x011581291611\\x01B1D356C947DF250C9562B2105B7A4679\\x01347\\x0121\\x01false\\x011476414154\\x01E05AFECF10AA778638DC4E3BCFA44861\\x01419\\x01367\\x01false\\x011426339513\\x01true\\x01\\x01\\x01\\x01\\n'),\n",
       " Row(text='101\\t2187\\t4348\\t1946\\t8215\\t3388\\t100\\t119\\t1892\\t5005\\t6455\\t2108\\t3709\\t5005\\t1946\\t3644\\t2037\\t85161\\t111825\\t25071\\t18767\\t13894\\t37133\\t18628\\t1893\\t119\\t5005\\t1946\\t3644\\t1931\\t111795\\t111801\\t54334\\t29100\\t85161\\t111825\\t25071\\t12236\\t22445\\t100\\t100\\t14120\\t131\\t120\\t120\\t188\\t119\\t11170\\t120\\t140\\t10874\\t14703\\t11703\\t21069\\t10350\\t37301\\t10174\\t102\\x01\\x016AE32B4AF72731F0212D331FEAA20AEB\\x01Photo\\tPhoto\\x01\\x01\\x01TopLevel\\x0122C448FF81263D4BAF2A176145EE9EAD\\x011581041555\\x01A36A46A8EA5A1696B4A7774BEA2DDDD8\\x012958\\x01364\\x01false\\x011516593252\\x016DBC3D3879651964F6ED493175DD9127\\x01119\\x01492\\x01false\\x011428400124\\x01false\\x01\\x01\\x01\\x011581047800\\n'),\n",
       " Row(text='101\\t56898\\t137\\t95731\\t11490\\t11488\\t12355\\t131\\t137\\t10117\\t10112\\t11259\\t11382\\t103189\\t43958\\t169\\t12361\\t16116\\t10111\\t40830\\t10157\\t13935\\t84569\\t119\\t119\\t119\\t10380\\t11005\\t72453\\t10127\\t38036\\t10251\\t119\\t102\\x01\\x01D7A1DCCC960DD56507E72A6733D31987\\x01\\x01\\x01\\x01Retweet\\x01D3164C7FBCF2565DDF915B1B3AEFB1DC\\x011581208988\\x0103E5B5C0311A53DBAE3453D7C267BBDC\\x01883\\x01410\\x01false\\x011569726825\\x0187C46AE4672F09023871F0D88E543BC2\\x0118\\x01329\\x01false\\x011554844013\\x01false\\x01\\x01\\x01\\x01\\n')]"
      ]
     },
     "execution_count": 15,
     "metadata": {},
     "output_type": "execute_result"
    }
   ],
   "source": [
    "df.head(n=5)"
   ]
  },
  {
   "cell_type": "code",
   "execution_count": 36,
   "metadata": {},
   "outputs": [],
   "source": [
    "all_features = [\"text_tokens\", \"hashtags\", \"tweet_id\", \"present_media\", \"present_links\", \"present_domains\",\\\n",
    "                \"tweet_type\",\"language\", \"tweet_timestamp\", \"engaged_with_user_id\", \"engaged_with_user_follower_count\",\\\n",
    "               \"engaged_with_user_following_count\", \"engaged_with_user_is_verified\", \"engaged_with_user_account_creation\",\\\n",
    "               \"engaging_user_id\", \"engaging_user_follower_count\", \"engaging_user_following_count\", \"engaging_user_is_verified\",\\\n",
    "               \"engaging_user_account_creation\", \"engagee_follows_engager\", \"reply_timestamp\", \"retweet_timestamp\", \"retweet_with_comment_timestamp\", \"like_timestamp\"]\n",
    "# {\"reply_timestamp\": 20, \"retweet_timestamp\": 21, \"retweet_with_comment_timestamp\": 22, \"like_timestamp\": 23}"
   ]
  },
  {
   "cell_type": "code",
   "execution_count": 23,
   "metadata": {},
   "outputs": [],
   "source": [
    "df = spark.read.format(\"com.databricks.spark.csv\").option(\"delimiter\", \"\\x01\").load(\"/media/iseratho/Movies HD/training1m.tsv\")"
   ]
  },
  {
   "cell_type": "code",
   "execution_count": 37,
   "metadata": {},
   "outputs": [],
   "source": [
    "df = df.toDF(*all_features)"
   ]
  },
  {
   "cell_type": "code",
   "execution_count": 38,
   "metadata": {},
   "outputs": [
    {
     "data": {
      "text/plain": [
       "[Row(text_tokens='101\\t4378\\t4348\\t1946\\t3192\\t1947\\t3293\\t1946\\t3197\\t3365\\t1946\\t2731\\t7762\\t1912\\t4938\\t40710\\t11312\\t4501\\t1938\\t18825\\t27843\\t15802\\t60421\\t21462\\t60421\\t21462\\t14803\\t27058\\t16923\\t1882\\t4146\\t8224\\t6712\\t4004\\t104386\\t56910\\t2179\\t1912\\t4501\\t43753\\t35272\\t11662\\t4965\\t8335\\t3999\\t2035\\t22396\\t111823\\t22396\\t1882\\t2023\\t15970\\t30263\\t13291\\t37133\\t30884\\t111806\\t6242\\t8782\\t28798\\t1882\\t3388\\t4470\\t5718\\t1943\\t7231\\t1911\\t16838\\t91576\\t18767\\t26164\\t18767\\t6237\\t4097\\t100\\t102', hashtags=None, tweet_id='3C07C7EDBF91457F165405541CC63B8A', present_media=None, present_links=None, present_domains=None, tweet_type='TopLevel', language='22C448FF81263D4BAF2A176145EE9EAD', tweet_timestamp='1581264609', engaged_with_user_id='90537F3D3B8DBB17922A945ED4FD3B5A', engaged_with_user_follower_count='129', engaged_with_user_following_count='260', engaged_with_user_is_verified='false', engaged_with_user_account_creation='1402980271', engaging_user_id='5BCEFB026703939F22AF56BB6DA55DE7', engaging_user_follower_count='270', engaging_user_following_count='253', engaging_user_is_verified='false', engaging_user_account_creation='1358823496', engagee_follows_engager='true', reply_timestamp=None, retweet_timestamp=None, retweet_with_comment_timestamp=None, like_timestamp=None),\n",
       " Row(text_tokens='101\\t13209\\t18121\\t12989\\t12056\\t10119\\t14316\\t193\\t112\\t169\\t17828\\t10119\\t92049\\t10460\\t44928\\t10131\\t10119\\t92049\\t13115\\t44928\\t117\\t20795\\t10154\\t60727\\t10246\\t13055\\t21542\\t180\\t100\\t110055\\t172\\t112\\t10119\\t26854\\t102', hashtags=None, tweet_id='85F62F7831FC3C991B9BAB2CD9428C08', present_media=None, present_links=None, present_domains=None, tweet_type='TopLevel', language='FA3F382BC409C271E3D6EAF8BE4648DD', tweet_timestamp='1581006153', engaged_with_user_id='5A84A72B16C0045838431343B8F7B014', engaged_with_user_follower_count='41219', engaged_with_user_following_count='97', engaged_with_user_is_verified='false', engaged_with_user_account_creation='1403307740', engaging_user_id='0D06557BA01CA9935E413BC6A2970AE0', engaging_user_follower_count='34', engaging_user_following_count='65', engaging_user_is_verified='false', engaging_user_account_creation='1482702951', engagee_follows_engager='false', reply_timestamp=None, retweet_timestamp=None, retweet_with_comment_timestamp=None, like_timestamp=None),\n",
       " Row(text_tokens='101\\t8544\\t1913\\t22445\\t64126\\t15802\\t101369\\t54643\\t111830\\t4238\\t1974\\t7721\\t10497\\t18628\\t28224\\t27849\\t56910\\t1881\\t2036\\t67221\\t55052\\t51143\\t16838\\t90230\\t16838\\t15802\\t18825\\t60847\\t119539\\t119539\\t37133\\t111795\\t30884\\t111806\\t3339\\t100\\t14120\\t131\\t120\\t120\\t188\\t119\\t11170\\t120\\t32221\\t10738\\t55942\\t10240\\t10305\\t19282\\t10174\\t10575\\t102', hashtags=None, tweet_id='26BB95D5CFEE7A4E47C476FD4D240947', present_media='Photo', present_links=None, present_domains=None, tweet_type='TopLevel', language='22C448FF81263D4BAF2A176145EE9EAD', tweet_timestamp='1581291611', engaged_with_user_id='B1D356C947DF250C9562B2105B7A4679', engaged_with_user_follower_count='347', engaged_with_user_following_count='21', engaged_with_user_is_verified='false', engaged_with_user_account_creation='1476414154', engaging_user_id='E05AFECF10AA778638DC4E3BCFA44861', engaging_user_follower_count='419', engaging_user_following_count='367', engaging_user_is_verified='false', engaging_user_account_creation='1426339513', engagee_follows_engager='true', reply_timestamp=None, retweet_timestamp=None, retweet_with_comment_timestamp=None, like_timestamp=None),\n",
       " Row(text_tokens='101\\t2187\\t4348\\t1946\\t8215\\t3388\\t100\\t119\\t1892\\t5005\\t6455\\t2108\\t3709\\t5005\\t1946\\t3644\\t2037\\t85161\\t111825\\t25071\\t18767\\t13894\\t37133\\t18628\\t1893\\t119\\t5005\\t1946\\t3644\\t1931\\t111795\\t111801\\t54334\\t29100\\t85161\\t111825\\t25071\\t12236\\t22445\\t100\\t100\\t14120\\t131\\t120\\t120\\t188\\t119\\t11170\\t120\\t140\\t10874\\t14703\\t11703\\t21069\\t10350\\t37301\\t10174\\t102', hashtags=None, tweet_id='6AE32B4AF72731F0212D331FEAA20AEB', present_media='Photo\\tPhoto', present_links=None, present_domains=None, tweet_type='TopLevel', language='22C448FF81263D4BAF2A176145EE9EAD', tweet_timestamp='1581041555', engaged_with_user_id='A36A46A8EA5A1696B4A7774BEA2DDDD8', engaged_with_user_follower_count='2958', engaged_with_user_following_count='364', engaged_with_user_is_verified='false', engaged_with_user_account_creation='1516593252', engaging_user_id='6DBC3D3879651964F6ED493175DD9127', engaging_user_follower_count='119', engaging_user_following_count='492', engaging_user_is_verified='false', engaging_user_account_creation='1428400124', engagee_follows_engager='false', reply_timestamp=None, retweet_timestamp=None, retweet_with_comment_timestamp=None, like_timestamp='1581047800'),\n",
       " Row(text_tokens='101\\t56898\\t137\\t95731\\t11490\\t11488\\t12355\\t131\\t137\\t10117\\t10112\\t11259\\t11382\\t103189\\t43958\\t169\\t12361\\t16116\\t10111\\t40830\\t10157\\t13935\\t84569\\t119\\t119\\t119\\t10380\\t11005\\t72453\\t10127\\t38036\\t10251\\t119\\t102', hashtags=None, tweet_id='D7A1DCCC960DD56507E72A6733D31987', present_media=None, present_links=None, present_domains=None, tweet_type='Retweet', language='D3164C7FBCF2565DDF915B1B3AEFB1DC', tweet_timestamp='1581208988', engaged_with_user_id='03E5B5C0311A53DBAE3453D7C267BBDC', engaged_with_user_follower_count='883', engaged_with_user_following_count='410', engaged_with_user_is_verified='false', engaged_with_user_account_creation='1569726825', engaging_user_id='87C46AE4672F09023871F0D88E543BC2', engaging_user_follower_count='18', engaging_user_following_count='329', engaging_user_is_verified='false', engaging_user_account_creation='1554844013', engagee_follows_engager='false', reply_timestamp=None, retweet_timestamp=None, retweet_with_comment_timestamp=None, like_timestamp=None)]"
      ]
     },
     "execution_count": 38,
     "metadata": {},
     "output_type": "execute_result"
    }
   ],
   "source": [
    "df.head(n=5)"
   ]
  },
  {
   "cell_type": "code",
   "execution_count": 43,
   "metadata": {},
   "outputs": [
    {
     "data": {
      "text/plain": [
       "[Row(text_tokens='101\\t4378\\t4348\\t1946\\t3192\\t1947\\t3293\\t1946\\t3197\\t3365\\t1946\\t2731\\t7762\\t1912\\t4938\\t40710\\t11312\\t4501\\t1938\\t18825\\t27843\\t15802\\t60421\\t21462\\t60421\\t21462\\t14803\\t27058\\t16923\\t1882\\t4146\\t8224\\t6712\\t4004\\t104386\\t56910\\t2179\\t1912\\t4501\\t43753\\t35272\\t11662\\t4965\\t8335\\t3999\\t2035\\t22396\\t111823\\t22396\\t1882\\t2023\\t15970\\t30263\\t13291\\t37133\\t30884\\t111806\\t6242\\t8782\\t28798\\t1882\\t3388\\t4470\\t5718\\t1943\\t7231\\t1911\\t16838\\t91576\\t18767\\t26164\\t18767\\t6237\\t4097\\t100\\t102'),\n",
       " Row(text_tokens='101\\t13209\\t18121\\t12989\\t12056\\t10119\\t14316\\t193\\t112\\t169\\t17828\\t10119\\t92049\\t10460\\t44928\\t10131\\t10119\\t92049\\t13115\\t44928\\t117\\t20795\\t10154\\t60727\\t10246\\t13055\\t21542\\t180\\t100\\t110055\\t172\\t112\\t10119\\t26854\\t102'),\n",
       " Row(text_tokens='101\\t8544\\t1913\\t22445\\t64126\\t15802\\t101369\\t54643\\t111830\\t4238\\t1974\\t7721\\t10497\\t18628\\t28224\\t27849\\t56910\\t1881\\t2036\\t67221\\t55052\\t51143\\t16838\\t90230\\t16838\\t15802\\t18825\\t60847\\t119539\\t119539\\t37133\\t111795\\t30884\\t111806\\t3339\\t100\\t14120\\t131\\t120\\t120\\t188\\t119\\t11170\\t120\\t32221\\t10738\\t55942\\t10240\\t10305\\t19282\\t10174\\t10575\\t102'),\n",
       " Row(text_tokens='101\\t2187\\t4348\\t1946\\t8215\\t3388\\t100\\t119\\t1892\\t5005\\t6455\\t2108\\t3709\\t5005\\t1946\\t3644\\t2037\\t85161\\t111825\\t25071\\t18767\\t13894\\t37133\\t18628\\t1893\\t119\\t5005\\t1946\\t3644\\t1931\\t111795\\t111801\\t54334\\t29100\\t85161\\t111825\\t25071\\t12236\\t22445\\t100\\t100\\t14120\\t131\\t120\\t120\\t188\\t119\\t11170\\t120\\t140\\t10874\\t14703\\t11703\\t21069\\t10350\\t37301\\t10174\\t102'),\n",
       " Row(text_tokens='101\\t56898\\t137\\t95731\\t11490\\t11488\\t12355\\t131\\t137\\t10117\\t10112\\t11259\\t11382\\t103189\\t43958\\t169\\t12361\\t16116\\t10111\\t40830\\t10157\\t13935\\t84569\\t119\\t119\\t119\\t10380\\t11005\\t72453\\t10127\\t38036\\t10251\\t119\\t102')]"
      ]
     },
     "execution_count": 43,
     "metadata": {},
     "output_type": "execute_result"
    }
   ],
   "source": [
    "df.select(\"text_tokens\").head(n=5)"
   ]
  },
  {
   "cell_type": "code",
   "execution_count": 65,
   "metadata": {},
   "outputs": [
    {
     "name": "stdout",
     "output_type": "stream",
     "text": [
      "root\n",
      " |-- text_tokens: string (nullable = true)\n",
      " |-- hashtags: string (nullable = true)\n",
      " |-- tweet_id: string (nullable = true)\n",
      " |-- present_media: string (nullable = true)\n",
      " |-- present_links: string (nullable = true)\n",
      " |-- present_domains: string (nullable = true)\n",
      " |-- tweet_type: string (nullable = true)\n",
      " |-- language: string (nullable = true)\n",
      " |-- tweet_timestamp: string (nullable = true)\n",
      " |-- engaged_with_user_id: string (nullable = true)\n",
      " |-- engaged_with_user_follower_count: string (nullable = true)\n",
      " |-- engaged_with_user_following_count: string (nullable = true)\n",
      " |-- engaged_with_user_is_verified: string (nullable = true)\n",
      " |-- engaged_with_user_account_creation: string (nullable = true)\n",
      " |-- engaging_user_id: string (nullable = true)\n",
      " |-- engaging_user_follower_count: string (nullable = true)\n",
      " |-- engaging_user_following_count: string (nullable = true)\n",
      " |-- engaging_user_is_verified: string (nullable = true)\n",
      " |-- engaging_user_account_creation: string (nullable = true)\n",
      " |-- engagee_follows_engager: string (nullable = true)\n",
      " |-- reply_timestamp: string (nullable = true)\n",
      " |-- retweet_timestamp: string (nullable = true)\n",
      " |-- retweet_with_comment_timestamp: string (nullable = true)\n",
      " |-- like_timestamp: string (nullable = true)\n",
      "\n"
     ]
    }
   ],
   "source": [
    "df.printSchema()"
   ]
  },
  {
   "cell_type": "code",
   "execution_count": null,
   "metadata": {},
   "outputs": [],
   "source": []
  },
  {
   "cell_type": "code",
   "execution_count": 74,
   "metadata": {},
   "outputs": [],
   "source": [
    "from pyspark.sql.functions import udf\n",
    "from pyspark.sql.types import ArrayType, IntegerType\n",
    "\n",
    "udf_unbert = udf(lambda text: list(map(int, text.split(\"\\t\"))), ArrayType(IntegerType()))\n",
    "# df.select(\"text_tokens\").map(udf_unbert)\n",
    "text_tokens_unbert = df.withColumn(\"text_tokens\", udf_unbert(\"text_tokens\"))"
   ]
  },
  {
   "cell_type": "code",
   "execution_count": 75,
   "metadata": {},
   "outputs": [
    {
     "data": {
      "text/plain": [
       "[Row(text_tokens=[101, 4378, 4348, 1946, 3192, 1947, 3293, 1946, 3197, 3365, 1946, 2731, 7762, 1912, 4938, 40710, 11312, 4501, 1938, 18825, 27843, 15802, 60421, 21462, 60421, 21462, 14803, 27058, 16923, 1882, 4146, 8224, 6712, 4004, 104386, 56910, 2179, 1912, 4501, 43753, 35272, 11662, 4965, 8335, 3999, 2035, 22396, 111823, 22396, 1882, 2023, 15970, 30263, 13291, 37133, 30884, 111806, 6242, 8782, 28798, 1882, 3388, 4470, 5718, 1943, 7231, 1911, 16838, 91576, 18767, 26164, 18767, 6237, 4097, 100, 102], hashtags=None, tweet_id='3C07C7EDBF91457F165405541CC63B8A', present_media=None, present_links=None, present_domains=None, tweet_type='TopLevel', language='22C448FF81263D4BAF2A176145EE9EAD', tweet_timestamp='1581264609', engaged_with_user_id='90537F3D3B8DBB17922A945ED4FD3B5A', engaged_with_user_follower_count='129', engaged_with_user_following_count='260', engaged_with_user_is_verified='false', engaged_with_user_account_creation='1402980271', engaging_user_id='5BCEFB026703939F22AF56BB6DA55DE7', engaging_user_follower_count='270', engaging_user_following_count='253', engaging_user_is_verified='false', engaging_user_account_creation='1358823496', engagee_follows_engager='true', reply_timestamp=None, retweet_timestamp=None, retweet_with_comment_timestamp=None, like_timestamp=None),\n",
       " Row(text_tokens=[101, 13209, 18121, 12989, 12056, 10119, 14316, 193, 112, 169, 17828, 10119, 92049, 10460, 44928, 10131, 10119, 92049, 13115, 44928, 117, 20795, 10154, 60727, 10246, 13055, 21542, 180, 100, 110055, 172, 112, 10119, 26854, 102], hashtags=None, tweet_id='85F62F7831FC3C991B9BAB2CD9428C08', present_media=None, present_links=None, present_domains=None, tweet_type='TopLevel', language='FA3F382BC409C271E3D6EAF8BE4648DD', tweet_timestamp='1581006153', engaged_with_user_id='5A84A72B16C0045838431343B8F7B014', engaged_with_user_follower_count='41219', engaged_with_user_following_count='97', engaged_with_user_is_verified='false', engaged_with_user_account_creation='1403307740', engaging_user_id='0D06557BA01CA9935E413BC6A2970AE0', engaging_user_follower_count='34', engaging_user_following_count='65', engaging_user_is_verified='false', engaging_user_account_creation='1482702951', engagee_follows_engager='false', reply_timestamp=None, retweet_timestamp=None, retweet_with_comment_timestamp=None, like_timestamp=None),\n",
       " Row(text_tokens=[101, 8544, 1913, 22445, 64126, 15802, 101369, 54643, 111830, 4238, 1974, 7721, 10497, 18628, 28224, 27849, 56910, 1881, 2036, 67221, 55052, 51143, 16838, 90230, 16838, 15802, 18825, 60847, 119539, 119539, 37133, 111795, 30884, 111806, 3339, 100, 14120, 131, 120, 120, 188, 119, 11170, 120, 32221, 10738, 55942, 10240, 10305, 19282, 10174, 10575, 102], hashtags=None, tweet_id='26BB95D5CFEE7A4E47C476FD4D240947', present_media='Photo', present_links=None, present_domains=None, tweet_type='TopLevel', language='22C448FF81263D4BAF2A176145EE9EAD', tweet_timestamp='1581291611', engaged_with_user_id='B1D356C947DF250C9562B2105B7A4679', engaged_with_user_follower_count='347', engaged_with_user_following_count='21', engaged_with_user_is_verified='false', engaged_with_user_account_creation='1476414154', engaging_user_id='E05AFECF10AA778638DC4E3BCFA44861', engaging_user_follower_count='419', engaging_user_following_count='367', engaging_user_is_verified='false', engaging_user_account_creation='1426339513', engagee_follows_engager='true', reply_timestamp=None, retweet_timestamp=None, retweet_with_comment_timestamp=None, like_timestamp=None),\n",
       " Row(text_tokens=[101, 2187, 4348, 1946, 8215, 3388, 100, 119, 1892, 5005, 6455, 2108, 3709, 5005, 1946, 3644, 2037, 85161, 111825, 25071, 18767, 13894, 37133, 18628, 1893, 119, 5005, 1946, 3644, 1931, 111795, 111801, 54334, 29100, 85161, 111825, 25071, 12236, 22445, 100, 100, 14120, 131, 120, 120, 188, 119, 11170, 120, 140, 10874, 14703, 11703, 21069, 10350, 37301, 10174, 102], hashtags=None, tweet_id='6AE32B4AF72731F0212D331FEAA20AEB', present_media='Photo\\tPhoto', present_links=None, present_domains=None, tweet_type='TopLevel', language='22C448FF81263D4BAF2A176145EE9EAD', tweet_timestamp='1581041555', engaged_with_user_id='A36A46A8EA5A1696B4A7774BEA2DDDD8', engaged_with_user_follower_count='2958', engaged_with_user_following_count='364', engaged_with_user_is_verified='false', engaged_with_user_account_creation='1516593252', engaging_user_id='6DBC3D3879651964F6ED493175DD9127', engaging_user_follower_count='119', engaging_user_following_count='492', engaging_user_is_verified='false', engaging_user_account_creation='1428400124', engagee_follows_engager='false', reply_timestamp=None, retweet_timestamp=None, retweet_with_comment_timestamp=None, like_timestamp='1581047800'),\n",
       " Row(text_tokens=[101, 56898, 137, 95731, 11490, 11488, 12355, 131, 137, 10117, 10112, 11259, 11382, 103189, 43958, 169, 12361, 16116, 10111, 40830, 10157, 13935, 84569, 119, 119, 119, 10380, 11005, 72453, 10127, 38036, 10251, 119, 102], hashtags=None, tweet_id='D7A1DCCC960DD56507E72A6733D31987', present_media=None, present_links=None, present_domains=None, tweet_type='Retweet', language='D3164C7FBCF2565DDF915B1B3AEFB1DC', tweet_timestamp='1581208988', engaged_with_user_id='03E5B5C0311A53DBAE3453D7C267BBDC', engaged_with_user_follower_count='883', engaged_with_user_following_count='410', engaged_with_user_is_verified='false', engaged_with_user_account_creation='1569726825', engaging_user_id='87C46AE4672F09023871F0D88E543BC2', engaging_user_follower_count='18', engaging_user_following_count='329', engaging_user_is_verified='false', engaging_user_account_creation='1554844013', engagee_follows_engager='false', reply_timestamp=None, retweet_timestamp=None, retweet_with_comment_timestamp=None, like_timestamp=None)]"
      ]
     },
     "execution_count": 75,
     "metadata": {},
     "output_type": "execute_result"
    }
   ],
   "source": [
    "text_tokens_unbert.head(n=5)"
   ]
  },
  {
   "cell_type": "code",
   "execution_count": 71,
   "metadata": {},
   "outputs": [
    {
     "name": "stdout",
     "output_type": "stream",
     "text": [
      "root\n",
      " |-- text_tokens: array (nullable = true)\n",
      " |    |-- element: integer (containsNull = true)\n",
      " |-- hashtags: string (nullable = true)\n",
      " |-- tweet_id: string (nullable = true)\n",
      " |-- present_media: string (nullable = true)\n",
      " |-- present_links: string (nullable = true)\n",
      " |-- present_domains: string (nullable = true)\n",
      " |-- tweet_type: string (nullable = true)\n",
      " |-- language: string (nullable = true)\n",
      " |-- tweet_timestamp: string (nullable = true)\n",
      " |-- engaged_with_user_id: string (nullable = true)\n",
      " |-- engaged_with_user_follower_count: string (nullable = true)\n",
      " |-- engaged_with_user_following_count: string (nullable = true)\n",
      " |-- engaged_with_user_is_verified: string (nullable = true)\n",
      " |-- engaged_with_user_account_creation: string (nullable = true)\n",
      " |-- engaging_user_id: string (nullable = true)\n",
      " |-- engaging_user_follower_count: string (nullable = true)\n",
      " |-- engaging_user_following_count: string (nullable = true)\n",
      " |-- engaging_user_is_verified: string (nullable = true)\n",
      " |-- engaging_user_account_creation: string (nullable = true)\n",
      " |-- engagee_follows_engager: string (nullable = true)\n",
      " |-- reply_timestamp: string (nullable = true)\n",
      " |-- retweet_timestamp: string (nullable = true)\n",
      " |-- retweet_with_comment_timestamp: string (nullable = true)\n",
      " |-- like_timestamp: string (nullable = true)\n",
      "\n"
     ]
    }
   ],
   "source": [
    "text_tokens_unbert.printSchema()"
   ]
  },
  {
   "cell_type": "code",
   "execution_count": null,
   "metadata": {},
   "outputs": [],
   "source": []
  }
 ],
 "metadata": {
  "kernelspec": {
   "display_name": "Python 3",
   "language": "python",
   "name": "python3"
  },
  "language_info": {
   "codemirror_mode": {
    "name": "ipython",
    "version": 3
   },
   "file_extension": ".py",
   "mimetype": "text/x-python",
   "name": "python",
   "nbconvert_exporter": "python",
   "pygments_lexer": "ipython3",
   "version": "3.7.6"
  }
 },
 "nbformat": 4,
 "nbformat_minor": 4
}
