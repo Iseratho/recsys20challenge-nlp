{
  "metadata" : {
    "config" : {
      "dependencies" : {
        "scala" : [
          "com.johnsnowlabs.nlp:spark-nlp_2.11:2.5.0"
        ]
      },
      "exclusions" : [
      ],
      "repositories" : [
      ],
      "sparkConfig" : {
        "spark.memory.offHeap.enabled" : "true",
        "spark.driver.memory" : "12g",
        "spark.memory.offHeap.size" : "32g",
        "spark.master" : "local[*]",
        "spark.executor.memory" : "2g"
      },
      "env" : {
        
      }
    },
    "language_info" : {
      "name" : "scala"
    }
  },
  "nbformat" : 4,
  "nbformat_minor" : 0,
  "cells" : [
    {
      "cell_type" : "markdown",
      "execution_count" : 0,
      "metadata" : {
        "language" : "text"
      },
      "language" : "text",
      "source" : [
        "# NLP RECSYS analysis<br>\n",
        "\n",
        "\n"
      ],
      "outputs" : [
      ]
    },
    {
      "cell_type" : "code",
      "execution_count" : 1,
      "metadata" : {
        "cell.metadata.exec_info" : {
          "startTs" : 1592945902943,
          "endTs" : 1592945903057
        },
        "language" : "scala"
      },
      "language" : "scala",
      "source" : [
        "import com.johnsnowlabs.nlp.SparkNLP\n",
        "import com.johnsnowlabs.nlp.annotator._\n",
        "import com.johnsnowlabs.nlp.base._\n",
        "import com.johnsnowlabs.ml.tensorflow.TensorflowBert\n",
        "import org.apache.spark.ml.Pipeline\n",
        "import org.apache.spark.sql.types._\n",
        "import org.apache.spark.sql.SaveMode\n",
        "import org.apache.spark.sql.functions._\n",
        "import org.apache.spark.storage.StorageLevel\n",
        "\n",
        "val dataDir = sys.env(\"HOME\") + \"/recsys2020\""
      ],
      "outputs" : [
      ]
    },
    {
      "cell_type" : "code",
      "execution_count" : 2,
      "metadata" : {
        "cell.metadata.exec_info" : {
          "startTs" : 1592945419913,
          "endTs" : 1592945421587
        },
        "language" : "scala"
      },
      "language" : "scala",
      "source" : [
        "val schema = new StructType()\n",
        "    .add(\"text_tokens\", StringType, true)\n",
        "    .add(\"hashtags\", StringType, true)\n",
        "    .add(\"tweet_id\", StringType, true)\n",
        "    .add(\"present_media\", StringType, true)\n",
        "    .add(\"present_links\", StringType, true)\n",
        "    .add(\"present_domains\", StringType, true)\n",
        "    .add(\"tweet_type\", StringType, true)\n",
        "    .add(\"language\", StringType, true)\n",
        "    .add(\"tweet_timestamp\", IntegerType, true)\n",
        "    .add(\"engaged_with_user_id\", StringType, true)\n",
        "    .add(\"engaged_with_user_follower_count\", IntegerType, true)\n",
        "    .add(\"engaged_with_user_following_count\", IntegerType, true)\n",
        "    .add(\"engaged_with_user_is_verified\", BooleanType, true)\n",
        "    .add(\"engaged_with_user_account_creation\", IntegerType, true)\n",
        "    .add(\"engaging_user_id\", StringType, true)\n",
        "    .add(\"engaging_user_follower_count\", IntegerType, true)\n",
        "    .add(\"engaging_user_following_count\", IntegerType, true)\n",
        "    .add(\"engaging_user_is_verified\", BooleanType, true)\n",
        "    .add(\"engaging_user_account_creation\", IntegerType, true)\n",
        "    .add(\"engagee_follows_engager\", BooleanType, true)\n",
        "    .add(\"reply_timestamp\", IntegerType, true)\n",
        "    .add(\"retweet_timestamp\", IntegerType, true)\n",
        "    .add(\"retweet_with_comment_timestamp\", IntegerType, true)\n",
        "    .add(\"like_timestamp\", IntegerType, true)\n",
        "\n",
        "val df = spark.read.format(\"csv\")\n",
        "        .option(\"delimiter\", \"\\u0001\")\n",
        "        .schema(schema)\n",
        "        .load(dataDir + \"/val.tsv\")"
      ],
      "outputs" : [
      ]
    },
    {
      "cell_type" : "code",
      "execution_count" : 3,
      "metadata" : {
        "cell.metadata.exec_info" : {
          "startTs" : 1592945917760,
          "endTs" : 1592945961169
        },
        "language" : "scala"
      },
      "language" : "scala",
      "source" : [
        "// Language distribution\n",
        "val rows = df.count()\n",
        "val res = df.select(\"language\").groupBy(\"language\").agg(count(\"*\").alias(\"cnt\")).withColumn(\"cnt\", col(\"cnt\").divide(rows)).orderBy(desc(\"cnt\"))\n",
        "val sumPercent = res.agg(sum(\"cnt\")).first.get(0)\n",
        "\n",
        "res.show(1000, false)\n",
        "sumPercent"
      ],
      "outputs" : [
        {
          "name" : "stdout",
          "text" : [
            "+--------------------------------+---------------------+\n",
            "|language                        |cnt                  |\n",
            "+--------------------------------+---------------------+\n",
            "|D3164C7FBCF2565DDF915B1B3AEFB1DC|0.43447980391345364  |\n",
            "|22C448FF81263D4BAF2A176145EE9EAD|0.15602849009586697  |\n",
            "|06D61DCBBE938971E1EA0C38BD9B5446|0.08845777233092927  |\n",
            "|ECED8A16BE2A5E8871FD55F4842F16B1|0.0704333397805851   |\n",
            "|B9175601E87101A984A50F8A62A1C374|0.05070714245695474  |\n",
            "|4DC22C3F31C5C43721E6B5815A595ED6|0.030931816511777777 |\n",
            "|167115458A0DBDFF7E9C0C53A83BAC9B|0.0280888318677801   |\n",
            "|022EC308651FACB02794A8147AEE1B78|0.021799946000747205 |\n",
            "|125C57F4FA6D4E110983FB11B52EFD4E|0.020493532899706384 |\n",
            "|FA3F382BC409C271E3D6EAF8BE4648DD|0.02047157282818412  |\n",
            "|9BF3403E0EB7EA8A256DA9019C0B0716|0.01612917983919034  |\n",
            "|975B38F44D65EE42A547283787FF5A21|0.009035724813276046 |\n",
            "|2996EB2FE8162C076D070A4C8D6532CD|0.007845869014930314 |\n",
            "|FF60A88F53E63000266F8B9149E35AD9|0.005542947283722153 |\n",
            "|717293301FE296B0B61950D041485825|0.005440537334796212 |\n",
            "|3820C29CBCA409A33BADF68852057C4A|0.0050905838873324455|\n",
            "|3E16B11B7ADE3A22DDFC4423FBCEAD5D|0.005043989120192258 |\n",
            "|9ECD42BC079C20F156F53CB3B99E600E|0.002567850286367779 |\n",
            "|76B8A9C3013AE6414A3E6012413CDC3B|0.0024329929240708005|\n",
            "|AEF22666801F0A5846D853B9CEB2E327|0.00223197380782854  |\n",
            "|190BA7DA361BC06BC1D7E824C378064D|0.0019985776630598658|\n",
            "|1FFD2FE4297F5E70EBC6C3230D95CB9C|0.0019463521083498668|\n",
            "|D413F5FE5236E5650A46FD983AB39212|0.0012753733845622386|\n",
            "|A0C7021AD8299ADF0C9EBE326C115F6F|0.0012710799090402576|\n",
            "|48236EC80FDDDFADE99420ABC9210DDF|0.001134322155938468 |\n",
            "|691890251F2B9FF922BE6D3699ABEFD2|9.008556263251706E-4 |\n",
            "|920502FAA080485768AA89BC96A55C47|7.349585475496079E-4 |\n",
            "|0331BF70E606D62D92C96CE9AD71A7CF|6.935018740668729E-4 |\n",
            "|89616CFF8EC8637092F885C7EFF43D74|6.495817310223455E-4 |\n",
            "|06BEAB41D66CCFF329D1ED8BA120A6C2|6.438805586079117E-4 |\n",
            "|60FBA0E834CC59D647C3599AD763FFDF|5.259859438649895E-4 |\n",
            "|C7A400D9AD489ACF673CF12FBB80AAE5|4.7523847089206596E-4|\n",
            "|E59EF8BB86A6D815331DDF4C467CE0C7|4.158336620305577E-4 |\n",
            "|4249CE88433AEA3F8DCEECF008B3CB95|3.8838357262772807E-4|\n",
            "|544FA32458C903F1125FE6598300A047|3.790927731375396E-4 |\n",
            "|CB11E9CF42BD0A1BAD5E27BF3422D99D|3.4833459603744586E-4|\n",
            "|3A85BCEC571C3F5AB1069E4924189177|2.8456592680933395E-4|\n",
            "|E7BB61D2A87C1E72DF1C7BC292B86A1C|2.652100945381079E-4 |\n",
            "|FF7EABB5A382356D54D9C41BA0125E09|2.4402425630669323E-4|\n",
            "|69C4A33B9AD29AF883D60BA61CC08702|2.418423261233914E-4 |\n",
            "|F4FD40A716F1572C9A28E9CAA58BE3A5|2.1565916392376927E-4|\n",
            "|6431A618DCF7F4CB7F62A95A39BAB77A|1.9911872543744885E-4|\n",
            "|259A6F6DFD672CB1F883CBEC01B99F2D|1.9517717413858102E-4|\n",
            "|3121F7240D488F74EEED9312E174B217|1.9116523799509052E-4|\n",
            "|54208B51D44E7D91DC2F3DD02ADEDEC2|1.6955709069594E-4   |\n",
            "|DBEEFB80F8A314311E2B4BD593E11DFE|1.6441899703848728E-4|\n",
            "|B6D90127A09AB1229731898AEF9D4D7C|1.4379623756405373E-4|\n",
            "|F3E1016563360F9434FA986CA86C249C|1.3710967732490293E-4|\n",
            "|2216D01F7B48554E4211021A46816FCF|1.1796499958754481E-4|\n",
            "|1BC639981AE88E09129594B11F894A21|9.044452534009253E-5 |\n",
            "|C942E369C88CE7C56E69A84D04319FF0|5.8419421036791285E-5|\n",
            "|57ADD4576E2AD6648E9B2DE32F3462A5|5.2718248622357435E-5|\n",
            "|AC1F0671A4B0D5B8112F87DE7B490E6D|4.659476714018775E-5 |\n",
            "|C2EF5FABE7619D8A333D5F0FF76E1BFA|3.8641279697829416E-5|\n",
            "|AA0254541959271ED3453119B787D0C3|3.0265483187735244E-5|\n",
            "|A6B70CDF8C7B934D4A218CA9B6B7FDB4|1.914467773735811E-5 |\n",
            "|BF477808A37E3E4E9C5D9F1839E8519E|1.2739656876697858E-5|\n",
            "|97F81BD92A1ACA3F1F43C154E689350F|1.2035808430471457E-5|\n",
            "|60A3DB168094D41241E45E0DE3539BC0|1.0980035761131855E-5|\n",
            "|12D8CEB94F89D11D7EB95EAE9689B009|8.023872286980971E-6 |\n",
            "|F73266A79468BB89C4325FDEDB0B533C|5.701172414433848E-6 |\n",
            "|4690215948DBF6872B8ED1C2BC87B17E|5.138093657452727E-6 |\n",
            "|D18801336202297E6484F634CAC6592E|3.8007816096225656E-6|\n",
            "|B2235C8B73239FDC5780DD132419833A|2.1115453386792032E-7|\n",
            "|2E18F6F53E3CF073911AF0A93BBE5373|2.1115453386792032E-7|\n",
            "|515E873C86EE1577E75FA2387B7FA59E|7.03848446226401E-8  |\n",
            "+--------------------------------+---------------------+\n",
            "\n"
          ],
          "output_type" : "stream"
        },
        {
          "execution_count" : 3,
          "data" : {
            "text/plain" : [
              "0.9999999999999998"
            ]
          },
          "metadata" : {
            "name" : "Out",
            "type" : "Any"
          },
          "output_type" : "execute_result"
        }
      ]
    },
    {
      "cell_type" : "code",
      "execution_count" : 5,
      "metadata" : {
        "cell.metadata.exec_info" : {
          "startTs" : 1591804854955,
          "endTs" : 1591804855411
        },
        "language" : "scala"
      },
      "language" : "scala",
      "source" : [
        "val hist = num_tweets_reacted_with_by_user.groupBy(\"num_tweets\").count().persist(StorageLevel.MEMORY_ONLY)\n",
        "hist"
      ],
      "outputs" : [
      ]
    },
    {
      "cell_type" : "code",
      "execution_count" : 6,
      "metadata" : {
        "cell.metadata.exec_info" : {
          "startTs" : 1591804855419,
          "endTs" : 1591804855564
        },
        "language" : "scala"
      },
      "language" : "scala",
      "source" : [
        "hist"
      ],
      "outputs" : [
        {
          "execution_count" : 6,
          "data" : {
            "text/plain" : [
              "[num_tweets: bigint, count: bigint]"
            ]
          },
          "metadata" : {
            "name" : "Out",
            "type" : "Dataset[Row]"
          },
          "output_type" : "execute_result"
        }
      ]
    }
  ]
}