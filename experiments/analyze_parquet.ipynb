{
  "metadata" : {
    "config" : {
      "dependencies" : {
        "scala" : [
          "com.johnsnowlabs.nlp:spark-nlp_2.11:2.5.0"
        ]
      },
      "exclusions" : [
      ],
      "repositories" : [
      ],
      "sparkConfig" : {
        "spark.memory.offHeap.enabled" : "true",
        "spark.driver.memory" : "12g",
        "spark.memory.offHeap.size" : "32g",
        "spark.master" : "local[*]",
        "spark.executor.memory" : "2g"
      },
      "env" : {
        
      }
    },
    "language_info" : {
      "name" : "scala"
    }
  },
  "nbformat" : 4,
  "nbformat_minor" : 0,
  "cells" : [
    {
      "cell_type" : "markdown",
      "execution_count" : 0,
      "metadata" : {
        "language" : "text"
      },
      "language" : "text",
      "source" : [
        "# NLP RECSYS Analyze the Dataset\n",
        "\n",
        "\n"
      ],
      "outputs" : [
      ]
    },
    {
      "cell_type" : "code",
      "execution_count" : 1,
      "metadata" : {
        "cell.metadata.exec_info" : {
          "startTs" : 1592944993465,
          "endTs" : 1592944994248
        },
        "language" : "scala"
      },
      "language" : "scala",
      "source" : [
        "import com.johnsnowlabs.nlp.SparkNLP\n",
        "import com.johnsnowlabs.nlp.annotator._\n",
        "import com.johnsnowlabs.nlp.base._\n",
        "import com.johnsnowlabs.ml.tensorflow.TensorflowBert\n",
        "import org.apache.spark.ml.Pipeline\n",
        "import org.apache.spark.sql.types._\n",
        "import org.apache.spark.sql.SaveMode\n",
        "import org.apache.spark.sql.functions.{udf,to_timestamp}\n",
        "import org.apache.spark.ml.feature.QuantileDiscretizer\n",
        "\n",
        "val dataDir = sys.env(\"HOME\") + \"/recsys2020\""
      ],
      "outputs" : [
      ]
    },
    {
      "cell_type" : "code",
      "execution_count" : 2,
      "metadata" : {
        "cell.metadata.exec_info" : {
          "startTs" : 1592944995357,
          "endTs" : 1592945021762
        },
        "language" : "scala"
      },
      "language" : "scala",
      "source" : [
        "val df = spark.read.parquet(dataDir + \"/training1m.parquet\")"
      ],
      "outputs" : [
      ]
    },
    {
      "cell_type" : "code",
      "execution_count" : 3,
      "metadata" : {
        "cell.metadata.exec_info" : {
          "startTs" : 1592945104440,
          "endTs" : 1592945104683
        },
        "language" : "scala"
      },
      "language" : "scala",
      "source" : [
        "df.select(\"language\")"
      ],
      "outputs" : [
        {
          "ename" : "org.apache.spark.sql.AnalysisException",
          "evalue" : "cannot resolve '`language`' given input columns: [user_following_count, has_retweet_with_comment, follows, present_domains, num_hashtags, tweet_type, hashtags, user_follower_count, user_is_verified, num_domains, author_follower_count, has_like, num_links, has_reply, present_media, tweet_id, user_id, num_media, tokens, has_retweet, tweet_timestamp, author_following_count, author_is_verified];;\n'Project ['language]\n+- Relation[user_id#0,tweet_id#1,tweet_type#2,tokens#3,author_follower_count#4,author_following_count#5,author_is_verified#6,user_follower_count#7,user_following_count#8,user_is_verified#9,follows#10,num_hashtags#11,num_media#12,num_links#13,num_domains#14,tweet_timestamp#15,hashtags#16,present_media#17,present_domains#18,has_retweet#19,has_retweet_with_comment#20,has_like#21,has_reply#22] parquet\n",
          "traceback" : [
          ],
          "output_type" : "error"
        }
      ]
    },
    {
      "cell_type" : "code",
      "execution_count" : 4,
      "metadata" : {
        "cell.metadata.exec_info" : {
          "startTs" : 1591995875281,
          "endTs" : 1591995875595
        },
        "language" : "scala"
      },
      "language" : "scala",
      "source" : [
        "df.describe(\"reply_timestamp\", \"retweet_timestamp\", \"retweet_with_comment_timestamp\", \"like_timestamp\").show()"
      ],
      "outputs" : [
        {
          "ename" : "org.apache.spark.sql.AnalysisException",
          "evalue" : "cannot resolve '`reply_timestamp`' given input columns: [present_domains, user_following_count, follows, sentence, has_reply, hashtags, tweet_type, user_is_verified, user_follower_count, author_follower_count, has_retweet_with_comment, has_like, tweet_timestamp, tweet_id, user_id, has_retweet, author_is_verified, present_media, author_following_count];;\n'Project ['reply_timestamp, 'retweet_timestamp, 'retweet_with_comment_timestamp, 'like_timestamp]\n+- Relation[user_id#0,tweet_id#1,tweet_type#2,sentence#3,author_follower_count#4,author_following_count#5,author_is_verified#6,user_follower_count#7,user_following_count#8,user_is_verified#9,follows#10,tweet_timestamp#11,hashtags#12,present_media#13,present_domains#14,has_retweet#15,has_retweet_with_comment#16,has_like#17,has_reply#18] parquet\n",
          "traceback" : [
          ],
          "output_type" : "error"
        }
      ]
    },
    {
      "cell_type" : "code",
      "execution_count" : 5,
      "metadata" : {
        "cell.metadata.exec_info" : {
          "startTs" : 1591978888699,
          "endTs" : 1591978889720
        },
        "language" : "scala"
      },
      "language" : "scala",
      "source" : [
        "val udf_has_engagement = udf[Integer, Integer](x => if (x != null) 1 else 0)\n",
        "val udf_bool_to_int = udf[Integer, Boolean](x => if (x) 1 else 0)\n",
        "\n",
        "df.withColumn(\"follows\", udf_bool_to_int('engagee_follows_engager)).show()\n",
        "// df.withColumn(\"has_like\", udf_has_engagement('like_timestamp)).show()\n",
        "// df.withColumn(\"has_reply\", udf_has_engagement('reply_timestamp)).show()"
      ],
      "outputs" : [
        {
          "name" : "stdout",
          "text" : [
            "+-----------------------+--------------------+--------------------+-------------+-------------+---------------+----------+--------------------+---------------+--------------------+--------------------------------+---------------------------------+-----------------------------+----------------------------------+--------------------+----------------------------+-----------------------------+-------------------------+------------------------------+-----------------------+---------------+-----------------+------------------------------+--------------+-------+\n",
            "|            text_tokens|            hashtags|            tweet_id|present_media|present_links|present_domains|tweet_type|            language|tweet_timestamp|engaged_with_user_id|engaged_with_user_follower_count|engaged_with_user_following_count|engaged_with_user_is_verified|engaged_with_user_account_creation|    engaging_user_id|engaging_user_follower_count|engaging_user_following_count|engaging_user_is_verified|engaging_user_account_creation|engagee_follows_engager|reply_timestamp|retweet_timestamp|retweet_with_comment_timestamp|like_timestamp|follows|\n",
            "+-----------------------+--------------------+--------------------+-------------+-------------+---------------+----------+--------------------+---------------+--------------------+--------------------------------+---------------------------------+-----------------------------+----------------------------------+--------------------+----------------------------+-----------------------------+-------------------------+------------------------------+-----------------------+---------------+-----------------+------------------------------+--------------+-------+\n",
            "|   [[CLS], RT, @, F,...|                null|FB6304C97F6CC05AF...|         null|         null|           null|   Retweet|06D61DCBBE938971E...|     1581420802|42276CF9E61425149...|                             610|                              215|                        false|                        1281271512|D0EA9DDFE93EDA782...|                         841|                          270|                    false|                    1362976270|                  false|           null|             null|                          null|    1581428582|      0|\n",
            "|[[CLS], ハ, ##リー, ...|                null|8A025814338D4CAB5...|      [Photo]|         null|           null|  TopLevel|22C448FF81263D4BA...|     1581068602|BBFFE5B6A6219F927...|                            1729|                             1883|                        false|                        1483020686|5CD17BD84873464C2...|                         272|                          287|                    false|                    1549325692|                   true|           null|             null|                          null|          null|      1|\n",
            "|   [[CLS], RT, @, t,...|                null|8E8EC11B9492B6C09...|      [Video]|         null|           null|   Retweet|22C448FF81263D4BA...|     1581220067|9AA04575DCEF4DE73...|                            3853|                              770|                        false|                        1481929342|6B8C5EFC300170EF8...|                         319|                         1472|                    false|                    1493997347|                   true|           null|             null|                          null|          null|      1|\n",
            "|   [[CLS], Wo, ##w, ...|                null|D59F5C535C7C892D7...|         null|         null|           null|     Quote|FA3F382BC409C271E...|     1581516233|C5C5FF643918F0167...|                           43540|                              858|                        false|                        1374386478|2F5D9BFEBEB24F290...|                          15|                           77|                    false|                    1495107290|                  false|           null|             null|                          null|          null|      0|\n",
            "|   [[CLS], ba, ##e, ...|                null|7D6700DA02116E216...|      [Video]|         null|           null|  TopLevel|9BF3403E0EB7EA8A2...|     1581243426|56AA6C7CF67B898C7...|                            7704|                              257|                        false|                        1308584877|073770D7360B4F399...|                         627|                          752|                    false|                    1561877283|                  false|           null|             null|                          null|    1581243577|      0|\n",
            "|   [[CLS], Gale, ##r...|[9F52BB2117FB572F...|E5A3EC400A664F07A...|      [Video]|         null|           null|  TopLevel|ECED8A16BE2A5E887...|     1581346546|F359DD5F8CD291EA2...|                          171634|                             1531|                        false|                        1238887863|131815196691D79E6...|                          30|                           85|                    false|                    1527273431|                  false|           null|       1581350591|                          null|    1581350591|      0|\n",
            "|   [[CLS], If, only,...|[0926C2CC69AFB76E...|CB64C7FCF54EFA087...|      [Video]|         null|           null|  TopLevel|D3164C7FBCF2565DD...|     1581458044|48B28EBFA0E2E9CE4...|                         1159427|                              329|                         true|                        1420803895|A428C660D9B2836A5...|                         225|                          390|                    false|                    1533319533|                  false|           null|             null|                          null|          null|      0|\n",
            "|   [[CLS], More, clo...|[9AB85753943568C4...|56F2DECBE23F80BC6...|      [Video]|         null|           null|  TopLevel|D3164C7FBCF2565DD...|     1580990518|6318D2396E02B0ED9...|                           41414|                              149|                         true|                        1233928551|09D5EE66D2D3DED2F...|                          39|                          513|                    false|                    1497403501|                  false|           null|             null|                          null|          null|      0|\n",
            "| [[CLS], た, ##ぶ, #...|                null|D52193C9683532137...|         null|         null|           null|  TopLevel|22C448FF81263D4BA...|     1581260655|017E5A50394C180C7...|                             262|                              183|                        false|                        1529324663|72687F8AAA94CE60D...|                          70|                          117|                    false|                    1505124348|                   true|           null|             null|                          null|          null|      1|\n",
            "|   [[CLS], RT, @, ag...|                null|C801AB5F48C7B7ADE...|         null|         null|           null|   Retweet|06D61DCBBE938971E...|     1581114445|E17B6CD3B8FA1F876...|                            2127|                              737|                        false|                        1429569490|7B7436B9BC41DB552...|                        1860|                          651|                    false|                    1394591009|                   true|           null|             null|                          null|          null|      1|\n",
            "|   [[CLS], Te, corta...|                null|1C7A70F249B9E6083...|         null|         null|           null|  TopLevel|06D61DCBBE938971E...|     1581339422|667B8264689B33C4E...|                        19650282|                             2358|                         true|                        1242062495|DC208675234315A18...|                          15|                          238|                    false|                    1526866804|                  false|           null|             null|                          null|          null|      0|\n",
            "|   [[CLS], RT, @, Im...|                null|3E3C4C133094A20A2...|      [Photo]|         null|           null|   Retweet|06D61DCBBE938971E...|     1581455013|C262FD51D9EBD75B2...|                             344|                              627|                        false|                        1396014968|231EF63050C2835BD...|                          52|                          109|                    false|                    1464678224|                   true|           null|             null|                          null|    1581464591|      1|\n",
            "|   [[CLS], Oh, my, [...|                null|36EA7F9D7052C540A...|         null|         null|           null|     Quote|D3164C7FBCF2565DD...|     1581390583|B37A57748B1282FCB...|                             401|                             1231|                        false|                        1468271632|5E9F1CA08E3405C89...|                          41|                           16|                    false|                    1261589344|                   true|           null|             null|                          null|          null|      1|\n",
            "|   [[CLS], RI, ##P, ...|                null|A8B22B7662AB9F86A...|         null|         null|           null|  TopLevel|48236EC80FDDDFADE...|     1581105303|A164FFF71F170132E...|                         1329454|                              652|                         true|                        1214454588|D19877D507639A988...|                          30|                          732|                    false|                    1377681047|                  false|           null|             null|                          null|    1581105603|      0|\n",
            "|   [[CLS], [, #, ST,...|[649E875EAF03D058...|478C06E2B0148F808...|      [Photo]|         null|           null|  TopLevel|D3164C7FBCF2565DD...|     1581378404|B35BF7E7BCE680A46...|                             236|                               45|                        false|                        1572948128|87E555A6E65962920...|                        2620|                          630|                    false|                    1504478627|                   true|           null|       1581409813|                          null|          null|      1|\n",
            "|   [[CLS], RT, @, Te...|[FB5A802DF7D5F254...|6D7A346F142C22FBA...|         null|         null|           null|   Retweet|D3164C7FBCF2565DD...|     1581097711|D524FD041C3996873...|                           15772|                              449|                        false|                        1498319980|B159B899A0756E8A5...|                         212|                           55|                    false|                    1544648379|                  false|           null|             null|                          null|    1581098072|      0|\n",
            "| [[CLS], 마, ##피, #...|                null|FCEBA305125450DA3...|      [Photo]|         null|           null|  TopLevel|125C57F4FA6D4E110...|     1581465570|82F3EE60564D488DC...|                             314|                               89|                        false|                        1522167897|118959453B6025307...|                         608|                          158|                    false|                    1544090007|                   true|           null|             null|                          null|          null|      1|\n",
            "|   [[CLS], RT, @, da...|                null|0F513DC063E902BFC...|         null|         null|           null|   Retweet|D3164C7FBCF2565DD...|     1581341529|F5D6F03C926080466...|                         1057925|                              991|                         true|                        1209894322|E2FF894A4228C37B7...|                         588|                         2134|                    false|                    1294799995|                  false|           null|             null|                          null|          null|      0|\n",
            "|   [[CLS], Ten, ##go...|                null|98C4564664C6BF882...|         null|         null|           null|  TopLevel|06D61DCBBE938971E...|     1581127488|D5A679AE3221E4699...|                           43888|                            10535|                        false|                        1280940772|CD66CFE5540A02880...|                          67|                          627|                    false|                    1506834385|                  false|           null|             null|                          null|          null|      0|\n",
            "| [[CLS], コ, ##ロ, #...|                null|09BD59FE47907DEC0...|         null|         null|           null|  TopLevel|22C448FF81263D4BA...|     1581294005|AE8044829D3915B70...|                            3379|                              168|                        false|                        1511610163|86CBCDA0E3C9393C6...|                         323|                          913|                    false|                    1328161992|                  false|           null|             null|                          null|    1581343412|      0|\n",
            "+-----------------------+--------------------+--------------------+-------------+-------------+---------------+----------+--------------------+---------------+--------------------+--------------------------------+---------------------------------+-----------------------------+----------------------------------+--------------------+----------------------------+-----------------------------+-------------------------+------------------------------+-----------------------+---------------+-----------------+------------------------------+--------------+-------+\n",
            "only showing top 20 rows\n",
            "\n"
          ],
          "output_type" : "stream"
        }
      ]
    },
    {
      "cell_type" : "code",
      "execution_count" : 6,
      "metadata" : {
        "cell.metadata.exec_info" : {
          "startTs" : 1591802346996,
          "endTs" : 1591802347118
        },
        "language" : "scala"
      },
      "language" : "scala",
      "source" : [
        "df"
      ],
      "outputs" : [
        {
          "execution_count" : 6,
          "data" : {
            "text/plain" : [
              "[text_tokens: array<string>, hashtags: array<string> ... 22 more fields]"
            ]
          },
          "metadata" : {
            "name" : "Out",
            "type" : "DataFrame"
          },
          "output_type" : "execute_result"
        }
      ]
    },
    {
      "cell_type" : "code",
      "execution_count" : 7,
      "metadata" : {
        "cell.metadata.exec_info" : {
          "startTs" : 1591802347122,
          "endTs" : 1591802348719
        },
        "language" : "scala"
      },
      "language" : "scala",
      "source" : [
        "// Calculate average number of interactions\n",
        "val int_counts = df.groupBy(\"engaging_user_id\").count()\n",
        "int_counts.agg(avg(\"count\")).show()"
      ],
      "outputs" : [
        {
          "name" : "stdout",
          "text" : [
            "+------------------+\n",
            "|        avg(count)|\n",
            "+------------------+\n",
            "|1.0337498656125175|\n",
            "+------------------+\n",
            "\n"
          ],
          "output_type" : "stream"
        }
      ]
    },
    {
      "cell_type" : "code",
      "execution_count" : 8,
      "metadata" : {
        "cell.metadata.exec_info" : {
          "startTs" : 1591802348723,
          "endTs" : 1591802348846
        },
        "language" : "scala"
      },
      "language" : "scala",
      "source" : [
        "int_counts"
      ],
      "outputs" : [
        {
          "execution_count" : 8,
          "data" : {
            "text/plain" : [
              "[engaging_user_id: string, count: bigint]"
            ]
          },
          "metadata" : {
            "name" : "Out",
            "type" : "DataFrame"
          },
          "output_type" : "execute_result"
        }
      ]
    },
    {
      "cell_type" : "code",
      "execution_count" : 9,
      "metadata" : {
        "cell.metadata.exec_info" : {
          "startTs" : 1591802348848,
          "endTs" : 1591802351865
        },
        "language" : "scala"
      },
      "language" : "scala",
      "source" : [
        "val discretizer = new QuantileDiscretizer()\n",
        "  .setInputCol(\"count\")\n",
        "  .setOutputCol(\"hist\")\n",
        "  .setNumBuckets(5)\n",
        "\n",
        "var result = discretizer.fit(int_counts).transform(int_counts)\n",
        "result = result.withColumn(\"hist\", col(\"hist\").cast(IntegerType))\n",
        "result.show(false)"
      ],
      "outputs" : [
        {
          "name" : "stdout",
          "text" : [
            "+--------------------------------+-----+----+\n",
            "|engaging_user_id                |count|hist|\n",
            "+--------------------------------+-----+----+\n",
            "|8E7635BA67D7D363604AAEF78869CF8A|1    |1   |\n",
            "|AEC33191EEF88AE87172D35FD6B7DEB8|1    |1   |\n",
            "|384773E169D00767CDBD36D8929CED75|1    |1   |\n",
            "|A473AB8FAD982872C89742D724D4F6AB|1    |1   |\n",
            "|D8ABFB24737488D0F30916871DC02E61|1    |1   |\n",
            "|C328B8FF5225AF35AD213B586E3D10A6|1    |1   |\n",
            "|D02ED9169AF2AF79BFAB2D04CA4AEE08|1    |1   |\n",
            "|ADEB7FAB341E95C391F1394C496EF9ED|1    |1   |\n",
            "|C0ACF8893A2F46D0259C7E6881D381A0|2    |1   |\n",
            "|CA041E9EF58477D4B097BBF67E3411FD|1    |1   |\n",
            "|EB123E68BC54C6B96D9BB27E5FF53D98|3    |1   |\n",
            "|1C7DBF99B5F82B65B28155128DB40470|1    |1   |\n",
            "|0413B272EEE0B987C2E23A31CA5AA110|1    |1   |\n",
            "|89FE00F0BC717421923581681950A087|1    |1   |\n",
            "|5A9714AC339C63AE0FC09E4FA00725AD|1    |1   |\n",
            "|41EDFE146E65938905B80FFD312AD06F|1    |1   |\n",
            "|536EC4034D544A6A17FD804D416FE4F0|1    |1   |\n",
            "|1B1C8F849A91786F8E5DF69821F99980|1    |1   |\n",
            "|3DF4EDB10EF6A5E01A2DB10A4EB55598|1    |1   |\n",
            "|988764002B9D783D91EBFE053718CD43|1    |1   |\n",
            "+--------------------------------+-----+----+\n",
            "only showing top 20 rows\n",
            "\n"
          ],
          "output_type" : "stream"
        }
      ]
    },
    {
      "cell_type" : "code",
      "execution_count" : 10,
      "metadata" : {
        "cell.metadata.exec_info" : {
          "startTs" : 1591802351869,
          "endTs" : 1591802352026
        },
        "language" : "scala"
      },
      "language" : "scala",
      "source" : [
        "int_counts.groupBy(\"count\").agg(count(\"count\") as \"countcount\")"
      ],
      "outputs" : [
        {
          "execution_count" : 10,
          "data" : {
            "text/plain" : [
              "[count: bigint, countcount: bigint]"
            ]
          },
          "metadata" : {
            "name" : "Out",
            "type" : "DataFrame"
          },
          "output_type" : "execute_result"
        }
      ]
    },
    {
      "cell_type" : "code",
      "execution_count" : 11,
      "metadata" : {
        "cell.metadata.exec_info" : {
          "startTs" : 1591802352028,
          "endTs" : 1591802352405
        },
        "language" : "scala"
      },
      "language" : "scala",
      "source" : [
        "int_counts.select(int_counts(\"count\").cast(DoubleType)).rdd.map(x => x)"
      ],
      "outputs" : [
        {
          "execution_count" : 11,
          "data" : {
            "text/plain" : [
              "MapPartitionsRDD[500] at map at Cell10:1"
            ]
          },
          "metadata" : {
            "name" : "Out",
            "type" : "RDD[Row]"
          },
          "output_type" : "execute_result"
        }
      ]
    },
    {
      "cell_type" : "code",
      "execution_count" : 12,
      "metadata" : {
        "cell.metadata.exec_info" : {
          "startTs" : 1591802352408,
          "endTs" : 1591802353640
        },
        "language" : "scala"
      },
      "language" : "scala",
      "source" : [
        "val hist = int_counts.selectExpr(\"histogram_numeric(count, 50)\")\n",
        "hist.show(false)\n",
        "hist.toDF()"
      ],
      "outputs" : [
        {
          "name" : "stdout",
          "text" : [
            "+---------------------------------------------------------------------------------------------------------------------------------------------------------------------------------------------------------------------------------------------------------------------------------------------------------------------------------------------------------------------------------------------------------------------------------------------------------------------------------------------------------------------------------------------------------------------------------------------------------------------------------------------------------------------------------------------------------------------------------------------------------------------------------------------------+\n",
            "|histogram_numeric( count, 50)                                                                                                                                                                                                                                                                                                                                                                                                                                                                                                                                                                                                                                                                                                                                                                      |\n",
            "+---------------------------------------------------------------------------------------------------------------------------------------------------------------------------------------------------------------------------------------------------------------------------------------------------------------------------------------------------------------------------------------------------------------------------------------------------------------------------------------------------------------------------------------------------------------------------------------------------------------------------------------------------------------------------------------------------------------------------------------------------------------------------------------------------+\n",
            "|[[0.9999999999999998, 60965.0], [1.0, 702758.0], [1.0, 121616.0], [1.0, 18638.0], [1.0, 4723.0], [1.0, 9463.0], [1.0, 4553.0], [1.0, 4581.0], [1.0, 4629.0], [1.0, 4773.0], [1.9999999999999996, 1715.0], [1.9999999999999998, 2285.0], [2.0, 18176.0], [2.0, 1445.0], [2.0, 1806.0], [2.0, 1427.0], [2.0, 577.0], [2.0, 158.0], [2.0, 120.0], [2.0, 739.0], [2.0, 301.0], [2.0, 140.0], [2.999999999999999, 292.0], [3.0, 784.0], [3.0, 16.0], [3.0, 24.0], [3.0, 16.0], [3.0, 37.0], [3.0, 6.0], [3.0, 5.0], [3.0, 12.0], [3.0, 15.0], [3.0, 8.0], [3.0, 13.0], [3.0, 9.0], [3.0, 5.0], [3.000000000000001, 326.0], [4.0, 146.0], [4.0, 10.0], [4.0, 3.0], [4.0, 4.0], [4.0, 1.0], [4.0, 2.0], [4.0, 1.0], [4.0, 2.0], [5.0, 9.0], [5.000000000000001, 13.0], [6.0, 1.0], [6.0, 1.0], [7.0, 3.0]]|\n",
            "+---------------------------------------------------------------------------------------------------------------------------------------------------------------------------------------------------------------------------------------------------------------------------------------------------------------------------------------------------------------------------------------------------------------------------------------------------------------------------------------------------------------------------------------------------------------------------------------------------------------------------------------------------------------------------------------------------------------------------------------------------------------------------------------------------+\n",
            "\n"
          ],
          "output_type" : "stream"
        },
        {
          "execution_count" : 12,
          "data" : {
            "text/plain" : [
              "[histogram_numeric( count, 50): array<struct<x:double,y:double>>]"
            ]
          },
          "metadata" : {
            "name" : "Out",
            "type" : "DataFrame"
          },
          "output_type" : "execute_result"
        }
      ]
    },
    {
      "cell_type" : "code",
      "execution_count" : 13,
      "metadata" : {
        "cell.metadata.exec_info" : {
          "startTs" : 1591802353644,
          "endTs" : 1591802353648
        },
        "language" : "scala"
      },
      "language" : "scala",
      "source" : [
        "val newHist = Array([[1.3836935684628464, 550335.0], [16.50406504065044, 4059.0], [28.252234359483612, 1007.0], [37.101832993890014, 491.0], [46.77844311377246, 334.0], [56.30232558139532, 172.0], [64.57333333333332, 150.0], [74.26363636363635, 110.0], [82.6438356164384, 73.0], [91.74324324324326, 74.0], [101.29999999999998, 40.0], [109.3260869565217, 46.0], [120.0, 29.0], [133.10526315789474, 38.0], [148.8157894736842, 38.0], [162.09090909090907, 11.0], [174.80769230769232, 26.0], [190.0, 10.0], [204.39999999999998, 5.0], [218.66666666666666, 12.0], [229.63636363636365, 11.0], [239.60000000000002, 5.0], [248.77777777777777, 9.0], [257.2, 5.0], [266.66666666666663, 3.0], [284.8, 5.0], [294.3333333333333, 3.0], [306.0, 3.0], [332.0, 1.0], [341.4, 5.0], [355.3333333333333, 3.0], [371.0, 1.0], [386.0, 2.0], [401.0, 3.0], [419.0, 3.0], [429.0, 4.0], [440.0, 2.0], [460.5, 2.0], [477.5, 2.0], [490.0, 1.0], [501.0, 1.0], [513.0, 1.0], [602.0, 1.0], [628.0, 1.0], [649.0, 1.0], [883.5, 2.0], [977.0, 1.0], [1044.0, 1.0], [1312.0, 1.0], [2778.0, 1.0]])\n",
        "newHist"
      ],
      "outputs" : [
        {
          "execution_count" : 13,
          "data" : {
            "application/json" : [
              {
                "pos" : {
                  "sourceId" : "Cell13",
                  "start" : 20,
                  "end" : 20,
                  "point" : 20
                },
                "msg" : "illegal start of simple expression",
                "severity" : 2
              },
              {
                "pos" : {
                  "sourceId" : "Cell13",
                  "start" : 1065,
                  "end" : 1065,
                  "point" : 1065
                },
                "msg" : "')' expected but eof found.",
                "severity" : 2
              }
            ],
            "text/plain" : [
              "Error: illegal start of simple expression (20)",
              "Error: ')' expected but eof found. (1065)"
            ]
          },
          "metadata" : {
            "rel" : "compiler_errors"
          },
          "output_type" : "execute_result"
        }
      ]
    },
    {
      "cell_type" : "code",
      "execution_count" : 14,
      "metadata" : {
        "cell.metadata.exec_info" : {
          "startTs" : 1591802353651,
          "endTs" : 1591802353672
        },
        "language" : "scala"
      },
      "language" : "scala",
      "source" : [
        "hist.flatMap(x => x.toS)"
      ],
      "outputs" : [
        {
          "execution_count" : 14,
          "data" : {
            "application/json" : [
              {
                "pos" : {
                  "sourceId" : "Cell11",
                  "start" : 18,
                  "end" : 23,
                  "point" : 20
                },
                "msg" : "value toS is not a member of org.apache.spark.sql.Row",
                "severity" : 2
              }
            ],
            "text/plain" : [
              "Error: value toS is not a member of org.apache.spark.sql.Row (18)"
            ]
          },
          "metadata" : {
            "rel" : "compiler_errors"
          },
          "output_type" : "execute_result"
        }
      ]
    },
    {
      "cell_type" : "code",
      "execution_count" : 15,
      "metadata" : {
        "cell.metadata.exec_info" : {
          "startTs" : 1591802353674,
          "endTs" : 1591802353788
        },
        "language" : "scala"
      },
      "language" : "scala",
      "source" : [
        "df.limit(10)"
      ],
      "outputs" : [
        {
          "execution_count" : 15,
          "data" : {
            "text/plain" : [
              "[text_tokens: array<string>, hashtags: array<string> ... 22 more fields]"
            ]
          },
          "metadata" : {
            "name" : "Out",
            "type" : "Dataset[Row]"
          },
          "output_type" : "execute_result"
        }
      ]
    }
  ]
}