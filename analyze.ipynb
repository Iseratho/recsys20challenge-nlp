{
  "metadata" : {
    "config" : {
      "dependencies" : {
        "scala" : [
          "com.johnsnowlabs.nlp:spark-nlp_2.11:2.5.0"
        ]
      },
      "exclusions" : [
      ],
      "repositories" : [
      ],
      "sparkConfig" : {
        "spark.memory.offHeap.enabled" : "true",
        "spark.driver.memory" : "12g",
        "spark.memory.offHeap.size" : "32g",
        "spark.master" : "local[*]",
        "spark.executor.memory" : "2g"
      },
      "env" : {
        
      }
    },
    "language_info" : {
      "name" : "scala"
    }
  },
  "nbformat" : 4,
  "nbformat_minor" : 0,
  "cells" : [
    {
      "cell_type" : "markdown",
      "execution_count" : 0,
      "metadata" : {
        "language" : "text"
      },
      "language" : "text",
      "source" : [
        "# Analyze the Dataset\n",
        "\n",
        "\n"
      ],
      "outputs" : [
      ]
    },
    {
      "cell_type" : "code",
      "execution_count" : 1,
      "metadata" : {
        "cell.metadata.exec_info" : {
          "startTs" : 1591949466928,
          "endTs" : 1591949467467
        },
        "language" : "scala"
      },
      "language" : "scala",
      "source" : [
        "import com.johnsnowlabs.nlp.SparkNLP\n",
        "import com.johnsnowlabs.nlp.annotator._\n",
        "import com.johnsnowlabs.nlp.base._\n",
        "import com.johnsnowlabs.ml.tensorflow.TensorflowBert\n",
        "import org.apache.spark.ml.Pipeline\n",
        "import org.apache.spark.sql.types._\n",
        "import org.apache.spark.sql.SaveMode\n",
        "import org.apache.spark.sql.functions.{udf,to_timestamp}\n",
        "import org.apache.spark.ml.feature.QuantileDiscretizer\n",
        "\n",
        "val dataDir = \"../../data/recsys2020\""
      ],
      "outputs" : [
      ]
    },
    {
      "cell_type" : "code",
      "execution_count" : 2,
      "metadata" : {
        "cell.metadata.exec_info" : {
          "startTs" : 1591949467518,
          "endTs" : 1591949506936
        },
        "language" : "scala"
      },
      "language" : "scala",
      "source" : [
        "val df = spark.read.parquet(dataDir + \"/training1m.parquet\")"
      ],
      "outputs" : [
      ]
    },
    {
      "cell_type" : "code",
      "execution_count" : 13,
      "metadata" : {
        "cell.metadata.exec_info" : {
          "startTs" : 1591950120823,
          "endTs" : 1591950122355
        },
        "language" : "scala"
      },
      "language" : "scala",
      "source" : [
        "df.describe(\"reply_timestamp\", \"retweet_timestamp\", \"retweet_with_comment_timestamp\", \"like_timestamp\").show()"
      ],
      "outputs" : [
        {
          "name" : "stdout",
          "text" : [
            "+-------+--------------------+--------------------+------------------------------+-------------------+\n",
            "|summary|     reply_timestamp|   retweet_timestamp|retweet_with_comment_timestamp|     like_timestamp|\n",
            "+-------+--------------------+--------------------+------------------------------+-------------------+\n",
            "|  count|               26709|              111500|                          7571|             438013|\n",
            "|   mean|1.5812646073375642E9|1.5812574568700268E9|          1.5812688904893672E9|1.581259857804901E9|\n",
            "| stddev|  171236.78340417484|  169011.79670689197|            168867.93127652537| 168497.96341733995|\n",
            "|    min|          1580947728|          1580947364|                    1580947704|         1580947312|\n",
            "|    max|          1581551989|          1581551996|                    1581551976|         1581551998|\n",
            "+-------+--------------------+--------------------+------------------------------+-------------------+\n",
            "\n"
          ],
          "output_type" : "stream"
        }
      ]
    },
    {
      "cell_type" : "code",
      "execution_count" : 3,
      "metadata" : {
        "cell.metadata.exec_info" : {
          "startTs" : 1591802346996,
          "endTs" : 1591802347118
        },
        "language" : "scala"
      },
      "language" : "scala",
      "source" : [
        "df"
      ],
      "outputs" : [
        {
          "execution_count" : 3,
          "data" : {
            "text/plain" : [
              "[text_tokens: array<string>, hashtags: array<string> ... 22 more fields]"
            ]
          },
          "metadata" : {
            "name" : "Out",
            "type" : "DataFrame"
          },
          "output_type" : "execute_result"
        }
      ]
    },
    {
      "cell_type" : "code",
      "execution_count" : 4,
      "metadata" : {
        "cell.metadata.exec_info" : {
          "startTs" : 1591802347122,
          "endTs" : 1591802348719
        },
        "language" : "scala"
      },
      "language" : "scala",
      "source" : [
        "// Calculate average number of interactions\n",
        "val int_counts = df.groupBy(\"engaging_user_id\").count()\n",
        "int_counts.agg(avg(\"count\")).show()"
      ],
      "outputs" : [
        {
          "name" : "stdout",
          "text" : [
            "+------------------+\n",
            "|        avg(count)|\n",
            "+------------------+\n",
            "|1.0337498656125175|\n",
            "+------------------+\n",
            "\n"
          ],
          "output_type" : "stream"
        }
      ]
    },
    {
      "cell_type" : "code",
      "execution_count" : 5,
      "metadata" : {
        "cell.metadata.exec_info" : {
          "startTs" : 1591802348723,
          "endTs" : 1591802348846
        },
        "language" : "scala"
      },
      "language" : "scala",
      "source" : [
        "int_counts"
      ],
      "outputs" : [
        {
          "execution_count" : 5,
          "data" : {
            "text/plain" : [
              "[engaging_user_id: string, count: bigint]"
            ]
          },
          "metadata" : {
            "name" : "Out",
            "type" : "DataFrame"
          },
          "output_type" : "execute_result"
        }
      ]
    },
    {
      "cell_type" : "code",
      "execution_count" : 6,
      "metadata" : {
        "cell.metadata.exec_info" : {
          "startTs" : 1591802348848,
          "endTs" : 1591802351865
        },
        "language" : "scala"
      },
      "language" : "scala",
      "source" : [
        "val discretizer = new QuantileDiscretizer()\n",
        "  .setInputCol(\"count\")\n",
        "  .setOutputCol(\"hist\")\n",
        "  .setNumBuckets(5)\n",
        "\n",
        "var result = discretizer.fit(int_counts).transform(int_counts)\n",
        "result = result.withColumn(\"hist\", col(\"hist\").cast(IntegerType))\n",
        "result.show(false)"
      ],
      "outputs" : [
        {
          "name" : "stdout",
          "text" : [
            "+--------------------------------+-----+----+\n",
            "|engaging_user_id                |count|hist|\n",
            "+--------------------------------+-----+----+\n",
            "|8E7635BA67D7D363604AAEF78869CF8A|1    |1   |\n",
            "|AEC33191EEF88AE87172D35FD6B7DEB8|1    |1   |\n",
            "|384773E169D00767CDBD36D8929CED75|1    |1   |\n",
            "|A473AB8FAD982872C89742D724D4F6AB|1    |1   |\n",
            "|D8ABFB24737488D0F30916871DC02E61|1    |1   |\n",
            "|C328B8FF5225AF35AD213B586E3D10A6|1    |1   |\n",
            "|D02ED9169AF2AF79BFAB2D04CA4AEE08|1    |1   |\n",
            "|ADEB7FAB341E95C391F1394C496EF9ED|1    |1   |\n",
            "|C0ACF8893A2F46D0259C7E6881D381A0|2    |1   |\n",
            "|CA041E9EF58477D4B097BBF67E3411FD|1    |1   |\n",
            "|EB123E68BC54C6B96D9BB27E5FF53D98|3    |1   |\n",
            "|1C7DBF99B5F82B65B28155128DB40470|1    |1   |\n",
            "|0413B272EEE0B987C2E23A31CA5AA110|1    |1   |\n",
            "|89FE00F0BC717421923581681950A087|1    |1   |\n",
            "|5A9714AC339C63AE0FC09E4FA00725AD|1    |1   |\n",
            "|41EDFE146E65938905B80FFD312AD06F|1    |1   |\n",
            "|536EC4034D544A6A17FD804D416FE4F0|1    |1   |\n",
            "|1B1C8F849A91786F8E5DF69821F99980|1    |1   |\n",
            "|3DF4EDB10EF6A5E01A2DB10A4EB55598|1    |1   |\n",
            "|988764002B9D783D91EBFE053718CD43|1    |1   |\n",
            "+--------------------------------+-----+----+\n",
            "only showing top 20 rows\n",
            "\n"
          ],
          "output_type" : "stream"
        }
      ]
    },
    {
      "cell_type" : "code",
      "execution_count" : 7,
      "metadata" : {
        "cell.metadata.exec_info" : {
          "startTs" : 1591802351869,
          "endTs" : 1591802352026
        },
        "language" : "scala"
      },
      "language" : "scala",
      "source" : [
        "int_counts.groupBy(\"count\").agg(count(\"count\") as \"countcount\")"
      ],
      "outputs" : [
        {
          "execution_count" : 7,
          "data" : {
            "text/plain" : [
              "[count: bigint, countcount: bigint]"
            ]
          },
          "metadata" : {
            "name" : "Out",
            "type" : "DataFrame"
          },
          "output_type" : "execute_result"
        }
      ]
    },
    {
      "cell_type" : "code",
      "execution_count" : 8,
      "metadata" : {
        "cell.metadata.exec_info" : {
          "startTs" : 1591802352028,
          "endTs" : 1591802352405
        },
        "language" : "scala"
      },
      "language" : "scala",
      "source" : [
        "int_counts.select(int_counts(\"count\").cast(DoubleType)).rdd.map(x => x)"
      ],
      "outputs" : [
        {
          "execution_count" : 8,
          "data" : {
            "text/plain" : [
              "MapPartitionsRDD[500] at map at Cell10:1"
            ]
          },
          "metadata" : {
            "name" : "Out",
            "type" : "RDD[Row]"
          },
          "output_type" : "execute_result"
        }
      ]
    },
    {
      "cell_type" : "code",
      "execution_count" : 9,
      "metadata" : {
        "cell.metadata.exec_info" : {
          "startTs" : 1591802352408,
          "endTs" : 1591802353640
        },
        "language" : "scala"
      },
      "language" : "scala",
      "source" : [
        "val hist = int_counts.selectExpr(\"histogram_numeric(count, 50)\")\n",
        "hist.show(false)\n",
        "hist.toDF()"
      ],
      "outputs" : [
        {
          "name" : "stdout",
          "text" : [
            "+---------------------------------------------------------------------------------------------------------------------------------------------------------------------------------------------------------------------------------------------------------------------------------------------------------------------------------------------------------------------------------------------------------------------------------------------------------------------------------------------------------------------------------------------------------------------------------------------------------------------------------------------------------------------------------------------------------------------------------------------------------------------------------------------------+\n",
            "|histogram_numeric( count, 50)                                                                                                                                                                                                                                                                                                                                                                                                                                                                                                                                                                                                                                                                                                                                                                      |\n",
            "+---------------------------------------------------------------------------------------------------------------------------------------------------------------------------------------------------------------------------------------------------------------------------------------------------------------------------------------------------------------------------------------------------------------------------------------------------------------------------------------------------------------------------------------------------------------------------------------------------------------------------------------------------------------------------------------------------------------------------------------------------------------------------------------------------+\n",
            "|[[0.9999999999999998, 60965.0], [1.0, 702758.0], [1.0, 121616.0], [1.0, 18638.0], [1.0, 4723.0], [1.0, 9463.0], [1.0, 4553.0], [1.0, 4581.0], [1.0, 4629.0], [1.0, 4773.0], [1.9999999999999996, 1715.0], [1.9999999999999998, 2285.0], [2.0, 18176.0], [2.0, 1445.0], [2.0, 1806.0], [2.0, 1427.0], [2.0, 577.0], [2.0, 158.0], [2.0, 120.0], [2.0, 739.0], [2.0, 301.0], [2.0, 140.0], [2.999999999999999, 292.0], [3.0, 784.0], [3.0, 16.0], [3.0, 24.0], [3.0, 16.0], [3.0, 37.0], [3.0, 6.0], [3.0, 5.0], [3.0, 12.0], [3.0, 15.0], [3.0, 8.0], [3.0, 13.0], [3.0, 9.0], [3.0, 5.0], [3.000000000000001, 326.0], [4.0, 146.0], [4.0, 10.0], [4.0, 3.0], [4.0, 4.0], [4.0, 1.0], [4.0, 2.0], [4.0, 1.0], [4.0, 2.0], [5.0, 9.0], [5.000000000000001, 13.0], [6.0, 1.0], [6.0, 1.0], [7.0, 3.0]]|\n",
            "+---------------------------------------------------------------------------------------------------------------------------------------------------------------------------------------------------------------------------------------------------------------------------------------------------------------------------------------------------------------------------------------------------------------------------------------------------------------------------------------------------------------------------------------------------------------------------------------------------------------------------------------------------------------------------------------------------------------------------------------------------------------------------------------------------+\n",
            "\n"
          ],
          "output_type" : "stream"
        },
        {
          "execution_count" : 9,
          "data" : {
            "text/plain" : [
              "[histogram_numeric( count, 50): array<struct<x:double,y:double>>]"
            ]
          },
          "metadata" : {
            "name" : "Out",
            "type" : "DataFrame"
          },
          "output_type" : "execute_result"
        }
      ]
    },
    {
      "cell_type" : "code",
      "execution_count" : 10,
      "metadata" : {
        "cell.metadata.exec_info" : {
          "startTs" : 1591802353644,
          "endTs" : 1591802353648
        },
        "language" : "scala"
      },
      "language" : "scala",
      "source" : [
        "val newHist = Array([[1.3836935684628464, 550335.0], [16.50406504065044, 4059.0], [28.252234359483612, 1007.0], [37.101832993890014, 491.0], [46.77844311377246, 334.0], [56.30232558139532, 172.0], [64.57333333333332, 150.0], [74.26363636363635, 110.0], [82.6438356164384, 73.0], [91.74324324324326, 74.0], [101.29999999999998, 40.0], [109.3260869565217, 46.0], [120.0, 29.0], [133.10526315789474, 38.0], [148.8157894736842, 38.0], [162.09090909090907, 11.0], [174.80769230769232, 26.0], [190.0, 10.0], [204.39999999999998, 5.0], [218.66666666666666, 12.0], [229.63636363636365, 11.0], [239.60000000000002, 5.0], [248.77777777777777, 9.0], [257.2, 5.0], [266.66666666666663, 3.0], [284.8, 5.0], [294.3333333333333, 3.0], [306.0, 3.0], [332.0, 1.0], [341.4, 5.0], [355.3333333333333, 3.0], [371.0, 1.0], [386.0, 2.0], [401.0, 3.0], [419.0, 3.0], [429.0, 4.0], [440.0, 2.0], [460.5, 2.0], [477.5, 2.0], [490.0, 1.0], [501.0, 1.0], [513.0, 1.0], [602.0, 1.0], [628.0, 1.0], [649.0, 1.0], [883.5, 2.0], [977.0, 1.0], [1044.0, 1.0], [1312.0, 1.0], [2778.0, 1.0]])\n",
        "newHist"
      ],
      "outputs" : [
        {
          "execution_count" : 10,
          "data" : {
            "application/json" : [
              {
                "pos" : {
                  "sourceId" : "Cell13",
                  "start" : 20,
                  "end" : 20,
                  "point" : 20
                },
                "msg" : "illegal start of simple expression",
                "severity" : 2
              },
              {
                "pos" : {
                  "sourceId" : "Cell13",
                  "start" : 1065,
                  "end" : 1065,
                  "point" : 1065
                },
                "msg" : "')' expected but eof found.",
                "severity" : 2
              }
            ],
            "text/plain" : [
              "Error: illegal start of simple expression (20)",
              "Error: ')' expected but eof found. (1065)"
            ]
          },
          "metadata" : {
            "rel" : "compiler_errors"
          },
          "output_type" : "execute_result"
        }
      ]
    },
    {
      "cell_type" : "code",
      "execution_count" : 11,
      "metadata" : {
        "cell.metadata.exec_info" : {
          "startTs" : 1591802353651,
          "endTs" : 1591802353672
        },
        "language" : "scala"
      },
      "language" : "scala",
      "source" : [
        "hist.flatMap(x => x.toS)"
      ],
      "outputs" : [
        {
          "execution_count" : 11,
          "data" : {
            "application/json" : [
              {
                "pos" : {
                  "sourceId" : "Cell11",
                  "start" : 18,
                  "end" : 23,
                  "point" : 20
                },
                "msg" : "value toS is not a member of org.apache.spark.sql.Row",
                "severity" : 2
              }
            ],
            "text/plain" : [
              "Error: value toS is not a member of org.apache.spark.sql.Row (18)"
            ]
          },
          "metadata" : {
            "rel" : "compiler_errors"
          },
          "output_type" : "execute_result"
        }
      ]
    },
    {
      "cell_type" : "code",
      "execution_count" : 12,
      "metadata" : {
        "cell.metadata.exec_info" : {
          "startTs" : 1591802353674,
          "endTs" : 1591802353788
        },
        "language" : "scala"
      },
      "language" : "scala",
      "source" : [
        "df.limit(10)"
      ],
      "outputs" : [
        {
          "execution_count" : 12,
          "data" : {
            "text/plain" : [
              "[text_tokens: array<string>, hashtags: array<string> ... 22 more fields]"
            ]
          },
          "metadata" : {
            "name" : "Out",
            "type" : "Dataset[Row]"
          },
          "output_type" : "execute_result"
        }
      ]
    }
  ]
}