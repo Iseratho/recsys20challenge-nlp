{
  "metadata" : {
    "config" : {
      "dependencies" : {
        "scala" : [
          "com.johnsnowlabs.nlp:spark-nlp_2.11:2.5.2"
        ]
      },
      "exclusions" : [
      ],
      "repositories" : [
      ],
      "sparkConfig" : {
        "spark.memory.offHeap.enabled" : "true",
        "spark.driver.memory" : "8g",
        "spark.memory.offHeap.size" : "32g",
        "spark.master" : "local[*]",
        "spark.executor.memory" : "14g"
      },
      "env" : {
        
      }
    },
    "language_info" : {
      "name" : "scala"
    }
  },
  "nbformat" : 4,
  "nbformat_minor" : 0,
  "cells" : [
    {
      "cell_type" : "markdown",
      "execution_count" : 0,
      "metadata" : {
        "language" : "text"
      },
      "language" : "text",
      "source" : [
        "# bert test\n",
        "\n",
        "This is a text cell. Start editing!"
      ],
      "outputs" : [
      ]
    },
    {
      "cell_type" : "code",
      "execution_count" : 2,
      "metadata" : {
        "cell.metadata.exec_info" : {
          "startTs" : 1592206184278,
          "endTs" : 1592206184499
        },
        "language" : "scala"
      },
      "language" : "scala",
      "source" : [
        "import com.johnsnowlabs.nlp.SparkNLP\n",
        "import com.johnsnowlabs.nlp.annotator._\n",
        "import com.johnsnowlabs.nlp.base._\n",
        "import org.apache.spark.ml.{Pipeline, PipelineModel, Transformer}\n",
        "import org.apache.spark.sql.types._\n",
        "import org.apache.spark.sql.SaveMode\n",
        "import org.apache.spark.sql.functions.{udf,to_timestamp}\n",
        "import org.apache.spark.storage._\n",
        "import org.apache.spark.ml.feature._\n",
        "import org.apache.spark.ml.classification._\n",
        "import org.apache.spark.ml.linalg.DenseVector\n",
        "import org.apache.spark.ml.param.{Param, ParamMap}\n",
        "import org.apache.spark.ml.util.{DefaultParamsReadable, DefaultParamsWritable, Identifiable}\n",
        "import org.apache.spark.sql.{DataFrame, Dataset}\n",
        "import org.apache.spark.sql.SparkSession\n",
        "import org.apache.spark.sql.functions.{col, explode, udf}\n",
        "import org.apache.spark.sql.types.{DataTypes, StructType}\n",
        "\n"
      ],
      "outputs" : [
      ]
    },
    {
      "cell_type" : "code",
      "execution_count" : 1,
      "metadata" : {
        "cell.metadata.exec_info" : {
          "startTs" : 1592206184504,
          "endTs" : 1592206476106
        },
        "language" : "scala"
      },
      "language" : "scala",
      "source" : [
        "val bert = BertEmbeddings.pretrained(name=\"bert_multi_cased\", lang=\"xx\")"
      ],
      "outputs" : [
        {
          "name" : "stdout",
          "text" : [
            "bert_multi_cased download started this may take some time.\n",
            "Approximate size to download 638.7 MB\n",
            "Download done! Loading the resource.\n"
          ],
          "output_type" : "stream"
        }
      ]
    },
    {
      "cell_type" : "code",
      "execution_count" : 6,
      "metadata" : {
        "cell.metadata.exec_info" : {
          "startTs" : 1592206476171,
          "endTs" : 1592206476437
        },
        "language" : "scala"
      },
      "language" : "scala",
      "source" : [
        "val sentenceStartTokenId = 101\n",
        "val sentenceEndTokenId = 102"
      ],
      "outputs" : [
      ]
    },
    {
      "cell_type" : "code",
      "execution_count" : 5,
      "metadata" : {
        "cell.metadata.exec_info" : {
          "startTs" : 1592206522725,
          "endTs" : 1592206523644
        },
        "language" : "scala"
      },
      "language" : "scala",
      "source" : [
        "val docs = Seq(Array(123,119, 11025), Array(10135))\n",
        "val prep = docs.map(tokens => {\n",
        "    Array(sentenceStartTokenId) ++\n",
        "      tokens ++\n",
        "      Array(sentenceEndTokenId) ++\n",
        "      Array.fill(bert.getMaxSentenceLength - tokens.length - 2)(0)\n",
        "})\n",
        "prep"
      ],
      "outputs" : [
        {
          "execution_count" : 5,
          "data" : {
            "text/plain" : [
              "List([I@34857a43, [I@9185d2d)"
            ]
          },
          "metadata" : {
            "name" : "Out",
            "type" : "Seq[Array[Int]]"
          },
          "output_type" : "execute_result"
        }
      ]
    },
    {
      "cell_type" : "code",
      "execution_count" : 4,
      "metadata" : {
        "cell.metadata.exec_info" : {
          "startTs" : 1592206540491,
          "endTs" : 1592206541277
        },
        "language" : "scala"
      },
      "language" : "scala",
      "source" : [
        "// Code to use embeddings of bert\n",
        "bert.getModelIfNotSet.tag(prep, \"module/bert/encoder/Reshape_1:0\", bert.getMaxSentenceLength)"
      ],
      "outputs" : [
        {
          "execution_count" : 4,
          "data" : {
            "text/plain" : [
              "List([[F@4d67d667, [[F@7d320165)"
            ]
          },
          "metadata" : {
            "name" : "Out",
            "type" : "Seq[Array[Array[Float]]]"
          },
          "output_type" : "execute_result"
        }
      ]
    },
    {
      "cell_type" : "code",
      "execution_count" : 3,
      "metadata" : {
        "cell.metadata.exec_info" : {
          "startTs" : 1592206476691,
          "endTs" : 1592206476840
        },
        "language" : "scala"
      },
      "language" : "scala",
      "source" : [
      ],
      "outputs" : [
      ]
    }
  ]
}