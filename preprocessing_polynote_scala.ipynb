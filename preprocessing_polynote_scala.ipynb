{
  "metadata" : {
    "config" : {
      "dependencies" : {
        "scala" : [
          "com.johnsnowlabs.nlp:spark-nlp_2.11:2.5.0"
        ]
      },
      "exclusions" : [
      ],
      "repositories" : [
      ],
      "sparkConfig" : {
        "spark.memory.offHeap.enabled" : "true",
        "spark.driver.memory" : "12g",
        "spark.memory.offHeap.size" : "32g",
        "spark.master" : "local[*]",
        "spark.executor.memory" : "2g"
      },
      "env" : {
        
      }
    },
    "language_info" : {
      "name" : "scala"
    }
  },
  "nbformat" : 4,
  "nbformat_minor" : 0,
  "cells" : [
    {
      "cell_type" : "markdown",
      "execution_count" : 0,
      "metadata" : {
        "language" : "text"
      },
      "language" : "text",
      "source" : [
        "# NLP RECSYS preprocessing<br>\n",
        "\n",
        "\n"
      ],
      "outputs" : [
      ]
    },
    {
      "cell_type" : "code",
      "execution_count" : 1,
      "metadata" : {
        "cell.metadata.exec_info" : {
          "startTs" : 1592235033234,
          "endTs" : 1592235033388
        },
        "language" : "scala"
      },
      "language" : "scala",
      "source" : [
        "import com.johnsnowlabs.nlp.SparkNLP\n",
        "import com.johnsnowlabs.nlp.annotator._\n",
        "import com.johnsnowlabs.nlp.base._\n",
        "import com.johnsnowlabs.ml.tensorflow.TensorflowBert\n",
        "import org.apache.spark.ml.Pipeline\n",
        "import org.apache.spark.sql.types._\n",
        "import org.apache.spark.sql.SaveMode\n",
        "import scala.collection.mutable.WrappedArray\n",
        "import org.apache.spark.sql.functions.{udf,to_timestamp}\n",
        "\n",
        "val dataDir = sys.env(\"HOME\") + \"/recsys2020\"\n",
        "val dsName = \"training1m\"\n"
      ],
      "outputs" : [
      ]
    },
    {
      "cell_type" : "code",
      "execution_count" : 2,
      "metadata" : {
        "cell.metadata.exec_info" : {
          "startTs" : 1592235033393,
          "endTs" : 1592235033474
        },
        "language" : "scala"
      },
      "language" : "scala",
      "source" : [
        "// val bert = BertEmbeddings.pretrained(name=\"bert_multi_cased\", lang=\"xx\")"
      ],
      "outputs" : [
      ]
    },
    {
      "cell_type" : "code",
      "execution_count" : 3,
      "metadata" : {
        "cell.metadata.exec_info" : {
          "startTs" : 1592235033478,
          "endTs" : 1592235033551
        },
        "language" : "scala"
      },
      "language" : "scala",
      "source" : [
        "// var embeddingIdxToTokenStringMap = bert.vocabulary.getOrDefault.map(_ swap)"
      ],
      "outputs" : [
      ]
    },
    {
      "cell_type" : "code",
      "execution_count" : 4,
      "metadata" : {
        "jupyter.outputs_hidden" : true,
        "cell.metadata.exec_info" : {
          "startTs" : 1592235033556,
          "endTs" : 1592235035087
        },
        "language" : "scala"
      },
      "language" : "scala",
      "source" : [
        "val schema = new StructType()\n",
        "    .add(\"text_tokens\", StringType, true)\n",
        "    .add(\"hashtags\", StringType, true)\n",
        "    .add(\"tweet_id\", StringType, true)\n",
        "    .add(\"present_media\", StringType, true)\n",
        "    .add(\"present_links\", StringType, true)\n",
        "    .add(\"present_domains\", StringType, true)\n",
        "    .add(\"tweet_type\", StringType, true)\n",
        "    .add(\"language\", StringType, true)\n",
        "    .add(\"tweet_timestamp\", IntegerType, true)\n",
        "    .add(\"author_id\", StringType, true)\n",
        "    .add(\"author_follower_count\", IntegerType, true)\n",
        "    .add(\"author_following_count\", IntegerType, true)\n",
        "    .add(\"author_is_verified\", BooleanType, true)\n",
        "    .add(\"author_account_creation\", IntegerType, true)\n",
        "    .add(\"user_id\", StringType, true)\n",
        "    .add(\"user_follower_count\", IntegerType, true)\n",
        "    .add(\"user_following_count\", IntegerType, true)\n",
        "    .add(\"user_is_verified\", BooleanType, true)\n",
        "    .add(\"user_account_creation\", IntegerType, true)\n",
        "    .add(\"follows\", BooleanType, true)\n",
        "    .add(\"reply_timestamp\", IntegerType, true)\n",
        "    .add(\"retweet_timestamp\", IntegerType, true)\n",
        "    .add(\"retweet_with_comment_timestamp\", IntegerType, true)\n",
        "    .add(\"like_timestamp\", IntegerType, true)\n",
        "\n",
        "val df = spark.read.format(\"csv\")\n",
        "        .option(\"delimiter\", \"\\u0001\")\n",
        "        .schema(schema)\n",
        "        .load(dataDir + s\"/${dsName}.tsv\")\n"
      ],
      "outputs" : [
      ]
    },
    {
      "cell_type" : "code",
      "execution_count" : 5,
      "metadata" : {
        "jupyter.outputs_hidden" : true,
        "cell.metadata.exec_info" : {
          "startTs" : 1592235035093,
          "endTs" : 1592235035824
        },
        "language" : "scala"
      },
      "language" : "scala",
      "source" : [
        "// val udf_unbert = udf[Array[String], String](_.split(\"\\t\")\n",
        "//     .map(strTokenIdx => \n",
        "//             embeddingIdxToTokenStringMap.getOrElse(key=strTokenIdx.toInt, default=\"[UNK]\")))\n",
        "val udf_has_engagement = udf[Boolean, Integer](x => x != null)\n",
        "val udf_bool_to_int = udf[Integer, Boolean](x => if (x) 1 else 0)\n",
        "val udf_array_length = udf[Integer, WrappedArray[String]](x => if(x == null) 0 else x.length)\n",
        "val unk_token = 100.toShort\n",
        "val udf_to_int_tokens = udf[Array[Int], WrappedArray[String]](x => x.map(token => token.toInt).toArray)"
      ],
      "outputs" : [
      ]
    },
    {
      "cell_type" : "code",
      "execution_count" : 6,
      "metadata" : {
        "cell.metadata.exec_info" : {
          "startTs" : 1592235035829,
          "endTs" : 1592235035899
        },
        "language" : "scala"
      },
      "language" : "scala",
      "source" : [
        "// val udf_aggBert = udf[Array[Float], String](tweetTokenString => {\n",
        "//     val tokens = tweetTokenString.split(\"\\t\").map(_.toInt).toArray\n",
        "//     val numTokens = tokens.length\n",
        "//     val input = Seq(tokens ++ Array.fill(bert.getMaxSentenceLength - numTokens)(0))\n",
        "//     val embeddings = bert.getModelIfNotSet.tag(input, \"module/bert/encoder/Reshape_1:0\", bert.getMaxSentenceLength)\n",
        "//     val sumEmbeddings = embeddings.head.take(numTokens).transpose.map(_.sum)\n",
        "//     sumEmbeddings.map(x => (x * 1.0 / numTokens).toFloat)\n",
        "// })"
      ],
      "outputs" : [
      ]
    },
    {
      "cell_type" : "code",
      "execution_count" : 7,
      "metadata" : {
        "cell.metadata.exec_info" : {
          "startTs" : 1592235035904,
          "endTs" : 1592235036739
        },
        "language" : "scala"
      },
      "language" : "scala",
      "source" : [
        "// If there is media like photo or video, the last link in the text is always a link to the tweet itself\n",
        "val ignored_tokens = Set(\"[CLS]\",\"[UNK]\",\"[SEP]\",\"UNKN\")\n",
        "val udf_tweet = udf((text_tokens: WrappedArray[String], present_media: WrappedArray[String]) => {\n",
        "    text_tokens.filterNot(token => ignored_tokens.contains(token)).foldLeft(List[String]()){(soFar, next) => {\n",
        "            var m: String = null;\n",
        "            if (!soFar.isEmpty && soFar.last.startsWith(\"https\") && !(next == \"https\")) {\n",
        "                soFar.last.length match {\n",
        "                    case 5 => if (next == \":\") m = next;\n",
        "                    case 6 | 7 | 12 => if (next == \"/\") m = next;\n",
        "                    case 8 => if (next == \"t\") m = next;\n",
        "                    case 9 => if (next == \".\") m = next;\n",
        "                    case 10 => if (next == \"co\") m = next;\n",
        "                    case x  if (x == 13) => \n",
        "                        if (next.forall(_.isLetterOrDigit)) {\n",
        "                            m = next;\n",
        "                        }\n",
        "                    case x if (x > 13) =>\n",
        "                        if (next.startsWith(\"##\")) {\n",
        "                            val nwop = next.stripPrefix(\"##\");\n",
        "                            if (nwop.forall(_.isLetterOrDigit))\n",
        "                            {\n",
        "                                m = nwop;\n",
        "                            }\n",
        "                        }\n",
        "                }\n",
        "            }\n",
        "            else if (!soFar.isEmpty && (soFar.last.startsWith(\"#\") || soFar.last.startsWith(\"@\"))) {\n",
        "                val isFirst = Set('_', '#', '@').contains(soFar.last.last);\n",
        "                if (isFirst || next.startsWith(\"##\") || next == \"_\")\n",
        "                {\n",
        "                    val nwop = next.stripPrefix(\"##\");\n",
        "                    if (nwop.forall(c => c.isLetterOrDigit || c == '_'))\n",
        "                    {\n",
        "                        m = nwop;\n",
        "                    }\n",
        "                }\n",
        "            }\n",
        "            else if (next.startsWith(\"##\"))\n",
        "            {\n",
        "                m = next.stripPrefix(\"##\");\n",
        "            }\n",
        "            if (m != null) soFar.init :+ (soFar.last + m) else soFar :+ next\n",
        "        }\n",
        "    }.mkString(\" \")\n",
        "})"
      ],
      "outputs" : [
      ]
    },
    {
      "cell_type" : "code",
      "execution_count" : 8,
      "metadata" : {
        "cell.metadata.exec_info" : {
          "startTs" : 1592235101096,
          "endTs" : 1592235101413
        },
        "language" : "scala"
      },
      "language" : "scala",
      "source" : [
        "val converted_df = df\n",
        "  // .withColumn(\"unbert\", udf_unbert('text_tokens))\n",
        "  .withColumn(\"text_tokens\", split('text_tokens, \"\\t\"))\n",
        "  .withColumn(\"tokens\", udf_to_int_tokens('text_tokens))\n",
        "  .withColumn(\"hashtags\", split('hashtags, \"\\t\"))\n",
        "  .withColumn(\"present_media\", split('present_media, \"\\t\"))\n",
        "  .withColumn(\"present_links\", split('present_links, \"\\t\"))\n",
        "  .withColumn(\"present_domains\", split('present_domains, \"\\t\"))\n",
        "  .withColumn(\"has_retweet\", udf_has_engagement('retweet_timestamp))\n",
        "  .withColumn(\"has_retweet_with_comment\", udf_has_engagement('retweet_with_comment_timestamp))\n",
        "  .withColumn(\"has_like\", udf_has_engagement('like_timestamp))\n",
        "  .withColumn(\"has_reply\", udf_has_engagement('reply_timestamp))\n",
        "  // .withColumn(\"follows\", udf_bool_to_int('follows))\n",
        "  // .withColumn(\"user_is_verified\", udf_bool_to_int('user_is_verified))\n",
        "  // .withColumn(\"author_is_verified\", udf_bool_to_int('author_is_verified))\n",
        "  // .withColumn(\"tweet_text\", udf_tweet('unbert, 'present_media))\n",
        "  // .withColumn(\"embeddings\", udf_aggBert('text_tokens))\n",
        "  .withColumn(\"num_hashtags\", udf_array_length('hashtags))\n",
        "  .withColumn(\"num_media\", udf_array_length('present_media))\n",
        "  .withColumn(\"num_links\", udf_array_length('present_links))\n",
        "  .withColumn(\"num_domains\", udf_array_length('present_domains))\n",
        "  .withColumn(\"num_tokens\", udf_array_length('text_tokens))\n",
        "  .orderBy(desc(\"num_tokens\"))\n",
        "\n",
        "converted_df"
      ],
      "outputs" : [
        {
          "execution_count" : 8,
          "data" : {
            "text/plain" : [
              "[text_tokens: array<string>, hashtags: array<string> ... 32 more fields]"
            ]
          },
          "metadata" : {
            "name" : "Out",
            "type" : "Dataset[Row]"
          },
          "output_type" : "execute_result"
        }
      ]
    },
    {
      "cell_type" : "code",
      "execution_count" : 9,
      "metadata" : {
        "cell.metadata.exec_info" : {
          "startTs" : 1592235104237,
          "endTs" : 1592235116019
        },
        "language" : "scala"
      },
      "language" : "scala",
      "source" : [
        "converted_df.show"
      ],
      "outputs" : [
        {
          "name" : "stdout",
          "text" : [
            "+--------------------+--------------------+--------------------+--------------------+-------------+---------------+----------+--------------------+---------------+--------------------+---------------------+----------------------+------------------+-----------------------+--------------------+-------------------+--------------------+----------------+---------------------+-------+---------------+-----------------+------------------------------+--------------+--------------------+-----------+------------------------+--------+---------+------------+---------+---------+-----------+----------+\n",
            "|         text_tokens|            hashtags|            tweet_id|       present_media|present_links|present_domains|tweet_type|            language|tweet_timestamp|           author_id|author_follower_count|author_following_count|author_is_verified|author_account_creation|             user_id|user_follower_count|user_following_count|user_is_verified|user_account_creation|follows|reply_timestamp|retweet_timestamp|retweet_with_comment_timestamp|like_timestamp|              tokens|has_retweet|has_retweet_with_comment|has_like|has_reply|num_hashtags|num_media|num_links|num_domains|num_tokens|\n",
            "+--------------------+--------------------+--------------------+--------------------+-------------+---------------+----------+--------------------+---------------+--------------------+---------------------+----------------------+------------------+-----------------------+--------------------+-------------------+--------------------+----------------+---------------------+-------+---------------+-----------------+------------------------------+--------------+--------------------+-----------+------------------------+--------+---------+------------+---------+---------+-----------+----------+\n",
            "|[101, 781, 94196,...|                null|28DABCA377E59B949...|             [Video]|         null|           null|  TopLevel|167115458A0DBDFF7...|     1581371022|0AA609E8ED0079926...|                 1833|                  1864|             false|             1563046124|A1997749283552DB2...|               1465|                4747|           false|           1411668733|   true|     1581409538|       1581409477|                          null|    1581409478|[101, 781, 94196,...|       true|                   false|    true|     true|           0|        1|        0|          0|       487|\n",
            "|[101, 56898, 137,...|                null|48ADDE99AAA266CE7...|                null|         null|           null|   Retweet|ECED8A16BE2A5E887...|     1581179983|F6A142FE65A435469...|                 2308|                  1843|             false|             1429014859|C9F713839FDAAC80A...|               3657|                2430|           false|           1408303382|   true|           null|             null|                          null|          null|[101, 56898, 137,...|      false|                   false|   false|    false|           0|        0|        0|          0|       434|\n",
            "|[101, 137, 93759,...|[979DC43A9CC9A54C...|E2DEDDE4EC2BC2AFB...|                null|         null|           null|  TopLevel|D3164C7FBCF2565DD...|     1581534432|4B53C39FF8530F0F1...|                22494|                 24745|             false|             1453210089|5588F5E1F064AC91E...|               1682|                1163|           false|           1301697263|   true|           null|       1581534547|                          null|          null|[101, 137, 93759,...|       true|                   false|   false|    false|           8|        0|        0|          0|       416|\n",
            "|[101, 137, 10124,...|                null|8BE37418030A1CED5...|             [Photo]|         null|           null|  TopLevel|B9175601E87101A98...|     1581517100|6140D6F3E31505A61...|                  375|                   629|             false|             1547148821|FCA1BB3B2B0EF9BD0...|                116|                 251|           false|           1575835662|   true|           null|       1581548795|                          null|    1581548795|[101, 137, 10124,...|       true|                   false|    true|    false|           0|        1|        0|          0|       321|\n",
            "|[101, 137, 16226,...|                null|780302DAA9017133B...|             [Photo]|         null|           null|  TopLevel|D3164C7FBCF2565DD...|     1581412132|526BF0046FE3BDDD9...|                24749|                  1386|             false|             1470726533|73B84F2DE4297FF90...|               9617|                1934|           false|           1265524836|   true|     1581441152|             null|                          null|    1581441152|[101, 137, 16226,...|      false|                   false|    true|     true|           0|        1|        0|          0|       321|\n",
            "|[101, 137, 14325,...|                null|59EEFB98532B1F434...|                null|         null|           null|  TopLevel|06D61DCBBE938971E...|     1581489218|DB5F9EE8B0E3047C3...|                 5338|                  5309|             false|             1384148271|7FF664F198CE61755...|                178|                 303|           false|           1262996146|   true|           null|             null|                          null|    1581512050|[101, 137, 14325,...|      false|                   false|    true|    false|           0|        0|        0|          0|       314|\n",
            "|[101, 137, 10820,...|                null|2A8EFDD8E9DBC0945...|                null|         null|           null|  TopLevel|D3164C7FBCF2565DD...|     1581301417|45D173E61097E6602...|                  261|                   638|             false|             1302733166|02B0DF2EBD2A23A4C...|               1565|                 886|           false|           1276497009|   true|     1581331433|             null|                          null|          null|[101, 137, 10820,...|      false|                   false|   false|     true|           0|        0|        0|          0|       303|\n",
            "|[101, 137, 97052,...|[1D5CB3180CA595F4...|45A1252F6843BE9CA...|             [Photo]|         null|           null|  TopLevel|B9175601E87101A98...|     1581186911|329ADDF73A3F2C910...|                31012|                 29681|             false|             1345573841|C079B06F22D2F8261...|              11644|               11847|           false|           1481145755|   true|           null|       1581191066|                          null|    1581191061|[101, 137, 97052,...|       true|                   false|    true|    false|           1|        1|        0|          0|       301|\n",
            "|[101, 136, 136, 1...|                null|F8A078658357EC37F...|               [GIF]|         null|           null|  TopLevel|B9175601E87101A98...|     1581388825|9E6D9007874EEF3A8...|                66576|                     2|             false|             1497115396|6EF2D619088CDA8DC...|                 38|                 439|           false|           1497617797|  false|           null|       1581421074|                          null|    1581421073|[101, 136, 136, 1...|       true|                   false|    true|    false|           0|        1|        0|          0|       297|\n",
            "|[101, 137, 139, 7...|                null|13B24AC835817FA16...|             [Photo]|         null|           null|  TopLevel|B9175601E87101A98...|     1581215721|1F8CED9E991C999A8...|                33426|                 36792|             false|             1243988315|DEE3887EA1A242BD0...|                348|                 547|           false|           1429770698|   true|           null|             null|                          null|    1581218468|[101, 137, 139, 7...|      false|                   false|    true|    false|           0|        1|        0|          0|       295|\n",
            "|[101, 137, 25085,...|                null|6D323C9F1594621D8...|                null|         null|           null|  TopLevel|D3164C7FBCF2565DD...|     1581466563|33A3E1F4C1FF63911...|                 7535|                  1667|             false|             1478237093|300DD66B4050BAF10...|                371|                 714|           false|           1238535803|  false|           null|             null|                          null|    1581467029|[101, 137, 25085,...|      false|                   false|    true|    false|           0|        0|        0|          0|       294|\n",
            "|[101, 106, 106, 1...|                null|CA7E5C1FB3119E391...|                null|         null|           null|  TopLevel|B9175601E87101A98...|     1581276680|8CDB521F44F3BA213...|               136706|                   418|              true|             1236150220|12D51656C42BFE415...|                147|                 126|           false|           1331469958|  false|           null|             null|                          null|    1581375262|[101, 106, 106, 1...|      false|                   false|    true|    false|           0|        0|        0|          0|       282|\n",
            "|[101, 57929, 3761...|                null|81C6BCFDCECECFB4D...|                null|         null|           null|     Quote|FF60A88F53E630002...|     1581469646|51E59B6D999E067C6...|                 4649|                  4360|             false|             1445605956|165DD7CEAF037C273...|                231|                 222|           false|           1556433481|   true|           null|       1581472100|                          null|          null|[101, 57929, 3761...|       true|                   false|   false|    false|           0|        0|        0|          0|       271|\n",
            "|[101, 1434, 11142...|                null|CA78C74779DE8BBA7...|             [Photo]|         null|           null|  TopLevel|022EC308651FACB02...|     1581304446|E27CFECDC52EA0828...|                23070|                     0|             false|             1570274385|3B3EFEEB714DD695B...|                193|                1583|           false|           1337785824|  false|           null|       1581315533|                          null|          null|[101, 1434, 11142...|       true|                   false|   false|    false|           0|        1|        0|          0|       271|\n",
            "|[101, 69971, 1072...|                null|1BD118E271BFE2446...|             [Photo]|         null|           null|  TopLevel|B9175601E87101A98...|     1581052229|65901F62CE8B5134B...|                 3579|                   491|             false|             1558723181|7BD0EA053F7E8219D...|                420|                1028|           false|           1537981193|  false|           null|             null|                          null|    1581053215|[101, 69971, 1072...|      false|                   false|    true|    false|           0|        1|        0|          0|       270|\n",
            "|[101, 1413, 53936...|                null|301FB5AEACC33BDA4...|      [Photo, Photo]|         null|           null|  TopLevel|022EC308651FACB02...|     1581037930|73E795BBDB1552639...|                 1455|                     0|             false|             1564412536|42924216B402BB991...|                 65|                 630|           false|           1488526604|  false|           null|       1581064485|                          null|          null|[101, 1413, 53936...|       true|                   false|   false|    false|           0|        2|        0|          0|       249|\n",
            "|[101, 1413, 53936...|                null|817311C0023CEBA20...|[Photo, Photo, Ph...|         null|           null|  TopLevel|022EC308651FACB02...|     1581425833|73E795BBDB1552639...|                 1455|                     0|             false|             1564412536|67E96468A0F812D7C...|                233|                 258|           false|           1418564667|  false|           null|       1581429027|                          null|          null|[101, 1413, 53936...|       true|                   false|   false|    false|           0|        4|        0|          0|       248|\n",
            "|[101, 510, 111072...|                null|F1853BBEE1967AD64...|                null|         null|           null|     Quote|3820C29CBCA409A33...|     1581345338|AB1A8C306FD411A2D...|                 1525|                  2297|             false|             1355724656|9558D0BBE6F52825A...|               1697|                2150|           false|           1569766962|  false|           null|             null|                          null|          null|[101, 510, 111072...|      false|                   false|   false|    false|           0|        0|        0|          0|       247|\n",
            "|[101, 1454, 81831...|                null|FB6D9A5C763B9B2EF...|      [Photo, Photo]|         null|           null|  TopLevel|022EC308651FACB02...|     1581067526|A1B8A55A1199B67BF...|                  949|                    60|             false|             1500729834|AC50AFAFAC428328B...|                  6|                  62|           false|           1572511577|  false|           null|             null|                          null|    1581073982|[101, 1454, 81831...|      false|                   false|    true|    false|           0|        2|        0|          0|       239|\n",
            "|[101, 759, 23112,...|                null|78E29E0BA04381B46...|                null|         null|           null|  TopLevel|167115458A0DBDFF7...|     1581538203|E6631A60A717CFA12...|               116797|                     2|             false|             1355607168|37F1DED9655627B8E...|                318|                1361|           false|           1536009766|  false|           null|       1581541482|                          null|    1581541542|[101, 759, 23112,...|       true|                   false|    true|    false|           0|        0|        0|          0|       238|\n",
            "+--------------------+--------------------+--------------------+--------------------+-------------+---------------+----------+--------------------+---------------+--------------------+---------------------+----------------------+------------------+-----------------------+--------------------+-------------------+--------------------+----------------+---------------------+-------+---------------+-----------------+------------------------------+--------------+--------------------+-----------+------------------------+--------+---------+------------+---------+---------+-----------+----------+\n",
            "only showing top 20 rows\n",
            "\n"
          ],
          "output_type" : "stream"
        }
      ]
    },
    {
      "cell_type" : "code",
      "execution_count" : 10,
      "metadata" : {
        "cell.metadata.exec_info" : {
          "startTs" : 1592235116021,
          "endTs" : 1592235135902
        },
        "language" : "scala"
      },
      "language" : "scala",
      "source" : [
        "converted_df.select(\n",
        "        // for evaluation\n",
        "        'user_id,\n",
        "        'tweet_id,\n",
        "        // model inputs\n",
        "        'tweet_type,\n",
        "        // 'tweet_text,\n",
        "        // 'text_tokens,\n",
        "        'tokens,\n",
        "        'author_follower_count,\n",
        "        'author_following_count,\n",
        "        'author_is_verified,\n",
        "        'user_follower_count,\n",
        "        'user_following_count,\n",
        "        'user_is_verified,\n",
        "        'follows,\n",
        "        // 'embeddings,\n",
        "        'num_hashtags,\n",
        "        'num_media,\n",
        "        'num_links,\n",
        "        'num_domains,\n",
        "        'num_tokens,\n",
        "        // unused for now\n",
        "        'tweet_timestamp,\n",
        "        'hashtags,\n",
        "        'present_media,\n",
        "        'present_domains,\n",
        "        // model outputs\n",
        "        'has_retweet,\n",
        "        'has_retweet_with_comment,\n",
        "        'has_like,\n",
        "        'has_reply\n",
        "    ).write\n",
        "    .mode(SaveMode.Overwrite)\n",
        "    .parquet(dataDir + s\"/${dsName}.parquet\")"
      ],
      "outputs" : [
      ]
    },
    {
      "cell_type" : "code",
      "execution_count" : 11,
      "metadata" : {
        "cell.metadata.exec_info" : {
          "startTs" : 1592233328604,
          "endTs" : 1592233328843
        },
        "language" : "scala"
      },
      "language" : "scala",
      "source" : [
        "spark.read.parquet(dataDir + s\"/${dsName}.parquet\")"
      ],
      "outputs" : [
        {
          "execution_count" : 11,
          "data" : {
            "text/plain" : [
              "[user_id: string, tweet_id: string ... 21 more fields]"
            ]
          },
          "metadata" : {
            "name" : "Out",
            "type" : "DataFrame"
          },
          "output_type" : "execute_result"
        }
      ]
    }
  ]
}