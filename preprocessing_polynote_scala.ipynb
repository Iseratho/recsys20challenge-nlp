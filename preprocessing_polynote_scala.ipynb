{
  "metadata" : {
    "config" : {
      "dependencies" : {
        "scala" : [
          "com.johnsnowlabs.nlp:spark-nlp_2.11:2.5.0"
        ]
      },
      "exclusions" : [
      ],
      "repositories" : [
      ],
      "sparkConfig" : {
        "spark.memory.offHeap.enabled" : "true",
        "spark.driver.memory" : "12g",
        "spark.memory.offHeap.size" : "32g",
        "spark.master" : "local[*]",
        "spark.executor.memory" : "2g"
      },
      "env" : {
        
      }
    },
    "language_info" : {
      "name" : "scala"
    }
  },
  "nbformat" : 4,
  "nbformat_minor" : 0,
  "cells" : [
    {
      "cell_type" : "markdown",
      "execution_count" : 0,
      "metadata" : {
        "language" : "text"
      },
      "language" : "text",
      "source" : [
        "# NLP RECSYS sparknlp scala experiments<br>\n",
        "\n",
        "\n"
      ],
      "outputs" : [
      ]
    },
    {
      "cell_type" : "code",
      "execution_count" : 1,
      "metadata" : {
        "cell.metadata.exec_info" : {
          "startTs" : 1591792442020,
          "endTs" : 1591792442371
        },
        "language" : "scala"
      },
      "language" : "scala",
      "source" : [
        "import com.johnsnowlabs.nlp.SparkNLP\n",
        "import com.johnsnowlabs.nlp.annotator._\n",
        "import com.johnsnowlabs.nlp.base._\n",
        "import com.johnsnowlabs.ml.tensorflow.TensorflowBert\n",
        "import org.apache.spark.ml.Pipeline\n",
        "import org.apache.spark.sql.types._\n",
        "import org.apache.spark.sql.SaveMode\n",
        "import org.apache.spark.sql.functions.{udf,to_timestamp}\n",
        "\n",
        "val dataDir = \"/home/sko/sync/data/recsys2020\"\n"
      ],
      "outputs" : [
      ]
    },
    {
      "cell_type" : "code",
      "execution_count" : 3,
      "metadata" : {
        "cell.metadata.exec_info" : {
          "startTs" : 1591792442381,
          "endTs" : 1591792724783
        },
        "language" : "scala"
      },
      "language" : "scala",
      "source" : [
        "val embeddingIdxToTokenStringMap =  BertEmbeddings.pretrained(name=\"bert_multi_cased\", lang=\"xx\").vocabulary.getOrDefault.map(_ swap)\n"
      ],
      "outputs" : [
        {
          "name" : "stdout",
          "text" : [
            "bert_multi_cased download started this may take some time.\n",
            "Approximate size to download 638.7 MB\n",
            "Download done! Loading the resource.\n"
          ],
          "output_type" : "stream"
        }
      ]
    },
    {
      "cell_type" : "code",
      "execution_count" : 4,
      "metadata" : {
        "cell.metadata.exec_info" : {
          "startTs" : 1591792724788,
          "endTs" : 1591792727497
        },
        "language" : "scala"
      },
      "language" : "scala",
      "source" : [
        "val schema = new StructType()\n",
        "    .add(\"text_tokens\", StringType, true)\n",
        "    .add(\"hashtags\", StringType, true)\n",
        "    .add(\"tweet_id\", StringType, true)\n",
        "    .add(\"present_media\", StringType, true)\n",
        "    .add(\"present_links\", StringType, true)\n",
        "    .add(\"present_domains\", StringType, true)\n",
        "    .add(\"tweet_type\", StringType, true)\n",
        "    .add(\"language\", StringType, true)\n",
        "    .add(\"tweet_timestamp\", IntegerType, true)\n",
        "    .add(\"engaged_with_user_id\", StringType, true)\n",
        "    .add(\"engaged_with_user_follower_count\", IntegerType, true)\n",
        "    .add(\"engaged_with_user_following_count\", IntegerType, true)\n",
        "    .add(\"engaged_with_user_is_verified\", BooleanType, true)\n",
        "    .add(\"engaged_with_user_account_creation\", IntegerType, true)\n",
        "    .add(\"engaging_user_id\", StringType, true)\n",
        "    .add(\"engaging_user_follower_count\", IntegerType, true)\n",
        "    .add(\"engaging_user_following_count\", IntegerType, true)\n",
        "    .add(\"engaging_user_is_verified\", BooleanType, true)\n",
        "    .add(\"engaging_user_account_creation\", IntegerType, true)\n",
        "    .add(\"engagee_follows_engager\", BooleanType, true)\n",
        "    .add(\"reply_timestamp\", IntegerType, true)\n",
        "    .add(\"retweet_timestamp\", IntegerType, true)\n",
        "    .add(\"retweet_with_comment_timestamp\", IntegerType, true)\n",
        "    .add(\"like_timestamp\", IntegerType, true)\n",
        "\n",
        "val df = spark.read.format(\"csv\")\n",
        "        .option(\"delimiter\", \"\\u0001\")\n",
        "        .schema(schema)\n",
        "        .load(dataDir + \"/training1m.tsv\")\n"
      ],
      "outputs" : [
        {
          "execution_count" : 4,
          "data" : {
            "text/plain" : [
              "[text_tokens: string, hashtags: string ... 22 more fields]"
            ]
          },
          "metadata" : {
            "name" : "Out",
            "type" : "DataFrame"
          },
          "output_type" : "execute_result"
        }
      ]
    },
    {
      "cell_type" : "code",
      "execution_count" : 5,
      "metadata" : {
        "jupyter.outputs_hidden" : true,
        "cell.metadata.exec_info" : {
          "startTs" : 1591792727508,
          "endTs" : 1591792728661
        },
        "language" : "scala"
      },
      "language" : "scala",
      "source" : [
        "val udf_unbert = udf[Array[String], String](_.split(\"\\t\").map(strTokenIdx => embeddingIdxToTokenStringMap.getOrElse(key=strTokenIdx.toInt, default=\"UNKN\")))"
      ],
      "outputs" : [
      ]
    },
    {
      "cell_type" : "code",
      "execution_count" : 6,
      "metadata" : {
        "cell.metadata.exec_info" : {
          "startTs" : 1590245690846,
          "endTs" : 1590245690983
        },
        "language" : "scala"
      },
      "language" : "scala",
      "source" : [
        "val converted_df = df.withColumn(\"text_tokens\", udf_unbert('text_tokens))\n",
        "  .withColumn(\"hashtags\", split('hashtags, \"\\t\"))\n",
        "  .withColumn(\"present_media\", split('present_media, \"\\t\"))\n",
        "  .withColumn(\"present_links\", split('present_links, \"\\t\"))\n",
        "  .withColumn(\"present_domains\", split('present_domains, \"\\t\"))\n",
        "//   .withColumn(\"tweet_timestamp\", 'tweet_timestamp.cast(TimestampType))\n",
        "//   .withColumn(\"reply_timestamp\", 'reply_timestamp.cast(TimestampType))\n",
        "//   .withColumn(\"retweet_timestamp\", 'retweet_timestamp.cast(TimestampType))\n",
        "//   .withColumn(\"retweet_with_comment_timestamp\", 'retweet_with_comment_timestamp.cast(TimestampType))\n",
        "//   .withColumn(\"like_timestamp\", 'like_timestamp.cast(TimestampType))\n",
        "converted_df"
      ],
      "outputs" : [
        {
          "execution_count" : 6,
          "data" : {
            "text/plain" : [
              "[text_tokens: array<string>, hashtags: array<string> ... 22 more fields]"
            ]
          },
          "metadata" : {
            "name" : "Out",
            "type" : "DataFrame"
          },
          "output_type" : "execute_result"
        }
      ]
    },
    {
      "cell_type" : "code",
      "execution_count" : 7,
      "metadata" : {
        "cell.metadata.exec_info" : {
          "startTs" : 1591792729093,
          "endTs" : 1591792743097
        },
        "language" : "scala"
      },
      "language" : "scala",
      "source" : [
        "converted_df.write.mode(SaveMode.Overwrite).parquet(dataDir + \"/training1m.parquet\")"
      ],
      "outputs" : [
      ]
    },
    {
      "cell_type" : "code",
      "execution_count" : 8,
      "metadata" : {
        "cell.metadata.exec_info" : {
          "startTs" : 1591792743100,
          "endTs" : 1591792743307
        },
        "language" : "scala"
      },
      "language" : "scala",
      "source" : [
        "spark.read.parquet(dataDir + \"/training1m.parquet\")"
      ],
      "outputs" : [
        {
          "execution_count" : 8,
          "data" : {
            "text/plain" : [
              "[text_tokens: array<string>, hashtags: array<string> ... 22 more fields]"
            ]
          },
          "metadata" : {
            "name" : "Out",
            "type" : "DataFrame"
          },
          "output_type" : "execute_result"
        }
      ]
    }
  ]
}