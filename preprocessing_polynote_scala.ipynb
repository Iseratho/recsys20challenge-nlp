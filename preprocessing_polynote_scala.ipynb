{
  "metadata" : {
    "config" : {
      "dependencies" : {
        "scala" : [
          "com.johnsnowlabs.nlp:spark-nlp_2.11:2.5.0"
        ]
      },
      "exclusions" : [
      ],
      "repositories" : [
      ],
      "sparkConfig" : {
        "spark.memory.offHeap.enabled" : "true",
        "spark.driver.memory" : "12g",
        "spark.memory.offHeap.size" : "32g",
        "spark.master" : "local[*]",
        "spark.executor.memory" : "2g"
      },
      "env" : {
        
      }
    },
    "language_info" : {
      "name" : "scala"
    }
  },
  "nbformat" : 4,
  "nbformat_minor" : 0,
  "cells" : [
    {
      "cell_type" : "markdown",
      "execution_count" : 0,
      "metadata" : {
        "language" : "text"
      },
      "language" : "text",
      "source" : [
        "# NLP RECSYS preprocessing<br>\n",
        "\n",
        "\n"
      ],
      "outputs" : [
      ]
    },
    {
      "cell_type" : "code",
      "execution_count" : 1,
      "metadata" : {
        "cell.metadata.exec_info" : {
          "startTs" : 1591996910486,
          "endTs" : 1591996910687
        },
        "language" : "scala"
      },
      "language" : "scala",
      "source" : [
        "import com.johnsnowlabs.nlp.SparkNLP\n",
        "import com.johnsnowlabs.nlp.annotator._\n",
        "import com.johnsnowlabs.nlp.base._\n",
        "import com.johnsnowlabs.ml.tensorflow.TensorflowBert\n",
        "import org.apache.spark.ml.Pipeline\n",
        "import org.apache.spark.sql.types._\n",
        "import org.apache.spark.sql.SaveMode\n",
        "import scala.collection.mutable.WrappedArray\n",
        "import org.apache.spark.sql.functions.{udf,to_timestamp}\n",
        "\n",
        "val dataDir = sys.env(\"HOME\") + \"/recsys2020\"\n",
        "val dsName = \"training\"\n"
      ],
      "outputs" : [
      ]
    },
    {
      "cell_type" : "code",
      "execution_count" : 2,
      "metadata" : {
        "cell.metadata.exec_info" : {
          "startTs" : 1591996910699,
          "endTs" : 1591996911216
        },
        "language" : "scala"
      },
      "language" : "scala",
      "source" : [
        "var embeddingIdxToTokenStringMap = BertEmbeddings.pretrained(name=\"bert_multi_cased\", lang=\"xx\").vocabulary.getOrDefault.map(_ swap)"
      ],
      "outputs" : [
      ]
    },
    {
      "cell_type" : "code",
      "execution_count" : 3,
      "metadata" : {
        "cell.metadata.exec_info" : {
          "startTs" : 1591996911220,
          "endTs" : 1591996913126
        },
        "language" : "scala"
      },
      "language" : "scala",
      "source" : [
        "val schema = new StructType()\n",
        "    .add(\"text_tokens\", StringType, true)\n",
        "    .add(\"hashtags\", StringType, true)\n",
        "    .add(\"tweet_id\", StringType, true)\n",
        "    .add(\"present_media\", StringType, true)\n",
        "    .add(\"present_links\", StringType, true)\n",
        "    .add(\"present_domains\", StringType, true)\n",
        "    .add(\"tweet_type\", StringType, true)\n",
        "    .add(\"language\", StringType, true)\n",
        "    .add(\"tweet_timestamp\", IntegerType, true)\n",
        "    .add(\"author_id\", StringType, true)\n",
        "    .add(\"author_follower_count\", IntegerType, true)\n",
        "    .add(\"author_following_count\", IntegerType, true)\n",
        "    .add(\"author_is_verified\", BooleanType, true)\n",
        "    .add(\"author_account_creation\", IntegerType, true)\n",
        "    .add(\"user_id\", StringType, true)\n",
        "    .add(\"user_follower_count\", IntegerType, true)\n",
        "    .add(\"user_following_count\", IntegerType, true)\n",
        "    .add(\"user_is_verified\", BooleanType, true)\n",
        "    .add(\"user_account_creation\", IntegerType, true)\n",
        "    .add(\"follows\", BooleanType, true)\n",
        "    .add(\"reply_timestamp\", IntegerType, true)\n",
        "    .add(\"retweet_timestamp\", IntegerType, true)\n",
        "    .add(\"retweet_with_comment_timestamp\", IntegerType, true)\n",
        "    .add(\"like_timestamp\", IntegerType, true)\n",
        "\n",
        "val df = spark.read.format(\"csv\")\n",
        "        .option(\"delimiter\", \"\\u0001\")\n",
        "        .schema(schema)\n",
        "        .load(dataDir + s\"/${dsName}.tsv\")\n"
      ],
      "outputs" : [
      ]
    },
    {
      "cell_type" : "code",
      "execution_count" : 4,
      "metadata" : {
        "jupyter.outputs_hidden" : true,
        "cell.metadata.exec_info" : {
          "startTs" : 1591996913132,
          "endTs" : 1591996913975
        },
        "language" : "scala"
      },
      "language" : "scala",
      "source" : [
        "val udf_unbert = udf[Array[String], String](_.split(\"\\t\")\n",
        "    .map(strTokenIdx => \n",
        "            embeddingIdxToTokenStringMap.getOrElse(key=strTokenIdx.toInt, default=\"[UNK]\")))\n",
        "val udf_has_engagement = udf[Integer, Integer](x => if (x != null) 1 else 0)\n",
        "val udf_bool_to_int = udf[Integer, Boolean](x => if (x) 1 else 0)"
      ],
      "outputs" : [
      ]
    },
    {
      "cell_type" : "code",
      "execution_count" : 5,
      "metadata" : {
        "cell.metadata.exec_info" : {
          "startTs" : 1591996913984,
          "endTs" : 1591996914760
        },
        "language" : "scala"
      },
      "language" : "scala",
      "source" : [
        "// If there is media like photo or video, the last link in the text is always a link to the tweet itself\n",
        "val ignored_tokens = Set(\"[CLS]\",\"[UNK]\",\"[SEP]\",\"UNKN\")\n",
        "val udf_tweet = udf((text_tokens: WrappedArray[String], present_media: WrappedArray[String]) => {\n",
        "    text_tokens.filterNot(token => ignored_tokens.contains(token)).foldLeft(List[String]()){(soFar, next) => {\n",
        "            var m: String = null;\n",
        "            if (!soFar.isEmpty && soFar.last.startsWith(\"https\") && !(next == \"https\")) {\n",
        "                soFar.last.length match {\n",
        "                    case 5 => if (next == \":\") m = next;\n",
        "                    case 6 | 7 | 12 => if (next == \"/\") m = next;\n",
        "                    case 8 => if (next == \"t\") m = next;\n",
        "                    case 9 => if (next == \".\") m = next;\n",
        "                    case 10 => if (next == \"co\") m = next;\n",
        "                    case x  if (x == 13) => \n",
        "                        if (next.forall(_.isLetterOrDigit)) {\n",
        "                            m = next;\n",
        "                        }\n",
        "                    case x if (x > 13) =>\n",
        "                        if (next.startsWith(\"##\")) {\n",
        "                            val nwop = next.stripPrefix(\"##\");\n",
        "                            if (nwop.forall(_.isLetterOrDigit))\n",
        "                            {\n",
        "                                m = nwop;\n",
        "                            }\n",
        "                        }\n",
        "                }\n",
        "            }\n",
        "            else if (!soFar.isEmpty && (soFar.last.startsWith(\"#\") || soFar.last.startsWith(\"@\"))) {\n",
        "                val isFirst = Set('_', '#', '@').contains(soFar.last.last);\n",
        "                if (isFirst || next.startsWith(\"##\") || next == \"_\")\n",
        "                {\n",
        "                    val nwop = next.stripPrefix(\"##\");\n",
        "                    if (nwop.forall(c => c.isLetterOrDigit || c == '_'))\n",
        "                    {\n",
        "                        m = nwop;\n",
        "                    }\n",
        "                }\n",
        "            }\n",
        "            else if (next.startsWith(\"##\"))\n",
        "            {\n",
        "                m = next.stripPrefix(\"##\");\n",
        "            }\n",
        "            if (m != null) soFar.init :+ (soFar.last + m) else soFar :+ next\n",
        "        }\n",
        "    }.mkString(\" \")\n",
        "})"
      ],
      "outputs" : [
      ]
    },
    {
      "cell_type" : "code",
      "execution_count" : 6,
      "metadata" : {
        "cell.metadata.exec_info" : {
          "startTs" : 1591996914765,
          "endTs" : 1591996915084
        },
        "language" : "scala"
      },
      "language" : "scala",
      "source" : [
        "val converted_df = df.withColumn(\"text_tokens\", udf_unbert('text_tokens))\n",
        "  .withColumn(\"hashtags\", split('hashtags, \"\\t\"))\n",
        "  .withColumn(\"present_media\", split('present_media, \"\\t\"))\n",
        "  .withColumn(\"present_links\", split('present_links, \"\\t\"))\n",
        "  .withColumn(\"present_domains\", split('present_domains, \"\\t\"))\n",
        "  .withColumn(\"has_retweet\", udf_has_engagement('retweet_timestamp))\n",
        "  .withColumn(\"has_retweet_with_comment\", udf_has_engagement('retweet_with_comment_timestamp))\n",
        "  .withColumn(\"has_like\", udf_has_engagement('like_timestamp))\n",
        "  .withColumn(\"has_reply\", udf_has_engagement('reply_timestamp))\n",
        "  .withColumn(\"follows\", udf_bool_to_int('follows))\n",
        "  .withColumn(\"user_is_verified\", udf_bool_to_int('user_is_verified))\n",
        "  .withColumn(\"author_is_verified\", udf_bool_to_int('author_is_verified))\n",
        "  .withColumn(\"tweet_text\", udf_tweet('text_tokens, 'present_media))\n",
        "\n",
        "converted_df"
      ],
      "outputs" : [
        {
          "execution_count" : 6,
          "data" : {
            "text/plain" : [
              "[text_tokens: array<string>, hashtags: array<string> ... 27 more fields]"
            ]
          },
          "metadata" : {
            "name" : "Out",
            "type" : "DataFrame"
          },
          "output_type" : "execute_result"
        }
      ]
    },
    {
      "cell_type" : "code",
      "execution_count" : 7,
      "metadata" : {
        "cell.metadata.exec_info" : {
          "startTs" : 1591996915090,
          "endTs" : 1592000658038
        },
        "language" : "scala"
      },
      "language" : "scala",
      "source" : [
        "converted_df.select(\n",
        "        // for evaluation\n",
        "        'user_id,\n",
        "        'tweet_id,\n",
        "        // model inputs\n",
        "        'tweet_type,\n",
        "        'tweet_text,\n",
        "        'author_follower_count,\n",
        "        'author_following_count,\n",
        "        'author_is_verified,\n",
        "        'user_follower_count,\n",
        "        'user_following_count,\n",
        "        'user_is_verified,\n",
        "        'follows,\n",
        "        // unused for now\n",
        "        'tweet_timestamp,\n",
        "        'hashtags,\n",
        "        'present_media,\n",
        "        'present_domains,\n",
        "        // model outputs\n",
        "        'has_retweet,\n",
        "        'has_retweet_with_comment,\n",
        "        'has_like,\n",
        "        'has_reply\n",
        "    ).write\n",
        "    .mode(SaveMode.Overwrite)\n",
        "    .parquet(dataDir + s\"/${dsName}.parquet\")"
      ],
      "outputs" : [
      ]
    },
    {
      "cell_type" : "code",
      "execution_count" : 8,
      "metadata" : {
        "cell.metadata.exec_info" : {
          "startTs" : 1592000658042,
          "endTs" : 1592000658325
        },
        "language" : "scala"
      },
      "language" : "scala",
      "source" : [
        "spark.read.parquet(dataDir + s\"/${dsName}.parquet\")"
      ],
      "outputs" : [
        {
          "execution_count" : 8,
          "data" : {
            "text/plain" : [
              "[user_id: string, tweet_id: string ... 17 more fields]"
            ]
          },
          "metadata" : {
            "name" : "Out",
            "type" : "DataFrame"
          },
          "output_type" : "execute_result"
        }
      ]
    }
  ]
}
