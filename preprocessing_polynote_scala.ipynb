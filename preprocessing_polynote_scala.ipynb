{
  "metadata" : {
    "config" : {
      "dependencies" : {
        "scala" : [
          "com.johnsnowlabs.nlp:spark-nlp_2.11:2.5.0"
        ]
      },
      "exclusions" : [
      ],
      "repositories" : [
      ],
      "sparkConfig" : {
        "spark.memory.offHeap.enabled" : "true",
        "spark.driver.memory" : "12g",
        "spark.memory.offHeap.size" : "32g",
        "spark.master" : "local[*]",
        "spark.executor.memory" : "2g"
      },
      "env" : {
        
      }
    },
    "language_info" : {
      "name" : "scala"
    }
  },
  "nbformat" : 4,
  "nbformat_minor" : 0,
  "cells" : [
    {
      "cell_type" : "markdown",
      "execution_count" : 0,
      "metadata" : {
        "language" : "text"
      },
      "language" : "text",
      "source" : [
        "# NLP RECSYS preprocessing<br>\n",
        "\n",
        "\n"
      ],
      "outputs" : [
      ]
    },
    {
      "cell_type" : "code",
      "execution_count" : 1,
      "metadata" : {
        "cell.metadata.exec_info" : {
          "startTs" : 1591996910486,
          "endTs" : 1591996910687
        },
        "language" : "scala"
      },
      "language" : "scala",
      "source" : [
        "import com.johnsnowlabs.nlp.SparkNLP\n",
        "import com.johnsnowlabs.nlp.annotator._\n",
        "import com.johnsnowlabs.nlp.base._\n",
        "import com.johnsnowlabs.ml.tensorflow.TensorflowBert\n",
        "import org.apache.spark.ml.Pipeline\n",
        "import org.apache.spark.sql.types._\n",
        "import org.apache.spark.sql.SaveMode\n",
        "import scala.collection.mutable.WrappedArray\n",
        "import org.apache.spark.sql.functions.{udf,to_timestamp}\n",
        "\n",
        "val dataDir = sys.env(\"HOME\") + \"/recsys2020\"\n",
        "val dsName = \"training1k\"\n"
      ],
      "outputs" : [
      ]
    },
    {
      "cell_type" : "code",
      "execution_count" : 2,
      "metadata" : {
        "cell.metadata.exec_info" : {
          "startTs" : 1591996910699,
          "endTs" : 1591996911216
        },
        "language" : "scala"
      },
      "language" : "scala",
      "source" : [
        "var embeddingIdxToTokenStringMap = BertEmbeddings.pretrained(name=\"bert_multi_cased\", lang=\"xx\").vocabulary.getOrDefault.map(_ swap)"
      ],
      "outputs" : [
      ]
    },
    {
      "cell_type" : "code",
      "execution_count" : 3,
      "metadata" : {
        "cell.metadata.exec_info" : {
          "startTs" : 1592174986541,
          "endTs" : 1592174986711
        },
        "language" : "scala"
      },
      "language" : "scala",
      "source" : [
        "val schema = new StructType()\n",
        "    .add(\"text_tokens\", StringType, true)\n",
        "    .add(\"hashtags\", StringType, true)\n",
        "    .add(\"tweet_id\", StringType, true)\n",
        "    .add(\"present_media\", StringType, true)\n",
        "    .add(\"present_links\", StringType, true)\n",
        "    .add(\"present_domains\", StringType, true)\n",
        "    .add(\"tweet_type\", StringType, true)\n",
        "    .add(\"language\", StringType, true)\n",
        "    .add(\"tweet_timestamp\", IntegerType, true)\n",
        "    .add(\"author_id\", StringType, true)\n",
        "    .add(\"author_follower_count\", IntegerType, true)\n",
        "    .add(\"author_following_count\", IntegerType, true)\n",
        "    .add(\"author_is_verified\", BooleanType, true)\n",
        "    .add(\"author_account_creation\", IntegerType, true)\n",
        "    .add(\"user_id\", StringType, true)\n",
        "    .add(\"user_follower_count\", IntegerType, true)\n",
        "    .add(\"user_following_count\", IntegerType, true)\n",
        "    .add(\"user_is_verified\", BooleanType, true)\n",
        "    .add(\"user_account_creation\", IntegerType, true)\n",
        "    .add(\"follows\", BooleanType, true)\n",
        "    .add(\"reply_timestamp\", IntegerType, true)\n",
        "    .add(\"retweet_timestamp\", IntegerType, true)\n",
        "    .add(\"retweet_with_comment_timestamp\", IntegerType, true)\n",
        "    .add(\"like_timestamp\", IntegerType, true)\n",
        "\n",
        "val df = spark.read.format(\"csv\")\n",
        "        .option(\"delimiter\", \"\\u0001\")\n",
        "        .schema(schema)\n",
        "        .load(dataDir + s\"/${dsName}.tsv\")\n"
      ],
      "outputs" : [
        {
          "execution_count" : 3,
          "data" : {
            "application/json" : [
              {
                "pos" : {
                  "sourceId" : "Cell3",
                  "start" : 17,
                  "end" : 27,
                  "point" : 17
                },
                "msg" : "not found: type StructType",
                "severity" : 2
              },
              {
                "pos" : {
                  "sourceId" : "Cell3",
                  "start" : 54,
                  "end" : 64,
                  "point" : 54
                },
                "msg" : "not found: value StringType",
                "severity" : 2
              },
              {
                "pos" : {
                  "sourceId" : "Cell3",
                  "start" : 93,
                  "end" : 103,
                  "point" : 93
                },
                "msg" : "not found: value StringType",
                "severity" : 2
              },
              {
                "pos" : {
                  "sourceId" : "Cell3",
                  "start" : 132,
                  "end" : 142,
                  "point" : 132
                },
                "msg" : "not found: value StringType",
                "severity" : 2
              },
              {
                "pos" : {
                  "sourceId" : "Cell3",
                  "start" : 176,
                  "end" : 186,
                  "point" : 176
                },
                "msg" : "not found: value StringType",
                "severity" : 2
              },
              {
                "pos" : {
                  "sourceId" : "Cell3",
                  "start" : 220,
                  "end" : 230,
                  "point" : 220
                },
                "msg" : "not found: value StringType",
                "severity" : 2
              },
              {
                "pos" : {
                  "sourceId" : "Cell3",
                  "start" : 266,
                  "end" : 276,
                  "point" : 266
                },
                "msg" : "not found: value StringType",
                "severity" : 2
              },
              {
                "pos" : {
                  "sourceId" : "Cell3",
                  "start" : 307,
                  "end" : 317,
                  "point" : 307
                },
                "msg" : "not found: value StringType",
                "severity" : 2
              },
              {
                "pos" : {
                  "sourceId" : "Cell3",
                  "start" : 346,
                  "end" : 356,
                  "point" : 346
                },
                "msg" : "not found: value StringType",
                "severity" : 2
              },
              {
                "pos" : {
                  "sourceId" : "Cell3",
                  "start" : 392,
                  "end" : 403,
                  "point" : 392
                },
                "msg" : "not found: value IntegerType",
                "severity" : 2
              },
              {
                "pos" : {
                  "sourceId" : "Cell3",
                  "start" : 433,
                  "end" : 443,
                  "point" : 433
                },
                "msg" : "not found: value StringType",
                "severity" : 2
              },
              {
                "pos" : {
                  "sourceId" : "Cell3",
                  "start" : 485,
                  "end" : 496,
                  "point" : 485
                },
                "msg" : "not found: value IntegerType",
                "severity" : 2
              },
              {
                "pos" : {
                  "sourceId" : "Cell3",
                  "start" : 539,
                  "end" : 550,
                  "point" : 539
                },
                "msg" : "not found: value IntegerType",
                "severity" : 2
              },
              {
                "pos" : {
                  "sourceId" : "Cell3",
                  "start" : 589,
                  "end" : 600,
                  "point" : 589
                },
                "msg" : "not found: value BooleanType",
                "severity" : 2
              },
              {
                "pos" : {
                  "sourceId" : "Cell3",
                  "start" : 644,
                  "end" : 655,
                  "point" : 644
                },
                "msg" : "not found: value IntegerType",
                "severity" : 2
              },
              {
                "pos" : {
                  "sourceId" : "Cell3",
                  "start" : 683,
                  "end" : 693,
                  "point" : 683
                },
                "msg" : "not found: value StringType",
                "severity" : 2
              },
              {
                "pos" : {
                  "sourceId" : "Cell3",
                  "start" : 733,
                  "end" : 744,
                  "point" : 733
                },
                "msg" : "not found: value IntegerType",
                "severity" : 2
              },
              {
                "pos" : {
                  "sourceId" : "Cell3",
                  "start" : 785,
                  "end" : 796,
                  "point" : 785
                },
                "msg" : "not found: value IntegerType",
                "severity" : 2
              },
              {
                "pos" : {
                  "sourceId" : "Cell3",
                  "start" : 833,
                  "end" : 844,
                  "point" : 833
                },
                "msg" : "not found: value BooleanType",
                "severity" : 2
              },
              {
                "pos" : {
                  "sourceId" : "Cell3",
                  "start" : 886,
                  "end" : 897,
                  "point" : 886
                },
                "msg" : "not found: value IntegerType",
                "severity" : 2
              },
              {
                "pos" : {
                  "sourceId" : "Cell3",
                  "start" : 925,
                  "end" : 936,
                  "point" : 925
                },
                "msg" : "not found: value BooleanType",
                "severity" : 2
              },
              {
                "pos" : {
                  "sourceId" : "Cell3",
                  "start" : 972,
                  "end" : 983,
                  "point" : 972
                },
                "msg" : "not found: value IntegerType",
                "severity" : 2
              },
              {
                "pos" : {
                  "sourceId" : "Cell3",
                  "start" : 1021,
                  "end" : 1032,
                  "point" : 1021
                },
                "msg" : "not found: value IntegerType",
                "severity" : 2
              },
              {
                "pos" : {
                  "sourceId" : "Cell3",
                  "start" : 1083,
                  "end" : 1094,
                  "point" : 1083
                },
                "msg" : "not found: value IntegerType",
                "severity" : 2
              },
              {
                "pos" : {
                  "sourceId" : "Cell3",
                  "start" : 1129,
                  "end" : 1140,
                  "point" : 1129
                },
                "msg" : "not found: value IntegerType",
                "severity" : 2
              }
            ],
            "text/plain" : [
              "Error: not found: type StructType (17)",
              "Error: not found: value StringType (54)",
              "Error: not found: value StringType (93)",
              "Error: not found: value StringType (132)",
              "Error: not found: value StringType (176)",
              "Error: not found: value StringType (220)",
              "Error: not found: value StringType (266)",
              "Error: not found: value StringType (307)",
              "Error: not found: value StringType (346)",
              "Error: not found: value IntegerType (392)",
              "Error: not found: value StringType (433)",
              "Error: not found: value IntegerType (485)",
              "Error: not found: value IntegerType (539)",
              "Error: not found: value BooleanType (589)",
              "Error: not found: value IntegerType (644)",
              "Error: not found: value StringType (683)",
              "Error: not found: value IntegerType (733)",
              "Error: not found: value IntegerType (785)",
              "Error: not found: value BooleanType (833)",
              "Error: not found: value IntegerType (886)",
              "Error: not found: value BooleanType (925)",
              "Error: not found: value IntegerType (972)",
              "Error: not found: value IntegerType (1021)",
              "Error: not found: value IntegerType (1083)",
              "Error: not found: value IntegerType (1129)"
            ]
          },
          "metadata" : {
            "rel" : "compiler_errors"
          },
          "output_type" : "execute_result"
        }
      ]
    },
    {
      "cell_type" : "code",
      "execution_count" : 4,
      "metadata" : {
        "jupyter.outputs_hidden" : true,
        "cell.metadata.exec_info" : {
          "startTs" : 1592174986715,
          "endTs" : 1592174987143
        },
        "language" : "scala"
      },
      "language" : "scala",
      "source" : [
        "val udf_unbert = udf[Array[String], String](_.split(\"\\t\")\n",
        "    .map(strTokenIdx => \n",
        "            embeddingIdxToTokenStringMap.getOrElse(key=strTokenIdx.toInt, default=\"[UNK]\")))\n",
        "val udf_has_engagement = udf[Integer, Integer](x => if (x != null) 1 else 0)\n",
        "val udf_bool_to_int = udf[Integer, Boolean](x => if (x) 1 else 0)"
      ],
      "outputs" : [
        {
          "execution_count" : 4,
          "data" : {
            "application/json" : [
              {
                "pos" : {
                  "sourceId" : "Cell4",
                  "start" : 95,
                  "end" : 123,
                  "point" : 95
                },
                "msg" : "not found: value embeddingIdxToTokenStringMap",
                "severity" : 2
              },
              {
                "pos" : {
                  "sourceId" : "Cell4",
                  "start" : 134,
                  "end" : 137,
                  "point" : 134
                },
                "msg" : "not found: value key",
                "severity" : 2
              },
              {
                "pos" : {
                  "sourceId" : "Cell4",
                  "start" : 157,
                  "end" : 164,
                  "point" : 157
                },
                "msg" : "not found: value default",
                "severity" : 2
              }
            ],
            "text/plain" : [
              "Error: not found: value embeddingIdxToTokenStringMap (95)",
              "Error: not found: value key (134)",
              "Error: not found: value default (157)"
            ]
          },
          "metadata" : {
            "rel" : "compiler_errors"
          },
          "output_type" : "execute_result"
        }
      ]
    },
    {
      "cell_type" : "code",
      "execution_count" : 5,
      "metadata" : {
        "cell.metadata.exec_info" : {
          "startTs" : 1592174987151,
          "endTs" : 1592174987283
        },
        "language" : "scala"
      },
      "language" : "scala",
      "source" : [
        "// If there is media like photo or video, the last link in the text is always a link to the tweet itself\n",
        "val ignored_tokens = Set(\"[CLS]\",\"[UNK]\",\"[SEP]\",\"UNKN\")\n",
        "val udf_tweet = udf((text_tokens: WrappedArray[String], present_media: WrappedArray[String]) => {\n",
        "    text_tokens.filterNot(token => ignored_tokens.contains(token)).foldLeft(List[String]()){(soFar, next) => {\n",
        "            var m: String = null;\n",
        "            if (!soFar.isEmpty && soFar.last.startsWith(\"https\") && !(next == \"https\")) {\n",
        "                soFar.last.length match {\n",
        "                    case 5 => if (next == \":\") m = next;\n",
        "                    case 6 | 7 | 12 => if (next == \"/\") m = next;\n",
        "                    case 8 => if (next == \"t\") m = next;\n",
        "                    case 9 => if (next == \".\") m = next;\n",
        "                    case 10 => if (next == \"co\") m = next;\n",
        "                    case x  if (x == 13) => \n",
        "                        if (next.forall(_.isLetterOrDigit)) {\n",
        "                            m = next;\n",
        "                        }\n",
        "                    case x if (x > 13) =>\n",
        "                        if (next.startsWith(\"##\")) {\n",
        "                            val nwop = next.stripPrefix(\"##\");\n",
        "                            if (nwop.forall(_.isLetterOrDigit))\n",
        "                            {\n",
        "                                m = nwop;\n",
        "                            }\n",
        "                        }\n",
        "                }\n",
        "            }\n",
        "            else if (!soFar.isEmpty && (soFar.last.startsWith(\"#\") || soFar.last.startsWith(\"@\"))) {\n",
        "                val isFirst = Set('_', '#', '@').contains(soFar.last.last);\n",
        "                if (isFirst || next.startsWith(\"##\") || next == \"_\")\n",
        "                {\n",
        "                    val nwop = next.stripPrefix(\"##\");\n",
        "                    if (nwop.forall(c => c.isLetterOrDigit || c == '_'))\n",
        "                    {\n",
        "                        m = nwop;\n",
        "                    }\n",
        "                }\n",
        "            }\n",
        "            else if (next.startsWith(\"##\"))\n",
        "            {\n",
        "                m = next.stripPrefix(\"##\");\n",
        "            }\n",
        "            if (m != null) soFar.init :+ (soFar.last + m) else soFar :+ next\n",
        "        }\n",
        "    }.mkString(\" \")\n",
        "})"
      ],
      "outputs" : [
        {
          "execution_count" : 5,
          "data" : {
            "application/json" : [
              {
                "pos" : {
                  "sourceId" : "Cell5",
                  "start" : 196,
                  "end" : 208,
                  "point" : 196
                },
                "msg" : "not found: type WrappedArray",
                "severity" : 2
              },
              {
                "pos" : {
                  "sourceId" : "Cell5",
                  "start" : 233,
                  "end" : 245,
                  "point" : 233
                },
                "msg" : "not found: type WrappedArray",
                "severity" : 2
              }
            ],
            "text/plain" : [
              "Error: not found: type WrappedArray (196)",
              "Error: not found: type WrappedArray (233)"
            ]
          },
          "metadata" : {
            "rel" : "compiler_errors"
          },
          "output_type" : "execute_result"
        }
      ]
    },
    {
      "cell_type" : "code",
      "execution_count" : 6,
      "metadata" : {
        "cell.metadata.exec_info" : {
          "startTs" : 1592174987301,
          "endTs" : 1592174987440
        },
        "language" : "scala"
      },
      "language" : "scala",
      "source" : [
        "val converted_df = df.withColumn(\"text_tokens\", udf_unbert('text_tokens))\n",
        "  .withColumn(\"hashtags\", split('hashtags, \"\\t\"))\n",
        "  .withColumn(\"present_media\", split('present_media, \"\\t\"))\n",
        "  .withColumn(\"present_links\", split('present_links, \"\\t\"))\n",
        "  .withColumn(\"present_domains\", split('present_domains, \"\\t\"))\n",
        "  .withColumn(\"has_retweet\", udf_has_engagement('retweet_timestamp))\n",
        "  .withColumn(\"has_retweet_with_comment\", udf_has_engagement('retweet_with_comment_timestamp))\n",
        "  .withColumn(\"has_like\", udf_has_engagement('like_timestamp))\n",
        "  .withColumn(\"has_reply\", udf_has_engagement('reply_timestamp))\n",
        "  .withColumn(\"follows\", udf_bool_to_int('follows))\n",
        "  .withColumn(\"user_is_verified\", udf_bool_to_int('user_is_verified))\n",
        "  .withColumn(\"author_is_verified\", udf_bool_to_int('author_is_verified))\n",
        "  .withColumn(\"tweet_text\", udf_tweet('text_tokens, 'present_media))\n",
        "\n",
        "converted_df"
      ],
      "outputs" : [
        {
          "execution_count" : 6,
          "data" : {
            "application/json" : [
              {
                "pos" : {
                  "sourceId" : "Cell6",
                  "start" : 19,
                  "end" : 21,
                  "point" : 19
                },
                "msg" : "not found: value df",
                "severity" : 2
              },
              {
                "pos" : {
                  "sourceId" : "Cell6",
                  "start" : 48,
                  "end" : 58,
                  "point" : 48
                },
                "msg" : "not found: value udf_unbert",
                "severity" : 2
              },
              {
                "pos" : {
                  "sourceId" : "Cell6",
                  "start" : 337,
                  "end" : 355,
                  "point" : 337
                },
                "msg" : "not found: value udf_has_engagement",
                "severity" : 2
              },
              {
                "pos" : {
                  "sourceId" : "Cell6",
                  "start" : 419,
                  "end" : 437,
                  "point" : 419
                },
                "msg" : "not found: value udf_has_engagement",
                "severity" : 2
              },
              {
                "pos" : {
                  "sourceId" : "Cell6",
                  "start" : 498,
                  "end" : 516,
                  "point" : 498
                },
                "msg" : "not found: value udf_has_engagement",
                "severity" : 2
              },
              {
                "pos" : {
                  "sourceId" : "Cell6",
                  "start" : 562,
                  "end" : 580,
                  "point" : 562
                },
                "msg" : "not found: value udf_has_engagement",
                "severity" : 2
              },
              {
                "pos" : {
                  "sourceId" : "Cell6",
                  "start" : 625,
                  "end" : 640,
                  "point" : 625
                },
                "msg" : "not found: value udf_bool_to_int",
                "severity" : 2
              },
              {
                "pos" : {
                  "sourceId" : "Cell6",
                  "start" : 686,
                  "end" : 701,
                  "point" : 686
                },
                "msg" : "not found: value udf_bool_to_int",
                "severity" : 2
              },
              {
                "pos" : {
                  "sourceId" : "Cell6",
                  "start" : 758,
                  "end" : 773,
                  "point" : 758
                },
                "msg" : "not found: value udf_bool_to_int",
                "severity" : 2
              },
              {
                "pos" : {
                  "sourceId" : "Cell6",
                  "start" : 824,
                  "end" : 833,
                  "point" : 824
                },
                "msg" : "not found: value udf_tweet",
                "severity" : 2
              }
            ],
            "text/plain" : [
              "Error: not found: value df (19)",
              "Error: not found: value udf_unbert (48)",
              "Error: not found: value udf_has_engagement (337)",
              "Error: not found: value udf_has_engagement (419)",
              "Error: not found: value udf_has_engagement (498)",
              "Error: not found: value udf_has_engagement (562)",
              "Error: not found: value udf_bool_to_int (625)",
              "Error: not found: value udf_bool_to_int (686)",
              "Error: not found: value udf_bool_to_int (758)",
              "Error: not found: value udf_tweet (824)"
            ]
          },
          "metadata" : {
            "rel" : "compiler_errors"
          },
          "output_type" : "execute_result"
        }
      ]
    },
    {
      "cell_type" : "code",
      "execution_count" : 7,
      "metadata" : {
        "cell.metadata.exec_info" : {
          "startTs" : 1592174987449,
          "endTs" : 1592174987529
        },
        "language" : "scala"
      },
      "language" : "scala",
      "source" : [
        "converted_df.select(\n",
        "        // for evaluation\n",
        "        'user_id,\n",
        "        'tweet_id,\n",
        "        // model inputs\n",
        "        'tweet_type,\n",
        "        'tweet_text,\n",
        "        'author_follower_count,\n",
        "        'author_following_count,\n",
        "        'author_is_verified,\n",
        "        'user_follower_count,\n",
        "        'user_following_count,\n",
        "        'user_is_verified,\n",
        "        'follows,\n",
        "        // unused for now\n",
        "        'tweet_timestamp,\n",
        "        'hashtags,\n",
        "        'present_media,\n",
        "        'present_domains,\n",
        "        // model outputs\n",
        "        'has_retweet,\n",
        "        'has_retweet_with_comment,\n",
        "        'has_like,\n",
        "        'has_reply\n",
        "    ).write\n",
        "    .mode(SaveMode.Overwrite)\n",
        "    .parquet(dataDir + s\"/${dsName}.parquet\")"
      ],
      "outputs" : [
        {
          "execution_count" : 7,
          "data" : {
            "application/json" : [
              {
                "pos" : {
                  "sourceId" : "Cell7",
                  "start" : 0,
                  "end" : 12,
                  "point" : 0
                },
                "msg" : "not found: value converted_df",
                "severity" : 2
              },
              {
                "pos" : {
                  "sourceId" : "Cell7",
                  "start" : 613,
                  "end" : 621,
                  "point" : 613
                },
                "msg" : "not found: value SaveMode",
                "severity" : 2
              },
              {
                "pos" : {
                  "sourceId" : "Cell7",
                  "start" : 646,
                  "end" : 653,
                  "point" : 646
                },
                "msg" : "not found: value dataDir",
                "severity" : 2
              },
              {
                "pos" : {
                  "sourceId" : "Cell7",
                  "start" : 661,
                  "end" : 667,
                  "point" : 661
                },
                "msg" : "not found: value dsName",
                "severity" : 2
              }
            ],
            "text/plain" : [
              "Error: not found: value converted_df (0)",
              "Error: not found: value SaveMode (613)",
              "Error: not found: value dataDir (646)",
              "Error: not found: value dsName (661)"
            ]
          },
          "metadata" : {
            "rel" : "compiler_errors"
          },
          "output_type" : "execute_result"
        }
      ]
    },
    {
      "cell_type" : "code",
      "execution_count" : 8,
      "metadata" : {
        "cell.metadata.exec_info" : {
          "startTs" : 1592174987534,
          "endTs" : 1592174987572
        },
        "language" : "scala"
      },
      "language" : "scala",
      "source" : [
        "spark.read.parquet(dataDir + s\"/${dsName}.parquet\")"
      ],
      "outputs" : [
        {
          "execution_count" : 8,
          "data" : {
            "application/json" : [
              {
                "pos" : {
                  "sourceId" : "Cell8",
                  "start" : 19,
                  "end" : 26,
                  "point" : 19
                },
                "msg" : "not found: value dataDir",
                "severity" : 2
              },
              {
                "pos" : {
                  "sourceId" : "Cell8",
                  "start" : 34,
                  "end" : 40,
                  "point" : 34
                },
                "msg" : "not found: value dsName",
                "severity" : 2
              }
            ],
            "text/plain" : [
              "Error: not found: value dataDir (19)",
              "Error: not found: value dsName (34)"
            ]
          },
          "metadata" : {
            "rel" : "compiler_errors"
          },
          "output_type" : "execute_result"
        }
      ]
    }
  ]
}