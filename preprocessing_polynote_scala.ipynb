{
  "metadata" : {
    "config" : {
      "dependencies" : {
        "scala" : [
          "com.johnsnowlabs.nlp:spark-nlp_2.11:2.5.0"
        ]
      },
      "exclusions" : [
      ],
      "repositories" : [
      ],
      "sparkConfig" : {
        "spark.memory.offHeap.enabled" : "true",
        "spark.driver.memory" : "12g",
        "spark.memory.offHeap.size" : "32g",
        "spark.master" : "local[*]",
        "spark.executor.memory" : "2g"
      },
      "env" : {
        
      }
    },
    "language_info" : {
      "name" : "scala"
    }
  },
  "nbformat" : 4,
  "nbformat_minor" : 0,
  "cells" : [
    {
      "cell_type" : "markdown",
      "execution_count" : 0,
      "metadata" : {
        "language" : "text"
      },
      "language" : "text",
      "source" : [
        "# NLP RECSYS preprocessing<br>\n",
        "\n",
        "\n"
      ],
      "outputs" : [
      ]
    },
    {
      "cell_type" : "code",
      "execution_count" : 1,
      "metadata" : {
        "cell.metadata.exec_info" : {
          "startTs" : 1592213553954,
          "endTs" : 1592213554666
        },
        "language" : "scala"
      },
      "language" : "scala",
      "source" : [
        "import com.johnsnowlabs.nlp.SparkNLP\n",
        "import com.johnsnowlabs.nlp.annotator._\n",
        "import com.johnsnowlabs.nlp.base._\n",
        "import com.johnsnowlabs.ml.tensorflow.TensorflowBert\n",
        "import org.apache.spark.ml.Pipeline\n",
        "import org.apache.spark.sql.types._\n",
        "import org.apache.spark.sql.SaveMode\n",
        "import scala.collection.mutable.WrappedArray\n",
        "import org.apache.spark.sql.functions.{udf,to_timestamp}\n",
        "\n",
        "val dataDir = sys.env(\"HOME\") + \"/recsys2020\"\n",
        "val dsName = \"training1m\"\n"
      ],
      "outputs" : [
      ]
    },
    {
      "cell_type" : "code",
      "execution_count" : 2,
      "metadata" : {
        "cell.metadata.exec_info" : {
          "startTs" : 1592213554725
        },
        "language" : "scala"
      },
      "language" : "scala",
      "source" : [
        "val bert = BertEmbeddings.pretrained(name=\"bert_multi_cased\", lang=\"xx\")"
      ],
      "outputs" : [
        {
          "name" : "stdout",
          "text" : [
            "bert_multi_cased download started this may take some time.\n",
            "Approximate size to download 638.7 MB\n",
            "Download done! Loading the resource.\n"
          ],
          "output_type" : "stream"
        }
      ]
    },
    {
      "cell_type" : "code",
      "execution_count" : 3,
      "metadata" : {
        "cell.metadata.exec_info" : {
          "startTs" : 1592212817444,
          "endTs" : 1592212818215
        },
        "language" : "scala"
      },
      "language" : "scala",
      "source" : [
        "var embeddingIdxToTokenStringMap = bert.vocabulary.getOrDefault.map(_ swap)"
      ],
      "outputs" : [
      ]
    },
    {
      "cell_type" : "code",
      "execution_count" : 4,
      "metadata" : {
        "jupyter.outputs_hidden" : true,
        "cell.metadata.exec_info" : {
          "startTs" : 1592212818219,
          "endTs" : 1592212821574
        },
        "language" : "scala"
      },
      "language" : "scala",
      "source" : [
        "val schema = new StructType()\n",
        "    .add(\"text_tokens\", StringType, true)\n",
        "    .add(\"hashtags\", StringType, true)\n",
        "    .add(\"tweet_id\", StringType, true)\n",
        "    .add(\"present_media\", StringType, true)\n",
        "    .add(\"present_links\", StringType, true)\n",
        "    .add(\"present_domains\", StringType, true)\n",
        "    .add(\"tweet_type\", StringType, true)\n",
        "    .add(\"language\", StringType, true)\n",
        "    .add(\"tweet_timestamp\", IntegerType, true)\n",
        "    .add(\"author_id\", StringType, true)\n",
        "    .add(\"author_follower_count\", IntegerType, true)\n",
        "    .add(\"author_following_count\", IntegerType, true)\n",
        "    .add(\"author_is_verified\", BooleanType, true)\n",
        "    .add(\"author_account_creation\", IntegerType, true)\n",
        "    .add(\"user_id\", StringType, true)\n",
        "    .add(\"user_follower_count\", IntegerType, true)\n",
        "    .add(\"user_following_count\", IntegerType, true)\n",
        "    .add(\"user_is_verified\", BooleanType, true)\n",
        "    .add(\"user_account_creation\", IntegerType, true)\n",
        "    .add(\"follows\", BooleanType, true)\n",
        "    .add(\"reply_timestamp\", IntegerType, true)\n",
        "    .add(\"retweet_timestamp\", IntegerType, true)\n",
        "    .add(\"retweet_with_comment_timestamp\", IntegerType, true)\n",
        "    .add(\"like_timestamp\", IntegerType, true)\n",
        "\n",
        "val df = spark.read.format(\"csv\")\n",
        "        .option(\"delimiter\", \"\\u0001\")\n",
        "        .schema(schema)\n",
        "        .load(dataDir + s\"/${dsName}.tsv\")\n"
      ],
      "outputs" : [
      ]
    },
    {
      "cell_type" : "code",
      "execution_count" : 5,
      "metadata" : {
        "jupyter.outputs_hidden" : true,
        "cell.metadata.exec_info" : {
          "startTs" : 1592212821580,
          "endTs" : 1592212823452
        },
        "language" : "scala"
      },
      "language" : "scala",
      "source" : [
        "val udf_unbert = udf[Array[String], String](_.split(\"\\t\")\n",
        "    .map(strTokenIdx => \n",
        "            embeddingIdxToTokenStringMap.getOrElse(key=strTokenIdx.toInt, default=\"[UNK]\")))\n",
        "val udf_has_engagement = udf[Integer, Integer](x => if (x != null) 1 else 0)\n",
        "val udf_bool_to_int = udf[Integer, Boolean](x => if (x) 1 else 0)"
      ],
      "outputs" : [
      ]
    },
    {
      "cell_type" : "code",
      "execution_count" : 6,
      "metadata" : {
        "cell.metadata.exec_info" : {
          "startTs" : 1592212823458,
          "endTs" : 1592212824639
        },
        "language" : "scala"
      },
      "language" : "scala",
      "source" : [
        "val udf_aggBert = udf[Array[Float], String](tweetTokenString => {\n",
        "    val tokens = tweetTokenString.split(\"\\t\").map(_.toInt).toArray\n",
        "    val numTokens = tokens.length\n",
        "    val input = Seq(tokens ++ Array.fill(bert.getMaxSentenceLength - numTokens)(0))\n",
        "    val embeddings = bert.getModelIfNotSet.tag(input, \"module/bert/encoder/Reshape_1:0\", bert.getMaxSentenceLength)\n",
        "    val sumEmbeddings = embeddings.head.take(numTokens).transpose.map(_.sum)\n",
        "    sumEmbeddings.map(x => (x * 1.0 / numTokens).toFloat)\n",
        "})"
      ],
      "outputs" : [
      ]
    },
    {
      "cell_type" : "code",
      "execution_count" : 7,
      "metadata" : {
        "cell.metadata.exec_info" : {
          "startTs" : 1592212824643,
          "endTs" : 1592212825929
        },
        "language" : "scala"
      },
      "language" : "scala",
      "source" : [
        "// If there is media like photo or video, the last link in the text is always a link to the tweet itself\n",
        "val ignored_tokens = Set(\"[CLS]\",\"[UNK]\",\"[SEP]\",\"UNKN\")\n",
        "val udf_tweet = udf((text_tokens: WrappedArray[String], present_media: WrappedArray[String]) => {\n",
        "    text_tokens.filterNot(token => ignored_tokens.contains(token)).foldLeft(List[String]()){(soFar, next) => {\n",
        "            var m: String = null;\n",
        "            if (!soFar.isEmpty && soFar.last.startsWith(\"https\") && !(next == \"https\")) {\n",
        "                soFar.last.length match {\n",
        "                    case 5 => if (next == \":\") m = next;\n",
        "                    case 6 | 7 | 12 => if (next == \"/\") m = next;\n",
        "                    case 8 => if (next == \"t\") m = next;\n",
        "                    case 9 => if (next == \".\") m = next;\n",
        "                    case 10 => if (next == \"co\") m = next;\n",
        "                    case x  if (x == 13) => \n",
        "                        if (next.forall(_.isLetterOrDigit)) {\n",
        "                            m = next;\n",
        "                        }\n",
        "                    case x if (x > 13) =>\n",
        "                        if (next.startsWith(\"##\")) {\n",
        "                            val nwop = next.stripPrefix(\"##\");\n",
        "                            if (nwop.forall(_.isLetterOrDigit))\n",
        "                            {\n",
        "                                m = nwop;\n",
        "                            }\n",
        "                        }\n",
        "                }\n",
        "            }\n",
        "            else if (!soFar.isEmpty && (soFar.last.startsWith(\"#\") || soFar.last.startsWith(\"@\"))) {\n",
        "                val isFirst = Set('_', '#', '@').contains(soFar.last.last);\n",
        "                if (isFirst || next.startsWith(\"##\") || next == \"_\")\n",
        "                {\n",
        "                    val nwop = next.stripPrefix(\"##\");\n",
        "                    if (nwop.forall(c => c.isLetterOrDigit || c == '_'))\n",
        "                    {\n",
        "                        m = nwop;\n",
        "                    }\n",
        "                }\n",
        "            }\n",
        "            else if (next.startsWith(\"##\"))\n",
        "            {\n",
        "                m = next.stripPrefix(\"##\");\n",
        "            }\n",
        "            if (m != null) soFar.init :+ (soFar.last + m) else soFar :+ next\n",
        "        }\n",
        "    }.mkString(\" \")\n",
        "})"
      ],
      "outputs" : [
      ]
    },
    {
      "cell_type" : "code",
      "execution_count" : 8,
      "metadata" : {
        "cell.metadata.exec_info" : {
          "startTs" : 1592212825933,
          "endTs" : 1592212826533
        },
        "language" : "scala"
      },
      "language" : "scala",
      "source" : [
        "val converted_df = df.withColumn(\"unbert\", udf_unbert('text_tokens))\n",
        "  .withColumn(\"hashtags\", split('hashtags, \"\\t\"))\n",
        "  .withColumn(\"present_media\", split('present_media, \"\\t\"))\n",
        "  .withColumn(\"present_links\", split('present_links, \"\\t\"))\n",
        "  .withColumn(\"present_domains\", split('present_domains, \"\\t\"))\n",
        "  .withColumn(\"has_retweet\", udf_has_engagement('retweet_timestamp))\n",
        "  .withColumn(\"has_retweet_with_comment\", udf_has_engagement('retweet_with_comment_timestamp))\n",
        "  .withColumn(\"has_like\", udf_has_engagement('like_timestamp))\n",
        "  .withColumn(\"has_reply\", udf_has_engagement('reply_timestamp))\n",
        "  .withColumn(\"follows\", udf_bool_to_int('follows))\n",
        "  .withColumn(\"user_is_verified\", udf_bool_to_int('user_is_verified))\n",
        "  .withColumn(\"author_is_verified\", udf_bool_to_int('author_is_verified))\n",
        "  .withColumn(\"tweet_text\", udf_tweet('unbert, 'present_media))\n",
        "  .withColumn(\"embeddings\", udf_aggBert('text_tokens))\n",
        "  .withColumn(\"num_hashtags\", length('hashtags))\n",
        "  .withColumn(\"num_media\", length('present_media))\n",
        "  .withColumn(\"num_links\", length('present_links))\n",
        "  .withColumn(\"num_domains\", length('present_domains))\n",
        "\n",
        "converted_df"
      ],
      "outputs" : [
        {
          "execution_count" : 8,
          "data" : {
            "text/plain" : [
              "[text_tokens: string, hashtags: array<string> ... 29 more fields]"
            ]
          },
          "metadata" : {
            "name" : "Out",
            "type" : "DataFrame"
          },
          "output_type" : "execute_result"
        }
      ]
    },
    {
      "cell_type" : "code",
      "execution_count" : 9,
      "metadata" : {
        "cell.metadata.exec_info" : {
          "startTs" : 1592212826541,
          "endTs" : 1592212830045
        },
        "language" : "scala"
      },
      "language" : "scala",
      "source" : [
        "converted_df.show"
      ],
      "outputs" : [
        {
          "name" : "stdout",
          "text" : [
            "+--------------------+--------------------+--------------------+--------------+--------------------+--------------------+----------+--------------------+---------------+--------------------+---------------------+----------------------+------------------+-----------------------+--------------------+-------------------+--------------------+----------------+---------------------+-------+---------------+-----------------+------------------------------+--------------+-----------------------+-----------+------------------------+--------+---------+--------------------------------+--------------------+\n",
            "|         text_tokens|            hashtags|            tweet_id| present_media|       present_links|     present_domains|tweet_type|            language|tweet_timestamp|           author_id|author_follower_count|author_following_count|author_is_verified|author_account_creation|             user_id|user_follower_count|user_following_count|user_is_verified|user_account_creation|follows|reply_timestamp|retweet_timestamp|retweet_with_comment_timestamp|like_timestamp|                 unbert|has_retweet|has_retweet_with_comment|has_like|has_reply|                      tweet_text|          embeddings|\n",
            "+--------------------+--------------------+--------------------+--------------+--------------------+--------------------+----------+--------------------+---------------+--------------------+---------------------+----------------------+------------------+-----------------------+--------------------+-------------------+--------------------+----------------+---------------------+-------+---------------+-----------------+------------------------------+--------------+-----------------------+-----------+------------------------+--------+---------+--------------------------------+--------------------+\n",
            "|101\t4378\t4348\t194...|                null|3C07C7EDBF91457F1...|          null|                null|                null|  TopLevel|22C448FF81263D4BA...|     1581264609|90537F3D3B8DBB179...|                  129|                   260|                 0|             1402980271|5BCEFB026703939F2...|                270|                 253|               0|           1358823496|      1|           null|             null|                          null|          null|[[CLS], 昨, 日, の, ...|          0|                       0|       0|        0|   昨 日 の 夜 は 娘 の 大 学...|[-0.15401325, -0....|\n",
            "|101\t13209\t18121\t1...|                null|85F62F7831FC3C991...|          null|                null|                null|  TopLevel|FA3F382BC409C271E...|     1581006153|5A84A72B16C004583...|                41219|                    97|                 0|             1403307740|0D06557BA01CA9935...|                 34|                  65|               0|           1482702951|      0|           null|             null|                          null|          null|   [[CLS], Au, bar, ...|          0|                       0|       0|        0|            Au barça depuis u...|[0.22451898, 0.10...|\n",
            "|101\t8544\t1913\t224...|                null|26BB95D5CFEE7A4E4...|       [Photo]|                null|                null|  TopLevel|22C448FF81263D4BA...|     1581291611|B1D356C947DF250C9...|                  347|                    21|                 0|             1476414154|E05AFECF10AA77863...|                419|                 367|               0|           1426339513|      1|           null|             null|                          null|          null|[[CLS], 驚, き, ##す...|          0|                       0|       0|        0|驚 きすぎてスクショ 撮 り 逃 ...|[-0.05411352, -0....|\n",
            "|101\t2187\t4348\t194...|                null|6AE32B4AF72731F02...|[Photo, Photo]|                null|                null|  TopLevel|22C448FF81263D4BA...|     1581041555|A36A46A8EA5A1696B...|                 2958|                   364|                 0|             1516593252|6DBC3D3879651964F...|                119|                 492|               0|           1428400124|      0|           null|             null|                          null|    1581047800|[[CLS], 今, 日, の, ...|          0|                       0|       1|        0|    今 日 の 限 定 . 『 海 老...|[-0.2228907, -0.3...|\n",
            "|101\t56898\t137\t957...|                null|D7A1DCCC960DD5650...|          null|                null|                null|   Retweet|D3164C7FBCF2565DD...|     1581208988|03E5B5C0311A53DBA...|                  883|                   410|                 0|             1569726825|87C46AE4672F09023...|                 18|                 329|               0|           1554844013|      0|           null|             null|                          null|          null|   [[CLS], RT, @, Ta...|          0|                       0|       0|        0|            RT @TakashiDaddy ...|[0.105707146, -0....|\n",
            "|101\t29260\t11639\t9...|                null|B6F850059F9684A16...|       [Photo]|                null|                null|  TopLevel|ECED8A16BE2A5E887...|     1581384296|CF9B22AB787A514E9...|              1852541|                   607|                 1|             1251645913|0A6FFDF796552DE1B...|               3161|                3279|               0|           1550442396|      0|           null|       1581408399|                          null|          null|   [[CLS], Depois, r...|          1|                       0|       0|        0|            Depois reclamam q...|[-0.07351727, 0.2...|\n",
            "|101\t56898\t137\t278...|                null|30E89692DCF6AB991...|          null|                null|                null|   Retweet|ECED8A16BE2A5E887...|     1581200439|73381EEDCAB77B41F...|                 2378|                   755|                 0|             1457923483|81C9B146BE2B06B48...|                128|                 216|               0|           1568465140|      0|           null|             null|                          null|    1581201424|   [[CLS], RT, @, be...|          0|                       0|       1|        0|            RT @beatrizwbls :...|[0.19924408, -0.0...|\n",
            "|101\t100\t2397\t1912...|[52CAFD1FB3DD1226...|A2DAFB14894443A72...|       [Video]|                null|                null|  TopLevel|22C448FF81263D4BA...|     1581258319|20AEF097A3331D9F7...|                12165|                  2311|                 0|             1508916781|CB0466B50C8C88D93...|                 36|                 217|               0|           1550841682|      0|           null|             null|                          null|    1581282841|  [[CLS], [UNK], 僕,...|          0|                       0|       1|        0|    僕 が 天 使 ですけど . . ...|[0.011919294, -0....|\n",
            "|101\t56898\t137\t117...|                null|F1B3A736FAA7F0D67...|          null|                null|                null|   Retweet|FA3F382BC409C271E...|     1581247750|BAA0F44549D925669...|                  292|                   257|                 0|             1430132198|26E1FEBB340B58828...|                277|                 201|               0|           1467041645|      1|           null|             null|                          null|          null|   [[CLS], RT, @, go...|          0|                       0|       0|        0|            RT @goIdenlea : q...|[0.033489827, -0....|\n",
            "|101\t56898\t137\t189...|                null|4CA8954DDFB193D57...|       [Video]|                null|                null|   Retweet|ECED8A16BE2A5E887...|     1581131681|42BB327F7EA50B9A1...|                  427|                   422|                 0|             1546032530|3ED0C661EB8704DBD...|                324|                 349|               0|           1363848930|      1|           null|             null|                          null|    1581132813|   [[CLS], RT, @, u,...|          0|                       0|       1|        0|            RT @uesusj : vc d...|[0.0625445, -0.06...|\n",
            "|101\t10149\t11951\t1...|                null|413B5F9E520414411...|       [Video]|                null|                null|  TopLevel|D3164C7FBCF2565DD...|     1581274787|05F8566E13287CB7D...|                11428|                    55|                 0|             1518454575|6FE8B315B8D6629A7...|               1120|                 296|               0|           1368590093|      0|           null|             null|                          null|    1581282536|   [[CLS], do, we, d...|          0|                       0|       1|        0|            do we deserve her...|[0.06179088, 0.06...|\n",
            "|101\t12865\t100\t116...|[BE2E30C9B63F73A7...|AFCD235167BFE787A...|          null|[AA40BA59CDBB85B4...|[72A8A44556B75A7B...|  TopLevel|D3164C7FBCF2565DD...|     1581006765|83D87323F38F8B46B...|               507280|                   267|                 1|             1304440154|B6BA69875A8192232...|                155|                 387|               0|           1384143145|      0|           null|             null|                          null|          null|   [[CLS], We, [UNK]...|          0|                       0|       0|        0|            We re in this fig...|[-0.007811079, 0....|\n",
            "|101\t10747\t10124\t1...|                null|457100970118A6838...|       [Video]|                null|                null|  TopLevel|D3164C7FBCF2565DD...|     1581379033|9E55C1BCB15F1B6FB...|                55243|                 57391|                 0|             1385444746|CB9A65330A59A1CE6...|                449|                 555|               0|           1273538379|      0|           null|             null|                          null|          null|   [[CLS], This, is,...|          0|                       0|       0|        0|            This is still the...|[-0.023367513, 0....|\n",
            "|101\t12845\t84558\t1...|                null|801099178817FB634...|       [Photo]|                null|                null|  TopLevel|D3164C7FBCF2565DD...|     1581357690|7F20B45E82CE835EA...|              3545169|                    64|                 1|             1245032748|87A471E224681ACF5...|                447|                 931|               0|           1286769748|      0|           null|             null|                          null|    1581359648|   [[CLS], Con, ##gr...|          0|                       0|       1|        0|            Congrats @Diddy h...|[0.14086337, 0.22...|\n",
            "|101\t1910\t3408\t362...|[975366639DA5CF20...|1E1A1199F2DEC90E9...|       [Photo]|                null|                null|  TopLevel|22C448FF81263D4BA...|     1581091357|C7F8845B9A1C2DF52...|                47644|                  3194|                 0|             1253442302|1B27593A5C0E46B57...|                257|                 333|               0|           1475732823|      0|           null|             null|                          null|    1581092694|[[CLS], お, 家, 帰, ...|          0|                       0|       1|        0|   お 家 帰 りました 。 . 新 ...|[-0.023006912, -0...|\n",
            "|101\t24291\t10911\t1...|                null|66A6EC51FAA8C31DF...|          null|                null|                null|  TopLevel|D3164C7FBCF2565DD...|     1581361079|C497E0A2469AE7232...|              9047998|                  1500|                 1|             1232853304|0924E34DFE15EE871...|                259|                 284|               0|           1486082710|      0|           null|       1581470132|                          null|    1581470132|   [[CLS], Got, me, ...|          1|                       0|       1|        0|            Got me scared to ...|[-0.16293485, -0....|\n",
            "|101\t56898\t137\t250...|                null|72231AFF42607070C...|       [Video]|                null|                null|   Retweet|22C448FF81263D4BA...|     1581436307|15E3AC8FF108FF855...|                 2996|                  4914|                 0|             1541864296|79B67C18577D099A1...|               2824|                3073|               0|           1550742239|      1|           null|             null|                          null|          null|   [[CLS], RT, @, ka...|          0|                       0|       0|        0|            RT @karin_7land :...|[0.26354906, -0.0...|\n",
            "|101\t56898\t137\t864...|                null|1D51B841B484DE727...|          null|                null|                null|   Retweet|4DC22C3F31C5C4372...|     1580997703|2FAA9E8868E5E3C7E...|              7214465|                    38|                 1|             1211191507|BDFEBA76E56619322...|                110|                 416|               0|           1318892617|      0|           null|             null|                          null|          null|   [[CLS], RT, @, nt...|          0|                       0|       0|        0|            RT @ntvhava : Hip...|[0.08663131, -0.0...|\n",
            "|101\t14535\t13028\t1...|                null|BD25E28874FCF3594...|[Photo, Photo]|                null|                null|  TopLevel|D3164C7FBCF2565DD...|     1580984662|F92A62D6B80880871...|             25580574|                   541|                 1|             1229789115|B636475C34A41B18B...|                 12|                 404|               0|           1558266742|      0|           null|             null|                          null|          null|   [[CLS], If, you, ...|          0|                       0|       0|        0|            If you re in Mumb...|[0.16870701, -0.0...|\n",
            "|101\t11722\t13154\t7...|                null|AAB7614180422B663...|          null|                null|                null|  TopLevel|167115458A0DBDFF7...|     1581524497|C39FC9C098B8B5D4C...|                17989|                  9059|                 0|             1529703246|9C2B010E936F62344...|               3278|                 148|               0|           1350219676|      1|           null|             null|                          null|    1581534799|   [[CLS], اس, ##ال,...|          0|                       0|       1|        0|            اسال عيوني وهي تج...|[-0.17853571, 0.7...|\n",
            "+--------------------+--------------------+--------------------+--------------+--------------------+--------------------+----------+--------------------+---------------+--------------------+---------------------+----------------------+------------------+-----------------------+--------------------+-------------------+--------------------+----------------+---------------------+-------+---------------+-----------------+------------------------------+--------------+-----------------------+-----------+------------------------+--------+---------+--------------------------------+--------------------+\n",
            "only showing top 20 rows\n",
            "\n"
          ],
          "output_type" : "stream"
        }
      ]
    },
    {
      "cell_type" : "code",
      "execution_count" : 10,
      "metadata" : {
        "cell.metadata.exec_info" : {
          "startTs" : 1592212964835
        },
        "language" : "scala"
      },
      "language" : "scala",
      "source" : [
        "converted_df.select(\n",
        "        // for evaluation\n",
        "        'user_id,\n",
        "        'tweet_id,\n",
        "        // model inputs\n",
        "        'tweet_type,\n",
        "        'tweet_text,\n",
        "        'author_follower_count,\n",
        "        'author_following_count,\n",
        "        'author_is_verified,\n",
        "        'user_follower_count,\n",
        "        'user_following_count,\n",
        "        'user_is_verified,\n",
        "        'follows,\n",
        "        'embeddings,\n",
        "        'num_hashtags,\n",
        "        'num_media,\n",
        "        'num_links,\n",
        "        'num_domains\n",
        "        // unused for now\n",
        "        'tweet_timestamp,\n",
        "        'hashtags,\n",
        "        'present_media,\n",
        "        'present_domains,\n",
        "        // model outputs\n",
        "        'has_retweet,\n",
        "        'has_retweet_with_comment,\n",
        "        'has_like,\n",
        "        'has_reply\n",
        "    ).write\n",
        "    .mode(SaveMode.Overwrite)\n",
        "    .parquet(dataDir + s\"/${dsName}.parquet\")"
      ],
      "outputs" : [
      ]
    },
    {
      "cell_type" : "code",
      "execution_count" : 11,
      "metadata" : {
        "cell.metadata.exec_info" : {
          "startTs" : 1592212830070,
          "endTs" : 1592212830515
        },
        "language" : "scala"
      },
      "language" : "scala",
      "source" : [
        "spark.read.parquet(dataDir + s\"/${dsName}.parquet\")"
      ],
      "outputs" : [
        {
          "execution_count" : 11,
          "data" : {
            "text/plain" : [
              "[user_id: string, tweet_id: string ... 17 more fields]"
            ]
          },
          "metadata" : {
            "name" : "Out",
            "type" : "DataFrame"
          },
          "output_type" : "execute_result"
        }
      ]
    }
  ]
}