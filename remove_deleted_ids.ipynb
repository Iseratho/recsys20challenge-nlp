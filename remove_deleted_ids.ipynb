{
  "metadata" : {
    "config" : {
      "dependencies" : {
        "scala" : [
          "com.johnsnowlabs.nlp:spark-nlp_2.11:2.5.0"
        ]
      },
      "exclusions" : [
      ],
      "repositories" : [
      ],
      "sparkConfig" : {
        "spark.memory.offHeap.enabled" : "true",
        "spark.driver.memory" : "12g",
        "spark.memory.offHeap.size" : "32g",
        "spark.master" : "local[*]",
        "spark.executor.memory" : "2g"
      },
      "env" : {
        
      }
    },
    "language_info" : {
      "name" : "scala"
    }
  },
  "nbformat" : 4,
  "nbformat_minor" : 0,
  "cells" : [
    {
      "cell_type" : "markdown",
      "execution_count" : 0,
      "metadata" : {
        "language" : "text"
      },
      "language" : "text",
      "source" : [
        "# NLP RECSYS remove deleted ids<br>\n",
        "\n",
        "\n"
      ],
      "outputs" : [
      ]
    },
    {
      "cell_type" : "code",
      "execution_count" : 1,
      "metadata" : {
        "cell.metadata.exec_info" : {
          "startTs" : 1591974777152,
          "endTs" : 1591974777352
        },
        "language" : "scala"
      },
      "language" : "scala",
      "source" : [
        "import com.johnsnowlabs.nlp.SparkNLP\n",
        "import com.johnsnowlabs.nlp.annotator._\n",
        "import com.johnsnowlabs.nlp.base._\n",
        "import com.johnsnowlabs.ml.tensorflow.TensorflowBert\n",
        "import org.apache.spark.ml.Pipeline\n",
        "import org.apache.spark.sql.types._\n",
        "import org.apache.spark.sql.SaveMode\n",
        "import org.apache.spark.sql.functions.{udf,to_timestamp}\n",
        "\n",
        "val dataDir = sys.env(\"HOME\") + \"/recsys2020\"\n",
        "val removedIdsDir = dataDir + \"/removedIds\""
      ],
      "outputs" : [
      ]
    },
    {
      "cell_type" : "code",
      "execution_count" : 2,
      "metadata" : {
        "cell.metadata.exec_info" : {
          "startTs" : 1591974825403,
          "endTs" : 1591974826646
        },
        "language" : "scala"
      },
      "language" : "scala",
      "source" : [
        "val src = Source.fromURL(\"https://elasticbeanstalk-us-west-2-800068098556.s3-us-west-2.amazonaws.com/challenge-website/public_data/training/diffs/tsv_deleted_engaged_with_tweet_id/2020/03/01\")\n"
      ],
      "outputs" : [
      ]
    },
    {
      "cell_type" : "code",
      "execution_count" : 3,
      "metadata" : {
        "cell.metadata.exec_info" : {
          "startTs" : 1591979495079,
          "endTs" : 1591979991737
        },
        "language" : "scala"
      },
      "language" : "scala",
      "source" : [
        "import sys.process._\n",
        "import java.net.{URI, URL}\n",
        "import java.io.File\n",
        "import java.time._\n",
        "import java.nio.file.Files\n",
        "import java.nio.file.Path\n",
        "import java.nio.file.Paths\n",
        "\n",
        "val datasets = List(\"validation\", \"training\");\n",
        "val idTypes = List(\"tsv_deleted_engaged_with_tweet_id\", \"tsv_deleted_user_id\");\n",
        "val startDate = LocalDate.of(2020, 3, 1);\n",
        "var currDate = startDate;\n",
        "while (currDate.isBefore(LocalDate.now())) {\n",
        "    for (idType <- idTypes){\n",
        "        for (dataset <- datasets) {\n",
        "            val localFile = Paths.get(removedIdsDir).resolve(dataset).resolve(idType).resolve(f\"${currDate.getYear}%02d-${currDate.getMonthValue}%02d-${currDate.getDayOfMonth}%02d\");\n",
        "            if (!Files.exists(localFile)) {\n",
        "                Files.createDirectories(localFile.getParent())\n",
        "                val url = f\"https://elasticbeanstalk-us-west-2-800068098556.s3-us-west-2.amazonaws.com/challenge-website/public_data/${dataset}/diffs/${idType}/${currDate.getYear}%02d/${currDate.getMonthValue}%02d/${currDate.getDayOfMonth}%02d\";\n",
        "                println(f\"Downloading ${url}\");\n",
        "                new URL(url) #> new File(localFile.toAbsolutePath.toString()) !!\n",
        "            } \n",
        "        }\n",
        "    }\n",
        "    currDate = currDate.plusDays(7)\n",
        "}\n"
      ],
      "outputs" : [
        {
          "name" : "stdout",
          "text" : [
            "Downloading https://elasticbeanstalk-us-west-2-800068098556.s3-us-west-2.amazonaws.com/challenge-website/public_data/validation/diffs/tsv_deleted_engaged_with_tweet_id/2020/03/01\n",
            "Downloading https://elasticbeanstalk-us-west-2-800068098556.s3-us-west-2.amazonaws.com/challenge-website/public_data/training/diffs/tsv_deleted_engaged_with_tweet_id/2020/03/01\n",
            "Downloading https://elasticbeanstalk-us-west-2-800068098556.s3-us-west-2.amazonaws.com/challenge-website/public_data/validation/diffs/tsv_deleted_user_id/2020/03/01\n",
            "Downloading https://elasticbeanstalk-us-west-2-800068098556.s3-us-west-2.amazonaws.com/challenge-website/public_data/training/diffs/tsv_deleted_user_id/2020/03/01\n",
            "Downloading https://elasticbeanstalk-us-west-2-800068098556.s3-us-west-2.amazonaws.com/challenge-website/public_data/validation/diffs/tsv_deleted_engaged_with_tweet_id/2020/03/08\n",
            "Downloading https://elasticbeanstalk-us-west-2-800068098556.s3-us-west-2.amazonaws.com/challenge-website/public_data/training/diffs/tsv_deleted_engaged_with_tweet_id/2020/03/08\n",
            "Downloading https://elasticbeanstalk-us-west-2-800068098556.s3-us-west-2.amazonaws.com/challenge-website/public_data/validation/diffs/tsv_deleted_user_id/2020/03/08\n",
            "Downloading https://elasticbeanstalk-us-west-2-800068098556.s3-us-west-2.amazonaws.com/challenge-website/public_data/training/diffs/tsv_deleted_user_id/2020/03/08\n",
            "Downloading https://elasticbeanstalk-us-west-2-800068098556.s3-us-west-2.amazonaws.com/challenge-website/public_data/validation/diffs/tsv_deleted_engaged_with_tweet_id/2020/03/15\n",
            "Downloading https://elasticbeanstalk-us-west-2-800068098556.s3-us-west-2.amazonaws.com/challenge-website/public_data/training/diffs/tsv_deleted_engaged_with_tweet_id/2020/03/15\n",
            "Downloading https://elasticbeanstalk-us-west-2-800068098556.s3-us-west-2.amazonaws.com/challenge-website/public_data/validation/diffs/tsv_deleted_user_id/2020/03/15\n",
            "Downloading https://elasticbeanstalk-us-west-2-800068098556.s3-us-west-2.amazonaws.com/challenge-website/public_data/training/diffs/tsv_deleted_user_id/2020/03/15\n",
            "Downloading https://elasticbeanstalk-us-west-2-800068098556.s3-us-west-2.amazonaws.com/challenge-website/public_data/validation/diffs/tsv_deleted_engaged_with_tweet_id/2020/03/22\n",
            "Downloading https://elasticbeanstalk-us-west-2-800068098556.s3-us-west-2.amazonaws.com/challenge-website/public_data/training/diffs/tsv_deleted_engaged_with_tweet_id/2020/03/22\n",
            "Downloading https://elasticbeanstalk-us-west-2-800068098556.s3-us-west-2.amazonaws.com/challenge-website/public_data/validation/diffs/tsv_deleted_user_id/2020/03/22\n",
            "Downloading https://elasticbeanstalk-us-west-2-800068098556.s3-us-west-2.amazonaws.com/challenge-website/public_data/training/diffs/tsv_deleted_user_id/2020/03/22\n",
            "Downloading https://elasticbeanstalk-us-west-2-800068098556.s3-us-west-2.amazonaws.com/challenge-website/public_data/validation/diffs/tsv_deleted_engaged_with_tweet_id/2020/03/29\n",
            "Downloading https://elasticbeanstalk-us-west-2-800068098556.s3-us-west-2.amazonaws.com/challenge-website/public_data/training/diffs/tsv_deleted_engaged_with_tweet_id/2020/03/29\n",
            "Downloading https://elasticbeanstalk-us-west-2-800068098556.s3-us-west-2.amazonaws.com/challenge-website/public_data/validation/diffs/tsv_deleted_user_id/2020/03/29\n",
            "Downloading https://elasticbeanstalk-us-west-2-800068098556.s3-us-west-2.amazonaws.com/challenge-website/public_data/training/diffs/tsv_deleted_user_id/2020/03/29\n",
            "Downloading https://elasticbeanstalk-us-west-2-800068098556.s3-us-west-2.amazonaws.com/challenge-website/public_data/validation/diffs/tsv_deleted_engaged_with_tweet_id/2020/04/05\n"
          ],
          "output_type" : "stream"
        },
        {
          "ename" : "java.lang.RuntimeException",
          "evalue" : "Nonzero exit value: 1",
          "traceback" : [
          ],
          "output_type" : "error"
        }
      ]
    }
  ]
}