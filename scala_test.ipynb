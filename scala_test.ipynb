{
  "metadata" : {
    "config" : {
      "dependencies" : {
        
      },
      "exclusions" : [
      ],
      "repositories" : [
      ],
      "env" : {
        
      }
    },
    "language_info" : {
      "name" : "scala"
    }
  },
  "nbformat" : 4,
  "nbformat_minor" : 0,
  "cells" : [
    {
      "cell_type" : "markdown",
      "execution_count" : 0,
      "metadata" : {
        "language" : "text"
      },
      "language" : "text",
      "source" : [
        "# scala test\n",
        "\n",
        "This is a text cell. Start editing!"
      ],
      "outputs" : [
      ]
    },
    {
      "cell_type" : "code",
      "execution_count" : 1,
      "metadata" : {
        "cell.metadata.exec_info" : {
          "startTs" : 1591987215234,
          "endTs" : 1591987215558
        },
        "language" : "scala"
      },
      "language" : "scala",
      "source" : [
        "val test = \"[CLS],If,only,my,ho,##ros,##cope,was,this,ins,##pir,##ing,#,Love,##I,##sland,https,:,/,/,t,.,co,/,X,##H,##UF,##j,##T,##G,##Y,##G,##G,[SEP]\"\n",
        "\n"
      ],
      "outputs" : [
      ]
    },
    {
      "cell_type" : "code",
      "execution_count" : 2,
      "metadata" : {
        "cell.metadata.exec_info" : {
          "startTs" : 1591987218477,
          "endTs" : 1591987219266
        },
        "language" : "scala"
      },
      "language" : "scala",
      "source" : [
        "test.split(\",\").filterNot(token => List(\"[CLS]\",\"[UNK]\",\"[SEP]\",\"UNKN\").contains(token))\n",
        "    .foldLeft(\"\")((sent, token) => if (token.startsWith(\"##\")) sent + token.stripPrefix(\"##\") else sent + \" \" + token)"
      ],
      "outputs" : [
        {
          "execution_count" : 2,
          "data" : {
            "text/plain" : [
              " If only my horoscope was this inspiring # LoveIsland https : / / t . co / XHUFjTGYGG"
            ]
          },
          "metadata" : {
            "name" : "Out",
            "type" : "String"
          },
          "output_type" : "execute_result"
        }
      ]
    },
    {
      "cell_type" : "code",
      "execution_count" : 3,
      "metadata" : {
        "cell.metadata.exec_info" : {
          "startTs" : 1591989470429,
          "endTs" : 1591989470645
        },
        "language" : "scala"
      },
      "language" : "scala",
      "source" : [
        "def returnNull() = {\n",
        "    println(\"init null\")\n",
        "    null\n",
        "}\n",
        "\n",
        "object f extends Function0[String] {\n",
        "  var x: String = returnNull();\n",
        "  def apply = {\n",
        "    if(x == null)\n",
        "    {\n",
        "      println(\"Initializing longboi\")\n",
        "      x = \"bigstate\"\n",
        "    }\n",
        "    x\n",
        "  }\n",
        "}"
      ],
      "outputs" : [
      ]
    },
    {
      "cell_type" : "code",
      "execution_count" : 4,
      "metadata" : {
        "cell.metadata.exec_info" : {
          "startTs" : 1591989471209,
          "endTs" : 1591989471452
        },
        "language" : "scala"
      },
      "language" : "scala",
      "source" : [
        "lazy val lol = f()"
      ],
      "outputs" : [
        {
          "name" : "stdout",
          "text" : [
            "init null\n",
            "Initializing longboi\n"
          ],
          "output_type" : "stream"
        }
      ]
    },
    {
      "cell_type" : "code",
      "execution_count" : 5,
      "metadata" : {
        "cell.metadata.exec_info" : {
          "startTs" : 1591987408415,
          "endTs" : 1591987408534
        },
        "language" : "scala"
      },
      "language" : "scala",
      "source" : [
        "lol"
      ],
      "outputs" : [
        {
          "execution_count" : 5,
          "data" : {
            "text/plain" : [
              "bigstate"
            ]
          },
          "metadata" : {
            "name" : "Out",
            "type" : "String"
          },
          "output_type" : "execute_result"
        }
      ]
    },
    {
      "cell_type" : "code",
      "execution_count" : 6,
      "metadata" : {
        "cell.metadata.exec_info" : {
          "startTs" : 1592208945032,
          "endTs" : 1592208945499
        },
        "language" : "scala"
      },
      "language" : "scala",
      "source" : [
        "val nested = Seq(Array(Array(101, 123,119, 11025, 102), Array(1, 1,1, 1, 1)))"
      ],
      "outputs" : [
      ]
    },
    {
      "cell_type" : "code",
      "execution_count" : 7,
      "metadata" : {
        "cell.metadata.exec_info" : {
          "startTs" : 1592209418333,
          "endTs" : 1592209418688
        },
        "language" : "scala"
      },
      "language" : "scala",
      "source" : [
        "val sum = nested.head.transpose.map(_.sum)\n",
        "sum.map(x => (x * 1.0 / 2).toFloat)"
      ],
      "outputs" : [
        {
          "execution_count" : 7,
          "data" : {
            "text/plain" : [
              "[F@41329086"
            ]
          },
          "metadata" : {
            "name" : "Out",
            "type" : "Array[Float]"
          },
          "output_type" : "execute_result"
        }
      ]
    }
  ]
}