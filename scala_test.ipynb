{
  "metadata" : {
    "config" : {
      "dependencies" : {
        
      },
      "exclusions" : [
      ],
      "repositories" : [
      ],
      "env" : {
        
      }
    },
    "language_info" : {
      "name" : "scala"
    }
  },
  "nbformat" : 4,
  "nbformat_minor" : 0,
  "cells" : [
    {
      "cell_type" : "markdown",
      "execution_count" : 0,
      "metadata" : {
        "language" : "text"
      },
      "language" : "text",
      "source" : [
        "# scala test\n",
        "\n",
        "This is a text cell. Start editing!"
      ],
      "outputs" : [
      ]
    },
    {
      "cell_type" : "code",
      "execution_count" : 1,
      "metadata" : {
        "cell.metadata.exec_info" : {
          "startTs" : 1592212872610,
          "endTs" : 1592212872751
        },
        "language" : "scala"
      },
      "language" : "scala",
      "source" : [
        "val test = \"[CLS],If,only,my,ho,##ros,##cope,was,this,ins,##pir,##ing,#,Love,##I,##sland,https,:,/,/,t,.,co,/,X,##H,##UF,##j,##T,##G,##Y,##G,##G,[SEP]\"\n",
        "\n"
      ],
      "outputs" : [
      ]
    },
    {
      "cell_type" : "code",
      "execution_count" : 2,
      "metadata" : {
        "cell.metadata.exec_info" : {
          "startTs" : 1592212872758,
          "endTs" : 1592212873210
        },
        "language" : "scala"
      },
      "language" : "scala",
      "source" : [
        "test.split(\",\").filterNot(token => List(\"[CLS]\",\"[UNK]\",\"[SEP]\",\"UNKN\").contains(token))\n",
        "    .foldLeft(\"\")((sent, token) => if (token.startsWith(\"##\")) sent + token.stripPrefix(\"##\") else sent + \" \" + token)"
      ],
      "outputs" : [
        {
          "execution_count" : 2,
          "data" : {
            "text/plain" : [
              " If only my horoscope was this inspiring # LoveIsland https : / / t . co / XHUFjTGYGG"
            ]
          },
          "metadata" : {
            "name" : "Out",
            "type" : "String"
          },
          "output_type" : "execute_result"
        }
      ]
    },
    {
      "cell_type" : "code",
      "execution_count" : 3,
      "metadata" : {
        "cell.metadata.exec_info" : {
          "startTs" : 1592212873214,
          "endTs" : 1592212873426
        },
        "language" : "scala"
      },
      "language" : "scala",
      "source" : [
        "def returnNull() = {\n",
        "    println(\"init null\")\n",
        "    null\n",
        "}\n",
        "\n",
        "object f extends Function0[String] {\n",
        "  var x: String = returnNull();\n",
        "  def apply = {\n",
        "    if(x == null)\n",
        "    {\n",
        "      println(\"Initializing longboi\")\n",
        "      x = \"bigstate\"\n",
        "    }\n",
        "    x\n",
        "  }\n",
        "}"
      ],
      "outputs" : [
      ]
    },
    {
      "cell_type" : "code",
      "execution_count" : 4,
      "metadata" : {
        "cell.metadata.exec_info" : {
          "startTs" : 1592212873428,
          "endTs" : 1592212873587
        },
        "language" : "scala"
      },
      "language" : "scala",
      "source" : [
        "lazy val lol = f()"
      ],
      "outputs" : [
        {
          "name" : "stdout",
          "text" : [
            "init null\n",
            "Initializing longboi\n"
          ],
          "output_type" : "stream"
        }
      ]
    },
    {
      "cell_type" : "code",
      "execution_count" : 5,
      "metadata" : {
        "cell.metadata.exec_info" : {
          "startTs" : 1592212873591,
          "endTs" : 1592212873699
        },
        "language" : "scala"
      },
      "language" : "scala",
      "source" : [
        "lol"
      ],
      "outputs" : [
        {
          "execution_count" : 5,
          "data" : {
            "text/plain" : [
              "bigstate"
            ]
          },
          "metadata" : {
            "name" : "Out",
            "type" : "String"
          },
          "output_type" : "execute_result"
        }
      ]
    },
    {
      "cell_type" : "code",
      "execution_count" : 7,
      "metadata" : {
        "cell.metadata.exec_info" : {
          "startTs" : 1592212873703,
          "endTs" : 1592212874133
        },
        "language" : "scala"
      },
      "language" : "scala",
      "source" : [
        "val nested = Seq(Array(Array(101, 123,119, 11025, 102), Array(1, 1,1, 1, 1)))\n",
        "val sum = nested.head.transpose.map(_.sum)\n",
        "sum.map(x => (x * 1.0 / 2).toFloat)"
      ],
      "outputs" : [
        {
          "execution_count" : 7,
          "data" : {
            "text/plain" : [
              "[F@77f654fe"
            ]
          },
          "metadata" : {
            "name" : "Out",
            "type" : "Array[Float]"
          },
          "output_type" : "execute_result"
        }
      ]
    },
    {
      "cell_type" : "code",
      "execution_count" : 9,
      "metadata" : {
        "cell.metadata.exec_info" : {
          "startTs" : 1592212874186,
          "endTs" : 1592212874264
        },
        "language" : "scala"
      },
      "language" : "scala",
      "source" : [
      ],
      "outputs" : [
      ]
    }
  ]
}