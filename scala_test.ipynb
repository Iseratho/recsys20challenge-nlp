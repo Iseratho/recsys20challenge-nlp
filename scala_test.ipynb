{
  "metadata" : {
    "config" : {
      "dependencies" : {
        
      },
      "exclusions" : [
      ],
      "repositories" : [
      ],
      "env" : {
        
      }
    },
    "language_info" : {
      "name" : "scala"
    }
  },
  "nbformat" : 4,
  "nbformat_minor" : 0,
  "cells" : [
    {
      "cell_type" : "markdown",
      "execution_count" : 0,
      "metadata" : {
        "language" : "text"
      },
      "language" : "text",
      "source" : [
        "# scala test\n",
        "\n",
        "This is a text cell. Start editing!"
      ],
      "outputs" : [
      ]
    },
    {
      "cell_type" : "code",
      "execution_count" : 1,
      "metadata" : {
        "cell.metadata.exec_info" : {
          "startTs" : 1591902961466,
          "endTs" : 1591902962027
        },
        "language" : "scala"
      },
      "language" : "scala",
      "source" : [
        "val test = \"[CLS],If,only,my,ho,##ros,##cope,was,this,ins,##pir,##ing,#,Love,##I,##sland,https,:,/,/,t,.,co,/,X,##H,##UF,##j,##T,##G,##Y,##G,##G,[SEP]\"\n",
        "\n"
      ],
      "outputs" : [
      ]
    },
    {
      "cell_type" : "code",
      "execution_count" : 2,
      "metadata" : {
        "cell.metadata.exec_info" : {
          "startTs" : 1591903273229,
          "endTs" : 1591903273616
        },
        "language" : "scala"
      },
      "language" : "scala",
      "source" : [
        "test.split(\",\").filterNot(token => List(\"[CLS]\",\"[UNK]\",\"[SEP]\",\"UNKN\").contains(token))\n",
        "    .foldLeft(\"\")((sent, token) => if (token.startsWith(\"##\")) sent + token.stripPrefix(\"##\") else sent + \" \" + token)"
      ],
      "outputs" : [
        {
          "execution_count" : 2,
          "data" : {
            "text/plain" : [
              " If only my horoscope was this inspiring # LoveIsland https : / / t . co / XHUFjTGYGG"
            ]
          },
          "metadata" : {
            "name" : "Out",
            "type" : "String"
          },
          "output_type" : "execute_result"
        }
      ]
    }
  ]
}