{
 "cells": [
  {
   "cell_type": "code",
   "execution_count": 1,
   "metadata": {},
   "outputs": [],
   "source": [
    "arr = [0.43447980391345364  ,\n",
    "0.15602849009586697  ,\n",
    "0.08845777233092927  ,\n",
    "0.0704333397805851   ,\n",
    "0.05070714245695474  ,\n",
    "0.030931816511777777 ,\n",
    "0.0280888318677801   ,\n",
    "0.021799946000747205 ,\n",
    "0.020493532899706384 ,\n",
    "0.02047157282818412  ,\n",
    "0.01612917983919034  ,\n",
    "0.009035724813276046 ,\n",
    "0.007845869014930314 ,\n",
    "0.005542947283722153 ,\n",
    "0.005440537334796212 ,\n",
    "0.0050905838873324455,\n",
    "0.005043989120192258 ,\n",
    "0.002567850286367779 ,\n",
    "0.0024329929240708005,\n",
    "0.00223197380782854  ,\n",
    "0.0019985776630598658,\n",
    "0.0019463521083498668,\n",
    "0.0012753733845622386,\n",
    "0.0012710799090402576,\n",
    "0.001134322155938468 ,\n",
    "]"
   ]
  },
  {
   "cell_type": "code",
   "execution_count": 9,
   "metadata": {},
   "outputs": [
    {
     "data": {
      "text/plain": [
       "<Figure size 432x288 with 0 Axes>"
      ]
     },
     "metadata": {},
     "output_type": "display_data"
    },
    {
     "data": {
      "image/png": "[encoded data removed]",
      "text/plain": [
       "<Figure size 432x288 with 1 Axes>"
      ]
     },
     "metadata": {
      "needs_background": "light"
     },
     "output_type": "display_data"
    }
   ],
   "source": [
    "import pandas as pd\n",
    "import matplotlib.pyplot as plt\n",
    "df = pd.DataFrame({\"fraction\": arr})\n",
    "fig = plt.figure()\n",
    "df.plot.bar(legend=False,title='% engagements per language')\n",
    "plt.savefig(\"language-distribution.pgf\")"
   ]
  },
  {
   "cell_type": "code",
   "execution_count": null,
   "metadata": {},
   "outputs": [],
   "source": []
  }
 ],
 "metadata": {
  "kernelspec": {
   "display_name": "python3_user",
   "language": "python",
   "name": "python3_user"
  },
  "language_info": {
   "codemirror_mode": {
    "name": "ipython",
    "version": 3
   },
   "file_extension": ".py",
   "mimetype": "text/x-python",
   "name": "python",
   "nbconvert_exporter": "python",
   "pygments_lexer": "ipython3",
   "version": "3.8.3"
  }
 },
 "nbformat": 4,
 "nbformat_minor": 4
}
