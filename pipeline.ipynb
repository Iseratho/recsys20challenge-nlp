{
  "metadata" : {
    "config" : {
      "dependencies" : {
        "scala" : [
          "com.johnsnowlabs.nlp:spark-nlp_2.11:2.5.0"
        ]
      },
      "exclusions" : [
      ],
      "repositories" : [
      ],
      "sparkConfig" : {
        "spark.memory.offHeap.enabled" : "true",
        "spark.driver.memory" : "12g",
        "spark.memory.offHeap.size" : "32g",
        "spark.master" : "local[*]",
        "spark.executor.memory" : "2g"
      },
      "env" : {
        
      }
    },
    "language_info" : {
      "name" : "scala"
    }
  },
  "nbformat" : 4,
  "nbformat_minor" : 0,
  "cells" : [
    {
      "cell_type" : "markdown",
      "execution_count" : 0,
      "metadata" : {
        "language" : "text"
      },
      "language" : "text",
      "source" : [
        "# NLP RECSYS Pipeline\n",
        "\n",
        "\n"
      ],
      "outputs" : [
      ]
    },
    {
      "cell_type" : "code",
      "execution_count" : 1,
      "metadata" : {
        "cell.metadata.exec_info" : {
          "startTs" : 1591991741262,
          "endTs" : 1591991741354
        },
        "language" : "scala"
      },
      "language" : "scala",
      "source" : [
        "import com.johnsnowlabs.nlp.SparkNLP\n",
        "import com.johnsnowlabs.nlp.annotator._\n",
        "import com.johnsnowlabs.nlp.base._\n",
        "import com.johnsnowlabs.ml.tensorflow.TensorflowBert\n",
        "import org.apache.spark.ml.Pipeline\n",
        "import org.apache.spark.sql.types._\n",
        "import org.apache.spark.sql.SaveMode\n",
        "import org.apache.spark.sql.functions.{udf,to_timestamp}\n",
        "import org.apache.spark.storage._\n",
        "import org.apache.spark.ml.feature._\n",
        "import org.apache.spark.ml.classification._\n",
        "import org.apache.spark.ml.linalg.DenseVector\n",
        "\n",
        "// Imports below are used for customer ML Transformer\n",
        "import org.apache.spark.ml.Transformer\n",
        "import org.apache.spark.ml.param.{Param, ParamMap}\n",
        "import org.apache.spark.sql.{DataFrame, Dataset}\n",
        "import org.apache.spark.sql.SparkSession\n",
        "import org.apache.spark.sql.functions.{col, explode, udf}\n",
        "import org.apache.spark.sql.types.{DataTypes, StructType}\n",
        "\n",
        "\n",
        "val dataDir = sys.env(\"HOME\") + \"/recsys2020\"\n",
        "val dsName = \"training1m\""
      ],
      "outputs" : [
      ]
    },
    {
      "cell_type" : "code",
      "execution_count" : 2,
      "metadata" : {
        "cell.metadata.exec_info" : {
          "startTs" : 1591991741355,
          "endTs" : 1591991741564
        },
        "language" : "scala"
      },
      "language" : "scala",
      "source" : [
        "val df = spark.read.parquet(dataDir + s\"/${dsName}.parquet\").limit(1000)\n",
        "//.limit(1000).persist(StorageLevel.MEMORY_ONLY) // Remove limit after experiments\n",
        "df"
      ],
      "outputs" : [
        {
          "execution_count" : 2,
          "data" : {
            "text/plain" : [
              "[user_id: string, tweet_id: string ... 17 more fields]"
            ]
          },
          "metadata" : {
            "name" : "Out",
            "type" : "Dataset[Row]"
          },
          "output_type" : "execute_result"
        }
      ]
    },
    {
      "cell_type" : "code",
      "execution_count" : 3,
      "metadata" : {
        "cell.metadata.exec_info" : {
          "startTs" : 1591991741568,
          "endTs" : 1591991741697
        },
        "language" : "scala"
      },
      "language" : "scala",
      "source" : [
        "class Exploder(override val uid: String = \"EXPLODERASDGDASHASFDA\") extends Transformer {\n",
        "  // Example of custom estimator: https://docs.databricks.com/applications/machine-learning/mllib/advanced-mllib.html\n",
        "\n",
        "  // Transformer Params\n",
        "  // Defining a Param requires 3 elements:\n",
        "  //  - Param definition\n",
        "  //  - Param getter method\n",
        "  //  - Param setter method\n",
        "  // (The getter and setter are technically not required, but they are nice standards to follow.)\n",
        "\n",
        "  /**\n",
        "   * Param for input column name.\n",
        "   */\n",
        "  final val inputCol: Param[String] = new Param[String](this, \"inputCol\", \"input column name\")\n",
        "\n",
        "  final def getInputCol: String = $(inputCol)\n",
        "\n",
        "  final def setInputCol(value: String): Exploder = set(inputCol, value)\n",
        "\n",
        "  /**\n",
        "   * Param for output column name.\n",
        "   */\n",
        "  final val outputCol: Param[String] = new Param[String](this, \"outputCol\", \"output column name\")\n",
        "\n",
        "  final def getOutputCol: String = $(outputCol)\n",
        "\n",
        "  final def setOutputCol(value: String): Exploder = set(outputCol, value)\n",
        "\n",
        "  /**\n",
        "   * This method implements the main transformation.\n",
        "   * Its required semantics are fully defined by the method API: take a Dataset or DataFrame,\n",
        "   * and return a DataFrame.\n",
        "   *\n",
        "   * Most Transformers are 1-to-1 row mappings which add one or more new columns and do not\n",
        "   * remove any columns.  However, this restriction is not required.  This example does a flatMap,\n",
        "   * so we could either (a) drop other columns or (b) keep other columns, making copies of values\n",
        "   * in each row as it expands to multiple rows in the flatMap.  We do (a) for simplicity.\n",
        "   */\n",
        "  override def transform(dataset: Dataset[_]): DataFrame = {\n",
        "    dataset.withColumn($(outputCol), explode(col($(inputCol))))\n",
        "  }\n",
        "\n",
        "  /**\n",
        "   * Check transform validity and derive the output schema from the input schema.\n",
        "   *\n",
        "   * We check validity for interactions between parameters during `transformSchema` and\n",
        "   * raise an exception if any parameter value is invalid. Parameter value checks which\n",
        "   * do not depend on other parameters are handled by `Param.validate()`.\n",
        "   *\n",
        "   * Typical implementation should first conduct verification on schema change and parameter\n",
        "   * validity, including complex parameter interaction checks.\n",
        "   */\n",
        "  override def transformSchema(schema: StructType): StructType = {\n",
        "      val inputColType = schema.fields(schema.fieldIndex($(inputCol))).dataType.asInstanceOf[ArrayType];\n",
        "      // Compute output type.\n",
        "      // This is important to do correctly when plugging this Transformer into a Pipeline,\n",
        "      // where downstream Pipeline stages may expect use this Transformer's output as their input.\n",
        "      schema.add($(outputCol), inputColType.elementType)\n",
        "  }\n",
        "\n",
        "  /**\n",
        "   * Creates a copy of this instance.\n",
        "   * Requirements:\n",
        "   *  - The copy must have the same UID.\n",
        "   *  - The copy must have the same Params, with some possibly overwritten by the `extra`\n",
        "   *    argument.\n",
        "   *  - This should do a deep copy of any data members which are mutable.  That said,\n",
        "   *    Transformers should generally be immutable (except for Params), so the `defaultCopy`\n",
        "   *    method often suffices.\n",
        "   * @param extra  Param values which will overwrite Params in the copy.\n",
        "   */\n",
        "  override def copy(extra: ParamMap): Transformer = defaultCopy(extra)\n",
        "}\n",
        "\n"
      ],
      "outputs" : [
      ]
    },
    {
      "cell_type" : "code",
      "execution_count" : 4,
      "metadata" : {
        "cell.metadata.exec_info" : {
          "startTs" : 1591991741698,
          "endTs" : 1591991742445
        },
        "language" : "scala"
      },
      "language" : "scala",
      "source" : [
        "val doc = new DocumentAssembler()\n",
        "    .setInputCol(\"sentence\")\n",
        "    .setOutputCol(\"document\")\n",
        "    .setCleanupMode(\"shrink\")\n",
        "\n",
        "val use = UniversalSentenceEncoder\n",
        "      .pretrained()\n",
        "      .setInputCols(Array(\"document\"))\n",
        "      .setOutputCol(\"tweet_embeddings\")\n",
        "\n",
        "val fin = new EmbeddingsFinisher()\n",
        "      .setInputCols(use.getOutputCol)\n",
        "      .setOutputCols(\"finished_tweet_embeddings\")\n",
        "      .setOutputAsVector(true)\n",
        "      .setCleanAnnotations(false)\n",
        "\n",
        "val exploder = new Exploder()\n",
        "  .setInputCol(fin.getOutputCols(0))\n",
        "  .setOutputCol(\"embedding_features\")\n",
        "\n",
        "val tweetTypeIndexer = new StringIndexerModel(Array(\"TopLevel\", \"Retweet\", \"Quote\", \"Reply\"))\n",
        "  .setInputCol(\"tweet_type\")\n",
        "  .setOutputCol(\"tweet_type_idx\");\n",
        "\n",
        "val tweetTypeEncoder = new OneHotEncoder()\n",
        "  .setInputCol(tweetTypeIndexer.getOutputCol)\n",
        "  .setOutputCol(\"tweet_type_onehot\")\n",
        "\n",
        "val scaleAss = new VectorAssembler()\n",
        "  .setInputCols(Array(\"author_follower_count\", \"author_following_count\", \"user_follower_count\", \"user_following_count\"))\n",
        "  .setOutputCol(\"count_features\")\n",
        "\n",
        "val scaler = new StandardScaler()\n",
        "  .setInputCol(scaleAss.getOutputCol)\n",
        "  .setOutputCol(\"count_features_scaled\")\n",
        "  .setWithStd(true)\n",
        "  .setWithMean(false)\n",
        "\n",
        "val ass = new VectorAssembler()\n",
        "  .setInputCols(Array(\n",
        "      \"embedding_features\",\n",
        "      tweetTypeEncoder.getOutputCol,\n",
        "      scaler.getOutputCol,\n",
        "      \"author_is_verified\",\n",
        "      \"user_is_verified\",\n",
        "      \"follows\"\n",
        "    )).setOutputCol(\"features\")\n",
        "\n",
        "// You need to setProbabilityCol,  setPredictionCol and setRawPredictionCol\n",
        "// otherwise you get a name conflict in the pipeline\n",
        "\n",
        "val classNames = Array(\n",
        "  \"retweet\",\n",
        "  \"retweet_with_comment\",\n",
        "  \"like\",\n",
        "  \"reply\")\n",
        "\n",
        "val classifiers = for (className <- classNames) yield new GBTClassifier()\n",
        "                        .setLabelCol(\"has_\" + className)\n",
        "                        .setFeaturesCol(\"features\")\n",
        "                        .setProbabilityCol(\"prob_\" + className)\n",
        "                        .setPredictionCol(\"pred_\" + className)\n",
        "                        .setRawPredictionCol(\"predraw_\" + className)\n",
        "                        .setMaxIter(10)\n",
        "                        .setFeatureSubsetStrategy(\"auto\");\n",
        "\n",
        "val pred_pipeline = new Pipeline().setStages(Array(\n",
        "  doc, \n",
        "  use,\n",
        "  fin,\n",
        "  exploder,\n",
        "  scaleAss, \n",
        "  scaler, \n",
        "  tweetTypeIndexer, \n",
        "  tweetTypeEncoder, \n",
        "  ass) ++ classifiers)"
      ],
      "outputs" : [
      ]
    },
    {
      "cell_type" : "code",
      "execution_count" : 5,
      "metadata" : {
        "cell.metadata.exec_info" : {
          "startTs" : 1591991742449,
          "endTs" : 1591991810158
        },
        "language" : "scala"
      },
      "language" : "scala",
      "source" : [
        "val fitted_pipeline = pred_pipeline.fit(df)"
      ],
      "outputs" : [
      ]
    },
    {
      "cell_type" : "code",
      "execution_count" : 6,
      "metadata" : {
        "language" : "scala"
      },
      "language" : "scala",
      "source" : [
        "val val_df = spark.read.parquet(dataDir + s\"/val.parquet\")\n"
      ],
      "outputs" : [
      ]
    },
    {
      "cell_type" : "code",
      "execution_count" : 7,
      "metadata" : {
        "cell.metadata.exec_info" : {
          "startTs" : 1591992346158,
          "endTs" : 1591992347767
        },
        "language" : "scala"
      },
      "language" : "scala",
      "source" : [
        "var finalDf = fitted_pipeline.transform(df)\n",
        "finalDf.show()"
      ],
      "outputs" : [
        {
          "name" : "stdout",
          "text" : [
            "+--------------------+--------------------+----------+-------------------------------------+---------------------+----------------------+------------------+-------------------+--------------------+----------------+-------+---------------+--------------------+-------------+---------------+-----------+------------------------+--------+---------+--------------------+--------------------+-------------------------+--------------------+--------------------+---------------------+--------------+-----------------+--------------------+--------------------+--------------------+------------+----------------------------+-------------------------+-------------------------+--------------------+--------------------+---------+--------------------+--------------------+----------+\n",
            "|             user_id|            tweet_id|tweet_type|                             sentence|author_follower_count|author_following_count|author_is_verified|user_follower_count|user_following_count|user_is_verified|follows|tweet_timestamp|            hashtags|present_media|present_domains|has_retweet|has_retweet_with_comment|has_like|has_reply|            document|    tweet_embeddings|finished_tweet_embeddings|  embedding_features|      count_features|count_features_scaled|tweet_type_idx|tweet_type_onehot|            features|     predraw_retweet|        prob_retweet|pred_retweet|predraw_retweet_with_comment|prob_retweet_with_comment|pred_retweet_with_comment|        predraw_like|           prob_like|pred_like|       predraw_reply|          prob_reply|pred_reply|\n",
            "+--------------------+--------------------+----------+-------------------------------------+---------------------+----------------------+------------------+-------------------+--------------------+----------------+-------+---------------+--------------------+-------------+---------------+-----------+------------------------+--------+---------+--------------------+--------------------+-------------------------+--------------------+--------------------+---------------------+--------------+-----------------+--------------------+--------------------+--------------------+------------+----------------------------+-------------------------+-------------------------+--------------------+--------------------+---------+--------------------+--------------------+----------+\n",
            "|D0EA9DDFE93EDA782...|FB6304C97F6CC05AF...|   Retweet|                 RT @Fbroglia : De...|                  610|                   215|                 0|                841|                 270|               0|      0|     1581420802|                null|         null|           null|          0|                       0|       1|        0|[[document, 0, 13...|[[sentence_embedd...|     [[0.0647199824452...|[0.06471998244524...|[610.0,215.0,841....| [7.21608813351418...|           1.0|    (3,[1],[1.0])|[0.06471998244524...|[1.24221901659502...|[0.92304364192784...|         0.0|        [1.32590267922033...|     [0.93412217565278...|                      0.0|[0.39095668744770...|[0.68609234345460...|      0.0|[1.32193384093801...|[0.93363202095455...|       0.0|\n",
            "|5CD17BD84873464C2...|8A025814338D4CAB5...|  TopLevel|  ハリー ・ オードのグラサンマジで...|                 1729|                  1883|                 0|                272|                 287|               0|      1|     1581068602|                null|      [Photo]|           null|          0|                       0|       0|        0|[[document, 0, 95...|[[sentence_embedd...|     [[0.0175561532378...|[0.01755615323781...|[1729.0,1883.0,27...| [2.04534694800754...|           0.0|    (3,[0],[1.0])|[0.01755615323781...|[1.27857181087300...|[0.92805196607424...|         0.0|        [1.32590267922033...|     [0.93412217565278...|                      0.0|[0.68505032650496...|[0.79739641509011...|      0.0|[1.32193384093801...|[0.93363202095455...|       0.0|\n",
            "|6B8C5EFC300170EF8...|8E8EC11B9492B6C09...|   Retweet|                 RT @tsukioka1892 ...|                 3853|                   770|                 0|                319|                1472|               0|      1|     1581220067|                null|      [Video]|           null|          0|                       0|       0|        0|[[document, 0, 92...|[[sentence_embedd...|     [[0.0288763511925...|[0.02887635119259...|[3853.0,770.0,319...| [4.55796517679182...|           1.0|    (3,[1],[1.0])|[0.02887635119259...|[1.12968731490067...|[0.90545610959201...|         0.0|        [1.32590267922033...|     [0.93412217565278...|                      0.0|[1.37007117958092...|[0.93935420709135...|      0.0|[1.32193384093801...|[0.93363202095455...|       0.0|\n",
            "|2F5D9BFEBEB24F290...|D59F5C535C7C892D7...|     Quote|                 Wow . Un message ...|                43540|                   858|                 0|                 15|                  77|               0|      0|     1581516233|                null|         null|           null|          0|                       0|       0|        0|[[document, 0, 25...|[[sentence_embedd...|     [[0.0581206195056...|[0.05812061950564...|[43540.0,858.0,15...| [0.00515063077595...|           2.0|    (3,[2],[1.0])|[0.05812061950564...|[1.23477943177147...|[0.92198003857573...|         0.0|        [1.32590267922033...|     [0.93412217565278...|                      0.0|[-0.5138102907147...|[0.26354566406083...|      1.0|[1.31974728414936...|[0.93336053414168...|       0.0|\n",
            "|073770D7360B4F399...|7D6700DA02116E216...|  TopLevel|                 bae joohyun is so...|                 7704|                   257|                 0|                627|                 752|               0|      0|     1581243426|                null|      [Video]|           null|          0|                       0|       1|        0|[[document, 0, 46...|[[sentence_embedd...|     [[0.0740091651678...|[0.07400916516780...|[7704.0,257.0,627...| [9.11356442304807...|           0.0|    (3,[0],[1.0])|[0.07400916516780...|[1.26304265435395...|[0.92595038478890...|         0.0|        [1.32590267922033...|     [0.93412217565278...|                      0.0|[-0.4629801044577...|[0.28374501877816...|      1.0|[1.32193384093801...|[0.93363202095455...|       0.0|\n",
            "|131815196691D79E6...|E5A3EC400A664F07A...|  TopLevel|                 Galera , Marca o ...|               171634|                  1531|                 0|                 30|                  85|               0|      0|     1581346546|[9F52BB2117FB572F...|      [Video]|           null|          1|                       0|       1|        0|[[document, 0, 30...|[[sentence_embedd...|     [[0.0557991415262...|[0.05579914152622...|[171634.0,1531.0,...| [0.02030370607717...|           0.0|    (3,[0],[1.0])|[0.05579914152622...|[0.72297766477942...|[0.80937517465797...|         0.0|        [1.32590267922033...|     [0.93412217565278...|                      0.0|[-0.7214430553662...|[0.19109881561177...|      1.0|[1.32193384093801...|[0.93363202095455...|       0.0|\n",
            "|A428C660D9B2836A5...|CB64C7FCF54EFA087...|  TopLevel|                 If only my horosc...|              1159427|                   329|                 1|                225|                 390|               0|      0|     1581458044|[0926C2CC69AFB76E...|      [Video]|           null|          0|                       0|       0|        0|[[document, 0, 74...|[[sentence_embedd...|     [[-0.001989488257...|[-0.0019894882570...|[1159427.0,329.0,...| [0.13715618715370...|           0.0|    (3,[0],[1.0])|[-0.0019894882570...|[1.25663522973931...|[0.92506690802182...|         0.0|        [1.32590267922033...|     [0.93412217565278...|                      0.0|[-0.1733732769959...|[0.41417159496200...|      1.0|[1.25754191078153...|[0.92519251003063...|       0.0|\n",
            "|09D5EE66D2D3DED2F...|56F2DECBE23F80BC6...|  TopLevel|                 More clouds today...|                41414|                   149|                 1|                 39|                 513|               0|      0|     1580990518|[9AB85753943568C4...|      [Video]|           null|          0|                       0|       0|        0|[[document, 0, 71...|[[sentence_embedd...|     [[0.0497236065566...|[0.04972360655665...|[41414.0,149.0,39...| [0.00489913236002...|           0.0|    (3,[0],[1.0])|[0.04972360655665...|[1.36398255481392...|[0.93865677224661...|         0.0|        [1.32590267922033...|     [0.93412217565278...|                      0.0|[0.89646549672314...|[0.85728624907614...|      0.0|[1.32193384093801...|[0.93363202095455...|       0.0|\n",
            "|72687F8AAA94CE60D...|D52193C9683532137...|  TopLevel|       たぶん 、 否 定 も 肯 定 も...|                  262|                   183|                 0|                 70|                 117|               0|      1|     1581260655|                null|         null|           null|          0|                       0|       0|        0|[[document, 0, 16...|[[sentence_embedd...|     [[0.0011228593066...|[0.00112285930663...|[262.0,183.0,70.0...| [3.09936900160773...|           0.0|    (3,[0],[1.0])|[0.00112285930663...|[1.05699884047308...|[0.89225625350877...|         0.0|        [1.32590267922033...|     [0.93412217565278...|                      0.0|[0.74750326626391...|[0.81682853687768...|      0.0|[1.31677792124817...|[0.93299020142588...|       0.0|\n",
            "|7B7436B9BC41DB552...|C801AB5F48C7B7ADE...|   Retweet|                 RT @aguscalzo16 :...|                 2127|                   737|                 0|               1860|                 651|               0|      1|     1581114445|                null|         null|           null|          0|                       0|       0|        0|[[document, 0, 39...|[[sentence_embedd...|     [[0.0629709661006...|[0.06297096610069...|[2127.0,737.0,186...| [2.51616712458765...|           1.0|    (3,[1],[1.0])|[0.06297096610069...|[0.75531130026995...|[0.81915345788599...|         0.0|        [1.32590267922033...|     [0.93412217565278...|                      0.0|[0.77637979605451...|[0.82531194536572...|      0.0|[1.32193384093801...|[0.93363202095455...|       0.0|\n",
            "|DC208675234315A18...|1C7A70F249B9E6083...|  TopLevel|                 Te cortas y soy y...|             19650282|                  2358|                 1|                 15|                 238|               0|      0|     1581339422|                null|         null|           null|          0|                       0|       0|        0|[[document, 0, 32...|[[sentence_embedd...|     [[0.0547162406146...|[0.05471624061465...|[1.9650282E7,2358...| [2.32456011082635...|           0.0|    (3,[0],[1.0])|[0.05471624061465...|[1.25013129361175...|[0.92416022626894...|         0.0|        [1.32590267922033...|     [0.93412217565278...|                      0.0|[-0.0772031153821...|[0.46147495246271...|      1.0|[1.31672501973123...|[0.93298358637160...|       0.0|\n",
            "|231EF63050C2835BD...|3E3C4C133094A20A2...|   Retweet|                 RT @ImagenRetro :...|                  344|                   627|                 0|                 52|                 109|               0|      1|     1581455013|                null|      [Photo]|           null|          0|                       0|       1|        0|[[document, 0, 58...|[[sentence_embedd...|     [[0.0516658015549...|[0.05166580155491...|[344.0,627.0,52.0...| [4.06940052119488...|           1.0|    (3,[1],[1.0])|[0.05166580155491...|[1.25298418884413...|[0.92455916770743...|         0.0|        [1.32590267922033...|     [0.93412217565278...|                      0.0|[0.12984896744071...|[0.56456203605697...|      0.0|[1.32855388254823...|[0.93444772467588...|       0.0|\n",
            "|5E9F1CA08E3405C89...|36EA7F9D7052C540A...|     Quote|                                Oh my|                  401|                  1231|                 0|                 41|                  16|               0|      1|     1581390583|                null|         null|           null|          0|                       0|       0|        0|[[document, 0, 4,...|[[sentence_embedd...|     [[0.0325623340904...|[0.03256233409047...|[401.0,1231.0,41....| [4.74369072383473...|           2.0|    (3,[2],[1.0])|[0.03256233409047...|[1.25395660597576...|[0.92469470699324...|         0.0|        [1.32590267922033...|     [0.93412217565278...|                      0.0|[0.57391056347463...|[0.75911271188384...|      0.0|[1.32855388254823...|[0.93444772467588...|       0.0|\n",
            "|D19877D507639A988...|A8B22B7662AB9F86A...|  TopLevel|                             RIP Kobe|              1329454|                   652|                 1|                 30|                 732|               0|      0|     1581105303|                null|         null|           null|          0|                       0|       1|        0|[[document, 0, 7,...|[[sentence_embedd...|     [[0.0637789666652...|[0.06377896666526...|[1329454.0,652.0,...| [0.15726979071234...|           0.0|    (3,[0],[1.0])|[0.06377896666526...|[1.18732274516201...|[0.91487334980304...|         0.0|        [1.32590267922033...|     [0.93412217565278...|                      0.0|[-0.7457553559273...|[0.18369508610539...|      1.0|[1.32193384093801...|[0.93363202095455...|       0.0|\n",
            "|87E555A6E65962920...|478C06E2B0148F808...|  TopLevel|                 [ #STANDINGS ] We...|                  236|                    45|                 0|               2620|                 630|               0|      1|     1581378404|[649E875EAF03D058...|      [Photo]|           null|          1|                       0|       0|        0|[[document, 0, 31...|[[sentence_embedd...|     [[0.0012452016817...|[0.00124520168174...|[236.0,45.0,2620....| [2.79179803198253...|           0.0|    (3,[0],[1.0])|[0.00124520168174...|[-0.8812219340329...|[0.14648452671913...|         1.0|        [1.32590267922033...|     [0.93412217565278...|                      0.0|[0.79098049660920...|[0.82948206317365...|      0.0|[1.31492349559387...|[0.93275795325013...|       0.0|\n",
            "|B159B899A0756E8A5...|6D7A346F142C22FBA...|   Retweet|                 RT @TeamAsimRiaz ...|                15772|                   449|                 0|                212|                  55|               0|      0|     1581097711|[FB5A802DF7D5F254...|         null|           null|          0|                       0|       1|        0|[[document, 0, 14...|[[sentence_embedd...|     [[0.0494906939566...|[0.04949069395661...|[15772.0,449.0,21...| [0.00186577282035...|           1.0|    (3,[1],[1.0])|[0.04949069395661...|[1.08388425571820...|[0.89731754215931...|         0.0|        [1.32590267922033...|     [0.93412217565278...|                      0.0|[-0.7843149111776...|[0.17241180912558...|      1.0|[1.31503887619449...|[0.93277242527519...|       0.0|\n",
            "|118959453B6025307...|FCEBA305125450DA3...|  TopLevel|    마피아 두명은 고개를 들어 서로...|                  314|                    89|                 0|                608|                 158|               0|      1|     1581465570|                null|      [Photo]|           null|          0|                       0|       0|        0|[[document, 0, 48...|[[sentence_embedd...|     [[0.0315701924264...|[0.03157019242644...|[314.0,89.0,608.0...| [3.71451094085812...|           0.0|    (3,[0],[1.0])|[0.03157019242644...|[1.18069985593030...|[0.91383608225185...|         0.0|        [1.32590267922033...|     [0.93412217565278...|                      0.0|[0.67726396412184...|[0.79486890322532...|      0.0|[1.32193384093801...|[0.93363202095455...|       0.0|\n",
            "|E2FF894A4228C37B7...|0F513DC063E902BFC...|   Retweet|                 RT @davidaoc73 : ...|              1057925|                   991|                 1|                588|                2134|               0|      0|     1581341529|                null|         null|           null|          0|                       0|       0|        0|[[document, 0, 50...|[[sentence_embedd...|     [[0.0225218571722...|[0.02252185717225...|[1057925.0,991.0,...| [0.12514885309259...|           1.0|    (3,[1],[1.0])|[0.02252185717225...|[1.10736015369707...|[0.90156363305890...|         0.0|        [1.32590267922033...|     [0.93412217565278...|                      0.0|[0.71085836313904...|[0.80560740386405...|      0.0|[1.31974728414936...|[0.93336053414168...|       0.0|\n",
            "|CD66CFE5540A02880...|98C4564664C6BF882...|  TopLevel|                 Tengo chichi pero...|                43888|                 10535|                 0|                 67|                 627|               0|      0|     1581127488|                null|         null|           null|          0|                       0|       0|        0|[[document, 0, 65...|[[sentence_embedd...|     [[0.0567044578492...|[0.05670445784926...|[43888.0,10535.0,...| [0.00519179796727...|           0.0|    (3,[0],[1.0])|[0.05670445784926...|[1.26553223454409...|[0.92629106400045...|         0.0|        [1.32590267922033...|     [0.93412217565278...|                      0.0|[0.07117924170715...|[0.53552963765866...|      0.0|[1.32193384093801...|[0.93363202095455...|       0.0|\n",
            "|86CBCDA0E3C9393C6...|09BD59FE47907DEC0...|  TopLevel|コロナウィルスだろうとインフルエン...|                 3379|                   168|                 0|                323|                 913|               0|      0|     1581294005|                null|         null|           null|          0|                       0|       1|        0|[[document, 0, 91...|[[sentence_embedd...|     [[0.0370275974273...|[0.03702759742736...|[3379.0,168.0,323...| [3.99723963985974...|           0.0|    (3,[0],[1.0])|[0.03702759742736...|[1.11771874311305...|[0.90338697913373...|         0.0|        [1.32590267922033...|     [0.93412217565278...|                      0.0|[-0.7256638231413...|[0.18979732405288...|      1.0|[1.31974728414936...|[0.93336053414168...|       0.0|\n",
            "+--------------------+--------------------+----------+-------------------------------------+---------------------+----------------------+------------------+-------------------+--------------------+----------------+-------+---------------+--------------------+-------------+---------------+-----------+------------------------+--------+---------+--------------------+--------------------+-------------------------+--------------------+--------------------+---------------------+--------------+-----------------+--------------------+--------------------+--------------------+------------+----------------------------+-------------------------+-------------------------+--------------------+--------------------+---------+--------------------+--------------------+----------+\n",
            "only showing top 20 rows\n",
            "\n"
          ],
          "output_type" : "stream"
        }
      ]
    },
    {
      "cell_type" : "code",
      "execution_count" : 8,
      "metadata" : {
        "cell.metadata.exec_info" : {
          "startTs" : 1591992875856,
          "endTs" : 1591992877530
        },
        "language" : "scala"
      },
      "language" : "scala",
      "source" : [
        "// only get relevant columns\n",
        "val toArr: Any => Double = _.asInstanceOf[DenseVector].toArray(1)\n",
        "val toArrUdf = udf(toArr)\n",
        "\n",
        "var finalFinalDf = finalDf;\n",
        "val outputNames = for (className <- classNames) yield {\n",
        "    val inputName = \"prob_\" + className;\n",
        "    val outputName = \"out_\" + className;\n",
        "    finalFinalDf = finalFinalDf.withColumn(outputName, toArrUdf(col(inputName)));\n",
        "    outputName\n",
        "}\n",
        "\n",
        "finalFinalDf.selectExpr((Array(\"user_id\", \"tweet_id\") ++ outputNames):_*).show()"
      ],
      "outputs" : [
        {
          "name" : "stdout",
          "text" : [
            "+--------------------+--------------------+-------------------+------------------------+-------------------+-------------------+\n",
            "|             user_id|            tweet_id|        out_retweet|out_retweet_with_comment|           out_like|          out_reply|\n",
            "+--------------------+--------------------+-------------------+------------------------+-------------------+-------------------+\n",
            "|D0EA9DDFE93EDA782...|FB6304C97F6CC05AF...|0.07695635807215107|     0.06587782434721734| 0.3139076565453959|0.06636797904544467|\n",
            "|5CD17BD84873464C2...|8A025814338D4CAB5...|0.07194803392575488|     0.06587782434721712|0.20260358490988395|0.06636797904544467|\n",
            "|6B8C5EFC300170EF8...|8E8EC11B9492B6C09...|0.09454389040798361|     0.06587782434721712|0.06064579290864147|0.06636797904544467|\n",
            "|2F5D9BFEBEB24F290...|D59F5C535C7C892D7...| 0.0780199614242677|     0.06587782434721734| 0.7364543359391639|0.06663946585831226|\n",
            "|073770D7360B4F399...|7D6700DA02116E216...|0.07404961521109132|     0.06587782434721712| 0.7162549812218353|0.06636797904544467|\n",
            "|131815196691D79E6...|E5A3EC400A664F07A...|0.19062482534202152|     0.06587782434721712| 0.8089011843882219|0.06636797904544467|\n",
            "|A428C660D9B2836A5...|CB64C7FCF54EFA087...|0.07493309197817821|     0.06587782434721712| 0.5858284050379965|0.07480748996936126|\n",
            "|09D5EE66D2D3DED2F...|56F2DECBE23F80BC6...| 0.0613432277533873|     0.06587782434721712|0.14271375092385374|0.06636797904544467|\n",
            "|72687F8AAA94CE60D...|D52193C9683532137...|0.10774374649122975|     0.06587782434721712| 0.1831714631223167|0.06700979857411915|\n",
            "|7B7436B9BC41DB552...|C801AB5F48C7B7ADE...|0.18084654211400475|     0.06587782434721712| 0.1746880546342795|0.06636797904544467|\n",
            "|DC208675234315A18...|1C7A70F249B9E6083...|0.07583977373105011|     0.06587782434721734| 0.5385250475372882|0.06701641362839905|\n",
            "|231EF63050C2835BD...|3E3C4C133094A20A2...|0.07544083229256993|     0.06587782434721712| 0.4354379639430217|0.06555227532411245|\n",
            "|5E9F1CA08E3405C89...|36EA7F9D7052C540A...|0.07530529300675026|     0.06587782434721734|0.24088728811615412|0.06555227532411245|\n",
            "|D19877D507639A988...|A8B22B7662AB9F86A...|0.08512665019695254|     0.06587782434721712| 0.8163049138946007|0.06636797904544467|\n",
            "|87E555A6E65962920...|478C06E2B0148F808...| 0.8535154732808634|     0.06587782434721712|0.17051793682634686|0.06724204674986967|\n",
            "|B159B899A0756E8A5...|6D7A346F142C22FBA...|0.10268245784068475|     0.06587782434721712| 0.8275881908744106|0.06722757472480445|\n",
            "|118959453B6025307...|FCEBA305125450DA3...| 0.0861639177481458|     0.06587782434721734|0.20513109677467722|0.06636797904544467|\n",
            "|E2FF894A4228C37B7...|0F513DC063E902BFC...|0.09843636694109359|     0.06587782434721712| 0.1943925961359465|0.06663946585831226|\n",
            "|CD66CFE5540A02880...|98C4564664C6BF882...|0.07370893599954842|     0.06587782434721734|0.46447036234133043|0.06636797904544467|\n",
            "|86CBCDA0E3C9393C6...|09BD59FE47907DEC0...|0.09661302086626311|     0.06587782434721712| 0.8102026759471184|0.06663946585831226|\n",
            "+--------------------+--------------------+-------------------+------------------------+-------------------+-------------------+\n",
            "only showing top 20 rows\n",
            "\n"
          ],
          "output_type" : "stream"
        }
      ]
    },
    {
      "cell_type" : "code",
      "execution_count" : 9,
      "metadata" : {
        "cell.metadata.exec_info" : {
          "startTs" : 1591993097245,
          "endTs" : 1591993107304
        },
        "language" : "scala"
      },
      "language" : "scala",
      "source" : [
        "for (className <- classNames) {\n",
        "    finalFinalDf.select($\"tweet_id\", $\"user_id\", col(\"out_\" + className)).write.format(\"csv\").option(\"header\", \"false\").save(dataDir + \"/\" + className + \".csv\")\n",
        "}"
      ],
      "outputs" : [
      ]
    },
    {
      "cell_type" : "code",
      "execution_count" : 10,
      "metadata" : {
        "language" : "scala"
      },
      "language" : "scala",
      "source" : [
      ],
      "outputs" : [
      ]
    }
  ]
}