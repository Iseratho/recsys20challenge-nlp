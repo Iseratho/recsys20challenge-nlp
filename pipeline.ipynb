{
  "metadata" : {
    "config" : {
      "dependencies" : {
        "scala" : [
          "com.johnsnowlabs.nlp:spark-nlp_2.11:2.5.0"
        ]
      },
      "exclusions" : [
      ],
      "repositories" : [
      ],
      "sparkConfig" : {
        "spark.memory.offHeap.enabled" : "true",
        "spark.driver.memory" : "12g",
        "spark.memory.offHeap.size" : "32g",
        "spark.master" : "local[*]",
        "spark.executor.memory" : "2g"
      },
      "env" : {
        
      }
    },
    "language_info" : {
      "name" : "scala"
    }
  },
  "nbformat" : 4,
  "nbformat_minor" : 0,
  "cells" : [
    {
      "cell_type" : "markdown",
      "execution_count" : 0,
      "metadata" : {
        "language" : "text"
      },
      "language" : "text",
      "source" : [
        "# NLP RECSYS Pipeline\n",
        "\n",
        "\n"
      ],
      "outputs" : [
      ]
    },
    {
      "cell_type" : "code",
      "execution_count" : 1,
      "metadata" : {
        "cell.metadata.exec_info" : {
          "startTs" : 1591994280651,
          "endTs" : 1591994281640
        },
        "language" : "scala"
      },
      "language" : "scala",
      "source" : [
        "import com.johnsnowlabs.nlp.SparkNLP\n",
        "import com.johnsnowlabs.nlp.annotator._\n",
        "import com.johnsnowlabs.nlp.base._\n",
        "import com.johnsnowlabs.ml.tensorflow.TensorflowBert\n",
        "import org.apache.spark.ml.Pipeline\n",
        "import org.apache.spark.sql.types._\n",
        "import org.apache.spark.sql.SaveMode\n",
        "import org.apache.spark.sql.functions.{udf,to_timestamp}\n",
        "import org.apache.spark.storage._\n",
        "import org.apache.spark.ml.feature._\n",
        "import org.apache.spark.ml.classification._\n",
        "import org.apache.spark.ml.linalg.DenseVector\n",
        "\n",
        "// Imports below are used for customer ML Transformer\n",
        "import org.apache.spark.ml.Transformer\n",
        "import org.apache.spark.ml.param.{Param, ParamMap}\n",
        "import org.apache.spark.sql.{DataFrame, Dataset}\n",
        "import org.apache.spark.sql.SparkSession\n",
        "import org.apache.spark.sql.functions.{col, explode, udf}\n",
        "import org.apache.spark.sql.types.{DataTypes, StructType}\n",
        "\n",
        "\n",
        "val dataDir = sys.env(\"HOME\") + \"/recsys2020\"\n",
        "val dsName = \"training1m\""
      ],
      "outputs" : [
      ]
    },
    {
      "cell_type" : "code",
      "execution_count" : 2,
      "metadata" : {
        "cell.metadata.exec_info" : {
          "startTs" : 1591994281657,
          "endTs" : 1591994307711
        },
        "language" : "scala"
      },
      "language" : "scala",
      "source" : [
        "val df = spark.read.parquet(dataDir + s\"/${dsName}.parquet\").limit(1000)\n",
        "//.limit(1000).persist(StorageLevel.MEMORY_ONLY) // Remove limit after experiments\n",
        "df"
      ],
      "outputs" : [
        {
          "execution_count" : 2,
          "data" : {
            "text/plain" : [
              "[user_id: string, tweet_id: string ... 17 more fields]"
            ]
          },
          "metadata" : {
            "name" : "Out",
            "type" : "Dataset[Row]"
          },
          "output_type" : "execute_result"
        }
      ]
    },
    {
      "cell_type" : "code",
      "execution_count" : 3,
      "metadata" : {
        "cell.metadata.exec_info" : {
          "startTs" : 1591994307721,
          "endTs" : 1591994308365
        },
        "language" : "scala"
      },
      "language" : "scala",
      "source" : [
        "class Exploder(override val uid: String = \"EXPLODERASDGDASHASFDA\") extends Transformer {\n",
        "  // Example of custom estimator: https://docs.databricks.com/applications/machine-learning/mllib/advanced-mllib.html\n",
        "\n",
        "  // Transformer Params\n",
        "  // Defining a Param requires 3 elements:\n",
        "  //  - Param definition\n",
        "  //  - Param getter method\n",
        "  //  - Param setter method\n",
        "  // (The getter and setter are technically not required, but they are nice standards to follow.)\n",
        "\n",
        "  /**\n",
        "   * Param for input column name.\n",
        "   */\n",
        "  final val inputCol: Param[String] = new Param[String](this, \"inputCol\", \"input column name\")\n",
        "\n",
        "  final def getInputCol: String = $(inputCol)\n",
        "\n",
        "  final def setInputCol(value: String): Exploder = set(inputCol, value)\n",
        "\n",
        "  /**\n",
        "   * Param for output column name.\n",
        "   */\n",
        "  final val outputCol: Param[String] = new Param[String](this, \"outputCol\", \"output column name\")\n",
        "\n",
        "  final def getOutputCol: String = $(outputCol)\n",
        "\n",
        "  final def setOutputCol(value: String): Exploder = set(outputCol, value)\n",
        "\n",
        "  /**\n",
        "   * This method implements the main transformation.\n",
        "   * Its required semantics are fully defined by the method API: take a Dataset or DataFrame,\n",
        "   * and return a DataFrame.\n",
        "   *\n",
        "   * Most Transformers are 1-to-1 row mappings which add one or more new columns and do not\n",
        "   * remove any columns.  However, this restriction is not required.  This example does a flatMap,\n",
        "   * so we could either (a) drop other columns or (b) keep other columns, making copies of values\n",
        "   * in each row as it expands to multiple rows in the flatMap.  We do (a) for simplicity.\n",
        "   */\n",
        "  override def transform(dataset: Dataset[_]): DataFrame = {\n",
        "    dataset.withColumn($(outputCol), explode(col($(inputCol))))\n",
        "  }\n",
        "\n",
        "  /**\n",
        "   * Check transform validity and derive the output schema from the input schema.\n",
        "   *\n",
        "   * We check validity for interactions between parameters during `transformSchema` and\n",
        "   * raise an exception if any parameter value is invalid. Parameter value checks which\n",
        "   * do not depend on other parameters are handled by `Param.validate()`.\n",
        "   *\n",
        "   * Typical implementation should first conduct verification on schema change and parameter\n",
        "   * validity, including complex parameter interaction checks.\n",
        "   */\n",
        "  override def transformSchema(schema: StructType): StructType = {\n",
        "      val inputColType = schema.fields(schema.fieldIndex($(inputCol))).dataType.asInstanceOf[ArrayType];\n",
        "      // Compute output type.\n",
        "      // This is important to do correctly when plugging this Transformer into a Pipeline,\n",
        "      // where downstream Pipeline stages may expect use this Transformer's output as their input.\n",
        "      schema.add($(outputCol), inputColType.elementType)\n",
        "  }\n",
        "\n",
        "  /**\n",
        "   * Creates a copy of this instance.\n",
        "   * Requirements:\n",
        "   *  - The copy must have the same UID.\n",
        "   *  - The copy must have the same Params, with some possibly overwritten by the `extra`\n",
        "   *    argument.\n",
        "   *  - This should do a deep copy of any data members which are mutable.  That said,\n",
        "   *    Transformers should generally be immutable (except for Params), so the `defaultCopy`\n",
        "   *    method often suffices.\n",
        "   * @param extra  Param values which will overwrite Params in the copy.\n",
        "   */\n",
        "  override def copy(extra: ParamMap): Transformer = defaultCopy(extra)\n",
        "}\n",
        "\n"
      ],
      "outputs" : [
      ]
    },
    {
      "cell_type" : "code",
      "execution_count" : 4,
      "metadata" : {
        "cell.metadata.exec_info" : {
          "startTs" : 1591995171363,
          "endTs" : 1591995172458
        },
        "language" : "scala"
      },
      "language" : "scala",
      "source" : [
        "val doc = new DocumentAssembler()\n",
        "    .setInputCol(\"tweet_text\")\n",
        "    .setOutputCol(\"document\")\n",
        "    .setCleanupMode(\"shrink\")\n",
        "\n",
        "val use = UniversalSentenceEncoder\n",
        "      .pretrained()\n",
        "      .setInputCols(Array(\"document\"))\n",
        "      .setOutputCol(\"tweet_embeddings\")\n",
        "\n",
        "val fin = new EmbeddingsFinisher()\n",
        "      .setInputCols(use.getOutputCol)\n",
        "      .setOutputCols(\"finished_tweet_embeddings\")\n",
        "      .setOutputAsVector(true)\n",
        "      .setCleanAnnotations(false)\n",
        "\n",
        "val exploder = new Exploder()\n",
        "  .setInputCol(fin.getOutputCols(0))\n",
        "  .setOutputCol(\"embedding_features\")\n",
        "\n",
        "val tweetTypeIndexer = new StringIndexerModel(Array(\"TopLevel\", \"Retweet\", \"Quote\", \"Reply\"))\n",
        "  .setInputCol(\"tweet_type\")\n",
        "  .setOutputCol(\"tweet_type_idx\");\n",
        "\n",
        "val tweetTypeEncoder = new OneHotEncoder()\n",
        "  .setInputCol(tweetTypeIndexer.getOutputCol)\n",
        "  .setOutputCol(\"tweet_type_onehot\")\n",
        "\n",
        "val scaleAss = new VectorAssembler()\n",
        "  .setInputCols(Array(\"author_follower_count\", \"author_following_count\", \"user_follower_count\", \"user_following_count\"))\n",
        "  .setOutputCol(\"count_features\")\n",
        "\n",
        "val scaler = new StandardScaler()\n",
        "  .setInputCol(scaleAss.getOutputCol)\n",
        "  .setOutputCol(\"count_features_scaled\")\n",
        "  .setWithStd(true)\n",
        "  .setWithMean(false)\n",
        "\n",
        "val ass = new VectorAssembler()\n",
        "  .setInputCols(Array(\n",
        "      \"embedding_features\",\n",
        "      tweetTypeEncoder.getOutputCol,\n",
        "      scaler.getOutputCol,\n",
        "      \"author_is_verified\",\n",
        "      \"user_is_verified\",\n",
        "      \"follows\"\n",
        "    )).setOutputCol(\"features\")\n",
        "\n",
        "// You need to setProbabilityCol,  setPredictionCol and setRawPredictionCol\n",
        "// otherwise you get a name conflict in the pipeline\n",
        "\n",
        "val classNames = Array(\n",
        "  \"retweet\",\n",
        "  \"retweet_with_comment\",\n",
        "  \"like\",\n",
        "  \"reply\")\n",
        "\n",
        "val classifiers = for (className <- classNames) yield new GBTClassifier()\n",
        "                        .setLabelCol(\"has_\" + className)\n",
        "                        .setFeaturesCol(\"features\")\n",
        "                        .setProbabilityCol(\"prob_\" + className)\n",
        "                        .setPredictionCol(\"pred_\" + className)\n",
        "                        .setRawPredictionCol(\"predraw_\" + className)\n",
        "                        .setMaxIter(10)\n",
        "                        .setFeatureSubsetStrategy(\"auto\");\n",
        "\n",
        "val pred_pipeline = new Pipeline().setStages(Array(\n",
        "  doc, \n",
        "  use,\n",
        "  fin,\n",
        "  exploder,\n",
        "  scaleAss, \n",
        "  scaler, \n",
        "  tweetTypeIndexer, \n",
        "  tweetTypeEncoder, \n",
        "  ass) ++ classifiers)"
      ],
      "outputs" : [
      ]
    },
    {
      "cell_type" : "code",
      "execution_count" : 5,
      "metadata" : {
        "cell.metadata.exec_info" : {
          "startTs" : 1591994737137,
          "endTs" : 1591994809879
        },
        "language" : "scala"
      },
      "language" : "scala",
      "source" : [
        "val fitted_pipeline = pred_pipeline.fit(df)"
      ],
      "outputs" : [
      ]
    },
    {
      "cell_type" : "code",
      "execution_count" : 6,
      "metadata" : {
        "cell.metadata.exec_info" : {
          "startTs" : 1591995225458,
          "endTs" : 1591995225651
        },
        "language" : "scala"
      },
      "language" : "scala",
      "source" : [
        "val val_df = spark.read.parquet(dataDir + s\"/val.parquet\").withColumnRenamed(\"tweet_text\", \"sentence\")"
      ],
      "outputs" : [
      ]
    },
    {
      "cell_type" : "code",
      "execution_count" : 7,
      "metadata" : {
        "cell.metadata.exec_info" : {
          "startTs" : 1591995226962,
          "endTs" : 1591995228183
        },
        "language" : "scala"
      },
      "language" : "scala",
      "source" : [
        "var finalDf = fitted_pipeline.transform(val_df)\n",
        "finalDf.show()"
      ],
      "outputs" : [
        {
          "name" : "stdout",
          "text" : [
            "+--------------------+--------------------+----------+-------------------------------+---------------------+----------------------+------------------+-------------------+--------------------+----------------+-------+---------------+--------------------+--------------------+--------------------+-----------+------------------------+--------+---------+--------------------+--------------------+-------------------------+--------------------+--------------------+---------------------+--------------+-----------------+--------------------+--------------------+--------------------+------------+----------------------------+-------------------------+-------------------------+--------------------+--------------------+---------+--------------------+--------------------+----------+\n",
            "|             user_id|            tweet_id|tweet_type|                       sentence|author_follower_count|author_following_count|author_is_verified|user_follower_count|user_following_count|user_is_verified|follows|tweet_timestamp|            hashtags|       present_media|     present_domains|has_retweet|has_retweet_with_comment|has_like|has_reply|            document|    tweet_embeddings|finished_tweet_embeddings|  embedding_features|      count_features|count_features_scaled|tweet_type_idx|tweet_type_onehot|            features|     predraw_retweet|        prob_retweet|pred_retweet|predraw_retweet_with_comment|prob_retweet_with_comment|pred_retweet_with_comment|        predraw_like|           prob_like|pred_like|       predraw_reply|          prob_reply|pred_reply|\n",
            "+--------------------+--------------------+----------+-------------------------------+---------------------+----------------------+------------------+-------------------+--------------------+----------------+-------+---------------+--------------------+--------------------+--------------------+-----------+------------------------+--------+---------+--------------------+--------------------+-------------------------+--------------------+--------------------+---------------------+--------------+-----------------+--------------------+--------------------+--------------------+------------+----------------------------+-------------------------+-------------------------+--------------------+--------------------+---------+--------------------+--------------------+----------+\n",
            "|97DFD57483E8FEC58...|92043233FECF3A0D0...|   Retweet|          RT @ruipol08 : #相...|                  336|                   276|                 0|                808|                 856|               0|      1|     1581635179|[B6D01DB746555F80...|[Photo, Photo, Ph...|                null|          0|                       0|       0|        0|[[document, 0, 15...|[[sentence_embedd...|     [[-0.014711068943...|[-0.0147110689431...|[336.0,276.0,808....| [3.97476329977174...|           1.0|    (3,[1],[1.0])|[-0.0147110689431...|[0.94581174964632...|[0.86894053011452...|         0.0|        [1.32590267922033...|     [0.93412217565278...|                      0.0|[0.92940208516165...|[0.86515750346803...|      0.0|[1.32193384093801...|[0.93363202095455...|       0.0|\n",
            "|97DFD65EB481EAB0D...|69393D7C06AFF84CB...|   Retweet|           RT @bbcquestionti...|                10547|                  2521|                 1|               3384|                4115|               0|      0|     1582070743|                null|                null|                null|          0|                       0|       0|        0|[[document, 0, 14...|[[sentence_embedd...|     [[-0.022463854402...|[-0.0224638544023...|[10547.0,2521.0,3...| [0.00124767346793...|           1.0|    (3,[1],[1.0])|[-0.0224638544023...|[0.64651105599242...|[0.78465827371511...|         0.0|        [1.32590267922033...|     [0.93412217565278...|                      0.0|[0.80482258146600...|[0.83336211613618...|      0.0|[-0.8736892431188...|[0.14837815269684...|       1.0|\n",
            "|97DFD65EB481EAB0D...|C3C2880949D973B7A...|  TopLevel|           1st February 1929...|                11327|                  1610|                 0|               3231|                4094|               0|      0|     1581604001|                null|                null|                null|          0|                       0|       0|        0|[[document, 0, 16...|[[sentence_embedd...|     [[-0.074221901595...|[-0.0742219015955...|[11327.0,1610.0,3...| [0.00133994475882...|           0.0|    (3,[0],[1.0])|[-0.0742219015955...|[1.10116482198365...|[0.90045851869359...|         0.0|        [1.32590267922033...|     [0.93412217565278...|                      0.0|[0.55472677238496...|[0.75202722125750...|      0.0|[1.32193384093801...|[0.93363202095455...|       0.0|\n",
            "|97DFE1B6E6D384DD4...|4BC4B18F31E38D8B1...|     Quote|           La campagne prési...|                61717|                  1764|                 1|               1165|                 964|               0|      0|     1581584260|                null|                null|                null|          0|                       0|       0|        0|[[document, 0, 20...|[[sentence_embedd...|     [[0.0580510161817...|[0.05805101618170...|[61717.0,1764.0,1...| [0.00730090674321...|           2.0|    (3,[2],[1.0])|[0.05805101618170...|[0.84053155512694...|[0.84304525312211...|         0.0|        [1.32590267922033...|     [0.93412217565278...|                      0.0|[-0.6674263003849...|[0.20835782096732...|      1.0|[1.32193384093801...|[0.93363202095455...|       0.0|\n",
            "|97DFED4D9698A3217...|24F1EEF459475EDA0...|  TopLevel|           #iKON Tops iTunes...|              2592356|                  3722|                 1|                540|                 464|               0|      0|     1582079069|[6E620D3644225195...|             [Photo]|[1A1E0850A459D61D...|          0|                       0|       0|        0|[[document, 0, 10...|[[sentence_embedd...|     [[-0.029969086870...|[-0.0299690868705...|[2592356.0,3722.0...| [0.30666671097449...|           0.0|    (3,[0],[1.0])|[-0.0299690868705...|[-0.6726484808599...|[0.20664032466192...|         1.0|        [1.32590267922033...|     [0.93412217565278...|                      0.0|[0.47094676236293...|[0.71948198185799...|      0.0|[1.32193384093801...|[0.93363202095455...|       0.0|\n",
            "|97DFEF4A544F26640...|03182AC34666AD912...|  TopLevel|           SM Ent confirms K...|               260479|                   595|                 0|                 37|                 230|               0|      0|     1581815531|                null|      [Photo, Photo]|                null|          0|                       0|       0|        0|[[document, 0, 11...|[[sentence_embedd...|     [[0.0468903556466...|[0.04689035564661...|[260479.0,595.0,3...| [0.03081376099884...|           0.0|    (3,[0],[1.0])|[0.04689035564661...|[1.22317504500527...|[0.92029412991322...|         0.0|        [1.32590267922033...|     [0.93412217565278...|                      0.0|[0.60357794288196...|[0.76979532897797...|      0.0|[1.31375041452700...|[0.93261065117033...|       0.0|\n",
            "|97DFF2DFD41C836B5...|0F6CC79F441E4BAE0...|  TopLevel|           https://t.co/ehJX...|                 9786|                   280|                 0|                 21|                  60|               0|      0|     1582038829|                null|[Photo, Photo, Ph...|                null|          0|                       0|       0|        0|[[document, 0, 22...|[[sentence_embedd...|     [[0.0443067252635...|[0.04430672526359...|[9786.0,280.0,21....| [0.00115764981105...|           0.0|    (3,[0],[1.0])|[0.04430672526359...|[1.08985247401135...|[0.89841214653422...|         0.0|        [1.32590267922033...|     [0.93412217565278...|                      0.0|[0.18429153600032...|[0.59111655435625...|      0.0|[1.32855388254823...|[0.93444772467588...|       0.0|\n",
            "|97DFF9E3E74426397...|75F474EB34532ACD5...|  TopLevel|           The limitless sky...|              1949444|                     8|                 1|                 37|                 326|               0|      0|     1581937282|[12C01EC161709222...|             [Photo]|                null|          0|                       0|       0|        0|[[document, 0, 59...|[[sentence_embedd...|     [[0.0682813376188...|[0.06828133761882...|[1949444.0,8.0,37...| [0.23061245435000...|           0.0|    (3,[0],[1.0])|[0.06828133761882...|[1.33618659828713...|[0.93537663275832...|         0.0|        [1.32590267922033...|     [0.93412217565278...|                      0.0|[0.65848398012619...|[0.78867681181120...|      0.0|[1.20165539940382...|[0.91707942030663...|       0.0|\n",
            "|97DFFA1010CB8D434...|D246BDE05F3982DB9...|   Retweet|           RT @traydominic :...|                23830|                  5527|                 0|                 17|                 113|               0|      0|     1581600456|                null|                null|                null|          0|                       0|       0|        0|[[document, 0, 36...|[[sentence_embedd...|     [[0.0522422268986...|[0.05224222689867...|[23830.0,5527.0,1...| [0.00281900623314...|           1.0|    (3,[1],[1.0])|[0.05224222689867...|[1.27081958628484...|[0.92700981494559...|         0.0|        [1.32590267922033...|     [0.93412217565278...|                      0.0|[0.57765000964749...|[0.76047765519133...|      0.0|[1.32193384093801...|[0.93363202095455...|       0.0|\n",
            "|97DFFE17475C05BB9...|25332D237024AE4C5...|  TopLevel|           Perdón , de vez e...|              2646367|                   359|                 0|                  0|                  39|               0|      0|     1581743356|                null|                null|                null|          0|                       0|       0|        0|[[document, 0, 10...|[[sentence_embedd...|     [[0.0384520776569...|[0.03845207765698...|[2646367.0,359.0,...| [0.31305602468235...|           0.0|    (3,[0],[1.0])|[0.03845207765698...|[1.24134803532366...|[0.92291981200421...|         0.0|        [1.32590267922033...|     [0.93412217565278...|                      0.0|[-0.3957024626033...|[0.31186708436659...|      1.0|[1.24994134662921...|[0.92413359593102...|       0.0|\n",
            "|97E005A2A5BD6C2D4...|161CB22352D6F041F...|  TopLevel| 恋 人 ごっこ . 好 きだな 〜...|                 1425|                  1453|                 0|                185|                 202|               0|      1|     1582026629|                null|                null|                null|          0|                       0|       0|        0|[[document, 0, 24...|[[sentence_embedd...|     [[0.0658640265464...|[0.06586402654647...|[1425.0,1453.0,18...| [1.68572550659962...|           0.0|    (3,[0],[1.0])|[0.06586402654647...|[1.24826299204499...|[0.92389791941593...|         0.0|        [1.32590267922033...|     [0.93412217565278...|                      0.0|[-0.6213219233448...|[0.22397612124913...|      1.0|[1.32193384093801...|[0.93363202095455...|       0.0|\n",
            "|97E005C1D2B0E82B1...|5636A6B20E20E6254...|  TopLevel|    [ #찬영 ] 피곤한 . #디아...|                31264|                     2|                 0|               2182|                 659|               0|      0|     1582110110|[0AB949DDC98975A0...|[Photo, Photo, Ph...|                null|          0|                       0|       0|        0|[[document, 0, 54...|[[sentence_embedd...|     [[0.0521614067256...|[0.05216140672564...|[31264.0,2.0,2182...| [0.00369842261321...|           0.0|    (3,[0],[1.0])|[0.05216140672564...|[0.79549571385395...|[0.83075554427921...|         0.0|        [1.32590267922033...|     [0.93412217565278...|                      0.0|[-0.2712546954809...|[0.36760402729855...|      1.0|[1.31974728414936...|[0.93336053414168...|       0.0|\n",
            "|97E005C1D2B0E82B1...|C0833FF00E4465EBD...|   Retweet|           RT @5minselfcare ...|                 2621|                    46|                 0|               2186|                 656|               0|      0|     1581807469|                null|                null|                null|          0|                       0|       0|        0|[[document, 0, 10...|[[sentence_embedd...|     [[0.0134974783286...|[0.01349747832864...|[2621.0,46.0,2186...| [3.10055196687552...|           1.0|    (3,[1],[1.0])|[0.01349747832864...|[1.10388451643569...|[0.90094500641102...|         0.0|        [1.32590267922033...|     [0.93412217565278...|                      0.0|[-1.2491631258088...|[0.07597559933274...|      1.0|[1.32219028219910...|[0.93366379376591...|       0.0|\n",
            "|97E0064C10DCBC7B3...|C46563199BAF1FA79...|  TopLevel| でもね 、 仲 良 しな 両 親 ...|                  169|                   274|                 0|                603|                 836|               0|      1|     1581608484|                null|                null|                null|          0|                       0|       0|        0|[[document, 0, 16...|[[sentence_embedd...|     [[0.0170979518443...|[0.01709795184433...|[169.0,274.0,603....| [1.99921130256376...|           0.0|    (3,[0],[1.0])|[0.01709795184433...|[1.23955576720560...|[0.92266442539557...|         0.0|        [1.32590267922033...|     [0.93412217565278...|                      0.0|[-0.5490894054438...|[0.25008128589147...|      1.0|[1.29066086874971...|[0.92964976127554...|       0.0|\n",
            "|97E00A43E41ED4F7A...|62B5F36337EC81C20...|   Retweet|           RT @takamorikun20...|                  406|                   195|                 0|                546|                 514|               0|      1|     1581801346|[F93FEDCCA58D0FC7...|                null|                null|          0|                       0|       0|        0|[[document, 0, 16...|[[sentence_embedd...|     [[0.0486717373132...|[0.04867173731327...|[406.0,195.0,546....| [4.80283898722419...|           1.0|    (3,[1],[1.0])|[0.04867173731327...|[1.11256030468269...|[0.90248277801688...|         0.0|        [1.32590267922033...|     [0.93412217565278...|                      0.0|[0.99596325846738...|[0.87994680461729...|      0.0|[1.31974728414936...|[0.93336053414168...|       0.0|\n",
            "|97E00A43E41ED4F7A...|D351964B6FB9C9CC7...|  TopLevel|おはようございます ！ ！ . ....|                 4063|                   648|                 0|                546|                 514|               0|      1|     1581888334|                null|             [Photo]|                null|          0|                       0|       0|        0|[[document, 0, 12...|[[sentence_embedd...|     [[0.0400508418679...|[0.04005084186792...|[4063.0,648.0,546...| [4.80638788302756...|           0.0|    (3,[0],[1.0])|[0.04005084186792...|[-0.1970668319682...|[0.40272260257096...|         1.0|        [1.32590267922033...|     [0.93412217565278...|                      0.0|[-0.4822844449856...|[0.27596436015541...|      1.0|[1.31974728414936...|[0.93336053414168...|       0.0|\n",
            "|97E00ED5200465858...|432AFCEAAB9F5517C...|   Retweet|           RT @LondonOnDaTra...|               694884|                   146|                 1|                175|                 124|               0|      0|     1581794897|                null|                null|                null|          0|                       0|       0|        0|[[document, 0, 57...|[[sentence_embedd...|     [[-0.026625050231...|[-0.0266250502318...|[694884.0,146.0,1...| [0.08220236371424...|           1.0|    (3,[1],[1.0])|[-0.0266250502318...|[1.10927514308972...|[0.90190300847281...|         0.0|        [1.32590267922033...|     [0.93412217565278...|                      0.0|[0.99610159360158...|[0.87997602910994...|      0.0|[1.32193384093801...|[0.93363202095455...|       0.0|\n",
            "|97E0162F63B05C2D0...|B417CBB071D48E047...|     Quote|                     #Klomentum|               403236|                   298|                 1|                222|                 792|               0|      0|     1581701814|[0B71EBA5552654F9...|                null|                null|          0|                       0|       0|        0|[[document, 0, 9,...|[[sentence_embedd...|     [[0.0302965231239...|[0.03029652312397...|[403236.0,298.0,2...| [0.04770141827222...|           2.0|    (3,[2],[1.0])|[0.03029652312397...|[-0.3183558888917...|[0.34599022428307...|         1.0|        [-0.6740973207796...|     [0.20616568254425...|                      1.0|[-0.2777863862031...|[0.36457245228736...|      1.0|[1.32855388254823...|[0.93444772467588...|       0.0|\n",
            "|97E0198EC7B32501F...|AB13D9ED6CD20D3F7...|  TopLevel|           Today , I am sanc...|              1346459|                    50|                 1|                 30|                 229|               0|      0|     1581948324|                null|                null|                null|          0|                       0|       0|        0|[[document, 0, 27...|[[sentence_embedd...|     [[0.0728740096092...|[0.07287400960922...|[1346459.0,50.0,3...| [0.15928142315021...|           0.0|    (3,[0],[1.0])|[0.07287400960922...|[1.23682407601932...|[0.92227368561363...|         0.0|        [1.32590267922033...|     [0.93412217565278...|                      0.0|[-0.1285168424682...|[0.43609303344272...|      1.0|[1.32193384093801...|[0.93363202095455...|       0.0|\n",
            "|97E0223DCA8A8F101...|27C1D34AEB535195C...|  TopLevel|           It looks like the...|              2657763|                  5954|                 1|              14462|                2442|               0|      0|     1581616800|                null|             [Video]|                null|          0|                       0|       0|        0|[[document, 0, 14...|[[sentence_embedd...|     [[0.0677492469549...|[0.06774924695491...|[2657763.0,5954.0...| [0.31440413190152...|           0.0|    (3,[0],[1.0])|[0.06774924695491...|[1.16693879118585...|[0.91164417137281...|         0.0|        [1.32590267922033...|     [0.93412217565278...|                      0.0|[-0.8722812932907...|[0.14873432804980...|      1.0|[1.32418776365633...|[0.93391079639299...|       0.0|\n",
            "+--------------------+--------------------+----------+-------------------------------+---------------------+----------------------+------------------+-------------------+--------------------+----------------+-------+---------------+--------------------+--------------------+--------------------+-----------+------------------------+--------+---------+--------------------+--------------------+-------------------------+--------------------+--------------------+---------------------+--------------+-----------------+--------------------+--------------------+--------------------+------------+----------------------------+-------------------------+-------------------------+--------------------+--------------------+---------+--------------------+--------------------+----------+\n",
            "only showing top 20 rows\n",
            "\n"
          ],
          "output_type" : "stream"
        }
      ]
    },
    {
      "cell_type" : "code",
      "execution_count" : 8,
      "metadata" : {
        "cell.metadata.exec_info" : {
          "startTs" : 1591995230386,
          "endTs" : 1591995232446
        },
        "language" : "scala"
      },
      "language" : "scala",
      "source" : [
        "// only get relevant columns\n",
        "val toArr: Any => Double = _.asInstanceOf[DenseVector].toArray(1)\n",
        "val toArrUdf = udf(toArr)\n",
        "\n",
        "var finalFinalDf = finalDf;\n",
        "val outputNames = for (className <- classNames) yield {\n",
        "    val inputName = \"prob_\" + className;\n",
        "    val outputName = \"out_\" + className;\n",
        "    finalFinalDf = finalFinalDf.withColumn(outputName, toArrUdf(col(inputName)));\n",
        "    outputName\n",
        "}\n",
        "\n",
        "finalFinalDf.selectExpr((Array(\"user_id\", \"tweet_id\") ++ outputNames):_*).show()"
      ],
      "outputs" : [
        {
          "name" : "stdout",
          "text" : [
            "+--------------------+--------------------+-------------------+------------------------+-------------------+-------------------+\n",
            "|             user_id|            tweet_id|        out_retweet|out_retweet_with_comment|           out_like|          out_reply|\n",
            "+--------------------+--------------------+-------------------+------------------------+-------------------+-------------------+\n",
            "|97DFD57483E8FEC58...|92043233FECF3A0D0...| 0.1310594698854789|     0.06587782434721712|0.13484249653196545|0.06636797904544467|\n",
            "|97DFD65EB481EAB0D...|69393D7C06AFF84CB...|0.21534172628488368|     0.06587782434721712|0.16663788386381118| 0.8516218473031536|\n",
            "|97DFD65EB481EAB0D...|C3C2880949D973B7A...|0.09954148130640927|     0.06587782434721712|  0.247972778742497|0.06636797904544467|\n",
            "|97DFE1B6E6D384DD4...|4BC4B18F31E38D8B1...| 0.1569547468778838|     0.06587782434721734| 0.7916421790326793|0.06636797904544467|\n",
            "|97DFED4D9698A3217...|24F1EEF459475EDA0...|  0.793359675338075|     0.06587782434721712| 0.2805180181420005|0.06636797904544467|\n",
            "|97DFEF4A544F26640...|03182AC34666AD912...| 0.0797058700867771|     0.06587782434721734|0.23020467102202746| 0.0673893488296613|\n",
            "|97DFF2DFD41C836B5...|0F6CC79F441E4BAE0...|0.10158785346577126|     0.06587782434721712| 0.4088834456437491|0.06555227532411245|\n",
            "|97DFF9E3E74426397...|75F474EB34532ACD5...|0.06462336724167217|     0.06587782434721712|0.21132318818879636|0.08292057969336641|\n",
            "|97DFFA1010CB8D434...|D246BDE05F3982DB9...|0.07299018505440236|     0.06587782434721712|0.23952234480866974|0.06636797904544467|\n",
            "|97DFFE17475C05BB9...|25332D237024AE4C5...|0.07708018799578387|     0.06587782434721712| 0.6881329156334035|0.07586640406897871|\n",
            "|97E005A2A5BD6C2D4...|161CB22352D6F041F...|0.07610208058406032|     0.06587782434721712|  0.776023878750862|0.06636797904544467|\n",
            "|97E005C1D2B0E82B1...|5636A6B20E20E6254...| 0.1692444557207865|     0.06587782434721712| 0.6323959727014472|0.06663946585831226|\n",
            "|97E005C1D2B0E82B1...|C0833FF00E4465EBD...|0.09905499358897207|     0.06587782434721712| 0.9240244006672546|0.06633620623408065|\n",
            "|97E0064C10DCBC7B3...|C46563199BAF1FA79...|0.07733557460442408|     0.06587782434721712| 0.7499187141085212|0.07035023872445012|\n",
            "|97E00A43E41ED4F7A...|62B5F36337EC81C20...|0.09751722198311585|     0.06587782434721712|0.12005319538270864|0.06663946585831226|\n",
            "|97E00A43E41ED4F7A...|D351964B6FB9C9CC7...| 0.5972773974290306|     0.06587782434721712| 0.7240356398445855|0.06663946585831226|\n",
            "|97E00ED5200465858...|432AFCEAAB9F5517C...|0.09809699152718776|     0.06587782434721712|0.12002397089005246|0.06636797904544467|\n",
            "|97E0162F63B05C2D0...|B417CBB071D48E047...| 0.6540097757169294|      0.7938343174557403| 0.6354275477126379|0.06555227532411245|\n",
            "|97E0198EC7B32501F...|AB13D9ED6CD20D3F7...|0.07772631438636846|     0.06587782434721712|  0.563906966557274|0.06636797904544467|\n",
            "|97E0223DCA8A8F101...|27C1D34AEB535195C...|0.08835582862718949|     0.06587782434721712| 0.8512656719501972|0.06608920360700377|\n",
            "+--------------------+--------------------+-------------------+------------------------+-------------------+-------------------+\n",
            "only showing top 20 rows\n",
            "\n"
          ],
          "output_type" : "stream"
        }
      ]
    },
    {
      "cell_type" : "code",
      "execution_count" : 9,
      "metadata" : {
        "cell.metadata.exec_info" : {
          "startTs" : 1591995234801,
          "endTs" : 1592017642915
        },
        "language" : "scala"
      },
      "language" : "scala",
      "source" : [
        "for (className <- classNames) {\n",
        "    finalFinalDf.select($\"tweet_id\", $\"user_id\", col(\"out_\" + className))\n",
        "    .write\n",
        "    .mode(SaveMode.Overwrite)\n",
        "    .format(\"csv\")\n",
        "    .option(\"header\", \"false\")\n",
        "    .save(dataDir + \"/\" + className + \".csv\")\n",
        "}"
      ],
      "outputs" : [
      ]
    },
    {
      "cell_type" : "code",
      "execution_count" : 10,
      "metadata" : {
        "cell.metadata.exec_info" : {
          "startTs" : 1591995087713,
          "endTs" : 1591995090449
        },
        "language" : "scala"
      },
      "language" : "scala",
      "source" : [
        "finalFinalDf.count()"
      ],
      "outputs" : [
        {
          "execution_count" : 16,
          "data" : {
            "text/plain" : [
              "998"
            ]
          },
          "metadata" : {
            "name" : "Out",
            "type" : "Long"
          },
          "output_type" : "execute_result"
        }
      ]
    },
    {
      "cell_type" : "code",
      "execution_count" : 18,
      "metadata" : {
        "language" : "scala"
      },
      "language" : "scala",
      "source" : [
      ],
      "outputs" : [
      ]
    }
  ]
}