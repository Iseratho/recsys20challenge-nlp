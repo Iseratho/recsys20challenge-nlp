{
  "metadata" : {
    "config" : {
      "dependencies" : {
        "scala" : [
          "com.johnsnowlabs.nlp:spark-nlp_2.11:2.5.0"
        ]
      },
      "exclusions" : [
      ],
      "repositories" : [
      ],
      "sparkConfig" : {
        "spark.memory.offHeap.enabled" : "true",
        "spark.driver.memory" : "12g",
        "spark.memory.offHeap.size" : "32g",
        "spark.master" : "local[*]",
        "spark.executor.memory" : "2g"
      },
      "env" : {
        
      }
    },
    "language_info" : {
      "name" : "scala"
    }
  },
  "nbformat" : 4,
  "nbformat_minor" : 0,
  "cells" : [
    {
      "cell_type" : "markdown",
      "execution_count" : 0,
      "metadata" : {
        "language" : "text"
      },
      "language" : "text",
      "source" : [
        "# generate preds\n",
        "\n",
        "This is a text cell. Start editing!"
      ],
      "outputs" : [
      ]
    },
    {
      "cell_type" : "code",
      "execution_count" : 1,
      "metadata" : {
        "cell.metadata.exec_info" : {
          "startTs" : 1591895756209,
          "endTs" : 1591895756317
        },
        "language" : "scala"
      },
      "language" : "scala",
      "source" : [
        "import com.johnsnowlabs.nlp.SparkNLP\n",
        "import com.johnsnowlabs.nlp.annotator._\n",
        "import com.johnsnowlabs.nlp.base._\n",
        "import com.johnsnowlabs.ml.tensorflow.TensorflowBert\n",
        "import org.apache.spark.ml.Pipeline\n",
        "import org.apache.spark.sql.types._\n",
        "import org.apache.spark.sql.SaveMode\n",
        "import org.apache.spark.sql.functions.{udf,to_timestamp}\n",
        "\n",
        "val dataDir = \"../../data/recsys2020/\""
      ],
      "outputs" : [
      ]
    },
    {
      "cell_type" : "code",
      "execution_count" : 2,
      "metadata" : {
        "cell.metadata.exec_info" : {
          "startTs" : 1591895105787,
          "endTs" : 1591895109910
        },
        "language" : "scala"
      },
      "language" : "scala",
      "source" : [
        "val schema = new StructType()\n",
        "    .add(\"text_tokens\", StringType, true)\n",
        "    .add(\"hashtags\", StringType, true)\n",
        "    .add(\"tweet_id\", StringType, true)\n",
        "    .add(\"present_media\", StringType, true)\n",
        "    .add(\"present_links\", StringType, true)\n",
        "    .add(\"present_domains\", StringType, true)\n",
        "    .add(\"tweet_type\", StringType, true)\n",
        "    .add(\"language\", StringType, true)\n",
        "    .add(\"tweet_timestamp\", IntegerType, true)\n",
        "    .add(\"engaged_with_user_id\", StringType, true)\n",
        "    .add(\"engaged_with_user_follower_count\", IntegerType, true)\n",
        "    .add(\"engaged_with_user_following_count\", IntegerType, true)\n",
        "    .add(\"engaged_with_user_is_verified\", BooleanType, true)\n",
        "    .add(\"engaged_with_user_account_creation\", IntegerType, true)\n",
        "    .add(\"engaging_user_id\", StringType, true)\n",
        "    .add(\"engaging_user_follower_count\", IntegerType, true)\n",
        "    .add(\"engaging_user_following_count\", IntegerType, true)\n",
        "    .add(\"engaging_user_is_verified\", BooleanType, true)\n",
        "    .add(\"engaging_user_account_creation\", IntegerType, true)\n",
        "    .add(\"engagee_follows_engager\", BooleanType, true)\n",
        "    .add(\"reply_timestamp\", IntegerType, true)\n",
        "    .add(\"retweet_timestamp\", IntegerType, true)\n",
        "    .add(\"retweet_with_comment_timestamp\", IntegerType, true)\n",
        "    .add(\"like_timestamp\", IntegerType, true)\n",
        "\n",
        "val df = spark.read.format(\"csv\")\n",
        "        .option(\"delimiter\", \"\\u0001\")\n",
        "        .schema(schema)\n",
        "        .load(dataDir + \"val.tsv\")\n",
        "\n",
        "df"
      ],
      "outputs" : [
        {
          "execution_count" : 2,
          "data" : {
            "text/plain" : [
              "[text_tokens: string, hashtags: string ... 22 more fields]"
            ]
          },
          "metadata" : {
            "name" : "Out",
            "type" : "DataFrame"
          },
          "output_type" : "execute_result"
        }
      ]
    },
    {
      "cell_type" : "code",
      "execution_count" : 3,
      "metadata" : {
        "cell.metadata.exec_info" : {
          "startTs" : 1591895341814,
          "endTs" : 1591895342047
        },
        "language" : "scala"
      },
      "language" : "scala",
      "source" : [
        "val test = df.limit(100)\n",
        "test"
      ],
      "outputs" : [
        {
          "execution_count" : 3,
          "data" : {
            "text/plain" : [
              "[text_tokens: string, hashtags: string ... 22 more fields]"
            ]
          },
          "metadata" : {
            "name" : "Out",
            "type" : "Dataset[Row]"
          },
          "output_type" : "execute_result"
        }
      ]
    },
    {
      "cell_type" : "code",
      "execution_count" : 4,
      "metadata" : {
        "cell.metadata.exec_info" : {
          "startTs" : 1591896844512,
          "endTs" : 1591896844844
        },
        "language" : "scala"
      },
      "language" : "scala",
      "source" : [
        "val rand_pred = df.select($\"tweet_id\", $\"engaging_user_id\", rand() as \"retweet_pred\", rand() as \"comment_pred\", rand() as \"like_pred\", rand() as \"reply_pred\")\n",
        "rand_pred.show()"
      ],
      "outputs" : [
        {
          "name" : "stdout",
          "text" : [
            "+--------------------+--------------------+-------------------+--------------------+--------------------+--------------------+\n",
            "|            tweet_id|    engaging_user_id|       retweet_pred|        comment_pred|           like_pred|          reply_pred|\n",
            "+--------------------+--------------------+-------------------+--------------------+--------------------+--------------------+\n",
            "|7647B4E9DAF4C1D89...|0000006C307460705...| 0.4036248872770235|  0.0580106717104073|  0.6956724216590287|  0.8732374546130629|\n",
            "|408DB1803264B5FF5...|00001331538649227...| 0.7350791454166347|  0.2296441695971918|  0.8979647611637663|  0.7668456453623054|\n",
            "|2EE951379C47E8BF6...|00001569CB28972FC...|0.22283278604187862|0.052529003995441914| 0.39101942336068773|   0.826292099387204|\n",
            "|2135F24B05DAE3EF2...|00001607209C5774D...|0.46427008648349377|  0.9645112161672722|  0.8952030165011892|0.011009512560946177|\n",
            "|F5F712E11F0ED10C0...|00001607209C5774D...|0.18259647290861047|  0.9261971889328737|  0.2630592537290849|  0.6549469184738014|\n",
            "|09143FEDE9BD494A6...|0000177705514C315...|0.18937689577016614|  0.8327719450597333|  0.5354642991633419| 0.44715616462055674|\n",
            "|60968762145D2AF58...|00001BC7053263218...|0.40800875228365163|  0.2912864944151131|  0.5014730442446118|  0.5121482853038772|\n",
            "|3487905D0C69B0FE4...|00001D9D15FBADE90...| 0.9636274248752141| 0.43949748787795617|  0.2700525606808277|  0.1802899589433773|\n",
            "|706310D7975C15B9F...|00001F56CDCF81D2E...|  0.385405784803737| 0.14272437804729365|  0.5547500696402139|  0.8241659560060125|\n",
            "|DBC37B8C8DC70C70F...|00001F56CDCF81D2E...| 0.9816287680846935|  0.5526591454599161| 0.00267618901167499|  0.5537361834694728|\n",
            "|BA7917AA4B620B132...|0000376314CAC0A3E...|0.00899342893678634|  0.8244415786424871|  0.8672625478883633|  0.9692817527349374|\n",
            "|60DD856C81BC0A115...|000043D9A730DF476...|0.15993884740431674|  0.9962407686988595|  0.4606425367553123|  0.8693884652047265|\n",
            "|CFBD0716FB1FE9969...|00004E42009644A76...|0.26974988381069087|  0.7924839400864943|  0.9870612635915083|  0.9045289505006344|\n",
            "|DDCA4D6A45EFFFAD4...|00004E42009644A76...| 0.3398785118282607|  0.7753773462876711|  0.8449757731700307|   0.562153524614095|\n",
            "|97B2B88F6A4C30F67...|000052B88E27886C4...|  0.781893256393551|   0.971461330766603|0.005307582158409874|  0.7106656097822295|\n",
            "|7FC54E66347A4EDC2...|00005A197A6EDCF72...| 0.9236119732691388|  0.6334601263489288|  0.6327565900032935|  0.9662895048685668|\n",
            "|00E5688F5726E0CA2...|000061D27D4B36129...| 0.9308012645546369|  0.9032490825776627|  0.7846521833962975| 0.19295434663658395|\n",
            "|F5A025A1FD812FF90...|000062A7E0F2A4514...| 0.1791141307808246|  0.2362443231653507|  0.7548893888864268|  0.9448455049582599|\n",
            "|6E81940D786F4D435...|00006B88F1B1F669C...| 0.7401633761998794| 0.08767912369847664|   0.925385913714421|  0.6269638109557295|\n",
            "|8F52DAF4FE28E8823...|00006C241A4CC8493...|0.43550883065600887|  0.6602040649757092| 0.15413187976900156|  0.7794907419859853|\n",
            "+--------------------+--------------------+-------------------+--------------------+--------------------+--------------------+\n",
            "only showing top 20 rows\n",
            "\n"
          ],
          "output_type" : "stream"
        }
      ]
    },
    {
      "cell_type" : "code",
      "execution_count" : 6,
      "metadata" : {
        "cell.metadata.exec_info" : {
          "startTs" : 1591896852929,
          "endTs" : 1591896853178
        },
        "language" : "scala"
      },
      "language" : "scala",
      "source" : [
        "rand_pred.select($\"tweet_id\", $\"engaging_user_id\", $\"retweet_pred\").show()"
      ],
      "outputs" : [
        {
          "name" : "stdout",
          "text" : [
            "+--------------------+--------------------+-------------------+\n",
            "|            tweet_id|    engaging_user_id|       retweet_pred|\n",
            "+--------------------+--------------------+-------------------+\n",
            "|7647B4E9DAF4C1D89...|0000006C307460705...| 0.4036248872770235|\n",
            "|408DB1803264B5FF5...|00001331538649227...| 0.7350791454166347|\n",
            "|2EE951379C47E8BF6...|00001569CB28972FC...|0.22283278604187862|\n",
            "|2135F24B05DAE3EF2...|00001607209C5774D...|0.46427008648349377|\n",
            "|F5F712E11F0ED10C0...|00001607209C5774D...|0.18259647290861047|\n",
            "|09143FEDE9BD494A6...|0000177705514C315...|0.18937689577016614|\n",
            "|60968762145D2AF58...|00001BC7053263218...|0.40800875228365163|\n",
            "|3487905D0C69B0FE4...|00001D9D15FBADE90...| 0.9636274248752141|\n",
            "|706310D7975C15B9F...|00001F56CDCF81D2E...|  0.385405784803737|\n",
            "|DBC37B8C8DC70C70F...|00001F56CDCF81D2E...| 0.9816287680846935|\n",
            "|BA7917AA4B620B132...|0000376314CAC0A3E...|0.00899342893678634|\n",
            "|60DD856C81BC0A115...|000043D9A730DF476...|0.15993884740431674|\n",
            "|CFBD0716FB1FE9969...|00004E42009644A76...|0.26974988381069087|\n",
            "|DDCA4D6A45EFFFAD4...|00004E42009644A76...| 0.3398785118282607|\n",
            "|97B2B88F6A4C30F67...|000052B88E27886C4...|  0.781893256393551|\n",
            "|7FC54E66347A4EDC2...|00005A197A6EDCF72...| 0.9236119732691388|\n",
            "|00E5688F5726E0CA2...|000061D27D4B36129...| 0.9308012645546369|\n",
            "|F5A025A1FD812FF90...|000062A7E0F2A4514...| 0.1791141307808246|\n",
            "|6E81940D786F4D435...|00006B88F1B1F669C...| 0.7401633761998794|\n",
            "|8F52DAF4FE28E8823...|00006C241A4CC8493...|0.43550883065600887|\n",
            "+--------------------+--------------------+-------------------+\n",
            "only showing top 20 rows\n",
            "\n"
          ],
          "output_type" : "stream"
        }
      ]
    },
    {
      "cell_type" : "code",
      "execution_count" : 5,
      "metadata" : {
        "cell.metadata.exec_info" : {
          "startTs" : 1591896867122,
          "endTs" : 1591897092012
        },
        "language" : "scala"
      },
      "language" : "scala",
      "source" : [
        "rand_pred.select($\"tweet_id\", $\"engaging_user_id\", $\"retweet_pred\").write.format(\"csv\").option(\"header\", \"false\").save(dataDir + \"retweet.csv\")\n",
        "rand_pred.select($\"tweet_id\", $\"engaging_user_id\", $\"comment_pred\").write.format(\"csv\").option(\"header\", \"false\").save(dataDir + \"comment.csv\")\n",
        "rand_pred.select($\"tweet_id\", $\"engaging_user_id\", $\"like_pred\").write.format(\"csv\").option(\"header\", \"false\").save(dataDir + \"like.csv\")\n",
        "rand_pred.select($\"tweet_id\", $\"engaging_user_id\", $\"reply_pred\").write.format(\"csv\").option(\"header\", \"false\").save(dataDir + \"reply.csv\")\n",
        "\n",
        "// combine files with `cat like.csv/*.csv > likes.csv`"
      ],
      "outputs" : [
      ]
    },
    {
      "cell_type" : "code",
      "execution_count" : 8,
      "metadata" : {
        "language" : "scala"
      },
      "language" : "scala",
      "source" : [
      ],
      "outputs" : [
      ]
    }
  ]
}