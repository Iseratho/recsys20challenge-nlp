{
  "metadata" : {
    "config" : {
      "dependencies" : {
        "scala" : [
          "com.johnsnowlabs.nlp:spark-nlp_2.11:2.5.0"
        ]
      },
      "exclusions" : [
      ],
      "repositories" : [
      ],
      "sparkConfig" : {
        "spark.memory.offHeap.enabled" : "true",
        "spark.driver.memory" : "20g",
        "spark.memory.offHeap.size" : "32g",
        "spark.master" : "local[*]",
        "spark.executor.memory" : "20g",
        "spark.local.dir" : "/home/sko/.cache/spark"
      },
      "env" : {
        
      }
    },
    "language_info" : {
      "name" : "scala"
    }
  },
  "nbformat" : 4,
  "nbformat_minor" : 0,
  "cells" : [
    {
      "cell_type" : "markdown",
      "execution_count" : 0,
      "metadata" : {
        "language" : "text"
      },
      "language" : "text",
      "source" : [
        "# NLP RECSYS Train Pipeline Stage2\n",
        "\n",
        "\n"
      ],
      "outputs" : [
      ]
    },
    {
      "cell_type" : "code",
      "execution_count" : 1,
      "metadata" : {
        "cell.metadata.exec_info" : {
          "startTs" : 1592059168571,
          "endTs" : 1592059168886
        },
        "language" : "scala"
      },
      "language" : "scala",
      "source" : [
        "import com.johnsnowlabs.nlp.SparkNLP\n",
        "import com.johnsnowlabs.nlp.annotator._\n",
        "import com.johnsnowlabs.nlp.base._\n",
        "import com.johnsnowlabs.ml.tensorflow.TensorflowBert\n",
        "import org.apache.spark.ml.Pipeline\n",
        "import org.apache.spark.sql.types._\n",
        "import org.apache.spark.sql.SaveMode\n",
        "import org.apache.spark.sql.functions.{udf,to_timestamp}\n",
        "import org.apache.spark.storage._\n",
        "import org.apache.spark.ml.feature._\n",
        "import org.apache.spark.ml.classification._\n",
        "import org.apache.spark.ml.linalg.DenseVector\n",
        "\n",
        "import org.apache.spark.ml.Transformer\n",
        "import org.apache.spark.ml.param.{Param, ParamMap}\n",
        "import org.apache.spark.sql.{DataFrame, Dataset}\n",
        "import org.apache.spark.sql.SparkSession\n",
        "import org.apache.spark.sql.functions.{col, explode, udf}\n",
        "import org.apache.spark.sql.types.{DataTypes, StructType}\n",
        "\n",
        "\n",
        "val dataDir = sys.env(\"HOME\") + \"/recsys2020\"\n",
        "val dsName = \"training\""
      ],
      "outputs" : [
      ]
    },
    {
      "cell_type" : "code",
      "execution_count" : 2,
      "metadata" : {
        "cell.metadata.exec_info" : {
          "startTs" : 1592059168893,
          "endTs" : 1592059169330
        },
        "language" : "scala"
      },
      "language" : "scala",
      "source" : [
        "val df = spark.read.parquet(dataDir + s\"/${dsName}_stage1.parquet\")"
      ],
      "outputs" : [
      ]
    },
    {
      "cell_type" : "code",
      "execution_count" : 3,
      "metadata" : {
        "cell.metadata.exec_info" : {
          "startTs" : 1592059169892,
          "endTs" : 1592059455934
        },
        "language" : "scala"
      },
      "language" : "scala",
      "source" : [
        "val classNames = Array(\n",
        "  \"retweet\",\n",
        "  \"retweet_with_comment\",\n",
        "  \"like\",\n",
        "  \"reply\")\n",
        "\n",
        "val classifiers = for (className <- classNames) yield new GBTClassifier() // RandomForestClassifier() should be faster if we run into problems\n",
        "                        .setLabelCol(\"has_\" + className)\n",
        "                        .setFeaturesCol(\"features\")\n",
        "                        .setProbabilityCol(\"prob_\" + className)\n",
        "                        .setPredictionCol(\"pred_\" + className)\n",
        "                        .setRawPredictionCol(\"predraw_\" + className)\n",
        "                        .setMaxIter(10)\n",
        "                        .setFeatureSubsetStrategy(\"auto\");\n",
        "\n",
        "val pred_pipeline = new Pipeline().setStages(classifiers)"
      ],
      "outputs" : [
      ]
    },
    {
      "cell_type" : "code",
      "execution_count" : 4,
      "metadata" : {
        "cell.metadata.exec_info" : {
          "startTs" : 1592059455951,
          "endTs" : 1592070000427
        },
        "language" : "scala"
      },
      "language" : "scala",
      "source" : [
        "val fitted_pipeline = pred_pipeline.fit(df)"
      ],
      "outputs" : [
      ]
    },
    {
      "cell_type" : "code",
      "execution_count" : 5,
      "metadata" : {
        "cell.metadata.exec_info" : {
          "startTs" : 1592070000433,
          "endTs" : 1592070000625
        },
        "language" : "scala"
      },
      "language" : "scala",
      "source" : [
        "fitted_pipeline.write.overwrite().save(dataDir + \"/pipeline_stage2_v1\")"
      ],
      "outputs" : [
      ]
    },
    {
      "cell_type" : "code",
      "execution_count" : 6,
      "metadata" : {
        "cell.metadata.exec_info" : {
          "startTs" : 1592001388164,
          "endTs" : 1592001388596
        },
        "language" : "scala"
      },
      "language" : "scala",
      "source" : [
        "val val_df = spark.read.parquet(dataDir + s\"/val_stage1.parquet\")\n",
        "\n"
      ],
      "outputs" : [
      ]
    },
    {
      "cell_type" : "code",
      "execution_count" : 7,
      "metadata" : {
        "cell.metadata.exec_info" : {
          "startTs" : 1592001388604,
          "endTs" : 1592001388670
        },
        "language" : "scala"
      },
      "language" : "scala",
      "source" : [
        "var finalDf = fitted_pipeline.transform(df)\n",
        "finalDf.show()"
      ],
      "outputs" : [
      ]
    },
    {
      "cell_type" : "code",
      "execution_count" : 8,
      "metadata" : {
        "cell.metadata.exec_info" : {
          "startTs" : 1592001388676,
          "endTs" : 1592001388767
        },
        "language" : "scala"
      },
      "language" : "scala",
      "source" : [
        "// only get relevant columns\n",
        "val toArr: Any => Double = _.asInstanceOf[DenseVector].toArray(1)\n",
        "val toArrUdf = udf(toArr)\n",
        "\n",
        "var finalFinalDf = finalDf;\n",
        "val outputNames = for (className <- classNames) yield {\n",
        "    val inputName = \"prob_\" + className;\n",
        "    val outputName = \"out_\" + className;\n",
        "    finalFinalDf = finalFinalDf.withColumn(outputName, toArrUdf(col(inputName)));\n",
        "    outputName\n",
        "}\n",
        "\n",
        "finalFinalDf.selectExpr((Array(\"user_id\", \"tweet_id\") ++ outputNames):_*).show()"
      ],
      "outputs" : [
      ]
    },
    {
      "cell_type" : "code",
      "execution_count" : 9,
      "metadata" : {
        "cell.metadata.exec_info" : {
          "startTs" : 1592001388773,
          "endTs" : 1592001388823
        },
        "language" : "scala"
      },
      "language" : "scala",
      "source" : [
        "for (className <- classNames) {\n",
        "    finalFinalDf.select($\"tweet_id\", $\"user_id\", col(\"out_\" + className)).write.format(\"csv\").option(\"header\", \"false\").save(dataDir + \"/\" + className + \".csv\")\n",
        "}"
      ],
      "outputs" : [
      ]
    },
    {
      "cell_type" : "code",
      "execution_count" : 10,
      "metadata" : {
        "cell.metadata.exec_info" : {
          "startTs" : 1592001388831,
          "endTs" : 1592001388957
        },
        "language" : "scala"
      },
      "language" : "scala",
      "source" : [
      ],
      "outputs" : [
      ]
    }
  ]
}