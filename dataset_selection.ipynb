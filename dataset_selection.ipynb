{
  "metadata" : {
    "config" : {
      "dependencies" : {
        "scala" : [
          "com.johnsnowlabs.nlp:spark-nlp_2.11:2.5.0"
        ]
      },
      "exclusions" : [
      ],
      "repositories" : [
      ],
      "sparkConfig" : {
        "spark.memory.offHeap.enabled" : "true",
        "spark.driver.memory" : "12g",
        "spark.memory.offHeap.size" : "32g",
        "spark.master" : "local[*]",
        "spark.executor.memory" : "2g",
        "spark.local.dir" : "/var/cache/spark"
      },
      "env" : {
        
      }
    },
    "language_info" : {
      "name" : "scala"
    }
  },
  "nbformat" : 4,
  "nbformat_minor" : 0,
  "cells" : [
    {
      "cell_type" : "markdown",
      "execution_count" : 0,
      "metadata" : {
        "language" : "text"
      },
      "language" : "text",
      "source" : [
        "# NLP RECSYS dataset subselection\n",
        "\n",
        "Use a smaller subset for more advanced predictions\n",
        "\n",
        "\n"
      ],
      "outputs" : [
      ]
    },
    {
      "cell_type" : "code",
      "execution_count" : 1,
      "metadata" : {
        "cell.metadata.exec_info" : {
          "startTs" : 1595685413780,
          "endTs" : 1595685414687
        },
        "language" : "scala"
      },
      "language" : "scala",
      "source" : [
        "import com.johnsnowlabs.nlp.SparkNLP\n",
        "import com.johnsnowlabs.nlp.annotator._\n",
        "import com.johnsnowlabs.nlp.base._\n",
        "import org.apache.spark.ml.{Pipeline, PipelineModel, Transformer}\n",
        "import org.apache.spark.sql.types._\n",
        "import org.apache.spark.sql.SaveMode\n",
        "import org.apache.spark.sql.functions.{udf,to_timestamp}\n",
        "import org.apache.spark.storage._\n",
        "import org.apache.spark.ml.feature._\n",
        "import org.apache.spark.ml.classification._\n",
        "import org.apache.spark.ml.linalg.DenseVector\n",
        "import org.apache.spark.ml.param.{Param, ParamMap}\n",
        "import org.apache.spark.ml.util.{DefaultParamsReadable, DefaultParamsWritable, Identifiable}\n",
        "import org.apache.spark.sql.{DataFrame, Dataset}\n",
        "import org.apache.spark.sql.SparkSession\n",
        "import org.apache.spark.sql.functions.{col, explode, udf}\n",
        "import org.apache.spark.sql.types.{DataTypes, StructType}\n",
        "\n",
        "\n",
        "val dataDir = sys.env(\"HOME\") + \"/recsys2020\"\n",
        "val dsName = \"training\""
      ],
      "outputs" : [
      ]
    },
    {
      "cell_type" : "code",
      "execution_count" : 2,
      "metadata" : {
        "cell.metadata.exec_info" : {
          "startTs" : 1595685414770,
          "endTs" : 1595685500370
        },
        "language" : "scala"
      },
      "language" : "scala",
      "source" : [
        "val df = spark.read.parquet(dataDir + s\"/${dsName}.parquet\")"
      ],
      "outputs" : [
      ]
    },
    {
      "cell_type" : "code",
      "execution_count" : 3,
      "metadata" : {
        "cell.metadata.exec_info" : {
          "startTs" : 1595685500388,
          "endTs" : 1595685500703
        },
        "language" : "scala"
      },
      "language" : "scala",
      "source" : [
        "df"
      ],
      "outputs" : [
        {
          "execution_count" : 3,
          "data" : {
            "text/plain" : [
              "[user_id: string, tweet_id: string ... 17 more fields]"
            ]
          },
          "metadata" : {
            "name" : "Out",
            "type" : "DataFrame"
          },
          "output_type" : "execute_result"
        }
      ]
    },
    {
      "cell_type" : "code",
      "execution_count" : 4,
      "metadata" : {
        "cell.metadata.exec_info" : {
          "startTs" : 1595685500713,
          "endTs" : 1595685596285
        },
        "language" : "scala"
      },
      "language" : "scala",
      "source" : [
        "val num_user_interactions = df.groupBy(\"user_id\").count()\n",
        "num_user_interactions.show"
      ],
      "outputs" : [
        {
          "name" : "stdout",
          "text" : [
            "+--------------------+-----+\n",
            "|             user_id|count|\n",
            "+--------------------+-----+\n",
            "|6DB36629F09EEF6B0...|    5|\n",
            "|6DB3CB729521B094E...|    6|\n",
            "|6DB935FBE5AFB72C0...|    5|\n",
            "|6DB9B1833E6F6B16D...|    5|\n",
            "|6DBA6B1E954B4D4AA...|    9|\n",
            "|6DBC5460B25D693AC...|   15|\n",
            "|6DBC89235E5F715CF...|    8|\n",
            "|6DC28C6B6E1E45CE4...|   55|\n",
            "|6DC66F416E5010527...|   13|\n",
            "|6DC79920B693257A4...|    4|\n",
            "|6DC8D079EA2CEDC84...|    3|\n",
            "|6DCC26641F198AE2C...|   13|\n",
            "|6DCD8B083F0AA9BF2...|   19|\n",
            "|6DD212AFBAB897074...|    3|\n",
            "|6DD3132C30767176B...|    4|\n",
            "|6DD3CEC47DEA7CC2D...|    8|\n",
            "|6DD5B319ED8EF914B...|    3|\n",
            "|6DDC42DEDEA6E6DF2...|    6|\n",
            "|6DDD8632D48677C3F...|   14|\n",
            "|6DDFBF4ED82A25E05...|    7|\n",
            "+--------------------+-----+\n",
            "only showing top 20 rows\n",
            "\n"
          ],
          "output_type" : "stream"
        }
      ]
    },
    {
      "cell_type" : "code",
      "execution_count" : 5,
      "metadata" : {
        "cell.metadata.exec_info" : {
          "startTs" : 1595686019494,
          "endTs" : 1595686019531
        },
        "language" : "scala"
      },
      "language" : "scala",
      "source" : [
        "// print(num_user_interactions.select(count($\"count\"), avg($\"count\"), sum($\"count\")).show)\n",
        "// print(num_user_interactions.describe(\"count\").show)"
      ],
      "outputs" : [
        {
          "execution_count" : 5,
          "data" : {
            "application/json" : [
              {
                "pos" : {
                  "sourceId" : "Cell5",
                  "start" : 114,
                  "end" : 165,
                  "point" : 161
                },
                "msg" : "value show is not a member of Unit",
                "severity" : 2
              }
            ],
            "text/plain" : [
              "Error: value show is not a member of Unit (114)"
            ]
          },
          "metadata" : {
            "rel" : "compiler_errors"
          },
          "output_type" : "execute_result"
        }
      ]
    },
    {
      "cell_type" : "code",
      "execution_count" : 6,
      "metadata" : {
        "cell.metadata.exec_info" : {
          "startTs" : 1595686438646,
          "endTs" : 1595686438784
        },
        "language" : "scala"
      },
      "language" : "scala",
      "source" : [
        "val fraction = 0.01 \n",
        "val sampled_users = num_user_interactions.sample(fraction)\n",
        "// print(sampled_users.select(count($\"count\"), avg($\"count\"), sum($\"count\")).show)\n",
        "print(sampled_users.describe(\"count\").show)"
      ],
      "outputs" : [
        {
          "ename" : "java.io.IOException",
          "evalue" : "No space left on device",
          "traceback" : [
          ],
          "output_type" : "error"
        }
      ]
    },
    {
      "cell_type" : "code",
      "execution_count" : 7,
      "metadata" : {
        "cell.metadata.exec_info" : {
          "startTs" : 1595684667582,
          "endTs" : 1595684667624
        },
        "language" : "scala"
      },
      "language" : "scala",
      "source" : [
        "val allowed_user_list = sampled_users.select(\"user_id\").rdd.map(r => r(0)).collect().toList"
      ],
      "outputs" : [
        {
          "execution_count" : 7,
          "data" : {
            "application/json" : [
              {
                "pos" : {
                  "sourceId" : "Cell7",
                  "start" : 24,
                  "end" : 37,
                  "point" : 24
                },
                "msg" : "not found: value sampled_users",
                "severity" : 2
              }
            ],
            "text/plain" : [
              "Error: not found: value sampled_users (24)"
            ]
          },
          "metadata" : {
            "rel" : "compiler_errors"
          },
          "output_type" : "execute_result"
        }
      ]
    },
    {
      "cell_type" : "code",
      "execution_count" : 8,
      "metadata" : {
        "cell.metadata.exec_info" : {
          "startTs" : 1595684667628,
          "endTs" : 1595684667731
        },
        "language" : "scala"
      },
      "language" : "scala",
      "source" : [
        "val filtered_df = df.filter($\"user_id\".isin(allowed_user_list:_*))\n",
        "filtered_df.show()"
      ],
      "outputs" : [
        {
          "execution_count" : 8,
          "data" : {
            "application/json" : [
              {
                "pos" : {
                  "sourceId" : "Cell8",
                  "start" : 44,
                  "end" : 61,
                  "point" : 44
                },
                "msg" : "not found: value allowed_user_list",
                "severity" : 2
              }
            ],
            "text/plain" : [
              "Error: not found: value allowed_user_list (44)"
            ]
          },
          "metadata" : {
            "rel" : "compiler_errors"
          },
          "output_type" : "execute_result"
        }
      ]
    },
    {
      "cell_type" : "code",
      "execution_count" : 9,
      "metadata" : {
        "cell.metadata.exec_info" : {
          "startTs" : 1595684667735,
          "endTs" : 1595684667762
        },
        "language" : "scala"
      },
      "language" : "scala",
      "source" : [
        "val outDsName = \"user_sampled\"\n",
        "filtered_df.write.mode(SaveMode.Overwrite).parquet(dataDir + s\"/${outDsName}.parquet\")\n",
        "// filtered_df.write.mode(SaveMode.Overwrite).parquet(sys.env(\"HOME\") + s\"/${outDsName}.parquet\")"
      ],
      "outputs" : [
        {
          "execution_count" : 9,
          "data" : {
            "application/json" : [
              {
                "pos" : {
                  "sourceId" : "Cell9",
                  "start" : 31,
                  "end" : 42,
                  "point" : 31
                },
                "msg" : "not found: value filtered_df",
                "severity" : 2
              }
            ],
            "text/plain" : [
              "Error: not found: value filtered_df (31)"
            ]
          },
          "metadata" : {
            "rel" : "compiler_errors"
          },
          "output_type" : "execute_result"
        }
      ]
    },
    {
      "cell_type" : "code",
      "execution_count" : 10,
      "metadata" : {
        "cell.metadata.exec_info" : {
          "startTs" : 1595684667764,
          "endTs" : 1595684667792
        },
        "language" : "scala"
      },
      "language" : "scala",
      "source" : [
        "filtered_df.count().show"
      ],
      "outputs" : [
        {
          "execution_count" : 10,
          "data" : {
            "application/json" : [
              {
                "pos" : {
                  "sourceId" : "Cell10",
                  "start" : 0,
                  "end" : 11,
                  "point" : 0
                },
                "msg" : "not found: value filtered_df",
                "severity" : 2
              }
            ],
            "text/plain" : [
              "Error: not found: value filtered_df (0)"
            ]
          },
          "metadata" : {
            "rel" : "compiler_errors"
          },
          "output_type" : "execute_result"
        }
      ]
    }
  ]
}