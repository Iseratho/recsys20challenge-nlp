{
  "metadata" : {
    "config" : {
      "dependencies" : {
        "scala" : [
          "com.johnsnowlabs.nlp:spark-nlp_2.11:2.5.0"
        ]
      },
      "exclusions" : [
      ],
      "repositories" : [
      ],
      "sparkConfig" : {
        "spark.memory.offHeap.enabled" : "true",
        "spark.driver.memory" : "12g",
        "spark.memory.offHeap.size" : "32g",
        "spark.master" : "local[*]",
        "spark.executor.memory" : "2g"
      },
      "env" : {
        
      }
    },
    "language_info" : {
      "name" : "scala"
    }
  },
  "nbformat" : 4,
  "nbformat_minor" : 0,
  "cells" : [
    {
      "cell_type" : "markdown",
      "execution_count" : 0,
      "metadata" : {
        "language" : "text"
      },
      "language" : "text",
      "source" : [
        "# NLP RECSYS dataset subselection\n",
        "\n",
        "Use a smaller subset for more advanced predictions\n",
        "\n",
        "\n"
      ],
      "outputs" : [
      ]
    },
    {
      "cell_type" : "code",
      "execution_count" : 2,
      "metadata" : {
        "cell.metadata.exec_info" : {
          "startTs" : 1595354740079,
          "endTs" : 1595354740490
        },
        "language" : "scala"
      },
      "language" : "scala",
      "source" : [
        "import com.johnsnowlabs.nlp.SparkNLP\n",
        "import com.johnsnowlabs.nlp.annotator._\n",
        "import com.johnsnowlabs.nlp.base._\n",
        "import org.apache.spark.ml.{Pipeline, PipelineModel, Transformer}\n",
        "import org.apache.spark.sql.types._\n",
        "import org.apache.spark.sql.SaveMode\n",
        "import org.apache.spark.sql.functions.{udf,to_timestamp}\n",
        "import org.apache.spark.storage._\n",
        "import org.apache.spark.ml.feature._\n",
        "import org.apache.spark.ml.classification._\n",
        "import org.apache.spark.ml.linalg.DenseVector\n",
        "import org.apache.spark.ml.param.{Param, ParamMap}\n",
        "import org.apache.spark.ml.util.{DefaultParamsReadable, DefaultParamsWritable, Identifiable}\n",
        "import org.apache.spark.sql.{DataFrame, Dataset}\n",
        "import org.apache.spark.sql.SparkSession\n",
        "import org.apache.spark.sql.functions.{col, explode, udf}\n",
        "import org.apache.spark.sql.types.{DataTypes, StructType}\n",
        "\n",
        "\n",
        "val dataDir = sys.env(\"HOME\") + \"/recsys2020\"\n",
        "val dsName = \"training\""
      ],
      "outputs" : [
      ]
    },
    {
      "cell_type" : "code",
      "execution_count" : 1,
      "metadata" : {
        "cell.metadata.exec_info" : {
          "startTs" : 1595354774558,
          "endTs" : 1595354851257
        },
        "language" : "scala"
      },
      "language" : "scala",
      "source" : [
        "val df = spark.read.parquet(dataDir + s\"/${dsName}.parquet\")"
      ],
      "outputs" : [
      ]
    },
    {
      "cell_type" : "code",
      "execution_count" : 3,
      "metadata" : {
        "cell.metadata.exec_info" : {
          "startTs" : 1595354851272,
          "endTs" : 1595354851524
        },
        "language" : "scala"
      },
      "language" : "scala",
      "source" : [
        "df"
      ],
      "outputs" : [
        {
          "execution_count" : 3,
          "data" : {
            "text/plain" : [
              "[user_id: string, tweet_id: string ... 17 more fields]"
            ]
          },
          "metadata" : {
            "name" : "Out",
            "type" : "DataFrame"
          },
          "output_type" : "execute_result"
        }
      ]
    },
    {
      "cell_type" : "code",
      "execution_count" : 4,
      "metadata" : {
        "cell.metadata.exec_info" : {
          "startTs" : 1595355379685,
          "endTs" : 1595355467363
        },
        "language" : "scala"
      },
      "language" : "scala",
      "source" : [
        "val num_user_interactions = df.groupBy(\"user_id\").count()\n",
        "num_user_interactions.show"
      ],
      "outputs" : [
        {
          "name" : "stdout",
          "text" : [
            "+--------------------+-----+\n",
            "|             user_id|count|\n",
            "+--------------------+-----+\n",
            "|6DB36629F09EEF6B0...|    5|\n",
            "|6DB3CB729521B094E...|    6|\n",
            "|6DB935FBE5AFB72C0...|    5|\n",
            "|6DB9B1833E6F6B16D...|    5|\n",
            "|6DBA6B1E954B4D4AA...|    9|\n",
            "|6DBC5460B25D693AC...|   15|\n",
            "|6DBC89235E5F715CF...|    8|\n",
            "|6DC28C6B6E1E45CE4...|   55|\n",
            "|6DC66F416E5010527...|   13|\n",
            "|6DC79920B693257A4...|    4|\n",
            "|6DC8D079EA2CEDC84...|    3|\n",
            "|6DCC26641F198AE2C...|   13|\n",
            "|6DCD8B083F0AA9BF2...|   19|\n",
            "|6DD212AFBAB897074...|    3|\n",
            "|6DD3132C30767176B...|    4|\n",
            "|6DD3CEC47DEA7CC2D...|    8|\n",
            "|6DD5B319ED8EF914B...|    3|\n",
            "|6DDC42DEDEA6E6DF2...|    6|\n",
            "|6DDD8632D48677C3F...|   14|\n",
            "|6DDFBF4ED82A25E05...|    7|\n",
            "+--------------------+-----+\n",
            "only showing top 20 rows\n",
            "\n"
          ],
          "output_type" : "stream"
        }
      ]
    },
    {
      "cell_type" : "code",
      "execution_count" : 5,
      "metadata" : {
        "cell.metadata.exec_info" : {
          "startTs" : 1595355874687,
          "endTs" : 1595356219824
        },
        "language" : "scala"
      },
      "language" : "scala",
      "source" : [
        "print(num_user_interactions.count())\n",
        "print(num_user_interactions.select(avg($\"count\")).show)\n",
        "print(num_user_interactions.select(sum($\"count\")).show)"
      ],
      "outputs" : [
        {
          "name" : "stdout",
          "text" : [
            "24429989+-----------------+\n",
            "|       avg(count)|\n",
            "+-----------------+\n",
            "|5.591499938866121|\n",
            "+-----------------+\n",
            "\n",
            "()+----------+\n",
            "|sum(count)|\n",
            "+----------+\n",
            "| 136600282|\n",
            "+----------+\n",
            "\n",
            "()"
          ],
          "output_type" : "stream"
        }
      ]
    },
    {
      "cell_type" : "code",
      "execution_count" : 6,
      "metadata" : {
        "cell.metadata.exec_info" : {
          "startTs" : 1595356343189,
          "endTs" : 1595356690586
        },
        "language" : "scala"
      },
      "language" : "scala",
      "source" : [
        "val fraction = 0.01 \n",
        "val sampled_users = num_user_interactions.sample(fraction)\n",
        "print(sampled_users.count())\n",
        "print(sampled_users.select(avg($\"count\")).show)\n",
        "print(sampled_users.select(sum($\"count\")).show)"
      ],
      "outputs" : [
        {
          "name" : "stdout",
          "text" : [
            "243927+-----------------+\n",
            "|       avg(count)|\n",
            "+-----------------+\n",
            "|5.601483230638674|\n",
            "+-----------------+\n",
            "\n",
            "()+----------+\n",
            "|sum(count)|\n",
            "+----------+\n",
            "|   1366353|\n",
            "+----------+\n",
            "\n",
            "()"
          ],
          "output_type" : "stream"
        }
      ]
    },
    {
      "cell_type" : "code",
      "execution_count" : 7,
      "metadata" : {
        "cell.metadata.exec_info" : {
          "startTs" : 1595356995493,
          "endTs" : 1595357111306
        },
        "language" : "scala"
      },
      "language" : "scala",
      "source" : [
        "val allowed_user_list = sampled_users.select(\"user_id\").rdd.map(r => r(0)).collect().toList"
      ],
      "outputs" : [
      ]
    },
    {
      "cell_type" : "code",
      "execution_count" : 8,
      "metadata" : {
        "cell.metadata.exec_info" : {
          "startTs" : 1595357619166,
          "endTs" : 1595357785577
        },
        "language" : "scala"
      },
      "language" : "scala",
      "source" : [
        "val filtered_df = df.filter($\"user_id\".isin(allowed_user_list:_*))\n",
        "filtered_df.show()"
      ],
      "outputs" : [
        {
          "name" : "stdout",
          "text" : [
            "+--------------------+--------------------+----------+------------------------------+---------------------+----------------------+------------------+-------------------+--------------------+----------------+-------+---------------+--------------------+--------------+--------------------+-----------+------------------------+--------+---------+\n",
            "|             user_id|            tweet_id|tweet_type|                    tweet_text|author_follower_count|author_following_count|author_is_verified|user_follower_count|user_following_count|user_is_verified|follows|tweet_timestamp|            hashtags| present_media|     present_domains|has_retweet|has_retweet_with_comment|has_like|has_reply|\n",
            "+--------------------+--------------------+----------+------------------------------+---------------------+----------------------+------------------+-------------------+--------------------+----------------+-------+---------------+--------------------+--------------+--------------------+-----------+------------------------+--------+---------+\n",
            "|6DB2E5D195B4E0491...|0FD219DA47EF6586E...|   Retweet|          RT @sharma_punees...|               379960|                    36|                 0|                124|                  25|               0|      0|     1581061890|[AA42C1055D2EE9DA...|          null|                null|          0|                       0|       1|        0|\n",
            "|6DB487DC871EB3FC4...|0B01DFD6E069801A7...|  TopLevel|          / beauty / https:...|                90888|                 14108|                 0|                 14|                  49|               0|      0|     1581243313|                null|       [Photo]|                null|          0|                       0|       0|        0|\n",
            "|6DB487DC871EB3FC4...|E5FC04EB514E7B98E...|  TopLevel|          Peringatan dini c...|              4747098|                    28|                 1|                 14|                  48|               0|      0|     1580965228|[BA973311137A6ECE...|          null|[A76B618F74CC7D2A...|          0|                       0|       0|        0|\n",
            "|6DB6ACE4D7C90A598...|DFCE2EFC1CAB33B90...|   Retweet|          RT @powerhinotti ...|                  948|                   546|                 0|                238|                  53|               0|      1|     1581473810|                null|          null|                null|          0|                       0|       0|        0|\n",
            "|6DB84420A6B8194A7...|57C9BBBB45495AE99...|   Retweet|          RT @CampaignCamo ...|                 1047|                   367|                 0|               1006|                 562|               0|      1|     1581234749|                null|          null|                null|          0|                       0|       0|        0|\n",
            "|6DB94B60FFCB740B9...|593751C27699174EF...|  TopLevel|          I m finally filli...|                 1064|                  3477|                 0|               1185|                 519|               0|      1|     1581372604|                null|          null|                null|          0|                       0|       1|        0|\n",
            "|6DB9DF1F1ACED2942...|17EDC3FC5BB7D6F23...|  TopLevel|   한복입어써 . . . 한복 . . .|                 4965|                   313|                 0|                  6|                  86|               0|      0|     1580993054|                null|          null|                null|          0|                       0|       0|        0|\n",
            "|6DBC1FEC7C2A41162...|71BCE0755CF2D369B...|   Retweet|          RT @faraznddn : i...|                 3632|                  1818|                 0|                 10|                 174|               0|      0|     1581339737|                null|          null|                null|          0|                       0|       0|        0|\n",
            "|6DBC3E1F9D76D9A6D...|0F6F21D72FB61DB38...|     Quote|ついに 公 開 まであと2 日 ....|              2205273|                   211|                 1|                 17|                  71|               0|      0|     1581304549|                null|          null|                null|          0|                       0|       0|        0|\n",
            "|6DBC4ADF3B81BCBC2...|E5563137EEC4D98C0...|     Quote|宇 宙 怪 獣 、 男 性 だけど...|                  878|                   730|                 0|                214|                 282|               0|      1|     1581285925|                null|          null|                null|          0|                       0|       1|        0|\n",
            "|6DBD83FA0620F9C95...|225C88E30E64377BC...|   Retweet|          RT @LCFC : Leices...|             21283009|                    83|                 1|                 58|                  53|               0|      0|     1581195147|[80D4DF964369F456...|       [Photo]|                null|          0|                       0|       0|        0|\n",
            "|6DC1C61AB6CB5BC5F...|2198259322D060837...|   Retweet|          RT @SSJreef : Lit...|                  230|                   340|                 0|                411|                 427|               0|      1|     1581108596|                null|       [Photo]|                null|          0|                       0|       0|        0|\n",
            "|6DC1D8B93C4FE91F6...|DE63F01D4C11C1D27...|   Retweet|          RT @hypnosis_on :...|                   62|                    98|                 0|                444|                 472|               0|      1|     1581157412|                null|       [Photo]|                null|          0|                       0|       0|        0|\n",
            "|6DC28469AFF9C239B...|79DDA41CAD0494B1C...|   Retweet|        RT @Onewroot : 오뉴...|                21023|                   916|                 0|                 24|                 397|               0|      0|     1581499905|                null|[Photo, Photo]|                null|          0|                       0|       1|        0|\n",
            "|6DC3AA8AAF0B1D7BC...|7526F97CC85EDF5BA...|  TopLevel|          Shaq announces he...|              8066050|                   634|                 1|                851|                 527|               0|      0|     1581358018|                null|[Photo, Photo]|                null|          0|                       0|       0|        0|\n",
            "|6DC3AA8AAF0B1D7BC...|919AE289F85817C87...|   Retweet|          RT @yung_naj1 : I...|                   81|                    65|                 0|                851|                 526|               0|      1|     1581121590|                null|          null|                null|          0|                       0|       0|        0|\n",
            "|6DC6DF41A7946DD03...|3DE2785FBE55D3FDB...|  TopLevel|          The town motto of...|              1162236|                   989|                 1|                222|                 298|               0|      0|     1581163200|                null|          null|                null|          0|                       0|       0|        0|\n",
            "|6DC79CE4BCB1309D0...|CAF78DA672A4A84EE...|  TopLevel|          chemotherapy : qu...|               248461|                   178|                 0|                 18|                 117|               0|      0|     1581427502|                null|          null|                null|          0|                       0|       0|        0|\n",
            "|6DCA35927D267D86C...|523329F7ED9DE0D06...|  TopLevel|          You know what I e...|                  194|                   561|                 0|               2729|                3867|               0|      1|     1581018976|[D0D00FF15B65A673...|       [Photo]|                null|          0|                       0|       1|        0|\n",
            "|6DCA35927D267D86C...|B9E9AAF6A448B4B59...|     Quote|          I ll say it again...|                  574|                  1413|                 0|               2729|                3867|               0|      1|     1581446558|[5B1AA5D8FD1601C0...|          null|                null|          1|                       0|       1|        0|\n",
            "+--------------------+--------------------+----------+------------------------------+---------------------+----------------------+------------------+-------------------+--------------------+----------------+-------+---------------+--------------------+--------------+--------------------+-----------+------------------------+--------+---------+\n",
            "only showing top 20 rows\n",
            "\n"
          ],
          "output_type" : "stream"
        }
      ]
    },
    {
      "cell_type" : "code",
      "execution_count" : 9,
      "metadata" : {
        "cell.metadata.exec_info" : {
          "startTs" : 1595357958170
        },
        "language" : "scala"
      },
      "language" : "scala",
      "source" : [
        "val outDsName = \"user_sampled\"\n",
        "filtered_df.write.mode(SaveMode.Overwrite).parquet(dataDir + s\"/${outDsName}.parquet\")\n",
        "// filtered_df.write.mode(SaveMode.Overwrite).parquet(sys.env(\"HOME\") + s\"/${outDsName}.parquet\")"
      ],
      "outputs" : [
      ]
    },
    {
      "cell_type" : "code",
      "execution_count" : 10,
      "metadata" : {
        "language" : "scala"
      },
      "language" : "scala",
      "source" : [
        "filtered_df.count().show"
      ],
      "outputs" : [
      ]
    }
  ]
}