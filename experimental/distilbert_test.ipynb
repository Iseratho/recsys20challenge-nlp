{
  "metadata" : {
    "config" : {
      "dependencies" : {
        
      },
      "exclusions" : [
      ],
      "repositories" : [
      ],
      "env" : {
        
      }
    },
    "language_info" : {
      "name" : "python"
    }
  },
  "nbformat" : 4,
  "nbformat_minor" : 0,
  "cells" : [
    {
      "cell_type" : "markdown",
      "execution_count" : 0,
      "metadata" : {
        "language" : "text"
      },
      "language" : "text",
      "source" : [
        "# distilbert test\n",
        "\n",
        "This is a text cell. Start editing!"
      ],
      "outputs" : [
      ]
    },
    {
      "cell_type" : "code",
      "execution_count" : 1,
      "metadata" : {
        "cell.metadata.exec_info" : {
          "startTs" : 1592228016762,
          "endTs" : 1592228021912
        },
        "language" : "python"
      },
      "language" : "python",
      "source" : [
        "import torch"
      ],
      "outputs" : [
        {
          "ename" : "java.lang.RuntimeException",
          "evalue" : "ModuleNotFoundError: No module named 'torch'",
          "traceback" : [
          ],
          "output_type" : "error"
        }
      ]
    }
  ]
}