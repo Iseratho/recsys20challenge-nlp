{
  "metadata" : {
    "config" : {
      "dependencies" : {
        "scala" : [
          "com.johnsnowlabs.nlp:spark-nlp_2.11:2.5.0"
        ]
      },
      "exclusions" : [
      ],
      "repositories" : [
      ],
      "sparkConfig" : {
        "spark.memory.offHeap.enabled" : "true",
        "spark.driver.memory" : "12g",
        "spark.memory.offHeap.size" : "32g",
        "spark.master" : "local[*]",
        "spark.executor.memory" : "2g"
      },
      "env" : {
        
      }
    },
    "language_info" : {
      "name" : "scala"
    }
  },
  "nbformat" : 4,
  "nbformat_minor" : 0,
  "cells" : [
    {
      "cell_type" : "markdown",
      "execution_count" : 0,
      "metadata" : {
        "language" : "text"
      },
      "language" : "text",
      "source" : [
        "# NLP RECSYS generate preds\n",
        "\n",
        "\n",
        "This is a text cell. Start editing!\n",
        "\n",
        "\n"
      ],
      "outputs" : [
      ]
    },
    {
      "cell_type" : "code",
      "execution_count" : 1,
      "metadata" : {
        "cell.metadata.exec_info" : {
          "startTs" : 1591949973219,
          "endTs" : 1591949973795
        },
        "language" : "scala"
      },
      "language" : "scala",
      "source" : [
        "import com.johnsnowlabs.nlp.SparkNLP\n",
        "import com.johnsnowlabs.nlp.annotator._\n",
        "import com.johnsnowlabs.nlp.base._\n",
        "import com.johnsnowlabs.ml.tensorflow.TensorflowBert\n",
        "import org.apache.spark.ml.Pipeline\n",
        "import org.apache.spark.sql.types._\n",
        "import org.apache.spark.sql.SaveMode\n",
        "import org.apache.spark.sql.functions.{udf,to_timestamp}\n",
        "\n",
        "val dataDir = sys.env(\"HOME\") + \"/recsys2020\""
      ],
      "outputs" : [
      ]
    },
    {
      "cell_type" : "code",
      "execution_count" : 2,
      "metadata" : {
        "cell.metadata.exec_info" : {
          "startTs" : 1591949973846,
          "endTs" : 1591949978216
        },
        "language" : "scala"
      },
      "language" : "scala",
      "source" : [
        "val schema = new StructType()\n",
        "    .add(\"text_tokens\", StringType, true)\n",
        "    .add(\"hashtags\", StringType, true)\n",
        "    .add(\"tweet_id\", StringType, true)\n",
        "    .add(\"present_media\", StringType, true)\n",
        "    .add(\"present_links\", StringType, true)\n",
        "    .add(\"present_domains\", StringType, true)\n",
        "    .add(\"tweet_type\", StringType, true)\n",
        "    .add(\"language\", StringType, true)\n",
        "    .add(\"tweet_timestamp\", IntegerType, true)\n",
        "    .add(\"engaged_with_user_id\", StringType, true)\n",
        "    .add(\"engaged_with_user_follower_count\", IntegerType, true)\n",
        "    .add(\"engaged_with_user_following_count\", IntegerType, true)\n",
        "    .add(\"engaged_with_user_is_verified\", BooleanType, true)\n",
        "    .add(\"engaged_with_user_account_creation\", IntegerType, true)\n",
        "    .add(\"engaging_user_id\", StringType, true)\n",
        "    .add(\"engaging_user_follower_count\", IntegerType, true)\n",
        "    .add(\"engaging_user_following_count\", IntegerType, true)\n",
        "    .add(\"engaging_user_is_verified\", BooleanType, true)\n",
        "    .add(\"engaging_user_account_creation\", IntegerType, true)\n",
        "    .add(\"engagee_follows_engager\", BooleanType, true)\n",
        "    .add(\"reply_timestamp\", IntegerType, true)\n",
        "    .add(\"retweet_timestamp\", IntegerType, true)\n",
        "    .add(\"retweet_with_comment_timestamp\", IntegerType, true)\n",
        "    .add(\"like_timestamp\", IntegerType, true)\n",
        "\n",
        "val df = spark.read.format(\"csv\")\n",
        "        .option(\"delimiter\", \"\\u0001\")\n",
        "        .schema(schema)\n",
        "        .load(dataDir + \"val.tsv\")\n",
        "\n",
        "df"
      ],
      "outputs" : [
        {
          "execution_count" : 2,
          "data" : {
            "text/plain" : [
              "[text_tokens: string, hashtags: string ... 22 more fields]"
            ]
          },
          "metadata" : {
            "name" : "Out",
            "type" : "DataFrame"
          },
          "output_type" : "execute_result"
        }
      ]
    },
    {
      "cell_type" : "code",
      "execution_count" : 3,
      "metadata" : {
        "cell.metadata.exec_info" : {
          "startTs" : 1591949978222,
          "endTs" : 1591949978530
        },
        "language" : "scala"
      },
      "language" : "scala",
      "source" : [
        "val test = df.limit(100)\n",
        "test"
      ],
      "outputs" : [
        {
          "execution_count" : 3,
          "data" : {
            "text/plain" : [
              "[text_tokens: string, hashtags: string ... 22 more fields]"
            ]
          },
          "metadata" : {
            "name" : "Out",
            "type" : "Dataset[Row]"
          },
          "output_type" : "execute_result"
        }
      ]
    },
    {
      "cell_type" : "code",
      "execution_count" : 4,
      "metadata" : {
        "cell.metadata.exec_info" : {
          "startTs" : 1591949978548,
          "endTs" : 1591950011427
        },
        "language" : "scala"
      },
      "language" : "scala",
      "source" : [
        "// Just random\n",
        "val rand_pred = df.select($\"tweet_id\", $\"engaging_user_id\", rand() as \"retweet_pred\", rand() as \"comment_pred\", rand() as \"like_pred\", rand() as \"reply_pred\")\n",
        "rand_pred.show()"
      ],
      "outputs" : [
        {
          "name" : "stdout",
          "text" : [
            "+--------------------+--------------------+--------------------+--------------------+-------------------+-------------------+\n",
            "|            tweet_id|    engaging_user_id|        retweet_pred|        comment_pred|          like_pred|         reply_pred|\n",
            "+--------------------+--------------------+--------------------+--------------------+-------------------+-------------------+\n",
            "|7647B4E9DAF4C1D89...|0000006C307460705...| 0.11074563035059959|  0.6541691914881155| 0.5500873166106947|0.28970254447583577|\n",
            "|408DB1803264B5FF5...|00001331538649227...|  0.7458503165317049|   0.695968301258484|0.45846555627584007| 0.7424707417776507|\n",
            "|2EE951379C47E8BF6...|00001569CB28972FC...|  0.3415847271304381|0.011981681759338003| 0.7587005135832603|  0.635234528407645|\n",
            "|2135F24B05DAE3EF2...|00001607209C5774D...| 0.03214864835719167| 0.44465062584338233| 0.3877920352603751| 0.5061259056189739|\n",
            "|F5F712E11F0ED10C0...|00001607209C5774D...|  0.7778124437488826|  0.8610897126859887| 0.5319407944064418|0.39091365586952176|\n",
            "|09143FEDE9BD494A6...|0000177705514C315...|  0.8551826891055659|   0.716902554645736|0.09627348633610011| 0.1399814062114847|\n",
            "|60968762145D2AF58...|00001BC7053263218...| 0.20313078927684536|  0.5302509369639058| 0.3294791181037259| 0.8573893287246397|\n",
            "|3487905D0C69B0FE4...|00001D9D15FBADE90...|   0.869336038222239|  0.4165342361528954|0.08016561020621771|0.48491411326165523|\n",
            "|706310D7975C15B9F...|00001F56CDCF81D2E...|  0.8535123378493107|  0.4386896932774095|0.20205764265877768| 0.9777563742196547|\n",
            "|DBC37B8C8DC70C70F...|00001F56CDCF81D2E...|  0.3564406021183948| 0.04673184875769987| 0.6568304710574746|   0.78654460087405|\n",
            "|BA7917AA4B620B132...|0000376314CAC0A3E...|  0.4294811661021539|  0.4551775247236317| 0.4713571056266638| 0.7452448381883738|\n",
            "|60DD856C81BC0A115...|000043D9A730DF476...|0.007265248618499864|  0.7499522737457736|0.07697751536909714| 0.7208438378548495|\n",
            "|CFBD0716FB1FE9969...|00004E42009644A76...| 0.05725619853471353|   0.241456350441545| 0.8835824651815042| 0.1776645053257656|\n",
            "|DDCA4D6A45EFFFAD4...|00004E42009644A76...| 0.20208979566777796|  0.6043621653331471| 0.7195243850878609| 0.9726803305342487|\n",
            "|97B2B88F6A4C30F67...|000052B88E27886C4...|  0.6635523939167292| 0.23756541607864212| 0.7365611324262049|    0.5504093918108|\n",
            "|7FC54E66347A4EDC2...|00005A197A6EDCF72...|  0.6138253410652317|  0.7045830932361803| 0.7871416829299319| 0.7194325054836518|\n",
            "|00E5688F5726E0CA2...|000061D27D4B36129...| 0.32073819654024527|  0.6948744878632477| 0.7774358008735627|0.22671887760207443|\n",
            "|F5A025A1FD812FF90...|000062A7E0F2A4514...| 0.47602202052602005|  0.6532644508545505|0.11859092909702273| 0.5329332463476916|\n",
            "|6E81940D786F4D435...|00006B88F1B1F669C...|  0.5172766648245414| 0.17204421631335176|  0.688752357655831|0.24695211790468818|\n",
            "|8F52DAF4FE28E8823...|00006C241A4CC8493...|  0.3086612112033644|  0.7618361557175333|0.33894350913107485| 0.2747430939341762|\n",
            "+--------------------+--------------------+--------------------+--------------------+-------------------+-------------------+\n",
            "only showing top 20 rows\n",
            "\n"
          ],
          "output_type" : "stream"
        }
      ]
    },
    {
      "cell_type" : "code",
      "execution_count" : 5,
      "metadata" : {
        "cell.metadata.exec_info" : {
          "startTs" : 1591950048987,
          "endTs" : 1591950050784
        },
        "language" : "scala"
      },
      "language" : "scala",
      "source" : [
        "// Estimates from training1m\n",
        "val m1 = 1000000.0\n",
        "val lit_pred = df.select($\"tweet_id\", $\"engaging_user_id\", lit(111500/m1) as \"retweet_pred\", lit(7571/m1) as \"comment_pred\", lit(438013/m1) as \"like_pred\", lit(26709/m1) as \"reply_pred\")\n",
        "lit_pred.show()"
      ],
      "outputs" : [
        {
          "name" : "stdout",
          "text" : [
            "+--------------------+--------------------+------------+------------+---------+----------+\n",
            "|            tweet_id|    engaging_user_id|retweet_pred|comment_pred|like_pred|reply_pred|\n",
            "+--------------------+--------------------+------------+------------+---------+----------+\n",
            "|7647B4E9DAF4C1D89...|0000006C307460705...|      0.1115|    0.007571| 0.438013|  0.026709|\n",
            "|408DB1803264B5FF5...|00001331538649227...|      0.1115|    0.007571| 0.438013|  0.026709|\n",
            "|2EE951379C47E8BF6...|00001569CB28972FC...|      0.1115|    0.007571| 0.438013|  0.026709|\n",
            "|2135F24B05DAE3EF2...|00001607209C5774D...|      0.1115|    0.007571| 0.438013|  0.026709|\n",
            "|F5F712E11F0ED10C0...|00001607209C5774D...|      0.1115|    0.007571| 0.438013|  0.026709|\n",
            "|09143FEDE9BD494A6...|0000177705514C315...|      0.1115|    0.007571| 0.438013|  0.026709|\n",
            "|60968762145D2AF58...|00001BC7053263218...|      0.1115|    0.007571| 0.438013|  0.026709|\n",
            "|3487905D0C69B0FE4...|00001D9D15FBADE90...|      0.1115|    0.007571| 0.438013|  0.026709|\n",
            "|706310D7975C15B9F...|00001F56CDCF81D2E...|      0.1115|    0.007571| 0.438013|  0.026709|\n",
            "|DBC37B8C8DC70C70F...|00001F56CDCF81D2E...|      0.1115|    0.007571| 0.438013|  0.026709|\n",
            "|BA7917AA4B620B132...|0000376314CAC0A3E...|      0.1115|    0.007571| 0.438013|  0.026709|\n",
            "|60DD856C81BC0A115...|000043D9A730DF476...|      0.1115|    0.007571| 0.438013|  0.026709|\n",
            "|CFBD0716FB1FE9969...|00004E42009644A76...|      0.1115|    0.007571| 0.438013|  0.026709|\n",
            "|DDCA4D6A45EFFFAD4...|00004E42009644A76...|      0.1115|    0.007571| 0.438013|  0.026709|\n",
            "|97B2B88F6A4C30F67...|000052B88E27886C4...|      0.1115|    0.007571| 0.438013|  0.026709|\n",
            "|7FC54E66347A4EDC2...|00005A197A6EDCF72...|      0.1115|    0.007571| 0.438013|  0.026709|\n",
            "|00E5688F5726E0CA2...|000061D27D4B36129...|      0.1115|    0.007571| 0.438013|  0.026709|\n",
            "|F5A025A1FD812FF90...|000062A7E0F2A4514...|      0.1115|    0.007571| 0.438013|  0.026709|\n",
            "|6E81940D786F4D435...|00006B88F1B1F669C...|      0.1115|    0.007571| 0.438013|  0.026709|\n",
            "|8F52DAF4FE28E8823...|00006C241A4CC8493...|      0.1115|    0.007571| 0.438013|  0.026709|\n",
            "+--------------------+--------------------+------------+------------+---------+----------+\n",
            "only showing top 20 rows\n",
            "\n"
          ],
          "output_type" : "stream"
        }
      ]
    },
    {
      "cell_type" : "code",
      "execution_count" : 6,
      "metadata" : {
        "cell.metadata.exec_info" : {
          "startTs" : 1591950056169,
          "endTs" : 1591950056318
        },
        "language" : "scala"
      },
      "language" : "scala",
      "source" : [
        "val pred = lit_pred"
      ],
      "outputs" : [
      ]
    },
    {
      "cell_type" : "code",
      "execution_count" : 7,
      "metadata" : {
        "cell.metadata.exec_info" : {
          "startTs" : 1591950058606,
          "endTs" : 1591950058965
        },
        "language" : "scala"
      },
      "language" : "scala",
      "source" : [
        "pred.select($\"tweet_id\", $\"engaging_user_id\", $\"retweet_pred\").show()"
      ],
      "outputs" : [
        {
          "name" : "stdout",
          "text" : [
            "+--------------------+--------------------+------------+\n",
            "|            tweet_id|    engaging_user_id|retweet_pred|\n",
            "+--------------------+--------------------+------------+\n",
            "|7647B4E9DAF4C1D89...|0000006C307460705...|      0.1115|\n",
            "|408DB1803264B5FF5...|00001331538649227...|      0.1115|\n",
            "|2EE951379C47E8BF6...|00001569CB28972FC...|      0.1115|\n",
            "|2135F24B05DAE3EF2...|00001607209C5774D...|      0.1115|\n",
            "|F5F712E11F0ED10C0...|00001607209C5774D...|      0.1115|\n",
            "|09143FEDE9BD494A6...|0000177705514C315...|      0.1115|\n",
            "|60968762145D2AF58...|00001BC7053263218...|      0.1115|\n",
            "|3487905D0C69B0FE4...|00001D9D15FBADE90...|      0.1115|\n",
            "|706310D7975C15B9F...|00001F56CDCF81D2E...|      0.1115|\n",
            "|DBC37B8C8DC70C70F...|00001F56CDCF81D2E...|      0.1115|\n",
            "|BA7917AA4B620B132...|0000376314CAC0A3E...|      0.1115|\n",
            "|60DD856C81BC0A115...|000043D9A730DF476...|      0.1115|\n",
            "|CFBD0716FB1FE9969...|00004E42009644A76...|      0.1115|\n",
            "|DDCA4D6A45EFFFAD4...|00004E42009644A76...|      0.1115|\n",
            "|97B2B88F6A4C30F67...|000052B88E27886C4...|      0.1115|\n",
            "|7FC54E66347A4EDC2...|00005A197A6EDCF72...|      0.1115|\n",
            "|00E5688F5726E0CA2...|000061D27D4B36129...|      0.1115|\n",
            "|F5A025A1FD812FF90...|000062A7E0F2A4514...|      0.1115|\n",
            "|6E81940D786F4D435...|00006B88F1B1F669C...|      0.1115|\n",
            "|8F52DAF4FE28E8823...|00006C241A4CC8493...|      0.1115|\n",
            "+--------------------+--------------------+------------+\n",
            "only showing top 20 rows\n",
            "\n"
          ],
          "output_type" : "stream"
        }
      ]
    },
    {
      "cell_type" : "code",
      "execution_count" : 8,
      "metadata" : {
        "cell.metadata.exec_info" : {
          "startTs" : 1591950088825,
          "endTs" : 1591950222338
        },
        "language" : "scala"
      },
      "language" : "scala",
      "source" : [
        "pred.select($\"tweet_id\", $\"engaging_user_id\", $\"retweet_pred\").write.format(\"csv\").option(\"header\", \"false\").save(dataDir + \"retweet.csv\")\n",
        "pred.select($\"tweet_id\", $\"engaging_user_id\", $\"comment_pred\").write.format(\"csv\").option(\"header\", \"false\").save(dataDir + \"comment.csv\")\n",
        "pred.select($\"tweet_id\", $\"engaging_user_id\", $\"like_pred\").write.format(\"csv\").option(\"header\", \"false\").save(dataDir + \"like.csv\")\n",
        "pred.select($\"tweet_id\", $\"engaging_user_id\", $\"reply_pred\").write.format(\"csv\").option(\"header\", \"false\").save(dataDir + \"reply.csv\")\n",
        "\n",
        "// combine files with `cat like.csv/*.csv > likes.csv`"
      ],
      "outputs" : [
      ]
    },
    {
      "cell_type" : "code",
      "execution_count" : 9,
      "metadata" : {
        "language" : "scala"
      },
      "language" : "scala",
      "source" : [
      ],
      "outputs" : [
      ]
    }
  ]
}